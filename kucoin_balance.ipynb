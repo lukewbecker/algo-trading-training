{
 "cells": [
  {
   "cell_type": "code",
   "execution_count": 1,
   "id": "e4e44191",
   "metadata": {},
   "outputs": [],
   "source": [
    "import pandas as pd\n",
    "import numpy as np\n",
    "\n",
    "\n",
    "import os\n",
    "import requests\n",
    "import json\n",
    "import base64"
   ]
  },
  {
   "cell_type": "code",
   "execution_count": 2,
   "id": "232cacac",
   "metadata": {},
   "outputs": [],
   "source": [
    "import time\n",
    "import base64\n",
    "import hmac\n",
    "import hashlib"
   ]
  },
  {
   "cell_type": "code",
   "execution_count": null,
   "id": "f80117e4",
   "metadata": {},
   "outputs": [],
   "source": []
  },
  {
   "cell_type": "code",
   "execution_count": 3,
   "id": "39ca8b84",
   "metadata": {},
   "outputs": [
    {
     "name": "stdout",
     "output_type": "stream",
     "text": [
      "Keys loaded successfully\n"
     ]
    }
   ],
   "source": [
    "import env"
   ]
  },
  {
   "cell_type": "code",
   "execution_count": 4,
   "id": "4e15a9ef",
   "metadata": {},
   "outputs": [],
   "source": [
    "api_key = env.kc_api_key\n",
    "api_s = env.kc_secret_api\n",
    "api_pp = env.kc_passphrase\n",
    "api_uid = env.kc_uid"
   ]
  },
  {
   "cell_type": "code",
   "execution_count": null,
   "id": "e78f2b3a",
   "metadata": {},
   "outputs": [],
   "source": []
  },
  {
   "cell_type": "code",
   "execution_count": null,
   "id": "670624e8",
   "metadata": {},
   "outputs": [],
   "source": []
  },
  {
   "cell_type": "code",
   "execution_count": 5,
   "id": "a9dd1616",
   "metadata": {},
   "outputs": [],
   "source": [
    "from kucoin.client import Market"
   ]
  },
  {
   "cell_type": "code",
   "execution_count": null,
   "id": "f1c1da99",
   "metadata": {},
   "outputs": [],
   "source": [
    "client = Market(url = 'https://api.kucoin.com')"
   ]
  },
  {
   "cell_type": "code",
   "execution_count": null,
   "id": "85dcbb7a",
   "metadata": {},
   "outputs": [],
   "source": [
    "klines = client.get_kline('BTC-USDT', '1min')"
   ]
  },
  {
   "cell_type": "code",
   "execution_count": null,
   "id": "32ed0dbb",
   "metadata": {},
   "outputs": [],
   "source": [
    "klines"
   ]
  },
  {
   "cell_type": "code",
   "execution_count": 6,
   "id": "af996022",
   "metadata": {},
   "outputs": [],
   "source": [
    "from kucoin.client import User\n",
    "client = User(api_key, api_s, api_pp)"
   ]
  },
  {
   "cell_type": "code",
   "execution_count": null,
   "id": "71936921",
   "metadata": {},
   "outputs": [],
   "source": [
    "client"
   ]
  },
  {
   "cell_type": "code",
   "execution_count": null,
   "id": "ea42bcee",
   "metadata": {},
   "outputs": [],
   "source": []
  },
  {
   "cell_type": "code",
   "execution_count": null,
   "id": "3ff9d282",
   "metadata": {},
   "outputs": [],
   "source": [
    "requests.get(f'https://api.kucoin.com/api/v1/sub-accounts')"
   ]
  },
  {
   "cell_type": "code",
   "execution_count": null,
   "id": "dee48365",
   "metadata": {
    "scrolled": false
   },
   "outputs": [],
   "source": [
    "account = client.get_account('609d983740a109000617f00c')"
   ]
  },
  {
   "cell_type": "code",
   "execution_count": null,
   "id": "112ded1d",
   "metadata": {},
   "outputs": [],
   "source": [
    "len('5bd6e9286d99522a52e458de')"
   ]
  },
  {
   "cell_type": "code",
   "execution_count": null,
   "id": "0b6e4de8",
   "metadata": {},
   "outputs": [],
   "source": [
    "account = client.create_account('trade', 'BTC')"
   ]
  },
  {
   "cell_type": "code",
   "execution_count": null,
   "id": "5834cdf9",
   "metadata": {},
   "outputs": [],
   "source": [
    "response = requests.get('https://api.kucoin.com/api/v1/accounts/609d983740a109000617f00c')\n",
    "\n",
    "response.text"
   ]
  },
  {
   "cell_type": "code",
   "execution_count": null,
   "id": "225e6287",
   "metadata": {},
   "outputs": [],
   "source": [
    "response"
   ]
  },
  {
   "cell_type": "code",
   "execution_count": null,
   "id": "be7ce979",
   "metadata": {},
   "outputs": [],
   "source": [
    "#Example for get balance of accounts in python\n",
    "\n",
    "\n",
    "# api_key = env.kucoin_api\n",
    "# api_s = env.kucoin_secret\n",
    "# api_pp = env.kucoin_passphrase\n",
    "# api_uid = env.kucoin_uid\n",
    "\n",
    "api_key = env.kucoin_api\n",
    "api_secret = env.kucoin_secret\n",
    "api_passphrase = env.kucoin_passphrase\n",
    "url = 'https://openapi-sandbox.kucoin.com/api/v1/accounts'\n",
    "now = int(time.time() * 1000)\n",
    "str_to_sign = str(now) + 'GET' + '/api/v1/accounts'\n",
    "signature = base64.b64encode(\n",
    "    hmac.new(api_secret.encode('utf-8'), str_to_sign.encode('utf-8'), hashlib.sha256).digest())\n",
    "passphrase = base64.b64encode(hmac.new(api_secret.encode('utf-8'), api_passphrase.encode('utf-8'), hashlib.sha256).digest())\n",
    "headers = {\n",
    "    \"KC-API-SIGN\": signature,\n",
    "    \"KC-API-TIMESTAMP\": str(now),\n",
    "    \"KC-API-KEY\": api_key,\n",
    "    \"KC-API-PASSPHRASE\": passphrase,\n",
    "    \"KC-API-KEY-VERSION\": 2\n",
    "}\n",
    "response = requests.request('get', url, headers=headers)\n",
    "print(response.status_code)\n",
    "print(response.json())\n",
    "\n",
    "#Example for create deposit addresses in python\n",
    "url = 'https://openapi-sandbox.kucoin.com/api/v1/deposit-addresses'\n",
    "now = int(time.time() * 1000)\n",
    "data = {\"currency\": \"BTC\"}\n",
    "data_json = json.dumps(data)\n",
    "str_to_sign = str(now) + 'POST' + '/api/v1/deposit-addresses' + data_json\n",
    "signature = base64.b64encode(\n",
    "    hmac.new(api_secret.encode('utf-8'), str_to_sign.encode('utf-8'), hashlib.sha256).digest())\n",
    "passphrase = base64.b64encode(\n",
    "    hmac.new(api_secret.encode('utf-8'), api_passphrase.encode('utf-8'), hashlib.sha256).digest())\n",
    "headers = {\n",
    "    \"KC-API-SIGN\": signature,\n",
    "    \"KC-API-TIMESTAMP\": str(now),\n",
    "    \"KC-API-KEY\": api_key,\n",
    "    \"KC-API-PASSPHRASE\": passphrase,\n",
    "    \"KC-API-KEY-VERSION\": 2\n",
    "    \"Content-Type\": \"application/json\" # specifying content type or using json=data in request\n",
    "}\n",
    "response = requests.request('post', url, headers=headers, data=data_json)\n",
    "print(response.status_code)\n",
    "print(response.json())"
   ]
  },
  {
   "cell_type": "code",
   "execution_count": 7,
   "id": "a9cf39b5",
   "metadata": {},
   "outputs": [],
   "source": [
    "    api_key = env.kc_api_key\n",
    "    api_secret = env.kc_secret_api\n",
    "    api_passphrase = env.kc_passphrase\n",
    "    url = 'https://api.kucoin.com/api/v1/accounts'\n",
    "    now = int(time.time() * 1000)\n",
    "    str_to_sign = str(now) + 'GET' + '/api/v1/accounts'\n",
    "    signature = base64.b64encode(\n",
    "        hmac.new(api_secret.encode('utf-8'), str_to_sign.encode('utf-8'), hashlib.sha256).digest())\n",
    "    passphrase = base64.b64encode(hmac.new(api_secret.encode('utf-8'), api_passphrase.encode('utf-8'), hashlib.sha256).digest())\n",
    "    headers = {\n",
    "        \"KC-API-SIGN\": signature,\n",
    "        \"KC-API-TIMESTAMP\": str(now),\n",
    "        \"KC-API-KEY\": api_key,\n",
    "        \"KC-API-PASSPHRASE\": passphrase,\n",
    "        \"KC-API-KEY-VERSION\": str(2)\n",
    "    }\n",
    "#     response = requests.request('get', url, headers=headers)\n",
    "#     print(response.status_code)\n",
    "#     print(response.json())"
   ]
  },
  {
   "cell_type": "code",
   "execution_count": null,
   "id": "bb208bff",
   "metadata": {},
   "outputs": [],
   "source": []
  },
  {
   "cell_type": "code",
   "execution_count": 8,
   "id": "88aba7b1",
   "metadata": {},
   "outputs": [
    {
     "name": "stdout",
     "output_type": "stream",
     "text": [
      "200\n",
      "{'code': '200000', 'data': [{'id': '60984217df152d0006a24128', 'currency': 'USDT', 'type': 'trade', 'balance': '1675.17613635', 'available': '128.08591389', 'holds': '1547.09022245'}, {'id': '609841d0f180450006fcf3f2', 'currency': 'ATOM', 'type': 'trade', 'balance': '19.8317', 'available': '0.4213', 'holds': '19.4104'}, {'id': '609841dadf152d0006a1ca08', 'currency': 'BTC', 'type': 'trade', 'balance': '0.00344141', 'available': '0.00344141', 'holds': '0'}, {'id': '609a801ba09b0c0006838148', 'currency': 'USDC', 'type': 'trade', 'balance': '0.0000033', 'available': '0.0000033', 'holds': '0'}, {'id': '60983b4843519c000694d3f6', 'currency': 'ALGO', 'type': 'main', 'balance': '0', 'available': '0', 'holds': '0'}, {'id': '609841c6d54db40006c93037', 'currency': 'ALGO', 'type': 'trade', 'balance': '0', 'available': '0', 'holds': '0'}, {'id': '6097261f78f8a30006099e89', 'currency': 'ATOM', 'type': 'main', 'balance': '0', 'available': '0', 'holds': '0'}, {'id': '60973775df152d0006586989', 'currency': 'BTC', 'type': 'main', 'balance': '0', 'available': '0', 'holds': '0'}, {'id': '6096edb4f1804500061b1580', 'currency': 'USDC', 'type': 'main', 'balance': '0', 'available': '0', 'holds': '0'}]}\n"
     ]
    }
   ],
   "source": [
    "response = requests.request('get', url, headers=headers)\n",
    "print(response.status_code)\n",
    "print(response.json())"
   ]
  },
  {
   "cell_type": "code",
   "execution_count": 16,
   "id": "ebd03b84",
   "metadata": {},
   "outputs": [
    {
     "data": {
      "text/html": [
       "<div>\n",
       "<style scoped>\n",
       "    .dataframe tbody tr th:only-of-type {\n",
       "        vertical-align: middle;\n",
       "    }\n",
       "\n",
       "    .dataframe tbody tr th {\n",
       "        vertical-align: top;\n",
       "    }\n",
       "\n",
       "    .dataframe thead th {\n",
       "        text-align: right;\n",
       "    }\n",
       "</style>\n",
       "<table border=\"1\" class=\"dataframe\">\n",
       "  <thead>\n",
       "    <tr style=\"text-align: right;\">\n",
       "      <th></th>\n",
       "      <th>id</th>\n",
       "      <th>currency</th>\n",
       "      <th>type</th>\n",
       "      <th>balance</th>\n",
       "      <th>available</th>\n",
       "      <th>holds</th>\n",
       "    </tr>\n",
       "  </thead>\n",
       "  <tbody>\n",
       "    <tr>\n",
       "      <th>0</th>\n",
       "      <td>60984217df152d0006a24128</td>\n",
       "      <td>USDT</td>\n",
       "      <td>trade</td>\n",
       "      <td>1675.17613635</td>\n",
       "      <td>128.08591389</td>\n",
       "      <td>1547.09022245</td>\n",
       "    </tr>\n",
       "    <tr>\n",
       "      <th>1</th>\n",
       "      <td>609841d0f180450006fcf3f2</td>\n",
       "      <td>ATOM</td>\n",
       "      <td>trade</td>\n",
       "      <td>19.8317</td>\n",
       "      <td>0.4213</td>\n",
       "      <td>19.4104</td>\n",
       "    </tr>\n",
       "    <tr>\n",
       "      <th>2</th>\n",
       "      <td>609841dadf152d0006a1ca08</td>\n",
       "      <td>BTC</td>\n",
       "      <td>trade</td>\n",
       "      <td>0.00344141</td>\n",
       "      <td>0.00344141</td>\n",
       "      <td>0</td>\n",
       "    </tr>\n",
       "    <tr>\n",
       "      <th>3</th>\n",
       "      <td>609a801ba09b0c0006838148</td>\n",
       "      <td>USDC</td>\n",
       "      <td>trade</td>\n",
       "      <td>0.0000033</td>\n",
       "      <td>0.0000033</td>\n",
       "      <td>0</td>\n",
       "    </tr>\n",
       "    <tr>\n",
       "      <th>4</th>\n",
       "      <td>60983b4843519c000694d3f6</td>\n",
       "      <td>ALGO</td>\n",
       "      <td>main</td>\n",
       "      <td>0</td>\n",
       "      <td>0</td>\n",
       "      <td>0</td>\n",
       "    </tr>\n",
       "    <tr>\n",
       "      <th>5</th>\n",
       "      <td>609841c6d54db40006c93037</td>\n",
       "      <td>ALGO</td>\n",
       "      <td>trade</td>\n",
       "      <td>0</td>\n",
       "      <td>0</td>\n",
       "      <td>0</td>\n",
       "    </tr>\n",
       "    <tr>\n",
       "      <th>6</th>\n",
       "      <td>6097261f78f8a30006099e89</td>\n",
       "      <td>ATOM</td>\n",
       "      <td>main</td>\n",
       "      <td>0</td>\n",
       "      <td>0</td>\n",
       "      <td>0</td>\n",
       "    </tr>\n",
       "    <tr>\n",
       "      <th>7</th>\n",
       "      <td>60973775df152d0006586989</td>\n",
       "      <td>BTC</td>\n",
       "      <td>main</td>\n",
       "      <td>0</td>\n",
       "      <td>0</td>\n",
       "      <td>0</td>\n",
       "    </tr>\n",
       "    <tr>\n",
       "      <th>8</th>\n",
       "      <td>6096edb4f1804500061b1580</td>\n",
       "      <td>USDC</td>\n",
       "      <td>main</td>\n",
       "      <td>0</td>\n",
       "      <td>0</td>\n",
       "      <td>0</td>\n",
       "    </tr>\n",
       "  </tbody>\n",
       "</table>\n",
       "</div>"
      ],
      "text/plain": [
       "                         id currency   type        balance     available  \\\n",
       "0  60984217df152d0006a24128     USDT  trade  1675.17613635  128.08591389   \n",
       "1  609841d0f180450006fcf3f2     ATOM  trade        19.8317        0.4213   \n",
       "2  609841dadf152d0006a1ca08      BTC  trade     0.00344141    0.00344141   \n",
       "3  609a801ba09b0c0006838148     USDC  trade      0.0000033     0.0000033   \n",
       "4  60983b4843519c000694d3f6     ALGO   main              0             0   \n",
       "5  609841c6d54db40006c93037     ALGO  trade              0             0   \n",
       "6  6097261f78f8a30006099e89     ATOM   main              0             0   \n",
       "7  60973775df152d0006586989      BTC   main              0             0   \n",
       "8  6096edb4f1804500061b1580     USDC   main              0             0   \n",
       "\n",
       "           holds  \n",
       "0  1547.09022245  \n",
       "1        19.4104  \n",
       "2              0  \n",
       "3              0  \n",
       "4              0  \n",
       "5              0  \n",
       "6              0  \n",
       "7              0  \n",
       "8              0  "
      ]
     },
     "execution_count": 16,
     "metadata": {},
     "output_type": "execute_result"
    }
   ],
   "source": [
    "pd.DataFrame.from_dict(response.json()['data'])"
   ]
  },
  {
   "cell_type": "code",
   "execution_count": 49,
   "id": "69b43bcc",
   "metadata": {},
   "outputs": [
    {
     "data": {
      "text/html": [
       "<div>\n",
       "<style scoped>\n",
       "    .dataframe tbody tr th:only-of-type {\n",
       "        vertical-align: middle;\n",
       "    }\n",
       "\n",
       "    .dataframe tbody tr th {\n",
       "        vertical-align: top;\n",
       "    }\n",
       "\n",
       "    .dataframe thead th {\n",
       "        text-align: right;\n",
       "    }\n",
       "</style>\n",
       "<table border=\"1\" class=\"dataframe\">\n",
       "  <thead>\n",
       "    <tr style=\"text-align: right;\">\n",
       "      <th></th>\n",
       "      <th>id</th>\n",
       "      <th>currency</th>\n",
       "      <th>type</th>\n",
       "      <th>balance</th>\n",
       "      <th>available</th>\n",
       "      <th>holds</th>\n",
       "    </tr>\n",
       "  </thead>\n",
       "  <tbody>\n",
       "    <tr>\n",
       "      <th>0</th>\n",
       "      <td>60984217df152d0006a24128</td>\n",
       "      <td>USDT</td>\n",
       "      <td>trade</td>\n",
       "      <td>1675.17613635</td>\n",
       "      <td>128.08591389</td>\n",
       "      <td>1547.09022245</td>\n",
       "    </tr>\n",
       "    <tr>\n",
       "      <th>1</th>\n",
       "      <td>609841d0f180450006fcf3f2</td>\n",
       "      <td>ATOM</td>\n",
       "      <td>trade</td>\n",
       "      <td>19.8317</td>\n",
       "      <td>0.4213</td>\n",
       "      <td>19.4104</td>\n",
       "    </tr>\n",
       "    <tr>\n",
       "      <th>2</th>\n",
       "      <td>609841dadf152d0006a1ca08</td>\n",
       "      <td>BTC</td>\n",
       "      <td>trade</td>\n",
       "      <td>0.00344141</td>\n",
       "      <td>0.00344141</td>\n",
       "      <td>0</td>\n",
       "    </tr>\n",
       "    <tr>\n",
       "      <th>3</th>\n",
       "      <td>609a801ba09b0c0006838148</td>\n",
       "      <td>USDC</td>\n",
       "      <td>trade</td>\n",
       "      <td>0.0000033</td>\n",
       "      <td>0.0000033</td>\n",
       "      <td>0</td>\n",
       "    </tr>\n",
       "    <tr>\n",
       "      <th>4</th>\n",
       "      <td>60983b4843519c000694d3f6</td>\n",
       "      <td>ALGO</td>\n",
       "      <td>main</td>\n",
       "      <td>0</td>\n",
       "      <td>0</td>\n",
       "      <td>0</td>\n",
       "    </tr>\n",
       "    <tr>\n",
       "      <th>5</th>\n",
       "      <td>609841c6d54db40006c93037</td>\n",
       "      <td>ALGO</td>\n",
       "      <td>trade</td>\n",
       "      <td>0</td>\n",
       "      <td>0</td>\n",
       "      <td>0</td>\n",
       "    </tr>\n",
       "    <tr>\n",
       "      <th>6</th>\n",
       "      <td>6097261f78f8a30006099e89</td>\n",
       "      <td>ATOM</td>\n",
       "      <td>main</td>\n",
       "      <td>0</td>\n",
       "      <td>0</td>\n",
       "      <td>0</td>\n",
       "    </tr>\n",
       "    <tr>\n",
       "      <th>7</th>\n",
       "      <td>60973775df152d0006586989</td>\n",
       "      <td>BTC</td>\n",
       "      <td>main</td>\n",
       "      <td>0</td>\n",
       "      <td>0</td>\n",
       "      <td>0</td>\n",
       "    </tr>\n",
       "    <tr>\n",
       "      <th>8</th>\n",
       "      <td>6096edb4f1804500061b1580</td>\n",
       "      <td>USDC</td>\n",
       "      <td>main</td>\n",
       "      <td>0</td>\n",
       "      <td>0</td>\n",
       "      <td>0</td>\n",
       "    </tr>\n",
       "  </tbody>\n",
       "</table>\n",
       "</div>"
      ],
      "text/plain": [
       "                         id currency   type        balance     available  \\\n",
       "0  60984217df152d0006a24128     USDT  trade  1675.17613635  128.08591389   \n",
       "1  609841d0f180450006fcf3f2     ATOM  trade        19.8317        0.4213   \n",
       "2  609841dadf152d0006a1ca08      BTC  trade     0.00344141    0.00344141   \n",
       "3  609a801ba09b0c0006838148     USDC  trade      0.0000033     0.0000033   \n",
       "4  60983b4843519c000694d3f6     ALGO   main              0             0   \n",
       "5  609841c6d54db40006c93037     ALGO  trade              0             0   \n",
       "6  6097261f78f8a30006099e89     ATOM   main              0             0   \n",
       "7  60973775df152d0006586989      BTC   main              0             0   \n",
       "8  6096edb4f1804500061b1580     USDC   main              0             0   \n",
       "\n",
       "           holds  \n",
       "0  1547.09022245  \n",
       "1        19.4104  \n",
       "2              0  \n",
       "3              0  \n",
       "4              0  \n",
       "5              0  \n",
       "6              0  \n",
       "7              0  \n",
       "8              0  "
      ]
     },
     "execution_count": 49,
     "metadata": {},
     "output_type": "execute_result"
    }
   ],
   "source": [
    "df = pd.DataFrame.from_dict(response.json()['data'])\n",
    "df"
   ]
  },
  {
   "cell_type": "code",
   "execution_count": 50,
   "id": "88102c20",
   "metadata": {},
   "outputs": [],
   "source": [
    "df.drop(columns = 'id', inplace = True)\n",
    "# df.rename(columns = {'type': 'account_name'})"
   ]
  },
  {
   "cell_type": "code",
   "execution_count": null,
   "id": "7fd67636",
   "metadata": {},
   "outputs": [],
   "source": []
  },
  {
   "cell_type": "code",
   "execution_count": 53,
   "id": "117aa54b",
   "metadata": {},
   "outputs": [
    {
     "data": {
      "text/html": [
       "<div>\n",
       "<style scoped>\n",
       "    .dataframe tbody tr th:only-of-type {\n",
       "        vertical-align: middle;\n",
       "    }\n",
       "\n",
       "    .dataframe tbody tr th {\n",
       "        vertical-align: top;\n",
       "    }\n",
       "\n",
       "    .dataframe thead th {\n",
       "        text-align: right;\n",
       "    }\n",
       "</style>\n",
       "<table border=\"1\" class=\"dataframe\">\n",
       "  <thead>\n",
       "    <tr style=\"text-align: right;\">\n",
       "      <th></th>\n",
       "      <th>currency</th>\n",
       "      <th>type</th>\n",
       "      <th>balance</th>\n",
       "      <th>available</th>\n",
       "      <th>holds</th>\n",
       "    </tr>\n",
       "  </thead>\n",
       "  <tbody>\n",
       "    <tr>\n",
       "      <th>0</th>\n",
       "      <td>USDT</td>\n",
       "      <td>trade</td>\n",
       "      <td>1675.17613635</td>\n",
       "      <td>128.08591389</td>\n",
       "      <td>1547.09022245</td>\n",
       "    </tr>\n",
       "    <tr>\n",
       "      <th>1</th>\n",
       "      <td>ATOM</td>\n",
       "      <td>trade</td>\n",
       "      <td>19.8317</td>\n",
       "      <td>0.4213</td>\n",
       "      <td>19.4104</td>\n",
       "    </tr>\n",
       "    <tr>\n",
       "      <th>2</th>\n",
       "      <td>BTC</td>\n",
       "      <td>trade</td>\n",
       "      <td>0.00344141</td>\n",
       "      <td>0.00344141</td>\n",
       "      <td>0</td>\n",
       "    </tr>\n",
       "    <tr>\n",
       "      <th>3</th>\n",
       "      <td>USDC</td>\n",
       "      <td>trade</td>\n",
       "      <td>0.0000033</td>\n",
       "      <td>0.0000033</td>\n",
       "      <td>0</td>\n",
       "    </tr>\n",
       "    <tr>\n",
       "      <th>5</th>\n",
       "      <td>ALGO</td>\n",
       "      <td>trade</td>\n",
       "      <td>0</td>\n",
       "      <td>0</td>\n",
       "      <td>0</td>\n",
       "    </tr>\n",
       "  </tbody>\n",
       "</table>\n",
       "</div>"
      ],
      "text/plain": [
       "  currency   type        balance     available          holds\n",
       "0     USDT  trade  1675.17613635  128.08591389  1547.09022245\n",
       "1     ATOM  trade        19.8317        0.4213        19.4104\n",
       "2      BTC  trade     0.00344141    0.00344141              0\n",
       "3     USDC  trade      0.0000033     0.0000033              0\n",
       "5     ALGO  trade              0             0              0"
      ]
     },
     "execution_count": 53,
     "metadata": {},
     "output_type": "execute_result"
    }
   ],
   "source": [
    "trade_account = df[df['type'] == 'trade']\n",
    "trade_account"
   ]
  },
  {
   "cell_type": "code",
   "execution_count": 57,
   "id": "b8535448",
   "metadata": {},
   "outputs": [],
   "source": [
    "trade_account.to_excel('account_balance.xlsx')"
   ]
  },
  {
   "cell_type": "code",
   "execution_count": null,
   "id": "7ea1e0ea",
   "metadata": {},
   "outputs": [],
   "source": []
  }
 ],
 "metadata": {
  "kernelspec": {
   "display_name": "Python 3",
   "language": "python",
   "name": "python3"
  },
  "language_info": {
   "codemirror_mode": {
    "name": "ipython",
    "version": 3
   },
   "file_extension": ".py",
   "mimetype": "text/x-python",
   "name": "python",
   "nbconvert_exporter": "python",
   "pygments_lexer": "ipython3",
   "version": "3.8.8"
  }
 },
 "nbformat": 4,
 "nbformat_minor": 5
}
