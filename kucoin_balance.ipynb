{
 "cells": [
  {
   "cell_type": "code",
   "execution_count": 1,
   "id": "e1feae19",
   "metadata": {},
   "outputs": [],
   "source": [
    "import pandas as pd\n",
    "import numpy as np\n",
    "\n",
    "\n",
    "import os\n",
    "import requests\n",
    "import json\n",
    "import base64\n",
    "\n",
    "import time\n",
    "import base64\n",
    "import hmac\n",
    "import hashlib"
   ]
  },
  {
   "cell_type": "code",
   "execution_count": null,
   "id": "79170255",
   "metadata": {},
   "outputs": [],
   "source": [
    "import env"
   ]
  },
  {
   "cell_type": "code",
   "execution_count": null,
   "id": "1c959fb6",
   "metadata": {},
   "outputs": [],
   "source": [
    "api_key = env.kc_api_key\n",
    "api_s = env.kc_secret_api\n",
    "api_pp = env.kc_passphrase\n",
    "api_uid = env.kc_uid"
   ]
  },
  {
   "cell_type": "code",
   "execution_count": null,
   "id": "49e78744",
   "metadata": {},
   "outputs": [],
   "source": [
    "# from kucoin.client import Market\n",
    "# client = Market(url = 'https://api.kucoin.com')\n",
    "# klines = client.get_kline('BTC-USDT', '1min')\n",
    "# klines\n",
    "\n",
    "# from kucoin.client import User\n",
    "# client = User(api_key, api_s, api_pp)\n",
    "# client"
   ]
  },
  {
   "cell_type": "code",
   "execution_count": null,
   "id": "abaa5907",
   "metadata": {},
   "outputs": [],
   "source": [
    "pd.__version__"
   ]
  },
  {
   "cell_type": "markdown",
   "id": "27405842",
   "metadata": {},
   "source": [
    "### Creating the API signature for KuCoin"
   ]
  },
  {
   "cell_type": "code",
   "execution_count": null,
   "id": "3aa2b84e",
   "metadata": {},
   "outputs": [],
   "source": [
    "# #Example for get balance of accounts in python\n",
    "\n",
    "\n",
    "# # api_key = env.kucoin_api\n",
    "# # api_s = env.kucoin_secret\n",
    "# # api_pp = env.kucoin_passphrase\n",
    "# # api_uid = env.kucoin_uid\n",
    "\n",
    "# api_key = env.kucoin_api\n",
    "# api_secret = env.kucoin_secret\n",
    "# api_passphrase = env.kucoin_passphrase\n",
    "# url = 'https://openapi-sandbox.kucoin.com/api/v1/accounts'\n",
    "# now = int(time.time() * 1000)\n",
    "# str_to_sign = str(now) + 'GET' + '/api/v1/accounts'\n",
    "# signature = base64.b64encode(\n",
    "#     hmac.new(api_secret.encode('utf-8'), str_to_sign.encode('utf-8'), hashlib.sha256).digest())\n",
    "# passphrase = base64.b64encode(hmac.new(api_secret.encode('utf-8'), api_passphrase.encode('utf-8'), hashlib.sha256).digest())\n",
    "# headers = {\n",
    "#     \"KC-API-SIGN\": signature,\n",
    "#     \"KC-API-TIMESTAMP\": str(now),\n",
    "#     \"KC-API-KEY\": api_key,\n",
    "#     \"KC-API-PASSPHRASE\": passphrase,\n",
    "#     \"KC-API-KEY-VERSION\": 2\n",
    "# }\n",
    "# response = requests.request('get', url, headers=headers)\n",
    "# print(response.status_code)\n",
    "# print(response.json())\n",
    "\n",
    "# #Example for create deposit addresses in python\n",
    "# url = 'https://openapi-sandbox.kucoin.com/api/v1/deposit-addresses'\n",
    "# now = int(time.time() * 1000)\n",
    "# data = {\"currency\": \"BTC\"}\n",
    "# data_json = json.dumps(data)\n",
    "# str_to_sign = str(now) + 'POST' + '/api/v1/deposit-addresses' + data_json\n",
    "# signature = base64.b64encode(\n",
    "#     hmac.new(api_secret.encode('utf-8'), str_to_sign.encode('utf-8'), hashlib.sha256).digest())\n",
    "# passphrase = base64.b64encode(\n",
    "#     hmac.new(api_secret.encode('utf-8'), api_passphrase.encode('utf-8'), hashlib.sha256).digest())\n",
    "# headers = {\n",
    "#     \"KC-API-SIGN\": signature,\n",
    "#     \"KC-API-TIMESTAMP\": str(now),\n",
    "#     \"KC-API-KEY\": api_key,\n",
    "#     \"KC-API-PASSPHRASE\": passphrase,\n",
    "#     \"KC-API-KEY-VERSION\": 2\n",
    "#     \"Content-Type\": \"application/json\" # specifying content type or using json=data in request\n",
    "# }\n",
    "# response = requests.request('post', url, headers=headers, data=data_json)\n",
    "# print(response.status_code)\n",
    "# print(response.json())"
   ]
  },
  {
   "cell_type": "code",
   "execution_count": null,
   "id": "7a3f2ac2",
   "metadata": {},
   "outputs": [],
   "source": [
    "# Creating the api keys\n",
    "api_key = env.kc_api_key\n",
    "api_secret = env.kc_secret_api\n",
    "api_passphrase = env.kc_passphrase\n",
    "url = 'https://api.kucoin.com/api/v1/accounts'\n",
    "now = int(time.time() * 1000)\n",
    "str_to_sign = str(now) + 'GET' + '/api/v1/accounts'\n",
    "signature = base64.b64encode(\n",
    "    hmac.new(api_secret.encode('utf-8'), str_to_sign.encode('utf-8'), hashlib.sha256).digest())\n",
    "passphrase = base64.b64encode(hmac.new(api_secret.encode('utf-8'), api_passphrase.encode('utf-8'), hashlib.sha256).digest())\n",
    "headers = {\n",
    "    \"KC-API-SIGN\": signature,\n",
    "    \"KC-API-TIMESTAMP\": str(now),\n",
    "    \"KC-API-KEY\": api_key,\n",
    "    \"KC-API-PASSPHRASE\": passphrase,\n",
    "    \"KC-API-KEY-VERSION\": str(2)\n",
    "}\n",
    "#     response = requests.request('get', url, headers=headers)\n",
    "#     print(response.status_code)\n",
    "#     print(response.json())"
   ]
  },
  {
   "cell_type": "code",
   "execution_count": null,
   "id": "38ebe3fb",
   "metadata": {},
   "outputs": [],
   "source": [
    "response = requests.request('get', url, headers=headers)\n",
    "print(response.status_code)\n",
    "# print(response.json())"
   ]
  },
  {
   "cell_type": "code",
   "execution_count": null,
   "id": "6c4bee2c",
   "metadata": {},
   "outputs": [],
   "source": [
    "pd.DataFrame.from_dict(response.json()['data'])"
   ]
  },
  {
   "cell_type": "code",
   "execution_count": null,
   "id": "37f4f14c",
   "metadata": {
    "scrolled": true
   },
   "outputs": [],
   "source": [
    "df = pd.DataFrame.from_dict(response.json()['data'])\n",
    "df"
   ]
  },
  {
   "cell_type": "code",
   "execution_count": null,
   "id": "7ac5248d",
   "metadata": {},
   "outputs": [],
   "source": [
    "df.drop(columns = 'id', inplace = True)\n",
    "# df.rename(columns = {'type': 'account_name'})"
   ]
  },
  {
   "cell_type": "markdown",
   "id": "4041f10f",
   "metadata": {},
   "source": [
    "### Creating the dataframes"
   ]
  },
  {
   "cell_type": "code",
   "execution_count": null,
   "id": "2184e800",
   "metadata": {},
   "outputs": [],
   "source": [
    "trade_account = df[df['type'] == 'trade']\n",
    "trade_account"
   ]
  },
  {
   "cell_type": "code",
   "execution_count": null,
   "id": "5e7b54f5",
   "metadata": {},
   "outputs": [],
   "source": [
    "trade_account.to_excel('account_balance.xlsx')"
   ]
  },
  {
   "cell_type": "markdown",
   "id": "45502c74",
   "metadata": {},
   "source": [
    "### Getting the coin prices"
   ]
  },
  {
   "cell_type": "code",
   "execution_count": null,
   "id": "45d564f4",
   "metadata": {},
   "outputs": [],
   "source": [
    "# Purpose is to create another dataframe (which will eventually become an excel sheet) that'll hold the current prices.\n",
    "# Or at least hold a variable with the current price.\n",
    "\n",
    "url = 'https://api.kucoin.com/api/v1/market/orderbook/level1?symbol=BTC-USDT'\n"
   ]
  },
  {
   "cell_type": "code",
   "execution_count": null,
   "id": "808ec11a",
   "metadata": {},
   "outputs": [],
   "source": [
    "btc_price_check = requests.get(f'https://api.kucoin.com/api/v1/market/orderbook/level1?symbol=BTC-USDT')"
   ]
  },
  {
   "cell_type": "code",
   "execution_count": null,
   "id": "f7e83553",
   "metadata": {},
   "outputs": [],
   "source": [
    "btc_price_check.json()['data']"
   ]
  },
  {
   "cell_type": "code",
   "execution_count": null,
   "id": "15b897c6",
   "metadata": {},
   "outputs": [],
   "source": [
    "# Create a list of coins:\n",
    "\n",
    "coin_list = ['BTC', 'ETH', 'ADA', 'ALGO', 'ATOM', 'XLM', 'DOT']\n",
    "cash_list = ['USDT', 'USD', 'USDC']"
   ]
  },
  {
   "cell_type": "code",
   "execution_count": null,
   "id": "ed5b11b0",
   "metadata": {},
   "outputs": [],
   "source": [
    "print(coin_list, cash_list)"
   ]
  },
  {
   "cell_type": "code",
   "execution_count": null,
   "id": "a090e97d",
   "metadata": {},
   "outputs": [],
   "source": [
    "# Now trying to interate through the list to get the prices... I'm doing this wrong however. Append isn't the correct method to use.\n",
    "\n",
    "for x in coin_list:\n",
    "    new_list = []\n",
    "    new_list.append(requests.get(f'https://api.kucoin.com/api/v1/market/orderbook/level1?symbol={x}-USDT').json()['data']['price'])\n",
    "    print(x + \" price in USDT\")\n",
    "    print(requests.get(f'https://api.kucoin.com/api/v1/market/orderbook/level1?symbol={x}-USDT').json()['data']['price'])\n",
    "    \n",
    "    "
   ]
  },
  {
   "cell_type": "code",
   "execution_count": null,
   "id": "ada56bf8",
   "metadata": {},
   "outputs": [],
   "source": [
    "new_list = []\n",
    "\n",
    "for i in coin_list:\n",
    "    new_list.append(i)\n",
    "\n",
    "print(new_list)\n",
    "    \n",
    "\n",
    "    "
   ]
  },
  {
   "cell_type": "code",
   "execution_count": null,
   "id": "8e1a4d9a",
   "metadata": {},
   "outputs": [],
   "source": [
    "price_data = []"
   ]
  },
  {
   "cell_type": "code",
   "execution_count": null,
   "id": "59e050e3",
   "metadata": {},
   "outputs": [],
   "source": [
    "type(price_data)"
   ]
  },
  {
   "cell_type": "code",
   "execution_count": null,
   "id": "00909348",
   "metadata": {},
   "outputs": [],
   "source": [
    "# testing out the api call first\n",
    "\n",
    "cointest = \"BTC\"\n",
    "requests.get(f'https://api.kucoin.com/api/v1/market/orderbook/level1?symbol={cointest}-USDT').json()['data']['price']"
   ]
  },
  {
   "cell_type": "code",
   "execution_count": null,
   "id": "c75b4389",
   "metadata": {},
   "outputs": [],
   "source": [
    "# This for loop will create a list of prices by calling each crypto within my 'coin_list' list. \n",
    "\n",
    "price_list = []\n",
    "for coin in coin_list:\n",
    "    prices = float(requests.get(f'https://api.kucoin.com/api/v1/market/orderbook/level1?symbol={coin}-USDT').json()['data']['price'])\n",
    "#     print(prices), print(type(prices))\n",
    "    price_list.append(prices)\n",
    "#     price_type = float(prices)\n",
    "#     print(type(price_test))\n",
    "#     price_data.append(prices.assign(coin = coin)[['coin', 'close']])\n",
    "# type(prices)\n",
    "price_list"
   ]
  },
  {
   "cell_type": "code",
   "execution_count": null,
   "id": "17ea31be",
   "metadata": {},
   "outputs": [],
   "source": [
    "coin_dict = {\"coin\":coin_list, \"price\":price_list}\n",
    "\n",
    "coin_dict"
   ]
  },
  {
   "cell_type": "code",
   "execution_count": null,
   "id": "b99af287",
   "metadata": {},
   "outputs": [],
   "source": [
    "df_prices = pd.DataFrame(coin_dict)\n",
    "df_prices"
   ]
  },
  {
   "cell_type": "markdown",
   "id": "f83f25c1",
   "metadata": {},
   "source": [
    "That is my problem... when I pull the json object, and narrow down to just the price, it is just a string within the dictionary. So I need to cast is as a float somehow within that for loop."
   ]
  },
  {
   "cell_type": "code",
   "execution_count": null,
   "id": "d19fe692",
   "metadata": {},
   "outputs": [],
   "source": [
    "trade_account.info()"
   ]
  },
  {
   "cell_type": "code",
   "execution_count": null,
   "id": "506eda2f",
   "metadata": {},
   "outputs": [],
   "source": [
    "test_account = trade_account\n",
    "test_account"
   ]
  },
  {
   "cell_type": "code",
   "execution_count": null,
   "id": "6c915320",
   "metadata": {},
   "outputs": [],
   "source": [
    "account = trade_account.copy()"
   ]
  },
  {
   "cell_type": "code",
   "execution_count": null,
   "id": "24da4a1b",
   "metadata": {},
   "outputs": [],
   "source": [
    "df[df['type'] == 'trade']"
   ]
  },
  {
   "cell_type": "code",
   "execution_count": null,
   "id": "9c78895e",
   "metadata": {},
   "outputs": [],
   "source": [
    "account = df[df['type'] == 'trade'].copy()\n",
    "account"
   ]
  },
  {
   "cell_type": "code",
   "execution_count": null,
   "id": "93276c7a",
   "metadata": {},
   "outputs": [],
   "source": [
    "account = account.reset_index(drop = True)"
   ]
  },
  {
   "cell_type": "code",
   "execution_count": null,
   "id": "929bc5ab",
   "metadata": {},
   "outputs": [],
   "source": [
    "account"
   ]
  },
  {
   "cell_type": "code",
   "execution_count": null,
   "id": "5a7ac76b",
   "metadata": {},
   "outputs": [],
   "source": [
    "account.dtypes"
   ]
  },
  {
   "cell_type": "code",
   "execution_count": null,
   "id": "7f58a477",
   "metadata": {},
   "outputs": [],
   "source": [
    "df"
   ]
  },
  {
   "cell_type": "code",
   "execution_count": null,
   "id": "770d9dea",
   "metadata": {},
   "outputs": [],
   "source": [
    "# Changing column datatypes to floats where appropriate. Going to use .astype for now.\n",
    "\n",
    "# test_account['balance'] = test_account.balance.astype(float)\n",
    "# test_account['available'] = test_account.available.astype(float)\n",
    "# test_account['holds'] = test_account.holds.astype(float)\n",
    "\n",
    "# test_account.info()"
   ]
  },
  {
   "cell_type": "code",
   "execution_count": null,
   "id": "16d3f071",
   "metadata": {},
   "outputs": [],
   "source": [
    "# Now should be able to join the two dataframes. I have to join the two dataframes first before I can multiply columns to create the \"$ value\" column which is the end goal here.\n",
    "\n",
    "# Merge, inner join:\n",
    "\n",
    "holdings = account.merge(df_prices, left_on = 'currency', right_on = 'coin', how = 'left')\n",
    "\n",
    "holdings"
   ]
  },
  {
   "cell_type": "code",
   "execution_count": null,
   "id": "90067c93",
   "metadata": {},
   "outputs": [],
   "source": [
    "pd.notna(holdings.coin[0])"
   ]
  },
  {
   "cell_type": "code",
   "execution_count": null,
   "id": "1ce1117c",
   "metadata": {},
   "outputs": [],
   "source": [
    "holdings.price.notnull()"
   ]
  },
  {
   "cell_type": "code",
   "execution_count": null,
   "id": "3d1bd982",
   "metadata": {},
   "outputs": [],
   "source": [
    "holdings['not_a_null'] = np.where(holdings['price'].notnull(), True, False)"
   ]
  },
  {
   "cell_type": "code",
   "execution_count": null,
   "id": "bd58a8e4",
   "metadata": {},
   "outputs": [],
   "source": [
    "holdings.price * holdings.balance"
   ]
  },
  {
   "cell_type": "code",
   "execution_count": null,
   "id": "ddb2f6f3",
   "metadata": {},
   "outputs": [],
   "source": [
    "holdings['value_tmp'] = holdings.price * holdings.balance"
   ]
  },
  {
   "cell_type": "code",
   "execution_count": null,
   "id": "6eedca30",
   "metadata": {},
   "outputs": [],
   "source": [
    "holdings"
   ]
  },
  {
   "cell_type": "code",
   "execution_count": null,
   "id": "75c19ef2",
   "metadata": {},
   "outputs": [],
   "source": [
    "holdings[\"dollar_value\"] = np.where(holdings['value_tmp'].notnull(), holdings['value_tmp'], holdings['balance'])"
   ]
  },
  {
   "cell_type": "code",
   "execution_count": null,
   "id": "cdc8a528",
   "metadata": {},
   "outputs": [],
   "source": []
  },
  {
   "cell_type": "code",
   "execution_count": null,
   "id": "6028f7ec",
   "metadata": {},
   "outputs": [],
   "source": [
    "holdings.dtypes"
   ]
  },
  {
   "cell_type": "code",
   "execution_count": null,
   "id": "b0247647",
   "metadata": {},
   "outputs": [],
   "source": [
    "round(holdings.price * holdings.balance, 2)"
   ]
  },
  {
   "cell_type": "code",
   "execution_count": null,
   "id": "a7f10f98",
   "metadata": {},
   "outputs": [],
   "source": [
    "holdings.dollar_value = holdings.dollar_value.round(2)"
   ]
  },
  {
   "cell_type": "code",
   "execution_count": null,
   "id": "08d80544",
   "metadata": {},
   "outputs": [],
   "source": [
    "holdings"
   ]
  },
  {
   "cell_type": "code",
   "execution_count": null,
   "id": "8ebe8af8",
   "metadata": {},
   "outputs": [],
   "source": [
    "holdings['balance'] = holdings.balance.astype(float)\n",
    "holdings['available'] = holdings.available.astype(float)\n",
    "holdings['holds'] = holdings.holds.astype(float)"
   ]
  },
  {
   "cell_type": "markdown",
   "id": "ceacfd66",
   "metadata": {},
   "source": [
    "## The complete code"
   ]
  },
  {
   "cell_type": "code",
   "execution_count": null,
   "id": "4eb893f6",
   "metadata": {
    "jupyter": {
     "source_hidden": true
    },
    "tags": []
   },
   "outputs": [],
   "source": [
    "# First importing the needed libraries:\n",
    "\n",
    "import pandas as pd\n",
    "import numpy as np\n",
    "\n",
    "\n",
    "import os\n",
    "import requests\n",
    "import json\n",
    "import base64\n",
    "import time\n",
    "import base64\n",
    "import hmac\n",
    "import hashlib\n",
    "\n",
    "# Now importing the env file so the script can access the KuCoin API keys:\n",
    "import env\n",
    "\n",
    "# Defining the api keys with their own variables:\n",
    "api_key = env.kc_api_key\n",
    "api_s = env.kc_secret_api\n",
    "api_pp = env.kc_passphrase\n",
    "api_uid = env.kc_uid\n",
    "\n",
    "# creating the api keys for use in the calls:\n",
    "api_key = env.kc_api_key\n",
    "api_secret = env.kc_secret_api\n",
    "api_passphrase = env.kc_passphrase\n",
    "url = 'https://api.kucoin.com/api/v1/accounts'\n",
    "now = int(time.time() * 1000)\n",
    "str_to_sign = str(now) + 'GET' + '/api/v1/accounts'\n",
    "signature = base64.b64encode(\n",
    "    hmac.new(api_secret.encode('utf-8'), str_to_sign.encode('utf-8'), hashlib.sha256).digest())\n",
    "passphrase = base64.b64encode(hmac.new(api_secret.encode('utf-8'), api_passphrase.encode('utf-8'), hashlib.sha256).digest())\n",
    "headers = {\n",
    "    \"KC-API-SIGN\": signature,\n",
    "    \"KC-API-TIMESTAMP\": str(now),\n",
    "    \"KC-API-KEY\": api_key,\n",
    "    \"KC-API-PASSPHRASE\": passphrase,\n",
    "    \"KC-API-KEY-VERSION\": str(2)\n",
    "}\n",
    "\n",
    "# Getting the base response with the top level account values:\n",
    "response = requests.request('get', url, headers=headers)\n",
    "\n",
    "\n",
    "# Creating the account dataframe using the response request I just created:\n",
    "df = pd.DataFrame.from_dict(response.json()['data'])\n",
    "\n",
    "# Column cleanup:\n",
    "df.drop(columns = 'id', inplace = True)\n",
    "\n",
    "# Getting prices for coins:\n",
    "\n",
    "coin_list = ['BTC', 'ETH', 'ADA', 'ALGO', 'ATOM', 'XLM', 'DOT']\n",
    "\n",
    "# This for loop will create a list of prices by calling each crypto within my 'coin_list' list. \n",
    "\n",
    "price_list = []\n",
    "for coin in coin_list:\n",
    "    prices = float(requests.get(f'https://api.kucoin.com/api/v1/market/orderbook/level1?symbol={coin}-USDT').json()['data']['price'])\n",
    "#     print(prices), print(type(prices))\n",
    "    price_list.append(prices)\n",
    "\n",
    "# Now creating a dictionary of the coin prices:\n",
    "coin_dict = {\"coin\":coin_list, \"price\":price_list}\n",
    "\n",
    "# Dataframe from the dictionary:\n",
    "df_prices = pd.DataFrame(coin_dict)\n",
    "\n",
    "# creating a copy dataframe of the acct info (this step can be dropped in future)\n",
    "account = df[df['type'] == 'trade'].copy()\n",
    "account = account.reset_index(drop = True)\n",
    "account.rename(columns = {'type': \"act_name\"}, inplace = True)\n",
    "\n",
    "\n",
    "# Now should be able to join the two dataframes. I have to join the two dataframes first before I can multiply columns to create the \"$ value\" column which is the end goal here.\n",
    "\n",
    "# Merge, inner join:\n",
    "\n",
    "holdings = account.merge(df_prices, left_on = 'currency', right_on = 'coin', how = 'left')\n",
    "\n",
    "# Now changing the value types of the columns with numbers in them from objects to float64:\n",
    "holdings['balance'] = holdings.balance.astype(float)\n",
    "holdings['available'] = holdings.available.astype(float)\n",
    "holdings['holds'] = holdings.holds.astype(float)\n",
    "\n",
    "# Now working through adding calculated columns that I'll later select from if it doesn't return 'nan':\n",
    "\n",
    "holdings['value_tmp'] = round(holdings.price * holdings.balance, 2)\n",
    "\n",
    "holdings[\"dollar_value\"] = np.where(holdings['value_tmp'].notnull(), holdings['value_tmp'], holdings['balance'])\n",
    "holdings.dollar_value = holdings.dollar_value.round(2)\n",
    "\n",
    "# Dropping extra columns:\n",
    "holdings.drop(columns = ['coin', 'value_tmp'], inplace = True)\n",
    "\n",
    "# Adding date column, and changing date to the dataframe index:\n",
    "# holdings.insert(0, 'date', pd.to_datetime('today').strftime('%Y-%m-%d'))\n",
    "holdings.insert(0, 'date', pd.to_datetime('now').replace(microsecond=0))\n",
    "holdings.date = pd.to_datetime(holdings.date)\n",
    "holdings = holdings.set_index('date').sort_index()\n",
    "\n",
    "# printing out result, and saving to csv and Excel.\n",
    "print(holdings)\n",
    "\n",
    "holdings.to_csv(\"account_holdings_index.csv\")\n",
    "holdings.to_csv(\"account_holdings_no_index.csv\", index = False)\n",
    "\n",
    "\n",
    "holdings.to_excel(\"account_holdings_index.xlsx\")\n",
    "holdings.to_excel(\"account_holdings_no_index.xlsx\", index = False)\n"
   ]
  },
  {
   "cell_type": "markdown",
   "id": "fd90fa9b",
   "metadata": {},
   "source": [
    "## Completed code will show current balances"
   ]
  },
  {
   "cell_type": "code",
   "execution_count": null,
   "id": "98bb07a6",
   "metadata": {},
   "outputs": [],
   "source": [
    "# Now to create appened tables:"
   ]
  },
  {
   "cell_type": "code",
   "execution_count": null,
   "id": "0d4631b6",
   "metadata": {},
   "outputs": [],
   "source": [
    "holdings"
   ]
  },
  {
   "cell_type": "code",
   "execution_count": null,
   "id": "dbe82fc4-c529-4278-836c-c2f63e781298",
   "metadata": {
    "jupyter": {
     "source_hidden": true
    },
    "tags": []
   },
   "outputs": [],
   "source": [
    "# First importing the needed libraries:\n",
    "\n",
    "import pandas as pd\n",
    "import numpy as np\n",
    "\n",
    "\n",
    "import os\n",
    "import requests\n",
    "import json\n",
    "import base64\n",
    "import time\n",
    "import base64\n",
    "import hmac\n",
    "import hashlib\n",
    "\n",
    "# Now importing the env file so the script can access the KuCoin API keys:\n",
    "import env\n",
    "\n",
    "# Defining the api keys with their own variables:\n",
    "api_key = env.kc_api_key\n",
    "api_s = env.kc_secret_api\n",
    "api_pp = env.kc_passphrase\n",
    "api_uid = env.kc_uid\n",
    "\n",
    "# creating the api keys for use in the calls:\n",
    "api_key = env.kc_api_key\n",
    "api_secret = env.kc_secret_api\n",
    "api_passphrase = env.kc_passphrase\n",
    "url = 'https://api.kucoin.com/api/v1/accounts'\n",
    "now = int(time.time() * 1000)\n",
    "str_to_sign = str(now) + 'GET' + '/api/v1/accounts'\n",
    "signature = base64.b64encode(\n",
    "    hmac.new(api_secret.encode('utf-8'), str_to_sign.encode('utf-8'), hashlib.sha256).digest())\n",
    "passphrase = base64.b64encode(hmac.new(api_secret.encode('utf-8'), api_passphrase.encode('utf-8'), hashlib.sha256).digest())\n",
    "headers = {\n",
    "    \"KC-API-SIGN\": signature,\n",
    "    \"KC-API-TIMESTAMP\": str(now),\n",
    "    \"KC-API-KEY\": api_key,\n",
    "    \"KC-API-PASSPHRASE\": passphrase,\n",
    "    \"KC-API-KEY-VERSION\": str(2)\n",
    "}\n",
    "\n",
    "# Getting the base response with the top level account values:\n",
    "response = requests.request('get', url, headers=headers)\n",
    "\n",
    "\n",
    "# Creating the account dataframe using the response request I just created:\n",
    "df = pd.DataFrame.from_dict(response.json()['data'])\n",
    "\n",
    "# Column cleanup:\n",
    "df.drop(columns = 'id', inplace = True)\n",
    "\n",
    "# Getting prices for coins:\n",
    "\n",
    "coin_list = ['BTC', 'ETH', 'ADA', 'ALGO', 'ATOM', 'XLM', 'DOT']\n",
    "\n",
    "# This for loop will create a list of prices by calling each crypto within my 'coin_list' list. \n",
    "\n",
    "price_list = []\n",
    "for coin in coin_list:\n",
    "    prices = float(requests.get(f'https://api.kucoin.com/api/v1/market/orderbook/level1?symbol={coin}-USDT').json()['data']['price'])\n",
    "#     print(prices), print(type(prices))\n",
    "    price_list.append(prices)\n",
    "\n",
    "# Now creating a dictionary of the coin prices:\n",
    "coin_dict = {\"coin\":coin_list, \"price\":price_list}\n",
    "\n",
    "# Dataframe from the dictionary:\n",
    "df_prices = pd.DataFrame(coin_dict)\n",
    "\n",
    "# creating a copy dataframe of the acct info (this step can be dropped in future)\n",
    "account = df[df['type'] == 'trade'].copy()\n",
    "account = account.reset_index(drop = True)\n",
    "account.rename(columns = {'type': \"act_name\"}, inplace = True)\n",
    "\n",
    "\n",
    "# Now should be able to join the two dataframes. I have to join the two dataframes first before I can multiply columns to create the \"$ value\" column which is the end goal here.\n",
    "\n",
    "# Merge, inner join:\n",
    "\n",
    "holdings = account.merge(df_prices, left_on = 'currency', right_on = 'coin', how = 'left')\n",
    "\n",
    "# Now changing the value types of the columns with numbers in them from objects to float64:\n",
    "holdings['balance'] = holdings.balance.astype(float)\n",
    "holdings['available'] = holdings.available.astype(float)\n",
    "holdings['holds'] = holdings.holds.astype(float)\n",
    "\n",
    "# Now working through adding calculated columns that I'll later select from if it doesn't return 'nan':\n",
    "\n",
    "holdings['value_tmp'] = round(holdings.price * holdings.balance, 2)\n",
    "\n",
    "holdings[\"dollar_value\"] = np.where(holdings['value_tmp'].notnull(), holdings['value_tmp'], holdings['balance'])\n",
    "holdings.dollar_value = holdings.dollar_value.round(2)\n",
    "\n",
    "# Dropping extra columns:\n",
    "holdings.drop(columns = ['coin', 'value_tmp'], inplace = True)\n",
    "\n",
    "# Adding date column, and changing date to the dataframe index:\n",
    "# holdings.insert(0, 'date', pd.to_datetime('today').strftime('%Y-%m-%d'))\n",
    "holdings.insert(0, 'date', pd.to_datetime('now').replace(microsecond=0))\n",
    "holdings.date = pd.to_datetime(holdings.date)\n",
    "holdings = holdings.set_index('date').sort_index()\n",
    "\n",
    "# printing out result, and saving to csv and Excel.\n",
    "print(holdings)\n",
    "\n",
    "# holdings.to_csv(\"account_holdings_index.csv\")\n",
    "# holdings.to_csv(\"account_holdings_no_index.csv\", index = False)\n",
    "\n",
    "\n",
    "# holdings.to_excel(\"account_holdings_index.xlsx\")\n",
    "# holdings.to_excel(\"account_holdings_no_index.xlsx\", index = False)\n",
    "\n"
   ]
  },
  {
   "cell_type": "code",
   "execution_count": null,
   "id": "64520953-c11c-4b7f-b84b-b6ba1af7ba24",
   "metadata": {},
   "outputs": [],
   "source": [
    "holdings_backup = holdings.copy()"
   ]
  },
  {
   "cell_type": "code",
   "execution_count": null,
   "id": "53568e36-6801-45c0-949f-a8c66dc3117c",
   "metadata": {},
   "outputs": [],
   "source": [
    "holdings_backup"
   ]
  },
  {
   "cell_type": "code",
   "execution_count": null,
   "id": "08deda40-953c-4b19-b44c-cfabf5fe0edf",
   "metadata": {},
   "outputs": [],
   "source": [
    "# Ok, now using the guide linked here to append the csv: https://www.geeksforgeeks.org/how-to-append-a-new-row-to-an-existing-csv-file/\n",
    "\n",
    "from csv import writer\n",
    "\n",
    "with open('account_holdings_index.csv', 'a', header=False) as f_object:\n",
    "    \n",
    "    writer_object = writer(f_object)\n",
    "    \n",
    "    writer_object.writerow(holdings)\n",
    "    \n",
    "    f_object.close()"
   ]
  },
  {
   "cell_type": "code",
   "execution_count": null,
   "id": "4d01b95d-4c47-4d91-99d5-b7f5d5500724",
   "metadata": {},
   "outputs": [],
   "source": [
    "holdings.to_csv('account_holdings_index.csv', 'a')"
   ]
  },
  {
   "cell_type": "markdown",
   "id": "77e7f991-d9f9-4f31-9333-12648925e259",
   "metadata": {},
   "source": [
    "## Changing the code - date not the index"
   ]
  },
  {
   "cell_type": "code",
   "execution_count": 42,
   "id": "8a234963-1105-4ba2-a17e-ef524ae60616",
   "metadata": {
    "collapsed": true,
    "jupyter": {
     "outputs_hidden": true
    },
    "tags": []
   },
   "outputs": [
    {
     "name": "stdout",
     "output_type": "stream",
     "text": [
      "                 date currency act_name      balance    available       holds  \\\n",
      "0 2021-08-23 02:27:08      BTC    trade     0.042525     0.042525    0.000000   \n",
      "1 2021-08-23 02:27:08     USDC    trade  1223.297009  1223.297009    0.000000   \n",
      "2 2021-08-23 02:27:08     USDT    trade  1055.248023   630.294119  424.953905   \n",
      "3 2021-08-23 02:27:08    BTC3S    trade   308.923700    99.587300  209.336400   \n",
      "4 2021-08-23 02:27:08    BTC3L    trade    74.433300    21.594900   52.838400   \n",
      "5 2021-08-23 02:27:08     ATOM    trade     0.236600     0.236600    0.000000   \n",
      "6 2021-08-23 02:27:08     ALGO    trade     0.000000     0.000000    0.000000   \n",
      "7 2021-08-23 02:27:08      ETH    trade     0.000000     0.000000    0.000000   \n",
      "8 2021-08-23 02:27:08    MATIC    trade     0.000000     0.000000    0.000000   \n",
      "\n",
      "        price  dollar_value  \n",
      "0  49802.1000       2117.84  \n",
      "1         NaN       1223.30  \n",
      "2         NaN       1055.25  \n",
      "3      1.9055        588.65  \n",
      "4      1.3909        103.53  \n",
      "5     22.6833          5.37  \n",
      "6      1.1646          0.00  \n",
      "7   3259.2300          0.00  \n",
      "8      1.6349          0.00  \n"
     ]
    }
   ],
   "source": [
    "# First importing the needed libraries:\n",
    "\n",
    "import pandas as pd\n",
    "import numpy as np\n",
    "\n",
    "\n",
    "import os\n",
    "import requests\n",
    "import json\n",
    "import base64\n",
    "import time\n",
    "import base64\n",
    "import hmac\n",
    "import hashlib\n",
    "\n",
    "# Now importing the env file so the script can access the KuCoin API keys:\n",
    "import env\n",
    "\n",
    "# Defining the api keys with their own variables:\n",
    "api_key = env.kc_api_key\n",
    "api_s = env.kc_secret_api\n",
    "api_pp = env.kc_passphrase\n",
    "api_uid = env.kc_uid\n",
    "\n",
    "# creating the api keys for use in the calls:\n",
    "api_key = env.kc_api_key\n",
    "api_secret = env.kc_secret_api\n",
    "api_passphrase = env.kc_passphrase\n",
    "url = 'https://api.kucoin.com/api/v1/accounts'\n",
    "now = int(time.time() * 1000)\n",
    "str_to_sign = str(now) + 'GET' + '/api/v1/accounts'\n",
    "signature = base64.b64encode(\n",
    "    hmac.new(api_secret.encode('utf-8'), str_to_sign.encode('utf-8'), hashlib.sha256).digest())\n",
    "passphrase = base64.b64encode(hmac.new(api_secret.encode('utf-8'), api_passphrase.encode('utf-8'), hashlib.sha256).digest())\n",
    "headers = {\n",
    "    \"KC-API-SIGN\": signature,\n",
    "    \"KC-API-TIMESTAMP\": str(now),\n",
    "    \"KC-API-KEY\": api_key,\n",
    "    \"KC-API-PASSPHRASE\": passphrase,\n",
    "    \"KC-API-KEY-VERSION\": str(2)\n",
    "}\n",
    "\n",
    "# Getting the base response with the top level account values:\n",
    "response = requests.request('get', url, headers=headers)\n",
    "\n",
    "\n",
    "# Creating the account dataframe using the response request I just created:\n",
    "df = pd.DataFrame.from_dict(response.json()['data'])\n",
    "\n",
    "# Column cleanup:\n",
    "df.drop(columns = 'id', inplace = True)\n",
    "\n",
    "# Getting prices for coins:\n",
    "coin_list = df['currency'].unique().tolist()\n",
    "\n",
    "# USDC and USDT don't work in this list because they are \"equivalent\" of USD, so it comes back as a NoneType, leading to a none-type error later if I don't remove them from the list at this point.\n",
    "coin_list.remove('USDC')\n",
    "coin_list.remove('USDT')\n",
    "\n",
    "# coin_list = ['BTC', 'ETH', 'ADA', 'ALGO', 'ATOM', 'XLM', 'DOT', 'BTC3S', 'BTC3L']\n",
    "\n",
    "# This for loop will create a list of prices by calling each crypto within my 'coin_list' list. \n",
    "\n",
    "price_list = []\n",
    "for coin in coin_list:\n",
    "    prices = float(requests.get(f'https://api.kucoin.com/api/v1/market/orderbook/level1?symbol={coin}-USDT').json()['data']['price'])\n",
    "#     print(prices), print(type(prices))\n",
    "    price_list.append(prices)\n",
    "\n",
    "# Now creating a dictionary of the coin prices:\n",
    "coin_dict = {\"coin\":coin_list, \"price\":price_list}\n",
    "\n",
    "# Dataframe from the dictionary:\n",
    "df_prices = pd.DataFrame(coin_dict)\n",
    "\n",
    "# creating a copy dataframe of the acct info (this step can be dropped in future)\n",
    "account = df[df['type'] == 'trade'].copy()\n",
    "account = account.reset_index(drop = True)\n",
    "account.rename(columns = {'type': \"act_name\"}, inplace = True)\n",
    "\n",
    "\n",
    "# Now should be able to join the two dataframes. I have to join the two dataframes first before I can multiply columns to create the \"$ value\" column which is the end goal here.\n",
    "\n",
    "# Merge, inner join:\n",
    "\n",
    "holdings = account.merge(df_prices, left_on = 'currency', right_on = 'coin', how = 'left')\n",
    "\n",
    "# Now changing the value types of the columns with numbers in them from objects to float64:\n",
    "holdings['balance'] = holdings.balance.astype(float)\n",
    "holdings['available'] = holdings.available.astype(float)\n",
    "holdings['holds'] = holdings.holds.astype(float)\n",
    "\n",
    "# Now working through adding calculated columns that I'll later select from if it doesn't return 'nan':\n",
    "\n",
    "holdings['value_tmp'] = round(holdings.price * holdings.balance, 2)\n",
    "\n",
    "holdings[\"dollar_value\"] = np.where(holdings['value_tmp'].notnull(), holdings['value_tmp'], holdings['balance'])\n",
    "holdings.dollar_value = holdings.dollar_value.round(2)\n",
    "\n",
    "# Dropping extra columns:\n",
    "holdings.drop(columns = ['coin', 'value_tmp'], inplace = True)\n",
    "\n",
    "# Adding date column, and changing date to the dataframe index:\n",
    "# holdings.insert(0, 'date', pd.to_datetime('today').strftime('%Y-%m-%d'))\n",
    "holdings.insert(0, 'date', pd.to_datetime('now').replace(microsecond=0))\n",
    "holdings.date = pd.to_datetime(holdings.date)\n",
    "# holdings = holdings.set_index('date').sort_index()\n",
    "\n",
    "# printing out result, and saving to csv and Excel.\n",
    "print(holdings)\n",
    "\n",
    "holdings.to_csv(\"account_holdings_index_test.csv\")\n",
    "# holdings.to_csv(\"account_holdings_no_index.csv\", index = False)\n",
    "\n",
    "\n",
    "# holdings.to_excel(\"account_holdings_index.xlsx\")\n",
    "# holdings.to_excel(\"account_holdings_no_index.xlsx\", index = False)\n",
    "\n"
   ]
  },
  {
   "cell_type": "code",
   "execution_count": 9,
   "id": "8ab09bb0-0db3-414a-a28d-f4dbb07262bc",
   "metadata": {},
   "outputs": [],
   "source": [
    "df = pd.DataFrame.from_dict(response.json()['data'])"
   ]
  },
  {
   "cell_type": "code",
   "execution_count": 11,
   "id": "c36b995c-46d9-4205-acc8-a76f5dbebc83",
   "metadata": {},
   "outputs": [
    {
     "data": {
      "text/plain": [
       "array(['BTC', 'USDC', 'USDT', 'BTC3S', 'BTC3L', 'ATOM', 'ALGO', 'ETH',\n",
       "       'MATIC'], dtype=object)"
      ]
     },
     "execution_count": 11,
     "metadata": {},
     "output_type": "execute_result"
    }
   ],
   "source": [
    "df['currency'].unique()"
   ]
  },
  {
   "cell_type": "code",
   "execution_count": 23,
   "id": "cb12ff1e-7255-4918-842f-f3e419fbd43b",
   "metadata": {},
   "outputs": [],
   "source": [
    "df_coinlist = df['currency'].unique().tolist()"
   ]
  },
  {
   "cell_type": "code",
   "execution_count": 24,
   "id": "d9aa5aea-13a1-4dbe-bb6a-461647f9667c",
   "metadata": {},
   "outputs": [
    {
     "data": {
      "text/plain": [
       "list"
      ]
     },
     "execution_count": 24,
     "metadata": {},
     "output_type": "execute_result"
    }
   ],
   "source": [
    "type(df_coinlist)"
   ]
  },
  {
   "cell_type": "code",
   "execution_count": 26,
   "id": "76c2dcfe-b511-47ba-9ebb-b4a5f075cb89",
   "metadata": {},
   "outputs": [
    {
     "data": {
      "text/plain": [
       "['BTC', 'USDC', 'USDT', 'BTC3S', 'BTC3L', 'ATOM', 'ALGO', 'ETH', 'MATIC']"
      ]
     },
     "execution_count": 26,
     "metadata": {},
     "output_type": "execute_result"
    }
   ],
   "source": [
    "coin_list"
   ]
  },
  {
   "cell_type": "code",
   "execution_count": 39,
   "id": "32645e2e-55a4-4e73-964c-22efd4b37549",
   "metadata": {},
   "outputs": [],
   "source": [
    "coin_list_test = ['BTC', 'USDC', 'USDT', 'BTC3S', 'BTC3L', 'ATOM', 'ALGO', 'ETH', 'MATIC']"
   ]
  },
  {
   "cell_type": "code",
   "execution_count": 40,
   "id": "a6d34964-7878-4674-9264-1f8fe76c57af",
   "metadata": {},
   "outputs": [],
   "source": [
    "coin_list_test.remove('USDC')\n",
    "coin_list_test.remove('USDT')"
   ]
  },
  {
   "cell_type": "code",
   "execution_count": 41,
   "id": "e6d61a25-f698-45ba-b8eb-fde13ea11cb0",
   "metadata": {},
   "outputs": [
    {
     "data": {
      "text/plain": [
       "['BTC', 'BTC3S', 'BTC3L', 'ATOM', 'ALGO', 'ETH', 'MATIC']"
      ]
     },
     "execution_count": 41,
     "metadata": {},
     "output_type": "execute_result"
    }
   ],
   "source": [
    "coin_list_test"
   ]
  },
  {
   "cell_type": "code",
   "execution_count": null,
   "id": "1fda2a66-703c-4b17-82d5-bda5bb8a1618",
   "metadata": {},
   "outputs": [],
   "source": []
  },
  {
   "cell_type": "code",
   "execution_count": null,
   "id": "0a171ff1-06a6-4023-a508-9fb15e99895d",
   "metadata": {},
   "outputs": [],
   "source": []
  },
  {
   "cell_type": "code",
   "execution_count": 27,
   "id": "cd240d5c-bfc9-48a3-8206-d4d21c93f51a",
   "metadata": {},
   "outputs": [
    {
     "ename": "TypeError",
     "evalue": "'NoneType' object is not subscriptable",
     "output_type": "error",
     "traceback": [
      "\u001b[0;31m---------------------------------------------------------------------------\u001b[0m",
      "\u001b[0;31mTypeError\u001b[0m                                 Traceback (most recent call last)",
      "\u001b[0;32m<ipython-input-27-280a324b171a>\u001b[0m in \u001b[0;36m<module>\u001b[0;34m\u001b[0m\n\u001b[1;32m      1\u001b[0m \u001b[0mprice_list\u001b[0m \u001b[0;34m=\u001b[0m \u001b[0;34m[\u001b[0m\u001b[0;34m]\u001b[0m\u001b[0;34m\u001b[0m\u001b[0;34m\u001b[0m\u001b[0m\n\u001b[1;32m      2\u001b[0m \u001b[0;32mfor\u001b[0m \u001b[0mcoin\u001b[0m \u001b[0;32min\u001b[0m \u001b[0mcoin_list\u001b[0m\u001b[0;34m:\u001b[0m\u001b[0;34m\u001b[0m\u001b[0;34m\u001b[0m\u001b[0m\n\u001b[0;32m----> 3\u001b[0;31m     \u001b[0mprices\u001b[0m \u001b[0;34m=\u001b[0m \u001b[0mfloat\u001b[0m\u001b[0;34m(\u001b[0m\u001b[0mrequests\u001b[0m\u001b[0;34m.\u001b[0m\u001b[0mget\u001b[0m\u001b[0;34m(\u001b[0m\u001b[0;34mf'https://api.kucoin.com/api/v1/market/orderbook/level1?symbol={coin}-USDT'\u001b[0m\u001b[0;34m)\u001b[0m\u001b[0;34m.\u001b[0m\u001b[0mjson\u001b[0m\u001b[0;34m(\u001b[0m\u001b[0;34m)\u001b[0m\u001b[0;34m[\u001b[0m\u001b[0;34m'data'\u001b[0m\u001b[0;34m]\u001b[0m\u001b[0;34m[\u001b[0m\u001b[0;34m'price'\u001b[0m\u001b[0;34m]\u001b[0m\u001b[0;34m)\u001b[0m\u001b[0;34m\u001b[0m\u001b[0;34m\u001b[0m\u001b[0m\n\u001b[0m\u001b[1;32m      4\u001b[0m \u001b[0;31m#     print(prices), print(type(prices))\u001b[0m\u001b[0;34m\u001b[0m\u001b[0;34m\u001b[0m\u001b[0;34m\u001b[0m\u001b[0m\n\u001b[1;32m      5\u001b[0m     \u001b[0mprice_list\u001b[0m\u001b[0;34m.\u001b[0m\u001b[0mappend\u001b[0m\u001b[0;34m(\u001b[0m\u001b[0mprices\u001b[0m\u001b[0;34m)\u001b[0m\u001b[0;34m\u001b[0m\u001b[0;34m\u001b[0m\u001b[0m\n",
      "\u001b[0;31mTypeError\u001b[0m: 'NoneType' object is not subscriptable"
     ]
    }
   ],
   "source": [
    "price_list = []\n",
    "for coin in coin_list:\n",
    "    prices = float(requests.get(f'https://api.kucoin.com/api/v1/market/orderbook/level1?symbol={coin}-USDT').json()['data']['price'])\n",
    "#     print(prices), print(type(prices))\n",
    "    price_list.append(prices)"
   ]
  },
  {
   "cell_type": "code",
   "execution_count": null,
   "id": "ff781d04-b11e-4909-ad16-17fdfbf06bdb",
   "metadata": {},
   "outputs": [],
   "source": []
  },
  {
   "cell_type": "code",
   "execution_count": null,
   "id": "08fe4ebc-afda-476b-ab0f-96bcccf54aef",
   "metadata": {},
   "outputs": [],
   "source": [
    "import holdings_download"
   ]
  },
  {
   "cell_type": "code",
   "execution_count": null,
   "id": "71ba8fb9-4ddd-4036-bf24-35d5791170b2",
   "metadata": {},
   "outputs": [],
   "source": []
  },
  {
   "cell_type": "markdown",
   "id": "95d04f73-b331-4ee9-99b8-fb3adcb18eab",
   "metadata": {},
   "source": [
    "# Run these cells for appended CSV"
   ]
  },
  {
   "cell_type": "code",
   "execution_count": 43,
   "id": "bb752379-e4cd-4da3-b969-e1f9ca9518bc",
   "metadata": {
    "tags": []
   },
   "outputs": [],
   "source": [
    "def kukoin_run():\n",
    "    \n",
    "    # First importing the needed libraries:\n",
    "\n",
    "    import pandas as pd\n",
    "    import numpy as np\n",
    "\n",
    "\n",
    "    import os\n",
    "    import requests\n",
    "    import json\n",
    "    import base64\n",
    "    import time\n",
    "    import base64\n",
    "    import hmac\n",
    "    import hashlib\n",
    "\n",
    "    # Now importing the env file so the script can access the KuCoin API keys:\n",
    "    import env\n",
    "\n",
    "    # Defining the api keys with their own variables:\n",
    "    api_key = env.kc_api_key\n",
    "    api_s = env.kc_secret_api\n",
    "    api_pp = env.kc_passphrase\n",
    "    api_uid = env.kc_uid\n",
    "\n",
    "    # creating the api keys for use in the calls:\n",
    "    api_key = env.kc_api_key\n",
    "    api_secret = env.kc_secret_api\n",
    "    api_passphrase = env.kc_passphrase\n",
    "    url = 'https://api.kucoin.com/api/v1/accounts'\n",
    "    now = int(time.time() * 1000)\n",
    "    str_to_sign = str(now) + 'GET' + '/api/v1/accounts'\n",
    "    signature = base64.b64encode(\n",
    "        hmac.new(api_secret.encode('utf-8'), str_to_sign.encode('utf-8'), hashlib.sha256).digest())\n",
    "    passphrase = base64.b64encode(hmac.new(api_secret.encode('utf-8'), api_passphrase.encode('utf-8'), hashlib.sha256).digest())\n",
    "    headers = {\n",
    "        \"KC-API-SIGN\": signature,\n",
    "        \"KC-API-TIMESTAMP\": str(now),\n",
    "        \"KC-API-KEY\": api_key,\n",
    "        \"KC-API-PASSPHRASE\": passphrase,\n",
    "        \"KC-API-KEY-VERSION\": str(2)\n",
    "    }\n",
    "\n",
    "    # Getting the base response with the top level account values:\n",
    "    response = requests.request('get', url, headers=headers)\n",
    "\n",
    "\n",
    "    # Creating the account dataframe using the response request I just created:\n",
    "    df = pd.DataFrame.from_dict(response.json()['data'])\n",
    "\n",
    "    # Column cleanup:\n",
    "    df.drop(columns = 'id', inplace = True)\n",
    "\n",
    "    # Getting prices for coins:\n",
    "    coin_list = df['currency'].unique().tolist()\n",
    "\n",
    "    # USDC and USDT don't work in this list because they are \"equivalent\" of USD, so it comes back as a NoneType, leading to a none-type error later if I don't remove them from the list at this point.\n",
    "    coin_list.remove('USDC')\n",
    "    coin_list.remove('USDT')\n",
    "\n",
    "    # This for loop will create a list of prices by calling each crypto within my 'coin_list' list. \n",
    "\n",
    "    price_list = []\n",
    "    for coin in coin_list:\n",
    "        prices = float(requests.get(f'https://api.kucoin.com/api/v1/market/orderbook/level1?symbol={coin}-USDT').json()['data']['price'])\n",
    "    #     print(prices), print(type(prices))\n",
    "        price_list.append(prices)\n",
    "\n",
    "    # Now creating a dictionary of the coin prices:\n",
    "    coin_dict = {\"coin\":coin_list, \"price\":price_list}\n",
    "\n",
    "    # Dataframe from the dictionary:\n",
    "    df_prices = pd.DataFrame(coin_dict)\n",
    "\n",
    "    # creating a copy dataframe of the acct info (this step can be dropped in future)\n",
    "    account = df[df['type'] == 'trade'].copy()\n",
    "    account = account.reset_index(drop = True)\n",
    "    account.rename(columns = {'type': \"act_name\"}, inplace = True)\n",
    "\n",
    "\n",
    "    # Now should be able to join the two dataframes. I have to join the two dataframes first before I can multiply columns to create the \"$ value\" column which is the end goal here.\n",
    "\n",
    "    # Merge, inner join:\n",
    "\n",
    "    holdings = account.merge(df_prices, left_on = 'currency', right_on = 'coin', how = 'left')\n",
    "\n",
    "    # Now changing the value types of the columns with numbers in them from objects to float64:\n",
    "    holdings['balance'] = holdings.balance.astype(float)\n",
    "    holdings['available'] = holdings.available.astype(float)\n",
    "    holdings['holds'] = holdings.holds.astype(float)\n",
    "\n",
    "    # Now working through adding calculated columns that I'll later select from if it doesn't return 'nan':\n",
    "\n",
    "    holdings['value_tmp'] = round(holdings.price * holdings.balance, 2)\n",
    "\n",
    "    holdings[\"dollar_value\"] = np.where(holdings['value_tmp'].notnull(), holdings['value_tmp'], holdings['balance'])\n",
    "    holdings.dollar_value = holdings.dollar_value.round(2)\n",
    "\n",
    "    # Dropping extra columns:\n",
    "    holdings.drop(columns = ['coin', 'value_tmp'], inplace = True)\n",
    "\n",
    "    # Adding date column, and changing date to the dataframe index:\n",
    "    # holdings.insert(0, 'date', pd.to_datetime('today').strftime('%Y-%m-%d'))\n",
    "    holdings.insert(0, 'date', pd.to_datetime('now').replace(microsecond=0))\n",
    "    holdings.date = pd.to_datetime(holdings.date)\n",
    "    holdings = holdings.set_index('date').sort_index()\n",
    "\n",
    "  \n",
    "\n",
    "    holdings.to_csv(\"data.csv\")\n",
    "    # holdings.to_csv(\"account_holdings_no_index.csv\", index = False)\n",
    "    \n",
    "    # printing out result, and saving to csv and Excel.\n",
    "    return holdings\n",
    "\n",
    "\n",
    "    # holdings.to_excel(\"account_holdings_index.xlsx\")\n",
    "    # holdings.to_excel(\"account_holdings_no_index.xlsx\", index = False)\n",
    "    # print(\"CSV written successfully.\")\n",
    "\n"
   ]
  },
  {
   "cell_type": "code",
   "execution_count": 46,
   "id": "784be78a-bfaa-4e51-9815-af0749507b8b",
   "metadata": {},
   "outputs": [
    {
     "data": {
      "text/html": [
       "<div>\n",
       "<style scoped>\n",
       "    .dataframe tbody tr th:only-of-type {\n",
       "        vertical-align: middle;\n",
       "    }\n",
       "\n",
       "    .dataframe tbody tr th {\n",
       "        vertical-align: top;\n",
       "    }\n",
       "\n",
       "    .dataframe thead th {\n",
       "        text-align: right;\n",
       "    }\n",
       "</style>\n",
       "<table border=\"1\" class=\"dataframe\">\n",
       "  <thead>\n",
       "    <tr style=\"text-align: right;\">\n",
       "      <th></th>\n",
       "      <th>currency</th>\n",
       "      <th>act_name</th>\n",
       "      <th>balance</th>\n",
       "      <th>available</th>\n",
       "      <th>holds</th>\n",
       "      <th>price</th>\n",
       "      <th>dollar_value</th>\n",
       "    </tr>\n",
       "    <tr>\n",
       "      <th>date</th>\n",
       "      <th></th>\n",
       "      <th></th>\n",
       "      <th></th>\n",
       "      <th></th>\n",
       "      <th></th>\n",
       "      <th></th>\n",
       "      <th></th>\n",
       "    </tr>\n",
       "  </thead>\n",
       "  <tbody>\n",
       "    <tr>\n",
       "      <th>2021-08-23 02:36:13</th>\n",
       "      <td>BTC</td>\n",
       "      <td>trade</td>\n",
       "      <td>0.042525</td>\n",
       "      <td>0.042525</td>\n",
       "      <td>0.000000</td>\n",
       "      <td>49910.1000</td>\n",
       "      <td>2122.43</td>\n",
       "    </tr>\n",
       "    <tr>\n",
       "      <th>2021-08-23 02:36:13</th>\n",
       "      <td>USDC</td>\n",
       "      <td>trade</td>\n",
       "      <td>1223.297009</td>\n",
       "      <td>1223.297009</td>\n",
       "      <td>0.000000</td>\n",
       "      <td>NaN</td>\n",
       "      <td>1223.30</td>\n",
       "    </tr>\n",
       "    <tr>\n",
       "      <th>2021-08-23 02:36:13</th>\n",
       "      <td>USDT</td>\n",
       "      <td>trade</td>\n",
       "      <td>1055.248023</td>\n",
       "      <td>630.294119</td>\n",
       "      <td>424.953905</td>\n",
       "      <td>NaN</td>\n",
       "      <td>1055.25</td>\n",
       "    </tr>\n",
       "    <tr>\n",
       "      <th>2021-08-23 02:36:13</th>\n",
       "      <td>BTC3S</td>\n",
       "      <td>trade</td>\n",
       "      <td>308.923700</td>\n",
       "      <td>99.587300</td>\n",
       "      <td>209.336400</td>\n",
       "      <td>1.8947</td>\n",
       "      <td>585.32</td>\n",
       "    </tr>\n",
       "    <tr>\n",
       "      <th>2021-08-23 02:36:13</th>\n",
       "      <td>BTC3L</td>\n",
       "      <td>trade</td>\n",
       "      <td>74.433300</td>\n",
       "      <td>21.594900</td>\n",
       "      <td>52.838400</td>\n",
       "      <td>1.4052</td>\n",
       "      <td>104.59</td>\n",
       "    </tr>\n",
       "    <tr>\n",
       "      <th>2021-08-23 02:36:13</th>\n",
       "      <td>ATOM</td>\n",
       "      <td>trade</td>\n",
       "      <td>0.236600</td>\n",
       "      <td>0.236600</td>\n",
       "      <td>0.000000</td>\n",
       "      <td>22.7150</td>\n",
       "      <td>5.37</td>\n",
       "    </tr>\n",
       "    <tr>\n",
       "      <th>2021-08-23 02:36:13</th>\n",
       "      <td>ALGO</td>\n",
       "      <td>trade</td>\n",
       "      <td>0.000000</td>\n",
       "      <td>0.000000</td>\n",
       "      <td>0.000000</td>\n",
       "      <td>1.1688</td>\n",
       "      <td>0.00</td>\n",
       "    </tr>\n",
       "    <tr>\n",
       "      <th>2021-08-23 02:36:13</th>\n",
       "      <td>ETH</td>\n",
       "      <td>trade</td>\n",
       "      <td>0.000000</td>\n",
       "      <td>0.000000</td>\n",
       "      <td>0.000000</td>\n",
       "      <td>3267.6300</td>\n",
       "      <td>0.00</td>\n",
       "    </tr>\n",
       "    <tr>\n",
       "      <th>2021-08-23 02:36:13</th>\n",
       "      <td>MATIC</td>\n",
       "      <td>trade</td>\n",
       "      <td>0.000000</td>\n",
       "      <td>0.000000</td>\n",
       "      <td>0.000000</td>\n",
       "      <td>1.6372</td>\n",
       "      <td>0.00</td>\n",
       "    </tr>\n",
       "  </tbody>\n",
       "</table>\n",
       "</div>"
      ],
      "text/plain": [
       "                    currency act_name      balance    available       holds  \\\n",
       "date                                                                          \n",
       "2021-08-23 02:36:13      BTC    trade     0.042525     0.042525    0.000000   \n",
       "2021-08-23 02:36:13     USDC    trade  1223.297009  1223.297009    0.000000   \n",
       "2021-08-23 02:36:13     USDT    trade  1055.248023   630.294119  424.953905   \n",
       "2021-08-23 02:36:13    BTC3S    trade   308.923700    99.587300  209.336400   \n",
       "2021-08-23 02:36:13    BTC3L    trade    74.433300    21.594900   52.838400   \n",
       "2021-08-23 02:36:13     ATOM    trade     0.236600     0.236600    0.000000   \n",
       "2021-08-23 02:36:13     ALGO    trade     0.000000     0.000000    0.000000   \n",
       "2021-08-23 02:36:13      ETH    trade     0.000000     0.000000    0.000000   \n",
       "2021-08-23 02:36:13    MATIC    trade     0.000000     0.000000    0.000000   \n",
       "\n",
       "                          price  dollar_value  \n",
       "date                                           \n",
       "2021-08-23 02:36:13  49910.1000       2122.43  \n",
       "2021-08-23 02:36:13         NaN       1223.30  \n",
       "2021-08-23 02:36:13         NaN       1055.25  \n",
       "2021-08-23 02:36:13      1.8947        585.32  \n",
       "2021-08-23 02:36:13      1.4052        104.59  \n",
       "2021-08-23 02:36:13     22.7150          5.37  \n",
       "2021-08-23 02:36:13      1.1688          0.00  \n",
       "2021-08-23 02:36:13   3267.6300          0.00  \n",
       "2021-08-23 02:36:13      1.6372          0.00  "
      ]
     },
     "execution_count": 46,
     "metadata": {},
     "output_type": "execute_result"
    }
   ],
   "source": [
    "kukoin_run()"
   ]
  },
  {
   "cell_type": "code",
   "execution_count": 47,
   "id": "00ce65c3-bb2e-422c-964b-b68004370929",
   "metadata": {},
   "outputs": [],
   "source": [
    "def kukoin_append():\n",
    "    \n",
    "    # First importing the needed libraries:\n",
    "\n",
    "    import pandas as pd\n",
    "    import numpy as np\n",
    "\n",
    "\n",
    "    import os\n",
    "    import requests\n",
    "    import json\n",
    "    import base64\n",
    "    import time\n",
    "    import base64\n",
    "    import hmac\n",
    "    import hashlib\n",
    "\n",
    "    # Now importing the env file so the script can access the KuCoin API keys:\n",
    "    import env\n",
    "\n",
    "    # Defining the api keys with their own variables:\n",
    "    api_key = env.kc_api_key\n",
    "    api_s = env.kc_secret_api\n",
    "    api_pp = env.kc_passphrase\n",
    "    api_uid = env.kc_uid\n",
    "\n",
    "    # creating the api keys for use in the calls:\n",
    "    api_key = env.kc_api_key\n",
    "    api_secret = env.kc_secret_api\n",
    "    api_passphrase = env.kc_passphrase\n",
    "    url = 'https://api.kucoin.com/api/v1/accounts'\n",
    "    now = int(time.time() * 1000)\n",
    "    str_to_sign = str(now) + 'GET' + '/api/v1/accounts'\n",
    "    signature = base64.b64encode(\n",
    "    hmac.new(api_secret.encode('utf-8'), str_to_sign.encode('utf-8'), hashlib.sha256).digest())\n",
    "    passphrase = base64.b64encode(hmac.new(api_secret.encode('utf-8'), api_passphrase.encode('utf-8'), hashlib.sha256).digest())\n",
    "    headers = {\n",
    "    \"KC-API-SIGN\": signature,\n",
    "    \"KC-API-TIMESTAMP\": str(now),\n",
    "    \"KC-API-KEY\": api_key,\n",
    "    \"KC-API-PASSPHRASE\": passphrase,\n",
    "    \"KC-API-KEY-VERSION\": str(2)\n",
    "    }\n",
    "\n",
    "    # Getting the base response with the top level account values:\n",
    "    response = requests.request('get', url, headers=headers)\n",
    "\n",
    "\n",
    "    # Creating the account dataframe using the response request I just created:\n",
    "    df = pd.DataFrame.from_dict(response.json()['data'])\n",
    "\n",
    "    # Column cleanup:\n",
    "    df.drop(columns = 'id', inplace = True)\n",
    "\n",
    "    # Getting prices for coins:\n",
    "    coin_list = df['currency'].unique().tolist()\n",
    "\n",
    "    # USDC and USDT don't work in this list because they are \"equivalent\" of USD, so it comes back as a NoneType, leading to a none-type error later if I don't remove them from the list at this point.\n",
    "    coin_list.remove('USDC')\n",
    "    coin_list.remove('USDT')\n",
    "    \n",
    "    # This for loop will create a list of prices by calling each crypto within my 'coin_list' list. \n",
    "\n",
    "    price_list = []\n",
    "    for coin in coin_list:\n",
    "        prices = float(requests.get(f'https://api.kucoin.com/api/v1/market/orderbook/level1?symbol={coin}-USDT').json()['data']['price'])\n",
    "    #     print(prices), print(type(prices))\n",
    "        price_list.append(prices)\n",
    "\n",
    "    # Now creating a dictionary of the coin prices:\n",
    "    coin_dict = {\"coin\":coin_list, \"price\":price_list}\n",
    "\n",
    "    # Dataframe from the dictionary:\n",
    "    df_prices = pd.DataFrame(coin_dict)\n",
    "\n",
    "    # creating a copy dataframe of the acct info (this step can be dropped in future)\n",
    "    account = df[df['type'] == 'trade'].copy()\n",
    "    account = account.reset_index(drop = True)\n",
    "    account.rename(columns = {'type': \"act_name\"}, inplace = True)\n",
    "\n",
    "\n",
    "    # Now should be able to join the two dataframes. I have to join the two dataframes first before I can multiply columns to create the \"$ value\" column which is the end goal here.\n",
    "\n",
    "    # Merge, inner join:\n",
    "\n",
    "    holdings_append = account.merge(df_prices, left_on = 'currency', right_on = 'coin', how = 'left')\n",
    "\n",
    "    # Now changing the value types of the columns with numbers in them from objects to float64:\n",
    "    holdings_append['balance'] = holdings_append.balance.astype(float)\n",
    "    holdings_append['available'] = holdings_append.available.astype(float)\n",
    "    holdings_append['holds'] = holdings_append.holds.astype(float)\n",
    "\n",
    "    # Now working through adding calculated columns that I'll later select from if it doesn't return 'nan':\n",
    "\n",
    "    holdings_append['value_tmp'] = round(holdings_append.price * holdings_append.balance, 2)\n",
    "\n",
    "    holdings_append[\"dollar_value\"] = np.where(holdings_append['value_tmp'].notnull(), holdings_append['value_tmp'], holdings_append['balance'])\n",
    "    holdings_append.dollar_value = holdings_append.dollar_value.round(2)\n",
    "\n",
    "    # Dropping extra columns:\n",
    "    holdings_append.drop(columns = ['coin', 'value_tmp'], inplace = True)\n",
    "\n",
    "    # Adding date column, and changing date to the dataframe index:\n",
    "    # holdings.insert(0, 'date', pd.to_datetime('today').strftime('%Y-%m-%d'))\n",
    "    holdings_append.insert(0, 'date', pd.to_datetime('now').replace(microsecond=0))\n",
    "    holdings_append.date = pd.to_datetime(holdings_append.date)\n",
    "    holdings_append = holdings_append.set_index('date').sort_index()\n",
    "\n",
    "    # printing out result, and saving to csv and Excel.\n",
    "    return holdings_append\n",
    "\n",
    "    # holdings.to_csv(\"account_holdings_index_test.csv\")\n",
    "    # holdings.to_csv(\"account_holdings_no_index.csv\", index = False)\n",
    "\n",
    "\n",
    "    # holdings.to_excel(\"account_holdings_index.xlsx\")\n",
    "    # holdings.to_excel(\"account_holdings_no_index.xlsx\", index = False)\n",
    "    # print(\"CSV written successfully.\")"
   ]
  },
  {
   "cell_type": "code",
   "execution_count": 48,
   "id": "431b4f45-1759-4678-b752-bdb57d9238da",
   "metadata": {},
   "outputs": [
    {
     "data": {
      "text/html": [
       "<div>\n",
       "<style scoped>\n",
       "    .dataframe tbody tr th:only-of-type {\n",
       "        vertical-align: middle;\n",
       "    }\n",
       "\n",
       "    .dataframe tbody tr th {\n",
       "        vertical-align: top;\n",
       "    }\n",
       "\n",
       "    .dataframe thead th {\n",
       "        text-align: right;\n",
       "    }\n",
       "</style>\n",
       "<table border=\"1\" class=\"dataframe\">\n",
       "  <thead>\n",
       "    <tr style=\"text-align: right;\">\n",
       "      <th></th>\n",
       "      <th>currency</th>\n",
       "      <th>act_name</th>\n",
       "      <th>balance</th>\n",
       "      <th>available</th>\n",
       "      <th>holds</th>\n",
       "      <th>price</th>\n",
       "      <th>dollar_value</th>\n",
       "    </tr>\n",
       "    <tr>\n",
       "      <th>date</th>\n",
       "      <th></th>\n",
       "      <th></th>\n",
       "      <th></th>\n",
       "      <th></th>\n",
       "      <th></th>\n",
       "      <th></th>\n",
       "      <th></th>\n",
       "    </tr>\n",
       "  </thead>\n",
       "  <tbody>\n",
       "    <tr>\n",
       "      <th>2021-08-23 02:36:33</th>\n",
       "      <td>BTC</td>\n",
       "      <td>trade</td>\n",
       "      <td>0.042525</td>\n",
       "      <td>0.042525</td>\n",
       "      <td>0.000000</td>\n",
       "      <td>49896.4000</td>\n",
       "      <td>2121.85</td>\n",
       "    </tr>\n",
       "    <tr>\n",
       "      <th>2021-08-23 02:36:33</th>\n",
       "      <td>USDC</td>\n",
       "      <td>trade</td>\n",
       "      <td>1223.297009</td>\n",
       "      <td>1223.297009</td>\n",
       "      <td>0.000000</td>\n",
       "      <td>NaN</td>\n",
       "      <td>1223.30</td>\n",
       "    </tr>\n",
       "    <tr>\n",
       "      <th>2021-08-23 02:36:33</th>\n",
       "      <td>USDT</td>\n",
       "      <td>trade</td>\n",
       "      <td>1055.248023</td>\n",
       "      <td>630.294119</td>\n",
       "      <td>424.953905</td>\n",
       "      <td>NaN</td>\n",
       "      <td>1055.25</td>\n",
       "    </tr>\n",
       "    <tr>\n",
       "      <th>2021-08-23 02:36:33</th>\n",
       "      <td>BTC3S</td>\n",
       "      <td>trade</td>\n",
       "      <td>308.923700</td>\n",
       "      <td>99.587300</td>\n",
       "      <td>209.336400</td>\n",
       "      <td>1.8947</td>\n",
       "      <td>585.32</td>\n",
       "    </tr>\n",
       "    <tr>\n",
       "      <th>2021-08-23 02:36:33</th>\n",
       "      <td>BTC3L</td>\n",
       "      <td>trade</td>\n",
       "      <td>74.433300</td>\n",
       "      <td>21.594900</td>\n",
       "      <td>52.838400</td>\n",
       "      <td>1.3910</td>\n",
       "      <td>103.54</td>\n",
       "    </tr>\n",
       "    <tr>\n",
       "      <th>2021-08-23 02:36:33</th>\n",
       "      <td>ATOM</td>\n",
       "      <td>trade</td>\n",
       "      <td>0.236600</td>\n",
       "      <td>0.236600</td>\n",
       "      <td>0.000000</td>\n",
       "      <td>22.7215</td>\n",
       "      <td>5.38</td>\n",
       "    </tr>\n",
       "    <tr>\n",
       "      <th>2021-08-23 02:36:33</th>\n",
       "      <td>ALGO</td>\n",
       "      <td>trade</td>\n",
       "      <td>0.000000</td>\n",
       "      <td>0.000000</td>\n",
       "      <td>0.000000</td>\n",
       "      <td>1.1679</td>\n",
       "      <td>0.00</td>\n",
       "    </tr>\n",
       "    <tr>\n",
       "      <th>2021-08-23 02:36:33</th>\n",
       "      <td>ETH</td>\n",
       "      <td>trade</td>\n",
       "      <td>0.000000</td>\n",
       "      <td>0.000000</td>\n",
       "      <td>0.000000</td>\n",
       "      <td>3266.4700</td>\n",
       "      <td>0.00</td>\n",
       "    </tr>\n",
       "    <tr>\n",
       "      <th>2021-08-23 02:36:33</th>\n",
       "      <td>MATIC</td>\n",
       "      <td>trade</td>\n",
       "      <td>0.000000</td>\n",
       "      <td>0.000000</td>\n",
       "      <td>0.000000</td>\n",
       "      <td>1.6373</td>\n",
       "      <td>0.00</td>\n",
       "    </tr>\n",
       "  </tbody>\n",
       "</table>\n",
       "</div>"
      ],
      "text/plain": [
       "                    currency act_name      balance    available       holds  \\\n",
       "date                                                                          \n",
       "2021-08-23 02:36:33      BTC    trade     0.042525     0.042525    0.000000   \n",
       "2021-08-23 02:36:33     USDC    trade  1223.297009  1223.297009    0.000000   \n",
       "2021-08-23 02:36:33     USDT    trade  1055.248023   630.294119  424.953905   \n",
       "2021-08-23 02:36:33    BTC3S    trade   308.923700    99.587300  209.336400   \n",
       "2021-08-23 02:36:33    BTC3L    trade    74.433300    21.594900   52.838400   \n",
       "2021-08-23 02:36:33     ATOM    trade     0.236600     0.236600    0.000000   \n",
       "2021-08-23 02:36:33     ALGO    trade     0.000000     0.000000    0.000000   \n",
       "2021-08-23 02:36:33      ETH    trade     0.000000     0.000000    0.000000   \n",
       "2021-08-23 02:36:33    MATIC    trade     0.000000     0.000000    0.000000   \n",
       "\n",
       "                          price  dollar_value  \n",
       "date                                           \n",
       "2021-08-23 02:36:33  49896.4000       2121.85  \n",
       "2021-08-23 02:36:33         NaN       1223.30  \n",
       "2021-08-23 02:36:33         NaN       1055.25  \n",
       "2021-08-23 02:36:33      1.8947        585.32  \n",
       "2021-08-23 02:36:33      1.3910        103.54  \n",
       "2021-08-23 02:36:33     22.7215          5.38  \n",
       "2021-08-23 02:36:33      1.1679          0.00  \n",
       "2021-08-23 02:36:33   3266.4700          0.00  \n",
       "2021-08-23 02:36:33      1.6373          0.00  "
      ]
     },
     "execution_count": 48,
     "metadata": {},
     "output_type": "execute_result"
    }
   ],
   "source": [
    "kukoin_append()"
   ]
  },
  {
   "cell_type": "code",
   "execution_count": 4,
   "id": "8b11e542-35c8-4ca6-91ed-1ad6b23d0610",
   "metadata": {},
   "outputs": [
    {
     "name": "stdout",
     "output_type": "stream",
     "text": [
      "Keys loaded successfully\n"
     ]
    },
    {
     "data": {
      "text/html": [
       "<div>\n",
       "<style scoped>\n",
       "    .dataframe tbody tr th:only-of-type {\n",
       "        vertical-align: middle;\n",
       "    }\n",
       "\n",
       "    .dataframe tbody tr th {\n",
       "        vertical-align: top;\n",
       "    }\n",
       "\n",
       "    .dataframe thead th {\n",
       "        text-align: right;\n",
       "    }\n",
       "</style>\n",
       "<table border=\"1\" class=\"dataframe\">\n",
       "  <thead>\n",
       "    <tr style=\"text-align: right;\">\n",
       "      <th></th>\n",
       "      <th>currency</th>\n",
       "      <th>act_name</th>\n",
       "      <th>balance</th>\n",
       "      <th>available</th>\n",
       "      <th>holds</th>\n",
       "      <th>price</th>\n",
       "      <th>dollar_value</th>\n",
       "    </tr>\n",
       "    <tr>\n",
       "      <th>date</th>\n",
       "      <th></th>\n",
       "      <th></th>\n",
       "      <th></th>\n",
       "      <th></th>\n",
       "      <th></th>\n",
       "      <th></th>\n",
       "      <th></th>\n",
       "    </tr>\n",
       "  </thead>\n",
       "  <tbody>\n",
       "    <tr>\n",
       "      <th>2021-08-23 01:23:26</th>\n",
       "      <td>BTC</td>\n",
       "      <td>trade</td>\n",
       "      <td>0.042525</td>\n",
       "      <td>0.042525</td>\n",
       "      <td>0.000000</td>\n",
       "      <td>49673.1000</td>\n",
       "      <td>2112.35</td>\n",
       "    </tr>\n",
       "    <tr>\n",
       "      <th>2021-08-23 01:23:26</th>\n",
       "      <td>USDC</td>\n",
       "      <td>trade</td>\n",
       "      <td>1223.297009</td>\n",
       "      <td>1223.297009</td>\n",
       "      <td>0.000000</td>\n",
       "      <td>NaN</td>\n",
       "      <td>1223.30</td>\n",
       "    </tr>\n",
       "    <tr>\n",
       "      <th>2021-08-23 01:23:26</th>\n",
       "      <td>USDT</td>\n",
       "      <td>trade</td>\n",
       "      <td>1045.224465</td>\n",
       "      <td>629.646378</td>\n",
       "      <td>415.578086</td>\n",
       "      <td>NaN</td>\n",
       "      <td>1045.22</td>\n",
       "    </tr>\n",
       "    <tr>\n",
       "      <th>2021-08-23 01:23:26</th>\n",
       "      <td>BTC3S</td>\n",
       "      <td>trade</td>\n",
       "      <td>300.777000</td>\n",
       "      <td>99.587300</td>\n",
       "      <td>201.189700</td>\n",
       "      <td>NaN</td>\n",
       "      <td>300.78</td>\n",
       "    </tr>\n",
       "    <tr>\n",
       "      <th>2021-08-23 01:23:26</th>\n",
       "      <td>BTC3L</td>\n",
       "      <td>trade</td>\n",
       "      <td>92.860300</td>\n",
       "      <td>21.594900</td>\n",
       "      <td>71.265400</td>\n",
       "      <td>NaN</td>\n",
       "      <td>92.86</td>\n",
       "    </tr>\n",
       "    <tr>\n",
       "      <th>2021-08-23 01:23:26</th>\n",
       "      <td>ATOM</td>\n",
       "      <td>trade</td>\n",
       "      <td>0.236600</td>\n",
       "      <td>0.236600</td>\n",
       "      <td>0.000000</td>\n",
       "      <td>22.0368</td>\n",
       "      <td>5.21</td>\n",
       "    </tr>\n",
       "    <tr>\n",
       "      <th>2021-08-23 01:23:26</th>\n",
       "      <td>ALGO</td>\n",
       "      <td>trade</td>\n",
       "      <td>0.000000</td>\n",
       "      <td>0.000000</td>\n",
       "      <td>0.000000</td>\n",
       "      <td>1.1601</td>\n",
       "      <td>0.00</td>\n",
       "    </tr>\n",
       "    <tr>\n",
       "      <th>2021-08-23 01:23:26</th>\n",
       "      <td>ETH</td>\n",
       "      <td>trade</td>\n",
       "      <td>0.000000</td>\n",
       "      <td>0.000000</td>\n",
       "      <td>0.000000</td>\n",
       "      <td>3259.0000</td>\n",
       "      <td>0.00</td>\n",
       "    </tr>\n",
       "    <tr>\n",
       "      <th>2021-08-23 01:23:26</th>\n",
       "      <td>MATIC</td>\n",
       "      <td>trade</td>\n",
       "      <td>0.000000</td>\n",
       "      <td>0.000000</td>\n",
       "      <td>0.000000</td>\n",
       "      <td>NaN</td>\n",
       "      <td>0.00</td>\n",
       "    </tr>\n",
       "  </tbody>\n",
       "</table>\n",
       "</div>"
      ],
      "text/plain": [
       "                    currency act_name      balance    available       holds  \\\n",
       "date                                                                          \n",
       "2021-08-23 01:23:26      BTC    trade     0.042525     0.042525    0.000000   \n",
       "2021-08-23 01:23:26     USDC    trade  1223.297009  1223.297009    0.000000   \n",
       "2021-08-23 01:23:26     USDT    trade  1045.224465   629.646378  415.578086   \n",
       "2021-08-23 01:23:26    BTC3S    trade   300.777000    99.587300  201.189700   \n",
       "2021-08-23 01:23:26    BTC3L    trade    92.860300    21.594900   71.265400   \n",
       "2021-08-23 01:23:26     ATOM    trade     0.236600     0.236600    0.000000   \n",
       "2021-08-23 01:23:26     ALGO    trade     0.000000     0.000000    0.000000   \n",
       "2021-08-23 01:23:26      ETH    trade     0.000000     0.000000    0.000000   \n",
       "2021-08-23 01:23:26    MATIC    trade     0.000000     0.000000    0.000000   \n",
       "\n",
       "                          price  dollar_value  \n",
       "date                                           \n",
       "2021-08-23 01:23:26  49673.1000       2112.35  \n",
       "2021-08-23 01:23:26         NaN       1223.30  \n",
       "2021-08-23 01:23:26         NaN       1045.22  \n",
       "2021-08-23 01:23:26         NaN        300.78  \n",
       "2021-08-23 01:23:26         NaN         92.86  \n",
       "2021-08-23 01:23:26     22.0368          5.21  \n",
       "2021-08-23 01:23:26      1.1601          0.00  \n",
       "2021-08-23 01:23:26   3259.0000          0.00  \n",
       "2021-08-23 01:23:26         NaN          0.00  "
      ]
     },
     "execution_count": 4,
     "metadata": {},
     "output_type": "execute_result"
    }
   ],
   "source": [
    "    \n",
    "    # First importing the needed libraries:\n",
    "\n",
    "    import pandas as pd\n",
    "    import numpy as np\n",
    "\n",
    "\n",
    "    import os\n",
    "    import requests\n",
    "    import json\n",
    "    import base64\n",
    "    import time\n",
    "    import base64\n",
    "    import hmac\n",
    "    import hashlib\n",
    "\n",
    "    # Now importing the env file so the script can access the KuCoin API keys:\n",
    "    import env\n",
    "\n",
    "    # Defining the api keys with their own variables:\n",
    "    api_key = env.kc_api_key\n",
    "    api_s = env.kc_secret_api\n",
    "    api_pp = env.kc_passphrase\n",
    "    api_uid = env.kc_uid\n",
    "\n",
    "    # creating the api keys for use in the calls:\n",
    "    api_key = env.kc_api_key\n",
    "    api_secret = env.kc_secret_api\n",
    "    api_passphrase = env.kc_passphrase\n",
    "    url = 'https://api.kucoin.com/api/v1/accounts'\n",
    "    now = int(time.time() * 1000)\n",
    "    str_to_sign = str(now) + 'GET' + '/api/v1/accounts'\n",
    "    signature = base64.b64encode(\n",
    "    hmac.new(api_secret.encode('utf-8'), str_to_sign.encode('utf-8'), hashlib.sha256).digest())\n",
    "    passphrase = base64.b64encode(hmac.new(api_secret.encode('utf-8'), api_passphrase.encode('utf-8'), hashlib.sha256).digest())\n",
    "    headers = {\n",
    "    \"KC-API-SIGN\": signature,\n",
    "    \"KC-API-TIMESTAMP\": str(now),\n",
    "    \"KC-API-KEY\": api_key,\n",
    "    \"KC-API-PASSPHRASE\": passphrase,\n",
    "    \"KC-API-KEY-VERSION\": str(2)\n",
    "    }\n",
    "\n",
    "    # Getting the base response with the top level account values:\n",
    "    response = requests.request('get', url, headers=headers)\n",
    "\n",
    "\n",
    "    # Creating the account dataframe using the response request I just created:\n",
    "    df = pd.DataFrame.from_dict(response.json()['data'])\n",
    "\n",
    "    # Column cleanup:\n",
    "    df.drop(columns = 'id', inplace = True)\n",
    "\n",
    "    # Getting prices for coins:\n",
    "\n",
    "    coin_list = ['BTC', 'ETH', 'ADA', 'ALGO', 'ATOM', 'XLM', 'DOT']\n",
    "\n",
    "    # This for loop will create a list of prices by calling each crypto within my 'coin_list' list. \n",
    "\n",
    "    price_list = []\n",
    "    for coin in coin_list:\n",
    "        prices = float(requests.get(f'https://api.kucoin.com/api/v1/market/orderbook/level1?symbol={coin}-USDT').json()['data']['price'])\n",
    "    #     print(prices), print(type(prices))\n",
    "        price_list.append(prices)\n",
    "\n",
    "    # Now creating a dictionary of the coin prices:\n",
    "    coin_dict = {\"coin\":coin_list, \"price\":price_list}\n",
    "\n",
    "    # Dataframe from the dictionary:\n",
    "    df_prices = pd.DataFrame(coin_dict)\n",
    "\n",
    "    # creating a copy dataframe of the acct info (this step can be dropped in future)\n",
    "    account = df[df['type'] == 'trade'].copy()\n",
    "    account = account.reset_index(drop = True)\n",
    "    account.rename(columns = {'type': \"act_name\"}, inplace = True)\n",
    "\n",
    "\n",
    "    # Now should be able to join the two dataframes. I have to join the two dataframes first before I can multiply columns to create the \"$ value\" column which is the end goal here.\n",
    "\n",
    "    # Merge, inner join:\n",
    "\n",
    "    holdings_append = account.merge(df_prices, left_on = 'currency', right_on = 'coin', how = 'left')\n",
    "\n",
    "    # Now changing the value types of the columns with numbers in them from objects to float64:\n",
    "    holdings_append['balance'] = holdings_append.balance.astype(float)\n",
    "    holdings_append['available'] = holdings_append.available.astype(float)\n",
    "    holdings_append['holds'] = holdings_append.holds.astype(float)\n",
    "\n",
    "    # Now working through adding calculated columns that I'll later select from if it doesn't return 'nan':\n",
    "\n",
    "    holdings_append['value_tmp'] = round(holdings_append.price * holdings_append.balance, 2)\n",
    "\n",
    "    holdings_append[\"dollar_value\"] = np.where(holdings_append['value_tmp'].notnull(), holdings_append['value_tmp'], holdings_append['balance'])\n",
    "    holdings_append.dollar_value = holdings_append.dollar_value.round(2)\n",
    "\n",
    "    # Dropping extra columns:\n",
    "    holdings_append.drop(columns = ['coin', 'value_tmp'], inplace = True)\n",
    "\n",
    "    # Adding date column, and changing date to the dataframe index:\n",
    "    # holdings.insert(0, 'date', pd.to_datetime('today').strftime('%Y-%m-%d'))\n",
    "    holdings_append.insert(0, 'date', pd.to_datetime('now').replace(microsecond=0))\n",
    "    holdings_append.date = pd.to_datetime(holdings_append.date)\n",
    "    holdings_append = holdings_append.set_index('date').sort_index()\n",
    "\n",
    "    # printing out result, and saving to csv and Excel.\n",
    "    holdings_append"
   ]
  },
  {
   "cell_type": "code",
   "execution_count": 49,
   "id": "3388561b-0abf-4e22-8140-dba592cfa333",
   "metadata": {},
   "outputs": [],
   "source": [
    "# THIS CODE works to append to the csv file itself:\n",
    "\n",
    "holdings_append.to_csv('data.csv', mode = 'a', header = False)"
   ]
  },
  {
   "cell_type": "code",
   "execution_count": 50,
   "id": "5a38b6fd-aba0-45e5-ab4d-1d79088263e9",
   "metadata": {},
   "outputs": [
    {
     "data": {
      "text/plain": [
       "(9, 7)"
      ]
     },
     "execution_count": 50,
     "metadata": {},
     "output_type": "execute_result"
    }
   ],
   "source": [
    "holdings_append.shape"
   ]
  },
  {
   "cell_type": "code",
   "execution_count": 51,
   "id": "25205c2e-0a37-47b4-8fe7-49c05c3193d6",
   "metadata": {},
   "outputs": [],
   "source": [
    "import gspread\n",
    "from oauth2client.service_account import ServiceAccountCredentials\n",
    "\n",
    "scope = [\"https://spreadsheets.google.com/feeds\", 'https://www.googleapis.com/auth/spreadsheets',\n",
    "         \"https://www.googleapis.com/auth/drive.file\", \"https://www.googleapis.com/auth/drive\"]\n",
    "\n",
    "credentials = ServiceAccountCredentials.from_json_keyfile_name('client_secret.json', scope)\n",
    "client = gspread.authorize(credentials)\n",
    "\n",
    "spreadsheet = client.open('Crypto-Data')\n",
    "\n",
    "with open('data.csv', 'r') as file_obj:\n",
    "    content = file_obj.read()\n",
    "    client.import_csv(spreadsheet.id, data=content)"
   ]
  },
  {
   "cell_type": "code",
   "execution_count": null,
   "id": "e91a26fe-5888-4ca6-885c-22e919e32f9e",
   "metadata": {},
   "outputs": [],
   "source": [
    "# Look for a cron job - on my mac mini.\n",
    "\n",
    "# Set it up to run daily - google MacOS cron job.\n",
    "\n",
    "# Path to my python executable, eg /usr/local/anaconda3/bin/python /home/luke/projects/script.py\n",
    "# Then path to my script. "
   ]
  },
  {
   "cell_type": "markdown",
   "id": "b319b7de",
   "metadata": {},
   "source": [
    "### Building the dataframe appending code.\n",
    "\n",
    "- Using this link as a guide. Guy is doing roughly the same thing as what I'm doing.\n",
    "\n",
    "https://stackoverflow.com/questions/54708188/appending-a-pandas-dataframe-with-new-data"
   ]
  },
  {
   "cell_type": "code",
   "execution_count": null,
   "id": "630f91cd",
   "metadata": {},
   "outputs": [],
   "source": [
    "from os import path\n",
    "\n",
    "path.exists(\"account_holdings_index.xlsx\")"
   ]
  },
  {
   "cell_type": "code",
   "execution_count": null,
   "id": "7f27dcd7",
   "metadata": {},
   "outputs": [],
   "source": [
    "# Example code:\n",
    "\n",
    "# Link: https://stackoverflow.com/questions/54708188/appending-a-pandas-dataframe-with-new-data\n",
    "\n",
    "\n",
    "import requests\n",
    "import json\n",
    "import pandas as %pdb\n",
    "import datetime as dt\n",
    "\n",
    "# total_data = pd.read_csv('1m_bin_db.csv')\n",
    "# total_data.set_index('Date', inplace=True)\n",
    "\n",
    "def get_bars(symbol, interval):\n",
    "    url = 'https://api.binance.com/api/v1/klines?symbol=' + symbol + '&interval=' + interval + '&limit=1000'\n",
    "    data = json.loads(requests.get(url).text)\n",
    "    df = pd.DataFrame(data)\n",
    "    df.columns = ['open_time',\n",
    "                 'o', 'h', 'l', 'c', 'v',\n",
    "                 'close_time', 'qav', 'num_trades',\n",
    "                 'taker_base_vol', 'taker_quote_vol', 'ignore']\n",
    "    df.index = [dt.datetime.fromtimestamp(x/1000.0) for x in df.close_time]\n",
    "    return df\n",
    "\n",
    "coins = ['ADABTC']\n",
    "\n",
    "dfs = []\n",
    "for coin in coins:\n",
    "    get_data = get_bars(coin, '1m')\n",
    "    df = get_data[['o', 'h', 'l', 'c', 'v']].add_prefix(coin + '_')\n",
    "    df = df.apply(lambda x: pd.to_numeric(x, errors='coerce'))\n",
    "    dfs.append(df)\n",
    "\n",
    "prices_1m = pd.concat(dfs, axis=1)\n",
    "prices_1m.to_csv('1m_bin_db.csv')\n",
    "\n",
    "total_data.index = pd.to_datetime(total_data.index)\n",
    "\n",
    "df = total_data.append(prices_1m)\n",
    "df = df[~df.index.duplicated(keep='last')]"
   ]
  },
  {
   "cell_type": "markdown",
   "id": "1e972a3f-2d05-4af8-bacf-3bf0ed444f45",
   "metadata": {},
   "source": [
    "# Running Script on Time Schedule"
   ]
  },
  {
   "cell_type": "code",
   "execution_count": null,
   "id": "f929d4b1",
   "metadata": {},
   "outputs": [],
   "source": [
    "print()"
   ]
  },
  {
   "cell_type": "code",
   "execution_count": 52,
   "id": "62de7ab7",
   "metadata": {},
   "outputs": [
    {
     "data": {
      "text/html": [
       "<div>\n",
       "<style scoped>\n",
       "    .dataframe tbody tr th:only-of-type {\n",
       "        vertical-align: middle;\n",
       "    }\n",
       "\n",
       "    .dataframe tbody tr th {\n",
       "        vertical-align: top;\n",
       "    }\n",
       "\n",
       "    .dataframe thead th {\n",
       "        text-align: right;\n",
       "    }\n",
       "</style>\n",
       "<table border=\"1\" class=\"dataframe\">\n",
       "  <thead>\n",
       "    <tr style=\"text-align: right;\">\n",
       "      <th></th>\n",
       "      <th>date</th>\n",
       "      <th>currency</th>\n",
       "      <th>act_name</th>\n",
       "      <th>balance</th>\n",
       "      <th>available</th>\n",
       "      <th>holds</th>\n",
       "      <th>price</th>\n",
       "      <th>dollar_value</th>\n",
       "    </tr>\n",
       "  </thead>\n",
       "  <tbody>\n",
       "    <tr>\n",
       "      <th>0</th>\n",
       "      <td>2021-08-23 02:27:08</td>\n",
       "      <td>BTC</td>\n",
       "      <td>trade</td>\n",
       "      <td>0.042525</td>\n",
       "      <td>0.042525</td>\n",
       "      <td>0.000000</td>\n",
       "      <td>49802.1000</td>\n",
       "      <td>2117.84</td>\n",
       "    </tr>\n",
       "    <tr>\n",
       "      <th>1</th>\n",
       "      <td>2021-08-23 02:27:08</td>\n",
       "      <td>USDC</td>\n",
       "      <td>trade</td>\n",
       "      <td>1223.297009</td>\n",
       "      <td>1223.297009</td>\n",
       "      <td>0.000000</td>\n",
       "      <td>NaN</td>\n",
       "      <td>1223.30</td>\n",
       "    </tr>\n",
       "    <tr>\n",
       "      <th>2</th>\n",
       "      <td>2021-08-23 02:27:08</td>\n",
       "      <td>USDT</td>\n",
       "      <td>trade</td>\n",
       "      <td>1055.248023</td>\n",
       "      <td>630.294119</td>\n",
       "      <td>424.953905</td>\n",
       "      <td>NaN</td>\n",
       "      <td>1055.25</td>\n",
       "    </tr>\n",
       "    <tr>\n",
       "      <th>3</th>\n",
       "      <td>2021-08-23 02:27:08</td>\n",
       "      <td>BTC3S</td>\n",
       "      <td>trade</td>\n",
       "      <td>308.923700</td>\n",
       "      <td>99.587300</td>\n",
       "      <td>209.336400</td>\n",
       "      <td>1.9055</td>\n",
       "      <td>588.65</td>\n",
       "    </tr>\n",
       "    <tr>\n",
       "      <th>4</th>\n",
       "      <td>2021-08-23 02:27:08</td>\n",
       "      <td>BTC3L</td>\n",
       "      <td>trade</td>\n",
       "      <td>74.433300</td>\n",
       "      <td>21.594900</td>\n",
       "      <td>52.838400</td>\n",
       "      <td>1.3909</td>\n",
       "      <td>103.53</td>\n",
       "    </tr>\n",
       "    <tr>\n",
       "      <th>5</th>\n",
       "      <td>2021-08-23 02:27:08</td>\n",
       "      <td>ATOM</td>\n",
       "      <td>trade</td>\n",
       "      <td>0.236600</td>\n",
       "      <td>0.236600</td>\n",
       "      <td>0.000000</td>\n",
       "      <td>22.6833</td>\n",
       "      <td>5.37</td>\n",
       "    </tr>\n",
       "    <tr>\n",
       "      <th>6</th>\n",
       "      <td>2021-08-23 02:27:08</td>\n",
       "      <td>ALGO</td>\n",
       "      <td>trade</td>\n",
       "      <td>0.000000</td>\n",
       "      <td>0.000000</td>\n",
       "      <td>0.000000</td>\n",
       "      <td>1.1646</td>\n",
       "      <td>0.00</td>\n",
       "    </tr>\n",
       "    <tr>\n",
       "      <th>7</th>\n",
       "      <td>2021-08-23 02:27:08</td>\n",
       "      <td>ETH</td>\n",
       "      <td>trade</td>\n",
       "      <td>0.000000</td>\n",
       "      <td>0.000000</td>\n",
       "      <td>0.000000</td>\n",
       "      <td>3259.2300</td>\n",
       "      <td>0.00</td>\n",
       "    </tr>\n",
       "    <tr>\n",
       "      <th>8</th>\n",
       "      <td>2021-08-23 02:27:08</td>\n",
       "      <td>MATIC</td>\n",
       "      <td>trade</td>\n",
       "      <td>0.000000</td>\n",
       "      <td>0.000000</td>\n",
       "      <td>0.000000</td>\n",
       "      <td>1.6349</td>\n",
       "      <td>0.00</td>\n",
       "    </tr>\n",
       "  </tbody>\n",
       "</table>\n",
       "</div>"
      ],
      "text/plain": [
       "                 date currency act_name      balance    available       holds  \\\n",
       "0 2021-08-23 02:27:08      BTC    trade     0.042525     0.042525    0.000000   \n",
       "1 2021-08-23 02:27:08     USDC    trade  1223.297009  1223.297009    0.000000   \n",
       "2 2021-08-23 02:27:08     USDT    trade  1055.248023   630.294119  424.953905   \n",
       "3 2021-08-23 02:27:08    BTC3S    trade   308.923700    99.587300  209.336400   \n",
       "4 2021-08-23 02:27:08    BTC3L    trade    74.433300    21.594900   52.838400   \n",
       "5 2021-08-23 02:27:08     ATOM    trade     0.236600     0.236600    0.000000   \n",
       "6 2021-08-23 02:27:08     ALGO    trade     0.000000     0.000000    0.000000   \n",
       "7 2021-08-23 02:27:08      ETH    trade     0.000000     0.000000    0.000000   \n",
       "8 2021-08-23 02:27:08    MATIC    trade     0.000000     0.000000    0.000000   \n",
       "\n",
       "        price  dollar_value  \n",
       "0  49802.1000       2117.84  \n",
       "1         NaN       1223.30  \n",
       "2         NaN       1055.25  \n",
       "3      1.9055        588.65  \n",
       "4      1.3909        103.53  \n",
       "5     22.6833          5.37  \n",
       "6      1.1646          0.00  \n",
       "7   3259.2300          0.00  \n",
       "8      1.6349          0.00  "
      ]
     },
     "execution_count": 52,
     "metadata": {},
     "output_type": "execute_result"
    }
   ],
   "source": [
    "holdings"
   ]
  },
  {
   "cell_type": "code",
   "execution_count": 57,
   "id": "dcb59646",
   "metadata": {},
   "outputs": [],
   "source": [
    "kc_total_balance = round(holdings.dollar_value.agg('sum'), 2)"
   ]
  },
  {
   "cell_type": "code",
   "execution_count": 58,
   "id": "fc489ec5-c38b-47cb-8ba3-581f71947b30",
   "metadata": {},
   "outputs": [
    {
     "data": {
      "text/plain": [
       "5093.94"
      ]
     },
     "execution_count": 58,
     "metadata": {},
     "output_type": "execute_result"
    }
   ],
   "source": [
    "kc_total_balance"
   ]
  },
  {
   "cell_type": "code",
   "execution_count": 56,
   "id": "d9257695-b7b8-4a6b-8c6f-6b34b1886c1d",
   "metadata": {},
   "outputs": [
    {
     "ename": "ValueError",
     "evalue": "DataFrame constructor not properly called!",
     "output_type": "error",
     "traceback": [
      "\u001b[0;31m---------------------------------------------------------------------------\u001b[0m",
      "\u001b[0;31mValueError\u001b[0m                                Traceback (most recent call last)",
      "\u001b[0;32m<ipython-input-56-97afff2ce7d4>\u001b[0m in \u001b[0;36m<module>\u001b[0;34m\u001b[0m\n\u001b[1;32m      1\u001b[0m \u001b[0;31m# kucoin_total =\u001b[0m\u001b[0;34m\u001b[0m\u001b[0;34m\u001b[0m\u001b[0;34m\u001b[0m\u001b[0m\n\u001b[0;32m----> 2\u001b[0;31m \u001b[0mpd\u001b[0m\u001b[0;34m.\u001b[0m\u001b[0mDataFrame\u001b[0m\u001b[0;34m(\u001b[0m\u001b[0mround\u001b[0m\u001b[0;34m(\u001b[0m\u001b[0mholdings\u001b[0m\u001b[0;34m.\u001b[0m\u001b[0mdollar_value\u001b[0m\u001b[0;34m.\u001b[0m\u001b[0magg\u001b[0m\u001b[0;34m(\u001b[0m\u001b[0;34m'sum'\u001b[0m\u001b[0;34m)\u001b[0m\u001b[0;34m,\u001b[0m \u001b[0;36m2\u001b[0m\u001b[0;34m)\u001b[0m\u001b[0;34m)\u001b[0m\u001b[0;34m\u001b[0m\u001b[0;34m\u001b[0m\u001b[0m\n\u001b[0m",
      "\u001b[0;32m~/opt/anaconda3/lib/python3.8/site-packages/pandas/core/frame.py\u001b[0m in \u001b[0;36m__init__\u001b[0;34m(self, data, index, columns, dtype, copy)\u001b[0m\n\u001b[1;32m    728\u001b[0m         \u001b[0;32melse\u001b[0m\u001b[0;34m:\u001b[0m\u001b[0;34m\u001b[0m\u001b[0;34m\u001b[0m\u001b[0m\n\u001b[1;32m    729\u001b[0m             \u001b[0;32mif\u001b[0m \u001b[0mindex\u001b[0m \u001b[0;32mis\u001b[0m \u001b[0;32mNone\u001b[0m \u001b[0;32mor\u001b[0m \u001b[0mcolumns\u001b[0m \u001b[0;32mis\u001b[0m \u001b[0;32mNone\u001b[0m\u001b[0;34m:\u001b[0m\u001b[0;34m\u001b[0m\u001b[0;34m\u001b[0m\u001b[0m\n\u001b[0;32m--> 730\u001b[0;31m                 \u001b[0;32mraise\u001b[0m \u001b[0mValueError\u001b[0m\u001b[0;34m(\u001b[0m\u001b[0;34m\"DataFrame constructor not properly called!\"\u001b[0m\u001b[0;34m)\u001b[0m\u001b[0;34m\u001b[0m\u001b[0;34m\u001b[0m\u001b[0m\n\u001b[0m\u001b[1;32m    731\u001b[0m \u001b[0;34m\u001b[0m\u001b[0m\n\u001b[1;32m    732\u001b[0m             \u001b[0;31m# Argument 1 to \"ensure_index\" has incompatible type \"Collection[Any]\";\u001b[0m\u001b[0;34m\u001b[0m\u001b[0;34m\u001b[0m\u001b[0;34m\u001b[0m\u001b[0m\n",
      "\u001b[0;31mValueError\u001b[0m: DataFrame constructor not properly called!"
     ]
    }
   ],
   "source": [
    "# kucoin_total = \n",
    "pd.DataFrame(round(holdings.dollar_value.agg('sum'), 2))"
   ]
  },
  {
   "cell_type": "code",
   "execution_count": 60,
   "id": "bef271c4-7a39-4525-ae19-86a811ec37e8",
   "metadata": {},
   "outputs": [],
   "source": [
    "import datetime"
   ]
  },
  {
   "cell_type": "code",
   "execution_count": 62,
   "id": "d7cabe86-78ed-478b-a5e3-4d018d1b85b5",
   "metadata": {},
   "outputs": [
    {
     "ename": "AttributeError",
     "evalue": "module 'datetime' has no attribute 'now'",
     "output_type": "error",
     "traceback": [
      "\u001b[0;31m---------------------------------------------------------------------------\u001b[0m",
      "\u001b[0;31mAttributeError\u001b[0m                            Traceback (most recent call last)",
      "\u001b[0;32m<ipython-input-62-303321cc44a3>\u001b[0m in \u001b[0;36m<module>\u001b[0;34m\u001b[0m\n\u001b[0;32m----> 1\u001b[0;31m \u001b[0mdatetime\u001b[0m\u001b[0;34m.\u001b[0m\u001b[0mnow\u001b[0m\u001b[0;34m(\u001b[0m\u001b[0;34m)\u001b[0m\u001b[0;34m\u001b[0m\u001b[0;34m\u001b[0m\u001b[0m\n\u001b[0m",
      "\u001b[0;31mAttributeError\u001b[0m: module 'datetime' has no attribute 'now'"
     ]
    }
   ],
   "source": [
    "datetime.now()"
   ]
  },
  {
   "cell_type": "code",
   "execution_count": 64,
   "id": "4bae957f-6e51-484f-94c3-ef7e3c21f59d",
   "metadata": {},
   "outputs": [],
   "source": [
    "today = datetime.date.today()"
   ]
  },
  {
   "cell_type": "code",
   "execution_count": 65,
   "id": "c06f481a-323a-41b0-8557-aaac7826e448",
   "metadata": {},
   "outputs": [
    {
     "data": {
      "text/plain": [
       "datetime.date(2021, 8, 22)"
      ]
     },
     "execution_count": 65,
     "metadata": {},
     "output_type": "execute_result"
    }
   ],
   "source": [
    "today"
   ]
  },
  {
   "cell_type": "code",
   "execution_count": 71,
   "id": "60249f1d-fdd8-4f37-bd1b-700437e237c7",
   "metadata": {},
   "outputs": [
    {
     "data": {
      "text/html": [
       "<div>\n",
       "<style scoped>\n",
       "    .dataframe tbody tr th:only-of-type {\n",
       "        vertical-align: middle;\n",
       "    }\n",
       "\n",
       "    .dataframe tbody tr th {\n",
       "        vertical-align: top;\n",
       "    }\n",
       "\n",
       "    .dataframe thead th {\n",
       "        text-align: right;\n",
       "    }\n",
       "</style>\n",
       "<table border=\"1\" class=\"dataframe\">\n",
       "  <thead>\n",
       "    <tr style=\"text-align: right;\">\n",
       "      <th></th>\n",
       "      <th>date</th>\n",
       "      <th>Balance</th>\n",
       "    </tr>\n",
       "  </thead>\n",
       "  <tbody>\n",
       "    <tr>\n",
       "      <th>0</th>\n",
       "      <td>2021-08-23 02:49:28</td>\n",
       "      <td>5093.94</td>\n",
       "    </tr>\n",
       "  </tbody>\n",
       "</table>\n",
       "</div>"
      ],
      "text/plain": [
       "                 date  Balance\n",
       "0 2021-08-23 02:49:28  5093.94"
      ]
     },
     "execution_count": 71,
     "metadata": {},
     "output_type": "execute_result"
    }
   ],
   "source": [
    "balance_df = pd.DataFrame({'Balance': [kc_total_balance]})\n",
    "balance_df.insert(0, 'date', pd.to_datetime('now').replace(microsecond=0))\n",
    "balance_df"
   ]
  },
  {
   "cell_type": "code",
   "execution_count": 72,
   "id": "b2eca756-9d11-47a2-a1e1-8b2d7e20e7ca",
   "metadata": {},
   "outputs": [
    {
     "ename": "ModuleNotFoundError",
     "evalue": "No module named 'zoneinfo'",
     "output_type": "error",
     "traceback": [
      "\u001b[0;31m---------------------------------------------------------------------------\u001b[0m",
      "\u001b[0;31mModuleNotFoundError\u001b[0m                       Traceback (most recent call last)",
      "\u001b[0;32m<ipython-input-72-45041d18e93f>\u001b[0m in \u001b[0;36m<module>\u001b[0;34m\u001b[0m\n\u001b[0;32m----> 1\u001b[0;31m \u001b[0;32mfrom\u001b[0m \u001b[0mzoneinfo\u001b[0m \u001b[0;32mimport\u001b[0m \u001b[0mZoneInfo\u001b[0m\u001b[0;34m\u001b[0m\u001b[0;34m\u001b[0m\u001b[0m\n\u001b[0m",
      "\u001b[0;31mModuleNotFoundError\u001b[0m: No module named 'zoneinfo'"
     ]
    }
   ],
   "source": [
    "from zoneinfo import ZoneInfo"
   ]
  },
  {
   "cell_type": "code",
   "execution_count": null,
   "id": "c1031001-8afd-418a-bbce-5bdffb6f52b3",
   "metadata": {},
   "outputs": [],
   "source": []
  }
 ],
 "metadata": {
  "kernelspec": {
   "display_name": "Python 3",
   "language": "python",
   "name": "python3"
  },
  "language_info": {
   "codemirror_mode": {
    "name": "ipython",
    "version": 3
   },
   "file_extension": ".py",
   "mimetype": "text/x-python",
   "name": "python",
   "nbconvert_exporter": "python",
   "pygments_lexer": "ipython3",
   "version": "3.8.11"
  }
 },
 "nbformat": 4,
 "nbformat_minor": 5
}
