{
 "cells": [
  {
   "cell_type": "code",
   "execution_count": 1,
   "id": "e1feae19",
   "metadata": {},
   "outputs": [],
   "source": [
    "import pandas as pd\n",
    "import numpy as np\n",
    "\n",
    "\n",
    "import os\n",
    "import requests\n",
    "import json\n",
    "import base64"
   ]
  },
  {
   "cell_type": "code",
   "execution_count": 2,
   "id": "66805ced",
   "metadata": {},
   "outputs": [],
   "source": [
    "import time\n",
    "import base64\n",
    "import hmac\n",
    "import hashlib"
   ]
  },
  {
   "cell_type": "code",
   "execution_count": 3,
   "id": "79170255",
   "metadata": {},
   "outputs": [
    {
     "name": "stdout",
     "output_type": "stream",
     "text": [
      "Keys loaded successfully\n"
     ]
    }
   ],
   "source": [
    "import env"
   ]
  },
  {
   "cell_type": "code",
   "execution_count": 4,
   "id": "1c959fb6",
   "metadata": {},
   "outputs": [],
   "source": [
    "api_key = env.kc_api_key\n",
    "api_s = env.kc_secret_api\n",
    "api_pp = env.kc_passphrase\n",
    "api_uid = env.kc_uid"
   ]
  },
  {
   "cell_type": "code",
   "execution_count": 5,
   "id": "49e78744",
   "metadata": {},
   "outputs": [],
   "source": [
    "# from kucoin.client import Market\n",
    "# client = Market(url = 'https://api.kucoin.com')\n",
    "# klines = client.get_kline('BTC-USDT', '1min')\n",
    "# klines\n",
    "\n",
    "# from kucoin.client import User\n",
    "# client = User(api_key, api_s, api_pp)\n",
    "# client"
   ]
  },
  {
   "cell_type": "code",
   "execution_count": 6,
   "id": "abaa5907",
   "metadata": {},
   "outputs": [
    {
     "data": {
      "text/plain": [
       "'1.2.4'"
      ]
     },
     "execution_count": 6,
     "metadata": {},
     "output_type": "execute_result"
    }
   ],
   "source": [
    "pd.__version__"
   ]
  },
  {
   "cell_type": "markdown",
   "id": "27405842",
   "metadata": {},
   "source": [
    "### Creating the API signature for KuCoin"
   ]
  },
  {
   "cell_type": "code",
   "execution_count": null,
   "id": "3aa2b84e",
   "metadata": {},
   "outputs": [],
   "source": [
    "# #Example for get balance of accounts in python\n",
    "\n",
    "\n",
    "# # api_key = env.kucoin_api\n",
    "# # api_s = env.kucoin_secret\n",
    "# # api_pp = env.kucoin_passphrase\n",
    "# # api_uid = env.kucoin_uid\n",
    "\n",
    "# api_key = env.kucoin_api\n",
    "# api_secret = env.kucoin_secret\n",
    "# api_passphrase = env.kucoin_passphrase\n",
    "# url = 'https://openapi-sandbox.kucoin.com/api/v1/accounts'\n",
    "# now = int(time.time() * 1000)\n",
    "# str_to_sign = str(now) + 'GET' + '/api/v1/accounts'\n",
    "# signature = base64.b64encode(\n",
    "#     hmac.new(api_secret.encode('utf-8'), str_to_sign.encode('utf-8'), hashlib.sha256).digest())\n",
    "# passphrase = base64.b64encode(hmac.new(api_secret.encode('utf-8'), api_passphrase.encode('utf-8'), hashlib.sha256).digest())\n",
    "# headers = {\n",
    "#     \"KC-API-SIGN\": signature,\n",
    "#     \"KC-API-TIMESTAMP\": str(now),\n",
    "#     \"KC-API-KEY\": api_key,\n",
    "#     \"KC-API-PASSPHRASE\": passphrase,\n",
    "#     \"KC-API-KEY-VERSION\": 2\n",
    "# }\n",
    "# response = requests.request('get', url, headers=headers)\n",
    "# print(response.status_code)\n",
    "# print(response.json())\n",
    "\n",
    "# #Example for create deposit addresses in python\n",
    "# url = 'https://openapi-sandbox.kucoin.com/api/v1/deposit-addresses'\n",
    "# now = int(time.time() * 1000)\n",
    "# data = {\"currency\": \"BTC\"}\n",
    "# data_json = json.dumps(data)\n",
    "# str_to_sign = str(now) + 'POST' + '/api/v1/deposit-addresses' + data_json\n",
    "# signature = base64.b64encode(\n",
    "#     hmac.new(api_secret.encode('utf-8'), str_to_sign.encode('utf-8'), hashlib.sha256).digest())\n",
    "# passphrase = base64.b64encode(\n",
    "#     hmac.new(api_secret.encode('utf-8'), api_passphrase.encode('utf-8'), hashlib.sha256).digest())\n",
    "# headers = {\n",
    "#     \"KC-API-SIGN\": signature,\n",
    "#     \"KC-API-TIMESTAMP\": str(now),\n",
    "#     \"KC-API-KEY\": api_key,\n",
    "#     \"KC-API-PASSPHRASE\": passphrase,\n",
    "#     \"KC-API-KEY-VERSION\": 2\n",
    "#     \"Content-Type\": \"application/json\" # specifying content type or using json=data in request\n",
    "# }\n",
    "# response = requests.request('post', url, headers=headers, data=data_json)\n",
    "# print(response.status_code)\n",
    "# print(response.json())"
   ]
  },
  {
   "cell_type": "code",
   "execution_count": 7,
   "id": "7a3f2ac2",
   "metadata": {},
   "outputs": [],
   "source": [
    "# Creating the api keys\n",
    "api_key = env.kc_api_key\n",
    "api_secret = env.kc_secret_api\n",
    "api_passphrase = env.kc_passphrase\n",
    "url = 'https://api.kucoin.com/api/v1/accounts'\n",
    "now = int(time.time() * 1000)\n",
    "str_to_sign = str(now) + 'GET' + '/api/v1/accounts'\n",
    "signature = base64.b64encode(\n",
    "    hmac.new(api_secret.encode('utf-8'), str_to_sign.encode('utf-8'), hashlib.sha256).digest())\n",
    "passphrase = base64.b64encode(hmac.new(api_secret.encode('utf-8'), api_passphrase.encode('utf-8'), hashlib.sha256).digest())\n",
    "headers = {\n",
    "    \"KC-API-SIGN\": signature,\n",
    "    \"KC-API-TIMESTAMP\": str(now),\n",
    "    \"KC-API-KEY\": api_key,\n",
    "    \"KC-API-PASSPHRASE\": passphrase,\n",
    "    \"KC-API-KEY-VERSION\": str(2)\n",
    "}\n",
    "#     response = requests.request('get', url, headers=headers)\n",
    "#     print(response.status_code)\n",
    "#     print(response.json())"
   ]
  },
  {
   "cell_type": "code",
   "execution_count": 8,
   "id": "38ebe3fb",
   "metadata": {},
   "outputs": [
    {
     "name": "stdout",
     "output_type": "stream",
     "text": [
      "200\n"
     ]
    }
   ],
   "source": [
    "response = requests.request('get', url, headers=headers)\n",
    "print(response.status_code)\n",
    "# print(response.json())"
   ]
  },
  {
   "cell_type": "code",
   "execution_count": 9,
   "id": "6c4bee2c",
   "metadata": {},
   "outputs": [
    {
     "data": {
      "text/html": [
       "<div>\n",
       "<style scoped>\n",
       "    .dataframe tbody tr th:only-of-type {\n",
       "        vertical-align: middle;\n",
       "    }\n",
       "\n",
       "    .dataframe tbody tr th {\n",
       "        vertical-align: top;\n",
       "    }\n",
       "\n",
       "    .dataframe thead th {\n",
       "        text-align: right;\n",
       "    }\n",
       "</style>\n",
       "<table border=\"1\" class=\"dataframe\">\n",
       "  <thead>\n",
       "    <tr style=\"text-align: right;\">\n",
       "      <th></th>\n",
       "      <th>id</th>\n",
       "      <th>currency</th>\n",
       "      <th>type</th>\n",
       "      <th>balance</th>\n",
       "      <th>available</th>\n",
       "      <th>holds</th>\n",
       "    </tr>\n",
       "  </thead>\n",
       "  <tbody>\n",
       "    <tr>\n",
       "      <th>0</th>\n",
       "      <td>609a801ba09b0c0006838148</td>\n",
       "      <td>USDC</td>\n",
       "      <td>trade</td>\n",
       "      <td>1359.22208948</td>\n",
       "      <td>1359.22208948</td>\n",
       "      <td>0</td>\n",
       "    </tr>\n",
       "    <tr>\n",
       "      <th>1</th>\n",
       "      <td>60984217df152d0006a24128</td>\n",
       "      <td>USDT</td>\n",
       "      <td>trade</td>\n",
       "      <td>842.8607245</td>\n",
       "      <td>53.22448221</td>\n",
       "      <td>789.63624228</td>\n",
       "    </tr>\n",
       "    <tr>\n",
       "      <th>2</th>\n",
       "      <td>609841dadf152d0006a1ca08</td>\n",
       "      <td>BTC</td>\n",
       "      <td>trade</td>\n",
       "      <td>0.01540148</td>\n",
       "      <td>0.01540148</td>\n",
       "      <td>0</td>\n",
       "    </tr>\n",
       "    <tr>\n",
       "      <th>3</th>\n",
       "      <td>609841d0f180450006fcf3f2</td>\n",
       "      <td>ATOM</td>\n",
       "      <td>trade</td>\n",
       "      <td>22.1162</td>\n",
       "      <td>0.1346</td>\n",
       "      <td>21.9816</td>\n",
       "    </tr>\n",
       "    <tr>\n",
       "      <th>4</th>\n",
       "      <td>60983b4843519c000694d3f6</td>\n",
       "      <td>ALGO</td>\n",
       "      <td>main</td>\n",
       "      <td>0</td>\n",
       "      <td>0</td>\n",
       "      <td>0</td>\n",
       "    </tr>\n",
       "    <tr>\n",
       "      <th>5</th>\n",
       "      <td>609841c6d54db40006c93037</td>\n",
       "      <td>ALGO</td>\n",
       "      <td>trade</td>\n",
       "      <td>0</td>\n",
       "      <td>0</td>\n",
       "      <td>0</td>\n",
       "    </tr>\n",
       "    <tr>\n",
       "      <th>6</th>\n",
       "      <td>6097261f78f8a30006099e89</td>\n",
       "      <td>ATOM</td>\n",
       "      <td>main</td>\n",
       "      <td>0</td>\n",
       "      <td>0</td>\n",
       "      <td>0</td>\n",
       "    </tr>\n",
       "    <tr>\n",
       "      <th>7</th>\n",
       "      <td>60973775df152d0006586989</td>\n",
       "      <td>BTC</td>\n",
       "      <td>main</td>\n",
       "      <td>0</td>\n",
       "      <td>0</td>\n",
       "      <td>0</td>\n",
       "    </tr>\n",
       "    <tr>\n",
       "      <th>8</th>\n",
       "      <td>60ba908aac1db80006626ca0</td>\n",
       "      <td>ETH</td>\n",
       "      <td>main</td>\n",
       "      <td>0</td>\n",
       "      <td>0</td>\n",
       "      <td>0</td>\n",
       "    </tr>\n",
       "    <tr>\n",
       "      <th>9</th>\n",
       "      <td>60ba9073e21631000640d1cf</td>\n",
       "      <td>ETH</td>\n",
       "      <td>trade</td>\n",
       "      <td>0</td>\n",
       "      <td>0</td>\n",
       "      <td>0</td>\n",
       "    </tr>\n",
       "    <tr>\n",
       "      <th>10</th>\n",
       "      <td>60ba8dbc01f3c100063961ce</td>\n",
       "      <td>MATIC</td>\n",
       "      <td>main</td>\n",
       "      <td>0</td>\n",
       "      <td>0</td>\n",
       "      <td>0</td>\n",
       "    </tr>\n",
       "    <tr>\n",
       "      <th>11</th>\n",
       "      <td>60ba8d905716b400064ba39a</td>\n",
       "      <td>MATIC</td>\n",
       "      <td>trade</td>\n",
       "      <td>0</td>\n",
       "      <td>0</td>\n",
       "      <td>0</td>\n",
       "    </tr>\n",
       "    <tr>\n",
       "      <th>12</th>\n",
       "      <td>6096edb4f1804500061b1580</td>\n",
       "      <td>USDC</td>\n",
       "      <td>main</td>\n",
       "      <td>0</td>\n",
       "      <td>0</td>\n",
       "      <td>0</td>\n",
       "    </tr>\n",
       "  </tbody>\n",
       "</table>\n",
       "</div>"
      ],
      "text/plain": [
       "                          id currency   type        balance      available  \\\n",
       "0   609a801ba09b0c0006838148     USDC  trade  1359.22208948  1359.22208948   \n",
       "1   60984217df152d0006a24128     USDT  trade    842.8607245    53.22448221   \n",
       "2   609841dadf152d0006a1ca08      BTC  trade     0.01540148     0.01540148   \n",
       "3   609841d0f180450006fcf3f2     ATOM  trade        22.1162         0.1346   \n",
       "4   60983b4843519c000694d3f6     ALGO   main              0              0   \n",
       "5   609841c6d54db40006c93037     ALGO  trade              0              0   \n",
       "6   6097261f78f8a30006099e89     ATOM   main              0              0   \n",
       "7   60973775df152d0006586989      BTC   main              0              0   \n",
       "8   60ba908aac1db80006626ca0      ETH   main              0              0   \n",
       "9   60ba9073e21631000640d1cf      ETH  trade              0              0   \n",
       "10  60ba8dbc01f3c100063961ce    MATIC   main              0              0   \n",
       "11  60ba8d905716b400064ba39a    MATIC  trade              0              0   \n",
       "12  6096edb4f1804500061b1580     USDC   main              0              0   \n",
       "\n",
       "           holds  \n",
       "0              0  \n",
       "1   789.63624228  \n",
       "2              0  \n",
       "3        21.9816  \n",
       "4              0  \n",
       "5              0  \n",
       "6              0  \n",
       "7              0  \n",
       "8              0  \n",
       "9              0  \n",
       "10             0  \n",
       "11             0  \n",
       "12             0  "
      ]
     },
     "execution_count": 9,
     "metadata": {},
     "output_type": "execute_result"
    }
   ],
   "source": [
    "pd.DataFrame.from_dict(response.json()['data'])"
   ]
  },
  {
   "cell_type": "code",
   "execution_count": 10,
   "id": "37f4f14c",
   "metadata": {
    "scrolled": true
   },
   "outputs": [
    {
     "data": {
      "text/html": [
       "<div>\n",
       "<style scoped>\n",
       "    .dataframe tbody tr th:only-of-type {\n",
       "        vertical-align: middle;\n",
       "    }\n",
       "\n",
       "    .dataframe tbody tr th {\n",
       "        vertical-align: top;\n",
       "    }\n",
       "\n",
       "    .dataframe thead th {\n",
       "        text-align: right;\n",
       "    }\n",
       "</style>\n",
       "<table border=\"1\" class=\"dataframe\">\n",
       "  <thead>\n",
       "    <tr style=\"text-align: right;\">\n",
       "      <th></th>\n",
       "      <th>id</th>\n",
       "      <th>currency</th>\n",
       "      <th>type</th>\n",
       "      <th>balance</th>\n",
       "      <th>available</th>\n",
       "      <th>holds</th>\n",
       "    </tr>\n",
       "  </thead>\n",
       "  <tbody>\n",
       "    <tr>\n",
       "      <th>0</th>\n",
       "      <td>609a801ba09b0c0006838148</td>\n",
       "      <td>USDC</td>\n",
       "      <td>trade</td>\n",
       "      <td>1359.22208948</td>\n",
       "      <td>1359.22208948</td>\n",
       "      <td>0</td>\n",
       "    </tr>\n",
       "    <tr>\n",
       "      <th>1</th>\n",
       "      <td>60984217df152d0006a24128</td>\n",
       "      <td>USDT</td>\n",
       "      <td>trade</td>\n",
       "      <td>842.8607245</td>\n",
       "      <td>53.22448221</td>\n",
       "      <td>789.63624228</td>\n",
       "    </tr>\n",
       "    <tr>\n",
       "      <th>2</th>\n",
       "      <td>609841dadf152d0006a1ca08</td>\n",
       "      <td>BTC</td>\n",
       "      <td>trade</td>\n",
       "      <td>0.01540148</td>\n",
       "      <td>0.01540148</td>\n",
       "      <td>0</td>\n",
       "    </tr>\n",
       "    <tr>\n",
       "      <th>3</th>\n",
       "      <td>609841d0f180450006fcf3f2</td>\n",
       "      <td>ATOM</td>\n",
       "      <td>trade</td>\n",
       "      <td>22.1162</td>\n",
       "      <td>0.1346</td>\n",
       "      <td>21.9816</td>\n",
       "    </tr>\n",
       "    <tr>\n",
       "      <th>4</th>\n",
       "      <td>60983b4843519c000694d3f6</td>\n",
       "      <td>ALGO</td>\n",
       "      <td>main</td>\n",
       "      <td>0</td>\n",
       "      <td>0</td>\n",
       "      <td>0</td>\n",
       "    </tr>\n",
       "    <tr>\n",
       "      <th>5</th>\n",
       "      <td>609841c6d54db40006c93037</td>\n",
       "      <td>ALGO</td>\n",
       "      <td>trade</td>\n",
       "      <td>0</td>\n",
       "      <td>0</td>\n",
       "      <td>0</td>\n",
       "    </tr>\n",
       "    <tr>\n",
       "      <th>6</th>\n",
       "      <td>6097261f78f8a30006099e89</td>\n",
       "      <td>ATOM</td>\n",
       "      <td>main</td>\n",
       "      <td>0</td>\n",
       "      <td>0</td>\n",
       "      <td>0</td>\n",
       "    </tr>\n",
       "    <tr>\n",
       "      <th>7</th>\n",
       "      <td>60973775df152d0006586989</td>\n",
       "      <td>BTC</td>\n",
       "      <td>main</td>\n",
       "      <td>0</td>\n",
       "      <td>0</td>\n",
       "      <td>0</td>\n",
       "    </tr>\n",
       "    <tr>\n",
       "      <th>8</th>\n",
       "      <td>60ba908aac1db80006626ca0</td>\n",
       "      <td>ETH</td>\n",
       "      <td>main</td>\n",
       "      <td>0</td>\n",
       "      <td>0</td>\n",
       "      <td>0</td>\n",
       "    </tr>\n",
       "    <tr>\n",
       "      <th>9</th>\n",
       "      <td>60ba9073e21631000640d1cf</td>\n",
       "      <td>ETH</td>\n",
       "      <td>trade</td>\n",
       "      <td>0</td>\n",
       "      <td>0</td>\n",
       "      <td>0</td>\n",
       "    </tr>\n",
       "    <tr>\n",
       "      <th>10</th>\n",
       "      <td>60ba8dbc01f3c100063961ce</td>\n",
       "      <td>MATIC</td>\n",
       "      <td>main</td>\n",
       "      <td>0</td>\n",
       "      <td>0</td>\n",
       "      <td>0</td>\n",
       "    </tr>\n",
       "    <tr>\n",
       "      <th>11</th>\n",
       "      <td>60ba8d905716b400064ba39a</td>\n",
       "      <td>MATIC</td>\n",
       "      <td>trade</td>\n",
       "      <td>0</td>\n",
       "      <td>0</td>\n",
       "      <td>0</td>\n",
       "    </tr>\n",
       "    <tr>\n",
       "      <th>12</th>\n",
       "      <td>6096edb4f1804500061b1580</td>\n",
       "      <td>USDC</td>\n",
       "      <td>main</td>\n",
       "      <td>0</td>\n",
       "      <td>0</td>\n",
       "      <td>0</td>\n",
       "    </tr>\n",
       "  </tbody>\n",
       "</table>\n",
       "</div>"
      ],
      "text/plain": [
       "                          id currency   type        balance      available  \\\n",
       "0   609a801ba09b0c0006838148     USDC  trade  1359.22208948  1359.22208948   \n",
       "1   60984217df152d0006a24128     USDT  trade    842.8607245    53.22448221   \n",
       "2   609841dadf152d0006a1ca08      BTC  trade     0.01540148     0.01540148   \n",
       "3   609841d0f180450006fcf3f2     ATOM  trade        22.1162         0.1346   \n",
       "4   60983b4843519c000694d3f6     ALGO   main              0              0   \n",
       "5   609841c6d54db40006c93037     ALGO  trade              0              0   \n",
       "6   6097261f78f8a30006099e89     ATOM   main              0              0   \n",
       "7   60973775df152d0006586989      BTC   main              0              0   \n",
       "8   60ba908aac1db80006626ca0      ETH   main              0              0   \n",
       "9   60ba9073e21631000640d1cf      ETH  trade              0              0   \n",
       "10  60ba8dbc01f3c100063961ce    MATIC   main              0              0   \n",
       "11  60ba8d905716b400064ba39a    MATIC  trade              0              0   \n",
       "12  6096edb4f1804500061b1580     USDC   main              0              0   \n",
       "\n",
       "           holds  \n",
       "0              0  \n",
       "1   789.63624228  \n",
       "2              0  \n",
       "3        21.9816  \n",
       "4              0  \n",
       "5              0  \n",
       "6              0  \n",
       "7              0  \n",
       "8              0  \n",
       "9              0  \n",
       "10             0  \n",
       "11             0  \n",
       "12             0  "
      ]
     },
     "execution_count": 10,
     "metadata": {},
     "output_type": "execute_result"
    }
   ],
   "source": [
    "df = pd.DataFrame.from_dict(response.json()['data'])\n",
    "df"
   ]
  },
  {
   "cell_type": "code",
   "execution_count": 11,
   "id": "7ac5248d",
   "metadata": {},
   "outputs": [],
   "source": [
    "df.drop(columns = 'id', inplace = True)\n",
    "# df.rename(columns = {'type': 'account_name'})"
   ]
  },
  {
   "cell_type": "markdown",
   "id": "4041f10f",
   "metadata": {},
   "source": [
    "### Creating the dataframes"
   ]
  },
  {
   "cell_type": "code",
   "execution_count": 12,
   "id": "2184e800",
   "metadata": {},
   "outputs": [
    {
     "data": {
      "text/html": [
       "<div>\n",
       "<style scoped>\n",
       "    .dataframe tbody tr th:only-of-type {\n",
       "        vertical-align: middle;\n",
       "    }\n",
       "\n",
       "    .dataframe tbody tr th {\n",
       "        vertical-align: top;\n",
       "    }\n",
       "\n",
       "    .dataframe thead th {\n",
       "        text-align: right;\n",
       "    }\n",
       "</style>\n",
       "<table border=\"1\" class=\"dataframe\">\n",
       "  <thead>\n",
       "    <tr style=\"text-align: right;\">\n",
       "      <th></th>\n",
       "      <th>currency</th>\n",
       "      <th>type</th>\n",
       "      <th>balance</th>\n",
       "      <th>available</th>\n",
       "      <th>holds</th>\n",
       "    </tr>\n",
       "  </thead>\n",
       "  <tbody>\n",
       "    <tr>\n",
       "      <th>0</th>\n",
       "      <td>USDC</td>\n",
       "      <td>trade</td>\n",
       "      <td>1359.22208948</td>\n",
       "      <td>1359.22208948</td>\n",
       "      <td>0</td>\n",
       "    </tr>\n",
       "    <tr>\n",
       "      <th>1</th>\n",
       "      <td>USDT</td>\n",
       "      <td>trade</td>\n",
       "      <td>842.8607245</td>\n",
       "      <td>53.22448221</td>\n",
       "      <td>789.63624228</td>\n",
       "    </tr>\n",
       "    <tr>\n",
       "      <th>2</th>\n",
       "      <td>BTC</td>\n",
       "      <td>trade</td>\n",
       "      <td>0.01540148</td>\n",
       "      <td>0.01540148</td>\n",
       "      <td>0</td>\n",
       "    </tr>\n",
       "    <tr>\n",
       "      <th>3</th>\n",
       "      <td>ATOM</td>\n",
       "      <td>trade</td>\n",
       "      <td>22.1162</td>\n",
       "      <td>0.1346</td>\n",
       "      <td>21.9816</td>\n",
       "    </tr>\n",
       "    <tr>\n",
       "      <th>5</th>\n",
       "      <td>ALGO</td>\n",
       "      <td>trade</td>\n",
       "      <td>0</td>\n",
       "      <td>0</td>\n",
       "      <td>0</td>\n",
       "    </tr>\n",
       "    <tr>\n",
       "      <th>9</th>\n",
       "      <td>ETH</td>\n",
       "      <td>trade</td>\n",
       "      <td>0</td>\n",
       "      <td>0</td>\n",
       "      <td>0</td>\n",
       "    </tr>\n",
       "    <tr>\n",
       "      <th>11</th>\n",
       "      <td>MATIC</td>\n",
       "      <td>trade</td>\n",
       "      <td>0</td>\n",
       "      <td>0</td>\n",
       "      <td>0</td>\n",
       "    </tr>\n",
       "  </tbody>\n",
       "</table>\n",
       "</div>"
      ],
      "text/plain": [
       "   currency   type        balance      available         holds\n",
       "0      USDC  trade  1359.22208948  1359.22208948             0\n",
       "1      USDT  trade    842.8607245    53.22448221  789.63624228\n",
       "2       BTC  trade     0.01540148     0.01540148             0\n",
       "3      ATOM  trade        22.1162         0.1346       21.9816\n",
       "5      ALGO  trade              0              0             0\n",
       "9       ETH  trade              0              0             0\n",
       "11    MATIC  trade              0              0             0"
      ]
     },
     "execution_count": 12,
     "metadata": {},
     "output_type": "execute_result"
    }
   ],
   "source": [
    "trade_account = df[df['type'] == 'trade']\n",
    "trade_account"
   ]
  },
  {
   "cell_type": "code",
   "execution_count": 13,
   "id": "5e7b54f5",
   "metadata": {},
   "outputs": [],
   "source": [
    "trade_account.to_excel('account_balance.xlsx')"
   ]
  },
  {
   "cell_type": "markdown",
   "id": "45502c74",
   "metadata": {},
   "source": [
    "### Getting the coin prices"
   ]
  },
  {
   "cell_type": "code",
   "execution_count": 14,
   "id": "45d564f4",
   "metadata": {},
   "outputs": [],
   "source": [
    "# Purpose is to create another dataframe (which will eventually become an excel sheet) that'll hold the current prices.\n",
    "# Or at least hold a variable with the current price.\n",
    "\n",
    "url = 'https://api.kucoin.com/api/v1/market/orderbook/level1?symbol=BTC-USDT'\n"
   ]
  },
  {
   "cell_type": "code",
   "execution_count": 15,
   "id": "808ec11a",
   "metadata": {},
   "outputs": [],
   "source": [
    "btc_price_check = requests.get(f'https://api.kucoin.com/api/v1/market/orderbook/level1?symbol=BTC-USDT')"
   ]
  },
  {
   "cell_type": "code",
   "execution_count": 16,
   "id": "f7e83553",
   "metadata": {},
   "outputs": [
    {
     "data": {
      "text/plain": [
       "{'time': 1624970796404,\n",
       " 'sequence': '1617847932640',\n",
       " 'price': '35928.4',\n",
       " 'size': '0.00046651',\n",
       " 'bestBid': '35929.8',\n",
       " 'bestBidSize': '0.26463022',\n",
       " 'bestAsk': '35929.9',\n",
       " 'bestAskSize': '0.12535879'}"
      ]
     },
     "execution_count": 16,
     "metadata": {},
     "output_type": "execute_result"
    }
   ],
   "source": [
    "btc_price_check.json()['data']"
   ]
  },
  {
   "cell_type": "code",
   "execution_count": 17,
   "id": "15b897c6",
   "metadata": {},
   "outputs": [],
   "source": [
    "# Create a list of coins:\n",
    "\n",
    "coin_list = ['BTC', 'ETH', 'ADA', 'ALGO', 'ATOM', 'XLM', 'DOT']\n",
    "cash_list = ['USDT', 'USD', 'USDC']"
   ]
  },
  {
   "cell_type": "code",
   "execution_count": 18,
   "id": "ed5b11b0",
   "metadata": {},
   "outputs": [
    {
     "name": "stdout",
     "output_type": "stream",
     "text": [
      "['BTC', 'ETH', 'ADA', 'ALGO', 'ATOM', 'XLM', 'DOT'] ['USDT', 'USD', 'USDC']\n"
     ]
    }
   ],
   "source": [
    "print(coin_list, cash_list)"
   ]
  },
  {
   "cell_type": "code",
   "execution_count": null,
   "id": "a090e97d",
   "metadata": {},
   "outputs": [],
   "source": [
    "# Now trying to interate through the list to get the prices... I'm doing this wrong however. Append isn't the correct method to use.\n",
    "\n",
    "for x in coin_list:\n",
    "    new_list = []\n",
    "    new_list.append(requests.get(f'https://api.kucoin.com/api/v1/market/orderbook/level1?symbol={x}-USDT').json()['data']['price'])\n",
    "    print(x + \" price in USDT\")\n",
    "    print(requests.get(f'https://api.kucoin.com/api/v1/market/orderbook/level1?symbol={x}-USDT').json()['data']['price'])\n",
    "    \n",
    "    "
   ]
  },
  {
   "cell_type": "code",
   "execution_count": 19,
   "id": "ada56bf8",
   "metadata": {},
   "outputs": [
    {
     "name": "stdout",
     "output_type": "stream",
     "text": [
      "['BTC', 'ETH', 'ADA', 'ALGO', 'ATOM', 'XLM', 'DOT']\n"
     ]
    }
   ],
   "source": [
    "new_list = []\n",
    "\n",
    "for i in coin_list:\n",
    "    new_list.append(i)\n",
    "\n",
    "print(new_list)\n",
    "    \n",
    "\n",
    "    "
   ]
  },
  {
   "cell_type": "code",
   "execution_count": null,
   "id": "8e1a4d9a",
   "metadata": {},
   "outputs": [],
   "source": [
    "price_data = []"
   ]
  },
  {
   "cell_type": "code",
   "execution_count": null,
   "id": "59e050e3",
   "metadata": {},
   "outputs": [],
   "source": [
    "type(price_data)"
   ]
  },
  {
   "cell_type": "code",
   "execution_count": null,
   "id": "00909348",
   "metadata": {},
   "outputs": [],
   "source": [
    "# testing out the api call first\n",
    "\n",
    "cointest = \"BTC\"\n",
    "requests.get(f'https://api.kucoin.com/api/v1/market/orderbook/level1?symbol={cointest}-USDT').json()['data']['price']"
   ]
  },
  {
   "cell_type": "code",
   "execution_count": null,
   "id": "c75b4389",
   "metadata": {},
   "outputs": [],
   "source": [
    "# This for loop will create a list of prices by calling each crypto within my 'coin_list' list. \n",
    "\n",
    "price_list = []\n",
    "for coin in coin_list:\n",
    "    prices = float(requests.get(f'https://api.kucoin.com/api/v1/market/orderbook/level1?symbol={coin}-USDT').json()['data']['price'])\n",
    "#     print(prices), print(type(prices))\n",
    "    price_list.append(prices)\n",
    "#     price_type = float(prices)\n",
    "#     print(type(price_test))\n",
    "#     price_data.append(prices.assign(coin = coin)[['coin', 'close']])\n",
    "# type(prices)\n",
    "price_list"
   ]
  },
  {
   "cell_type": "code",
   "execution_count": null,
   "id": "17ea31be",
   "metadata": {},
   "outputs": [],
   "source": [
    "coin_dict = {\"coin\":coin_list, \"price\":price_list}\n",
    "\n",
    "coin_dict"
   ]
  },
  {
   "cell_type": "code",
   "execution_count": null,
   "id": "b99af287",
   "metadata": {},
   "outputs": [],
   "source": [
    "df_prices = pd.DataFrame(coin_dict)\n",
    "df_prices"
   ]
  },
  {
   "cell_type": "markdown",
   "id": "f83f25c1",
   "metadata": {},
   "source": [
    "That is my problem... when I pull the json object, and narrow down to just the price, it is just a string within the dictionary. So I need to cast is as a float somehow within that for loop."
   ]
  },
  {
   "cell_type": "code",
   "execution_count": null,
   "id": "d19fe692",
   "metadata": {},
   "outputs": [],
   "source": [
    "trade_account.info()"
   ]
  },
  {
   "cell_type": "code",
   "execution_count": null,
   "id": "506eda2f",
   "metadata": {},
   "outputs": [],
   "source": [
    "test_account = trade_account\n",
    "test_account"
   ]
  },
  {
   "cell_type": "code",
   "execution_count": null,
   "id": "6c915320",
   "metadata": {},
   "outputs": [],
   "source": [
    "account = trade_account.copy()"
   ]
  },
  {
   "cell_type": "code",
   "execution_count": null,
   "id": "24da4a1b",
   "metadata": {},
   "outputs": [],
   "source": [
    "df[df['type'] == 'trade']"
   ]
  },
  {
   "cell_type": "code",
   "execution_count": null,
   "id": "9c78895e",
   "metadata": {},
   "outputs": [],
   "source": [
    "account = df[df['type'] == 'trade'].copy()\n",
    "account"
   ]
  },
  {
   "cell_type": "code",
   "execution_count": null,
   "id": "93276c7a",
   "metadata": {},
   "outputs": [],
   "source": [
    "account = account.reset_index(drop = True)"
   ]
  },
  {
   "cell_type": "code",
   "execution_count": null,
   "id": "929bc5ab",
   "metadata": {},
   "outputs": [],
   "source": [
    "account"
   ]
  },
  {
   "cell_type": "code",
   "execution_count": null,
   "id": "5a7ac76b",
   "metadata": {},
   "outputs": [],
   "source": [
    "account.dtypes"
   ]
  },
  {
   "cell_type": "code",
   "execution_count": null,
   "id": "7f58a477",
   "metadata": {},
   "outputs": [],
   "source": [
    "df"
   ]
  },
  {
   "cell_type": "code",
   "execution_count": null,
   "id": "770d9dea",
   "metadata": {},
   "outputs": [],
   "source": [
    "# Changing column datatypes to floats where appropriate. Going to use .astype for now.\n",
    "\n",
    "# test_account['balance'] = test_account.balance.astype(float)\n",
    "# test_account['available'] = test_account.available.astype(float)\n",
    "# test_account['holds'] = test_account.holds.astype(float)\n",
    "\n",
    "# test_account.info()"
   ]
  },
  {
   "cell_type": "code",
   "execution_count": null,
   "id": "16d3f071",
   "metadata": {},
   "outputs": [],
   "source": [
    "# Now should be able to join the two dataframes. I have to join the two dataframes first before I can multiply columns to create the \"$ value\" column which is the end goal here.\n",
    "\n",
    "# Merge, inner join:\n",
    "\n",
    "holdings = account.merge(df_prices, left_on = 'currency', right_on = 'coin', how = 'left')\n",
    "\n",
    "holdings"
   ]
  },
  {
   "cell_type": "code",
   "execution_count": null,
   "id": "90067c93",
   "metadata": {},
   "outputs": [],
   "source": [
    "pd.notna(holdings.coin[0])"
   ]
  },
  {
   "cell_type": "code",
   "execution_count": null,
   "id": "1ce1117c",
   "metadata": {},
   "outputs": [],
   "source": [
    "holdings.price.notnull()"
   ]
  },
  {
   "cell_type": "code",
   "execution_count": null,
   "id": "3d1bd982",
   "metadata": {},
   "outputs": [],
   "source": [
    "holdings['not_a_null'] = np.where(holdings['price'].notnull(), True, False)"
   ]
  },
  {
   "cell_type": "code",
   "execution_count": null,
   "id": "bd58a8e4",
   "metadata": {},
   "outputs": [],
   "source": [
    "holdings.price * holdings.balance"
   ]
  },
  {
   "cell_type": "code",
   "execution_count": null,
   "id": "ddb2f6f3",
   "metadata": {},
   "outputs": [],
   "source": [
    "holdings['value_tmp'] = holdings.price * holdings.balance"
   ]
  },
  {
   "cell_type": "code",
   "execution_count": null,
   "id": "6eedca30",
   "metadata": {},
   "outputs": [],
   "source": [
    "holdings"
   ]
  },
  {
   "cell_type": "code",
   "execution_count": null,
   "id": "75c19ef2",
   "metadata": {},
   "outputs": [],
   "source": [
    "holdings[\"dollar_value\"] = np.where(holdings['value_tmp'].notnull(), holdings['value_tmp'], holdings['balance'])"
   ]
  },
  {
   "cell_type": "code",
   "execution_count": null,
   "id": "cdc8a528",
   "metadata": {},
   "outputs": [],
   "source": []
  },
  {
   "cell_type": "code",
   "execution_count": null,
   "id": "6028f7ec",
   "metadata": {},
   "outputs": [],
   "source": [
    "holdings.dtypes"
   ]
  },
  {
   "cell_type": "code",
   "execution_count": null,
   "id": "b0247647",
   "metadata": {},
   "outputs": [],
   "source": [
    "round(holdings.price * holdings.balance, 2)"
   ]
  },
  {
   "cell_type": "code",
   "execution_count": null,
   "id": "a7f10f98",
   "metadata": {},
   "outputs": [],
   "source": [
    "holdings.dollar_value = holdings.dollar_value.round(2)"
   ]
  },
  {
   "cell_type": "code",
   "execution_count": null,
   "id": "08d80544",
   "metadata": {},
   "outputs": [],
   "source": [
    "holdings"
   ]
  },
  {
   "cell_type": "code",
   "execution_count": null,
   "id": "8ebe8af8",
   "metadata": {},
   "outputs": [],
   "source": [
    "holdings['balance'] = holdings.balance.astype(float)\n",
    "holdings['available'] = holdings.available.astype(float)\n",
    "holdings['holds'] = holdings.holds.astype(float)"
   ]
  },
  {
   "cell_type": "markdown",
   "id": "ceacfd66",
   "metadata": {},
   "source": [
    "## The complete code"
   ]
  },
  {
   "cell_type": "code",
   "execution_count": 5,
   "id": "4eb893f6",
   "metadata": {},
   "outputs": [
    {
     "name": "stdout",
     "output_type": "stream",
     "text": [
      "  currency act_name      balance    available       holds       price  \\\n",
      "0     USDC    trade  1359.222089  1359.222089    0.000000         NaN   \n",
      "1     USDT    trade   588.001716    53.244562  534.757154         NaN   \n",
      "2     ATOM    trade    45.391100     0.237200   45.153900     11.8093   \n",
      "3      BTC    trade     0.015401     0.015401    0.000000  34599.4000   \n",
      "4     ALGO    trade     0.000000     0.000000    0.000000      0.8600   \n",
      "5      ETH    trade     0.000000     0.000000    0.000000   2219.0100   \n",
      "6    MATIC    trade     0.000000     0.000000    0.000000         NaN   \n",
      "\n",
      "   dollar_value  \n",
      "0       1359.22  \n",
      "1        588.00  \n",
      "2        536.04  \n",
      "3        532.88  \n",
      "4          0.00  \n",
      "5          0.00  \n",
      "6          0.00  \n"
     ]
    }
   ],
   "source": [
    "# First importing the needed libraries:\n",
    "\n",
    "import pandas as pd\n",
    "import numpy as np\n",
    "\n",
    "\n",
    "import os\n",
    "import requests\n",
    "import json\n",
    "import base64\n",
    "import time\n",
    "import base64\n",
    "import hmac\n",
    "import hashlib\n",
    "\n",
    "# Now importing the env file so the script can access the KuCoin API keys:\n",
    "import env\n",
    "\n",
    "# Defining the api keys with their own variables:\n",
    "api_key = env.kc_api_key\n",
    "api_s = env.kc_secret_api\n",
    "api_pp = env.kc_passphrase\n",
    "api_uid = env.kc_uid\n",
    "\n",
    "# creating the api keys for use in the calls:\n",
    "api_key = env.kc_api_key\n",
    "api_secret = env.kc_secret_api\n",
    "api_passphrase = env.kc_passphrase\n",
    "url = 'https://api.kucoin.com/api/v1/accounts'\n",
    "now = int(time.time() * 1000)\n",
    "str_to_sign = str(now) + 'GET' + '/api/v1/accounts'\n",
    "signature = base64.b64encode(\n",
    "    hmac.new(api_secret.encode('utf-8'), str_to_sign.encode('utf-8'), hashlib.sha256).digest())\n",
    "passphrase = base64.b64encode(hmac.new(api_secret.encode('utf-8'), api_passphrase.encode('utf-8'), hashlib.sha256).digest())\n",
    "headers = {\n",
    "    \"KC-API-SIGN\": signature,\n",
    "    \"KC-API-TIMESTAMP\": str(now),\n",
    "    \"KC-API-KEY\": api_key,\n",
    "    \"KC-API-PASSPHRASE\": passphrase,\n",
    "    \"KC-API-KEY-VERSION\": str(2)\n",
    "}\n",
    "\n",
    "# Getting the base response with the top level account values:\n",
    "response = requests.request('get', url, headers=headers)\n",
    "\n",
    "\n",
    "# Creating the account dataframe using the response request I just created:\n",
    "df = pd.DataFrame.from_dict(response.json()['data'])\n",
    "\n",
    "# Column cleanup:\n",
    "df.drop(columns = 'id', inplace = True)\n",
    "\n",
    "# Getting prices for coins:\n",
    "\n",
    "coin_list = ['BTC', 'ETH', 'ADA', 'ALGO', 'ATOM', 'XLM', 'DOT']\n",
    "\n",
    "# This for loop will create a list of prices by calling each crypto within my 'coin_list' list. \n",
    "\n",
    "price_list = []\n",
    "for coin in coin_list:\n",
    "    prices = float(requests.get(f'https://api.kucoin.com/api/v1/market/orderbook/level1?symbol={coin}-USDT').json()['data']['price'])\n",
    "#     print(prices), print(type(prices))\n",
    "    price_list.append(prices)\n",
    "\n",
    "# Now creating a dictionary of the coin prices:\n",
    "coin_dict = {\"coin\":coin_list, \"price\":price_list}\n",
    "\n",
    "# Dataframe from the dictionary:\n",
    "df_prices = pd.DataFrame(coin_dict)\n",
    "\n",
    "# creating a copy dataframe of the acct info (this step can be dropped in future)\n",
    "account = df[df['type'] == 'trade'].copy()\n",
    "account = account.reset_index(drop = True)\n",
    "account.rename(columns = {'type': \"act_name\"}, inplace = True)\n",
    "\n",
    "\n",
    "# Now should be able to join the two dataframes. I have to join the two dataframes first before I can multiply columns to create the \"$ value\" column which is the end goal here.\n",
    "\n",
    "# Merge, inner join:\n",
    "\n",
    "holdings = account.merge(df_prices, left_on = 'currency', right_on = 'coin', how = 'left')\n",
    "\n",
    "# Now changing the value types of the columns with numbers in them from objects to float64:\n",
    "holdings['balance'] = holdings.balance.astype(float)\n",
    "holdings['available'] = holdings.available.astype(float)\n",
    "holdings['holds'] = holdings.holds.astype(float)\n",
    "\n",
    "# Now working through adding calculated columns that I'll later select from if it doesn't return 'nan':\n",
    "\n",
    "holdings['value_tmp'] = round(holdings.price * holdings.balance, 2)\n",
    "\n",
    "holdings[\"dollar_value\"] = np.where(holdings['value_tmp'].notnull(), holdings['value_tmp'], holdings['balance'])\n",
    "holdings.dollar_value = holdings.dollar_value.round(2)\n",
    "\n",
    "# Dropping extra columns:\n",
    "holdings.drop(columns = ['coin', 'value_tmp'], inplace = True)\n",
    "\n",
    "# printing out result, and saving to csv and Excel.\n",
    "print(holdings)\n",
    "\n",
    "holdings.to_csv(\"account_holdings_index.csv\")\n",
    "holdings.to_csv(\"account_holdings_no_index.csv\", index = False)\n",
    "\n",
    "\n",
    "holdings.to_excel(\"account_holdings_index.xlsx\")\n",
    "holdings.to_excel(\"account_holdings_no_index.xlsx\", index = False)\n"
   ]
  },
  {
   "cell_type": "markdown",
   "id": "fd90fa9b",
   "metadata": {},
   "source": [
    "## Completed code will show current balances"
   ]
  },
  {
   "cell_type": "code",
   "execution_count": 21,
   "id": "98bb07a6",
   "metadata": {},
   "outputs": [],
   "source": [
    "# Now to create appened tables:"
   ]
  },
  {
   "cell_type": "code",
   "execution_count": 2,
   "id": "59156b43",
   "metadata": {},
   "outputs": [],
   "source": [
    "import pandas as pd"
   ]
  },
  {
   "cell_type": "code",
   "execution_count": 3,
   "id": "8cc49de0",
   "metadata": {},
   "outputs": [
    {
     "data": {
      "text/html": [
       "<div>\n",
       "<style scoped>\n",
       "    .dataframe tbody tr th:only-of-type {\n",
       "        vertical-align: middle;\n",
       "    }\n",
       "\n",
       "    .dataframe tbody tr th {\n",
       "        vertical-align: top;\n",
       "    }\n",
       "\n",
       "    .dataframe thead th {\n",
       "        text-align: right;\n",
       "    }\n",
       "</style>\n",
       "<table border=\"1\" class=\"dataframe\">\n",
       "  <thead>\n",
       "    <tr style=\"text-align: right;\">\n",
       "      <th></th>\n",
       "      <th>currency</th>\n",
       "      <th>act_name</th>\n",
       "      <th>balance</th>\n",
       "      <th>available</th>\n",
       "      <th>holds</th>\n",
       "      <th>price</th>\n",
       "      <th>dollar_value</th>\n",
       "    </tr>\n",
       "  </thead>\n",
       "  <tbody>\n",
       "    <tr>\n",
       "      <th>0</th>\n",
       "      <td>USDC</td>\n",
       "      <td>trade</td>\n",
       "      <td>1359.222089</td>\n",
       "      <td>1359.222089</td>\n",
       "      <td>0.000000</td>\n",
       "      <td>NaN</td>\n",
       "      <td>1359.22</td>\n",
       "    </tr>\n",
       "    <tr>\n",
       "      <th>1</th>\n",
       "      <td>USDT</td>\n",
       "      <td>trade</td>\n",
       "      <td>588.001716</td>\n",
       "      <td>53.244562</td>\n",
       "      <td>534.757154</td>\n",
       "      <td>NaN</td>\n",
       "      <td>588.00</td>\n",
       "    </tr>\n",
       "    <tr>\n",
       "      <th>2</th>\n",
       "      <td>ATOM</td>\n",
       "      <td>trade</td>\n",
       "      <td>45.391100</td>\n",
       "      <td>0.237200</td>\n",
       "      <td>45.153900</td>\n",
       "      <td>11.8311</td>\n",
       "      <td>537.03</td>\n",
       "    </tr>\n",
       "    <tr>\n",
       "      <th>3</th>\n",
       "      <td>BTC</td>\n",
       "      <td>trade</td>\n",
       "      <td>0.015401</td>\n",
       "      <td>0.015401</td>\n",
       "      <td>0.000000</td>\n",
       "      <td>34600.1000</td>\n",
       "      <td>532.89</td>\n",
       "    </tr>\n",
       "    <tr>\n",
       "      <th>4</th>\n",
       "      <td>ALGO</td>\n",
       "      <td>trade</td>\n",
       "      <td>0.000000</td>\n",
       "      <td>0.000000</td>\n",
       "      <td>0.000000</td>\n",
       "      <td>0.8614</td>\n",
       "      <td>0.00</td>\n",
       "    </tr>\n",
       "    <tr>\n",
       "      <th>5</th>\n",
       "      <td>ETH</td>\n",
       "      <td>trade</td>\n",
       "      <td>0.000000</td>\n",
       "      <td>0.000000</td>\n",
       "      <td>0.000000</td>\n",
       "      <td>2220.9200</td>\n",
       "      <td>0.00</td>\n",
       "    </tr>\n",
       "    <tr>\n",
       "      <th>6</th>\n",
       "      <td>MATIC</td>\n",
       "      <td>trade</td>\n",
       "      <td>0.000000</td>\n",
       "      <td>0.000000</td>\n",
       "      <td>0.000000</td>\n",
       "      <td>NaN</td>\n",
       "      <td>0.00</td>\n",
       "    </tr>\n",
       "  </tbody>\n",
       "</table>\n",
       "</div>"
      ],
      "text/plain": [
       "  currency act_name      balance    available       holds       price  \\\n",
       "0     USDC    trade  1359.222089  1359.222089    0.000000         NaN   \n",
       "1     USDT    trade   588.001716    53.244562  534.757154         NaN   \n",
       "2     ATOM    trade    45.391100     0.237200   45.153900     11.8311   \n",
       "3      BTC    trade     0.015401     0.015401    0.000000  34600.1000   \n",
       "4     ALGO    trade     0.000000     0.000000    0.000000      0.8614   \n",
       "5      ETH    trade     0.000000     0.000000    0.000000   2220.9200   \n",
       "6    MATIC    trade     0.000000     0.000000    0.000000         NaN   \n",
       "\n",
       "   dollar_value  \n",
       "0       1359.22  \n",
       "1        588.00  \n",
       "2        537.03  \n",
       "3        532.89  \n",
       "4          0.00  \n",
       "5          0.00  \n",
       "6          0.00  "
      ]
     },
     "execution_count": 3,
     "metadata": {},
     "output_type": "execute_result"
    }
   ],
   "source": [
    "holdings"
   ]
  },
  {
   "cell_type": "code",
   "execution_count": null,
   "id": "c4ccda47",
   "metadata": {},
   "outputs": [],
   "source": [
    "holdings.to_excel(\"accounts_holds\")"
   ]
  }
 ],
 "metadata": {
  "kernelspec": {
   "display_name": "Python 3",
   "language": "python",
   "name": "python3"
  },
  "language_info": {
   "codemirror_mode": {
    "name": "ipython",
    "version": 3
   },
   "file_extension": ".py",
   "mimetype": "text/x-python",
   "name": "python",
   "nbconvert_exporter": "python",
   "pygments_lexer": "ipython3",
   "version": "3.8.10"
  }
 },
 "nbformat": 4,
 "nbformat_minor": 5
}
