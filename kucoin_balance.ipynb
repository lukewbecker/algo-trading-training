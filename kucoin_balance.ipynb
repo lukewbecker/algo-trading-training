{
 "cells": [
  {
   "cell_type": "code",
   "execution_count": 1,
   "id": "e1feae19",
   "metadata": {},
   "outputs": [],
   "source": [
    "import pandas as pd\n",
    "import numpy as np\n",
    "\n",
    "\n",
    "import os\n",
    "import requests\n",
    "import json\n",
    "import base64"
   ]
  },
  {
   "cell_type": "code",
   "execution_count": 2,
   "id": "66805ced",
   "metadata": {},
   "outputs": [],
   "source": [
    "import time\n",
    "import base64\n",
    "import hmac\n",
    "import hashlib"
   ]
  },
  {
   "cell_type": "code",
   "execution_count": 3,
   "id": "79170255",
   "metadata": {},
   "outputs": [
    {
     "name": "stdout",
     "output_type": "stream",
     "text": [
      "Keys loaded successfully\n"
     ]
    }
   ],
   "source": [
    "import env"
   ]
  },
  {
   "cell_type": "code",
   "execution_count": 4,
   "id": "1c959fb6",
   "metadata": {},
   "outputs": [],
   "source": [
    "api_key = env.kc_api_key\n",
    "api_s = env.kc_secret_api\n",
    "api_pp = env.kc_passphrase\n",
    "api_uid = env.kc_uid"
   ]
  },
  {
   "cell_type": "code",
   "execution_count": 5,
   "id": "49e78744",
   "metadata": {},
   "outputs": [],
   "source": [
    "# from kucoin.client import Market\n",
    "# client = Market(url = 'https://api.kucoin.com')\n",
    "# klines = client.get_kline('BTC-USDT', '1min')\n",
    "# klines\n",
    "\n",
    "# from kucoin.client import User\n",
    "# client = User(api_key, api_s, api_pp)\n",
    "# client"
   ]
  },
  {
   "cell_type": "code",
   "execution_count": 6,
   "id": "abaa5907",
   "metadata": {},
   "outputs": [
    {
     "data": {
      "text/plain": [
       "'1.2.4'"
      ]
     },
     "execution_count": 6,
     "metadata": {},
     "output_type": "execute_result"
    }
   ],
   "source": [
    "pd.__version__"
   ]
  },
  {
   "cell_type": "code",
   "execution_count": null,
   "id": "7d0545a6",
   "metadata": {},
   "outputs": [],
   "source": []
  },
  {
   "cell_type": "code",
   "execution_count": null,
   "id": "ae9920e1",
   "metadata": {},
   "outputs": [],
   "source": []
  },
  {
   "cell_type": "code",
   "execution_count": null,
   "id": "47d18f00",
   "metadata": {},
   "outputs": [],
   "source": []
  },
  {
   "cell_type": "code",
   "execution_count": null,
   "id": "dd4a029c",
   "metadata": {},
   "outputs": [],
   "source": []
  },
  {
   "cell_type": "code",
   "execution_count": null,
   "id": "3aa2b84e",
   "metadata": {},
   "outputs": [],
   "source": [
    "#Example for get balance of accounts in python\n",
    "\n",
    "\n",
    "# api_key = env.kucoin_api\n",
    "# api_s = env.kucoin_secret\n",
    "# api_pp = env.kucoin_passphrase\n",
    "# api_uid = env.kucoin_uid\n",
    "\n",
    "api_key = env.kucoin_api\n",
    "api_secret = env.kucoin_secret\n",
    "api_passphrase = env.kucoin_passphrase\n",
    "url = 'https://openapi-sandbox.kucoin.com/api/v1/accounts'\n",
    "now = int(time.time() * 1000)\n",
    "str_to_sign = str(now) + 'GET' + '/api/v1/accounts'\n",
    "signature = base64.b64encode(\n",
    "    hmac.new(api_secret.encode('utf-8'), str_to_sign.encode('utf-8'), hashlib.sha256).digest())\n",
    "passphrase = base64.b64encode(hmac.new(api_secret.encode('utf-8'), api_passphrase.encode('utf-8'), hashlib.sha256).digest())\n",
    "headers = {\n",
    "    \"KC-API-SIGN\": signature,\n",
    "    \"KC-API-TIMESTAMP\": str(now),\n",
    "    \"KC-API-KEY\": api_key,\n",
    "    \"KC-API-PASSPHRASE\": passphrase,\n",
    "    \"KC-API-KEY-VERSION\": 2\n",
    "}\n",
    "response = requests.request('get', url, headers=headers)\n",
    "print(response.status_code)\n",
    "print(response.json())\n",
    "\n",
    "#Example for create deposit addresses in python\n",
    "url = 'https://openapi-sandbox.kucoin.com/api/v1/deposit-addresses'\n",
    "now = int(time.time() * 1000)\n",
    "data = {\"currency\": \"BTC\"}\n",
    "data_json = json.dumps(data)\n",
    "str_to_sign = str(now) + 'POST' + '/api/v1/deposit-addresses' + data_json\n",
    "signature = base64.b64encode(\n",
    "    hmac.new(api_secret.encode('utf-8'), str_to_sign.encode('utf-8'), hashlib.sha256).digest())\n",
    "passphrase = base64.b64encode(\n",
    "    hmac.new(api_secret.encode('utf-8'), api_passphrase.encode('utf-8'), hashlib.sha256).digest())\n",
    "headers = {\n",
    "    \"KC-API-SIGN\": signature,\n",
    "    \"KC-API-TIMESTAMP\": str(now),\n",
    "    \"KC-API-KEY\": api_key,\n",
    "    \"KC-API-PASSPHRASE\": passphrase,\n",
    "    \"KC-API-KEY-VERSION\": 2\n",
    "    \"Content-Type\": \"application/json\" # specifying content type or using json=data in request\n",
    "}\n",
    "response = requests.request('post', url, headers=headers, data=data_json)\n",
    "print(response.status_code)\n",
    "print(response.json())"
   ]
  },
  {
   "cell_type": "code",
   "execution_count": 7,
   "id": "7a3f2ac2",
   "metadata": {},
   "outputs": [],
   "source": [
    "# Creating the api keys\n",
    "api_key = env.kc_api_key\n",
    "api_secret = env.kc_secret_api\n",
    "api_passphrase = env.kc_passphrase\n",
    "url = 'https://api.kucoin.com/api/v1/accounts'\n",
    "now = int(time.time() * 1000)\n",
    "str_to_sign = str(now) + 'GET' + '/api/v1/accounts'\n",
    "signature = base64.b64encode(\n",
    "    hmac.new(api_secret.encode('utf-8'), str_to_sign.encode('utf-8'), hashlib.sha256).digest())\n",
    "passphrase = base64.b64encode(hmac.new(api_secret.encode('utf-8'), api_passphrase.encode('utf-8'), hashlib.sha256).digest())\n",
    "headers = {\n",
    "    \"KC-API-SIGN\": signature,\n",
    "    \"KC-API-TIMESTAMP\": str(now),\n",
    "    \"KC-API-KEY\": api_key,\n",
    "    \"KC-API-PASSPHRASE\": passphrase,\n",
    "    \"KC-API-KEY-VERSION\": str(2)\n",
    "}\n",
    "#     response = requests.request('get', url, headers=headers)\n",
    "#     print(response.status_code)\n",
    "#     print(response.json())"
   ]
  },
  {
   "cell_type": "code",
   "execution_count": 8,
   "id": "38ebe3fb",
   "metadata": {},
   "outputs": [
    {
     "name": "stdout",
     "output_type": "stream",
     "text": [
      "200\n",
      "{'code': '200000', 'data': [{'id': '60984217df152d0006a24128', 'currency': 'USDT', 'type': 'trade', 'balance': '1466.36953896', 'available': '115.50268619', 'holds': '1350.86685276'}, {'id': '60973775df152d0006586989', 'currency': 'BTC', 'type': 'main', 'balance': '0.02478142', 'available': '0.02478142', 'holds': '0'}, {'id': '609841d0f180450006fcf3f2', 'currency': 'ATOM', 'type': 'trade', 'balance': '20.7566', 'available': '7.0543', 'holds': '13.7023'}, {'id': '609841dadf152d0006a1ca08', 'currency': 'BTC', 'type': 'trade', 'balance': '0.00172929', 'available': '0.00172929', 'holds': '0'}, {'id': '609a801ba09b0c0006838148', 'currency': 'USDC', 'type': 'trade', 'balance': '0.0000033', 'available': '0.0000033', 'holds': '0'}, {'id': '60983b4843519c000694d3f6', 'currency': 'ALGO', 'type': 'main', 'balance': '0', 'available': '0', 'holds': '0'}, {'id': '609841c6d54db40006c93037', 'currency': 'ALGO', 'type': 'trade', 'balance': '0', 'available': '0', 'holds': '0'}, {'id': '6097261f78f8a30006099e89', 'currency': 'ATOM', 'type': 'main', 'balance': '0', 'available': '0', 'holds': '0'}, {'id': '6096edb4f1804500061b1580', 'currency': 'USDC', 'type': 'main', 'balance': '0', 'available': '0', 'holds': '0'}]}\n"
     ]
    }
   ],
   "source": [
    "response = requests.request('get', url, headers=headers)\n",
    "print(response.status_code)\n",
    "print(response.json())"
   ]
  },
  {
   "cell_type": "code",
   "execution_count": 9,
   "id": "6c4bee2c",
   "metadata": {},
   "outputs": [
    {
     "data": {
      "text/html": [
       "<div>\n",
       "<style scoped>\n",
       "    .dataframe tbody tr th:only-of-type {\n",
       "        vertical-align: middle;\n",
       "    }\n",
       "\n",
       "    .dataframe tbody tr th {\n",
       "        vertical-align: top;\n",
       "    }\n",
       "\n",
       "    .dataframe thead th {\n",
       "        text-align: right;\n",
       "    }\n",
       "</style>\n",
       "<table border=\"1\" class=\"dataframe\">\n",
       "  <thead>\n",
       "    <tr style=\"text-align: right;\">\n",
       "      <th></th>\n",
       "      <th>id</th>\n",
       "      <th>currency</th>\n",
       "      <th>type</th>\n",
       "      <th>balance</th>\n",
       "      <th>available</th>\n",
       "      <th>holds</th>\n",
       "    </tr>\n",
       "  </thead>\n",
       "  <tbody>\n",
       "    <tr>\n",
       "      <th>0</th>\n",
       "      <td>60984217df152d0006a24128</td>\n",
       "      <td>USDT</td>\n",
       "      <td>trade</td>\n",
       "      <td>1466.36953896</td>\n",
       "      <td>115.50268619</td>\n",
       "      <td>1350.86685276</td>\n",
       "    </tr>\n",
       "    <tr>\n",
       "      <th>1</th>\n",
       "      <td>60973775df152d0006586989</td>\n",
       "      <td>BTC</td>\n",
       "      <td>main</td>\n",
       "      <td>0.02478142</td>\n",
       "      <td>0.02478142</td>\n",
       "      <td>0</td>\n",
       "    </tr>\n",
       "    <tr>\n",
       "      <th>2</th>\n",
       "      <td>609841d0f180450006fcf3f2</td>\n",
       "      <td>ATOM</td>\n",
       "      <td>trade</td>\n",
       "      <td>20.7566</td>\n",
       "      <td>7.0543</td>\n",
       "      <td>13.7023</td>\n",
       "    </tr>\n",
       "    <tr>\n",
       "      <th>3</th>\n",
       "      <td>609841dadf152d0006a1ca08</td>\n",
       "      <td>BTC</td>\n",
       "      <td>trade</td>\n",
       "      <td>0.00172929</td>\n",
       "      <td>0.00172929</td>\n",
       "      <td>0</td>\n",
       "    </tr>\n",
       "    <tr>\n",
       "      <th>4</th>\n",
       "      <td>609a801ba09b0c0006838148</td>\n",
       "      <td>USDC</td>\n",
       "      <td>trade</td>\n",
       "      <td>0.0000033</td>\n",
       "      <td>0.0000033</td>\n",
       "      <td>0</td>\n",
       "    </tr>\n",
       "    <tr>\n",
       "      <th>5</th>\n",
       "      <td>60983b4843519c000694d3f6</td>\n",
       "      <td>ALGO</td>\n",
       "      <td>main</td>\n",
       "      <td>0</td>\n",
       "      <td>0</td>\n",
       "      <td>0</td>\n",
       "    </tr>\n",
       "    <tr>\n",
       "      <th>6</th>\n",
       "      <td>609841c6d54db40006c93037</td>\n",
       "      <td>ALGO</td>\n",
       "      <td>trade</td>\n",
       "      <td>0</td>\n",
       "      <td>0</td>\n",
       "      <td>0</td>\n",
       "    </tr>\n",
       "    <tr>\n",
       "      <th>7</th>\n",
       "      <td>6097261f78f8a30006099e89</td>\n",
       "      <td>ATOM</td>\n",
       "      <td>main</td>\n",
       "      <td>0</td>\n",
       "      <td>0</td>\n",
       "      <td>0</td>\n",
       "    </tr>\n",
       "    <tr>\n",
       "      <th>8</th>\n",
       "      <td>6096edb4f1804500061b1580</td>\n",
       "      <td>USDC</td>\n",
       "      <td>main</td>\n",
       "      <td>0</td>\n",
       "      <td>0</td>\n",
       "      <td>0</td>\n",
       "    </tr>\n",
       "  </tbody>\n",
       "</table>\n",
       "</div>"
      ],
      "text/plain": [
       "                         id currency   type        balance     available  \\\n",
       "0  60984217df152d0006a24128     USDT  trade  1466.36953896  115.50268619   \n",
       "1  60973775df152d0006586989      BTC   main     0.02478142    0.02478142   \n",
       "2  609841d0f180450006fcf3f2     ATOM  trade        20.7566        7.0543   \n",
       "3  609841dadf152d0006a1ca08      BTC  trade     0.00172929    0.00172929   \n",
       "4  609a801ba09b0c0006838148     USDC  trade      0.0000033     0.0000033   \n",
       "5  60983b4843519c000694d3f6     ALGO   main              0             0   \n",
       "6  609841c6d54db40006c93037     ALGO  trade              0             0   \n",
       "7  6097261f78f8a30006099e89     ATOM   main              0             0   \n",
       "8  6096edb4f1804500061b1580     USDC   main              0             0   \n",
       "\n",
       "           holds  \n",
       "0  1350.86685276  \n",
       "1              0  \n",
       "2        13.7023  \n",
       "3              0  \n",
       "4              0  \n",
       "5              0  \n",
       "6              0  \n",
       "7              0  \n",
       "8              0  "
      ]
     },
     "execution_count": 9,
     "metadata": {},
     "output_type": "execute_result"
    }
   ],
   "source": [
    "pd.DataFrame.from_dict(response.json()['data'])"
   ]
  },
  {
   "cell_type": "code",
   "execution_count": 10,
   "id": "37f4f14c",
   "metadata": {},
   "outputs": [
    {
     "data": {
      "text/html": [
       "<div>\n",
       "<style scoped>\n",
       "    .dataframe tbody tr th:only-of-type {\n",
       "        vertical-align: middle;\n",
       "    }\n",
       "\n",
       "    .dataframe tbody tr th {\n",
       "        vertical-align: top;\n",
       "    }\n",
       "\n",
       "    .dataframe thead th {\n",
       "        text-align: right;\n",
       "    }\n",
       "</style>\n",
       "<table border=\"1\" class=\"dataframe\">\n",
       "  <thead>\n",
       "    <tr style=\"text-align: right;\">\n",
       "      <th></th>\n",
       "      <th>id</th>\n",
       "      <th>currency</th>\n",
       "      <th>type</th>\n",
       "      <th>balance</th>\n",
       "      <th>available</th>\n",
       "      <th>holds</th>\n",
       "    </tr>\n",
       "  </thead>\n",
       "  <tbody>\n",
       "    <tr>\n",
       "      <th>0</th>\n",
       "      <td>60984217df152d0006a24128</td>\n",
       "      <td>USDT</td>\n",
       "      <td>trade</td>\n",
       "      <td>1466.36953896</td>\n",
       "      <td>115.50268619</td>\n",
       "      <td>1350.86685276</td>\n",
       "    </tr>\n",
       "    <tr>\n",
       "      <th>1</th>\n",
       "      <td>60973775df152d0006586989</td>\n",
       "      <td>BTC</td>\n",
       "      <td>main</td>\n",
       "      <td>0.02478142</td>\n",
       "      <td>0.02478142</td>\n",
       "      <td>0</td>\n",
       "    </tr>\n",
       "    <tr>\n",
       "      <th>2</th>\n",
       "      <td>609841d0f180450006fcf3f2</td>\n",
       "      <td>ATOM</td>\n",
       "      <td>trade</td>\n",
       "      <td>20.7566</td>\n",
       "      <td>7.0543</td>\n",
       "      <td>13.7023</td>\n",
       "    </tr>\n",
       "    <tr>\n",
       "      <th>3</th>\n",
       "      <td>609841dadf152d0006a1ca08</td>\n",
       "      <td>BTC</td>\n",
       "      <td>trade</td>\n",
       "      <td>0.00172929</td>\n",
       "      <td>0.00172929</td>\n",
       "      <td>0</td>\n",
       "    </tr>\n",
       "    <tr>\n",
       "      <th>4</th>\n",
       "      <td>609a801ba09b0c0006838148</td>\n",
       "      <td>USDC</td>\n",
       "      <td>trade</td>\n",
       "      <td>0.0000033</td>\n",
       "      <td>0.0000033</td>\n",
       "      <td>0</td>\n",
       "    </tr>\n",
       "    <tr>\n",
       "      <th>5</th>\n",
       "      <td>60983b4843519c000694d3f6</td>\n",
       "      <td>ALGO</td>\n",
       "      <td>main</td>\n",
       "      <td>0</td>\n",
       "      <td>0</td>\n",
       "      <td>0</td>\n",
       "    </tr>\n",
       "    <tr>\n",
       "      <th>6</th>\n",
       "      <td>609841c6d54db40006c93037</td>\n",
       "      <td>ALGO</td>\n",
       "      <td>trade</td>\n",
       "      <td>0</td>\n",
       "      <td>0</td>\n",
       "      <td>0</td>\n",
       "    </tr>\n",
       "    <tr>\n",
       "      <th>7</th>\n",
       "      <td>6097261f78f8a30006099e89</td>\n",
       "      <td>ATOM</td>\n",
       "      <td>main</td>\n",
       "      <td>0</td>\n",
       "      <td>0</td>\n",
       "      <td>0</td>\n",
       "    </tr>\n",
       "    <tr>\n",
       "      <th>8</th>\n",
       "      <td>6096edb4f1804500061b1580</td>\n",
       "      <td>USDC</td>\n",
       "      <td>main</td>\n",
       "      <td>0</td>\n",
       "      <td>0</td>\n",
       "      <td>0</td>\n",
       "    </tr>\n",
       "  </tbody>\n",
       "</table>\n",
       "</div>"
      ],
      "text/plain": [
       "                         id currency   type        balance     available  \\\n",
       "0  60984217df152d0006a24128     USDT  trade  1466.36953896  115.50268619   \n",
       "1  60973775df152d0006586989      BTC   main     0.02478142    0.02478142   \n",
       "2  609841d0f180450006fcf3f2     ATOM  trade        20.7566        7.0543   \n",
       "3  609841dadf152d0006a1ca08      BTC  trade     0.00172929    0.00172929   \n",
       "4  609a801ba09b0c0006838148     USDC  trade      0.0000033     0.0000033   \n",
       "5  60983b4843519c000694d3f6     ALGO   main              0             0   \n",
       "6  609841c6d54db40006c93037     ALGO  trade              0             0   \n",
       "7  6097261f78f8a30006099e89     ATOM   main              0             0   \n",
       "8  6096edb4f1804500061b1580     USDC   main              0             0   \n",
       "\n",
       "           holds  \n",
       "0  1350.86685276  \n",
       "1              0  \n",
       "2        13.7023  \n",
       "3              0  \n",
       "4              0  \n",
       "5              0  \n",
       "6              0  \n",
       "7              0  \n",
       "8              0  "
      ]
     },
     "execution_count": 10,
     "metadata": {},
     "output_type": "execute_result"
    }
   ],
   "source": [
    "df = pd.DataFrame.from_dict(response.json()['data'])\n",
    "df"
   ]
  },
  {
   "cell_type": "code",
   "execution_count": 11,
   "id": "7ac5248d",
   "metadata": {},
   "outputs": [],
   "source": [
    "df.drop(columns = 'id', inplace = True)\n",
    "# df.rename(columns = {'type': 'account_name'})"
   ]
  },
  {
   "cell_type": "code",
   "execution_count": null,
   "id": "7f63f6ec",
   "metadata": {},
   "outputs": [],
   "source": []
  },
  {
   "cell_type": "code",
   "execution_count": 12,
   "id": "2184e800",
   "metadata": {},
   "outputs": [
    {
     "data": {
      "text/html": [
       "<div>\n",
       "<style scoped>\n",
       "    .dataframe tbody tr th:only-of-type {\n",
       "        vertical-align: middle;\n",
       "    }\n",
       "\n",
       "    .dataframe tbody tr th {\n",
       "        vertical-align: top;\n",
       "    }\n",
       "\n",
       "    .dataframe thead th {\n",
       "        text-align: right;\n",
       "    }\n",
       "</style>\n",
       "<table border=\"1\" class=\"dataframe\">\n",
       "  <thead>\n",
       "    <tr style=\"text-align: right;\">\n",
       "      <th></th>\n",
       "      <th>currency</th>\n",
       "      <th>type</th>\n",
       "      <th>balance</th>\n",
       "      <th>available</th>\n",
       "      <th>holds</th>\n",
       "    </tr>\n",
       "  </thead>\n",
       "  <tbody>\n",
       "    <tr>\n",
       "      <th>0</th>\n",
       "      <td>USDT</td>\n",
       "      <td>trade</td>\n",
       "      <td>1466.36953896</td>\n",
       "      <td>115.50268619</td>\n",
       "      <td>1350.86685276</td>\n",
       "    </tr>\n",
       "    <tr>\n",
       "      <th>2</th>\n",
       "      <td>ATOM</td>\n",
       "      <td>trade</td>\n",
       "      <td>20.7566</td>\n",
       "      <td>7.0543</td>\n",
       "      <td>13.7023</td>\n",
       "    </tr>\n",
       "    <tr>\n",
       "      <th>3</th>\n",
       "      <td>BTC</td>\n",
       "      <td>trade</td>\n",
       "      <td>0.00172929</td>\n",
       "      <td>0.00172929</td>\n",
       "      <td>0</td>\n",
       "    </tr>\n",
       "    <tr>\n",
       "      <th>4</th>\n",
       "      <td>USDC</td>\n",
       "      <td>trade</td>\n",
       "      <td>0.0000033</td>\n",
       "      <td>0.0000033</td>\n",
       "      <td>0</td>\n",
       "    </tr>\n",
       "    <tr>\n",
       "      <th>6</th>\n",
       "      <td>ALGO</td>\n",
       "      <td>trade</td>\n",
       "      <td>0</td>\n",
       "      <td>0</td>\n",
       "      <td>0</td>\n",
       "    </tr>\n",
       "  </tbody>\n",
       "</table>\n",
       "</div>"
      ],
      "text/plain": [
       "  currency   type        balance     available          holds\n",
       "0     USDT  trade  1466.36953896  115.50268619  1350.86685276\n",
       "2     ATOM  trade        20.7566        7.0543        13.7023\n",
       "3      BTC  trade     0.00172929    0.00172929              0\n",
       "4     USDC  trade      0.0000033     0.0000033              0\n",
       "6     ALGO  trade              0             0              0"
      ]
     },
     "execution_count": 12,
     "metadata": {},
     "output_type": "execute_result"
    }
   ],
   "source": [
    "trade_account = df[df['type'] == 'trade']\n",
    "trade_account"
   ]
  },
  {
   "cell_type": "code",
   "execution_count": 13,
   "id": "5e7b54f5",
   "metadata": {},
   "outputs": [],
   "source": [
    "trade_account.to_excel('account_balance.xlsx')"
   ]
  },
  {
   "cell_type": "markdown",
   "id": "45502c74",
   "metadata": {},
   "source": [
    "### Getting the coin prices"
   ]
  },
  {
   "cell_type": "code",
   "execution_count": 14,
   "id": "45d564f4",
   "metadata": {},
   "outputs": [],
   "source": [
    "# Purpose is to create another dataframe (which will eventually become an excel sheet) that'll hold the current prices.\n",
    "# Or at least hold a variable with the current price.\n",
    "\n",
    "url = 'https://api.kucoin.com/api/v1/market/orderbook/level1?symbol=BTC-USDT'\n"
   ]
  },
  {
   "cell_type": "code",
   "execution_count": 15,
   "id": "808ec11a",
   "metadata": {},
   "outputs": [],
   "source": [
    "btc_price_check = requests.get(f'https://api.kucoin.com/api/v1/market/orderbook/level1?symbol=BTC-USDT')"
   ]
  },
  {
   "cell_type": "code",
   "execution_count": 16,
   "id": "f7e83553",
   "metadata": {},
   "outputs": [
    {
     "data": {
      "text/plain": [
       "{'time': 1622722505210,\n",
       " 'sequence': '1617074056393',\n",
       " 'price': '38680.9',\n",
       " 'size': '0.00030633',\n",
       " 'bestBid': '38684.6',\n",
       " 'bestBidSize': '0.22540916',\n",
       " 'bestAsk': '38684.7',\n",
       " 'bestAskSize': '0.00017965'}"
      ]
     },
     "execution_count": 16,
     "metadata": {},
     "output_type": "execute_result"
    }
   ],
   "source": [
    "btc_price_check.json()['data']"
   ]
  },
  {
   "cell_type": "code",
   "execution_count": 17,
   "id": "15b897c6",
   "metadata": {},
   "outputs": [],
   "source": [
    "# Create a list of coins:\n",
    "\n",
    "coin_list = ['BTC', 'ETH', 'ADA', 'ALGO', 'ATOM', 'XLM', 'DOT']\n",
    "cash_list = ['USDT', 'USD', 'USDC']"
   ]
  },
  {
   "cell_type": "code",
   "execution_count": 18,
   "id": "ed5b11b0",
   "metadata": {},
   "outputs": [
    {
     "name": "stdout",
     "output_type": "stream",
     "text": [
      "['BTC', 'ETH', 'ADA', 'ALGO', 'ATOM', 'XLM', 'DOT'] ['USDT', 'USD', 'USDC']\n"
     ]
    }
   ],
   "source": [
    "print(coin_list, cash_list)"
   ]
  },
  {
   "cell_type": "code",
   "execution_count": 19,
   "id": "a090e97d",
   "metadata": {},
   "outputs": [
    {
     "name": "stdout",
     "output_type": "stream",
     "text": [
      "BTC price in USDT\n",
      "38694.6\n",
      "ETH price in USDT\n",
      "2784.06\n",
      "ADA price in USDT\n",
      "1.833936\n",
      "ALGO price in USDT\n",
      "1.0492\n",
      "ATOM price in USDT\n",
      "16.1379\n",
      "XLM price in USDT\n",
      "0.422031\n",
      "DOT price in USDT\n",
      "27.0774\n"
     ]
    }
   ],
   "source": [
    "# Now trying to interate through the list to get the prices... I'm doing this wrong however. Append isn't the correct method to use.\n",
    "\n",
    "for x in coin_list:\n",
    "    new_list = []\n",
    "    new_list.append(requests.get(f'https://api.kucoin.com/api/v1/market/orderbook/level1?symbol={x}-USDT').json()['data']['price'])\n",
    "    print(x + \" price in USDT\")\n",
    "    print(requests.get(f'https://api.kucoin.com/api/v1/market/orderbook/level1?symbol={x}-USDT').json()['data']['price'])\n",
    "    \n",
    "    "
   ]
  },
  {
   "cell_type": "code",
   "execution_count": 20,
   "id": "ada56bf8",
   "metadata": {},
   "outputs": [
    {
     "name": "stdout",
     "output_type": "stream",
     "text": [
      "['BTC', 'ETH', 'ADA', 'ALGO', 'ATOM', 'XLM', 'DOT']\n"
     ]
    }
   ],
   "source": [
    "new_list = []\n",
    "\n",
    "for i in coin_list:\n",
    "    new_list.append(i)\n",
    "\n",
    "print(new_list)\n",
    "    \n",
    "\n",
    "    "
   ]
  },
  {
   "cell_type": "code",
   "execution_count": 21,
   "id": "8e1a4d9a",
   "metadata": {},
   "outputs": [],
   "source": [
    "price_data = []"
   ]
  },
  {
   "cell_type": "code",
   "execution_count": 22,
   "id": "59e050e3",
   "metadata": {},
   "outputs": [
    {
     "data": {
      "text/plain": [
       "list"
      ]
     },
     "execution_count": 22,
     "metadata": {},
     "output_type": "execute_result"
    }
   ],
   "source": [
    "type(price_data)"
   ]
  },
  {
   "cell_type": "code",
   "execution_count": 23,
   "id": "00909348",
   "metadata": {},
   "outputs": [
    {
     "data": {
      "text/plain": [
       "'38735.5'"
      ]
     },
     "execution_count": 23,
     "metadata": {},
     "output_type": "execute_result"
    }
   ],
   "source": [
    "# testing out the api call first\n",
    "\n",
    "cointest = \"BTC\"\n",
    "requests.get(f'https://api.kucoin.com/api/v1/market/orderbook/level1?symbol={cointest}-USDT').json()['data']['price']"
   ]
  },
  {
   "cell_type": "code",
   "execution_count": 24,
   "id": "c75b4389",
   "metadata": {},
   "outputs": [
    {
     "data": {
      "text/plain": [
       "[38746.4, 2789.9, 1.838221, 1.0492, 16.1343, 0.422317, 27.1213]"
      ]
     },
     "execution_count": 24,
     "metadata": {},
     "output_type": "execute_result"
    }
   ],
   "source": [
    "# This for loop will create a list of prices by calling each crypto within my 'coin_list' list. \n",
    "\n",
    "price_list = []\n",
    "for coin in coin_list:\n",
    "    prices = float(requests.get(f'https://api.kucoin.com/api/v1/market/orderbook/level1?symbol={coin}-USDT').json()['data']['price'])\n",
    "#     print(prices), print(type(prices))\n",
    "    price_list.append(prices)\n",
    "#     price_type = float(prices)\n",
    "#     print(type(price_test))\n",
    "#     price_data.append(prices.assign(coin = coin)[['coin', 'close']])\n",
    "# type(prices)\n",
    "price_list"
   ]
  },
  {
   "cell_type": "code",
   "execution_count": 25,
   "id": "17ea31be",
   "metadata": {},
   "outputs": [
    {
     "data": {
      "text/plain": [
       "{'coin': ['BTC', 'ETH', 'ADA', 'ALGO', 'ATOM', 'XLM', 'DOT'],\n",
       " 'price': [38746.4, 2789.9, 1.838221, 1.0492, 16.1343, 0.422317, 27.1213]}"
      ]
     },
     "execution_count": 25,
     "metadata": {},
     "output_type": "execute_result"
    }
   ],
   "source": [
    "coin_dict = {\"coin\":coin_list, \"price\":price_list}\n",
    "\n",
    "coin_dict"
   ]
  },
  {
   "cell_type": "code",
   "execution_count": 26,
   "id": "b99af287",
   "metadata": {},
   "outputs": [
    {
     "data": {
      "text/html": [
       "<div>\n",
       "<style scoped>\n",
       "    .dataframe tbody tr th:only-of-type {\n",
       "        vertical-align: middle;\n",
       "    }\n",
       "\n",
       "    .dataframe tbody tr th {\n",
       "        vertical-align: top;\n",
       "    }\n",
       "\n",
       "    .dataframe thead th {\n",
       "        text-align: right;\n",
       "    }\n",
       "</style>\n",
       "<table border=\"1\" class=\"dataframe\">\n",
       "  <thead>\n",
       "    <tr style=\"text-align: right;\">\n",
       "      <th></th>\n",
       "      <th>coin</th>\n",
       "      <th>price</th>\n",
       "    </tr>\n",
       "  </thead>\n",
       "  <tbody>\n",
       "    <tr>\n",
       "      <th>0</th>\n",
       "      <td>BTC</td>\n",
       "      <td>38746.400000</td>\n",
       "    </tr>\n",
       "    <tr>\n",
       "      <th>1</th>\n",
       "      <td>ETH</td>\n",
       "      <td>2789.900000</td>\n",
       "    </tr>\n",
       "    <tr>\n",
       "      <th>2</th>\n",
       "      <td>ADA</td>\n",
       "      <td>1.838221</td>\n",
       "    </tr>\n",
       "    <tr>\n",
       "      <th>3</th>\n",
       "      <td>ALGO</td>\n",
       "      <td>1.049200</td>\n",
       "    </tr>\n",
       "    <tr>\n",
       "      <th>4</th>\n",
       "      <td>ATOM</td>\n",
       "      <td>16.134300</td>\n",
       "    </tr>\n",
       "    <tr>\n",
       "      <th>5</th>\n",
       "      <td>XLM</td>\n",
       "      <td>0.422317</td>\n",
       "    </tr>\n",
       "    <tr>\n",
       "      <th>6</th>\n",
       "      <td>DOT</td>\n",
       "      <td>27.121300</td>\n",
       "    </tr>\n",
       "  </tbody>\n",
       "</table>\n",
       "</div>"
      ],
      "text/plain": [
       "   coin         price\n",
       "0   BTC  38746.400000\n",
       "1   ETH   2789.900000\n",
       "2   ADA      1.838221\n",
       "3  ALGO      1.049200\n",
       "4  ATOM     16.134300\n",
       "5   XLM      0.422317\n",
       "6   DOT     27.121300"
      ]
     },
     "execution_count": 26,
     "metadata": {},
     "output_type": "execute_result"
    }
   ],
   "source": [
    "df_prices = pd.DataFrame(coin_dict)\n",
    "df_prices"
   ]
  },
  {
   "cell_type": "markdown",
   "id": "f83f25c1",
   "metadata": {},
   "source": [
    "That is my problem... when I pull the json object, and narrow down to just the price, it is just a string within the dictionary. So I need to cast is as a float somehow within that for loop."
   ]
  },
  {
   "cell_type": "code",
   "execution_count": 27,
   "id": "d19fe692",
   "metadata": {},
   "outputs": [
    {
     "data": {
      "text/html": [
       "<div>\n",
       "<style scoped>\n",
       "    .dataframe tbody tr th:only-of-type {\n",
       "        vertical-align: middle;\n",
       "    }\n",
       "\n",
       "    .dataframe tbody tr th {\n",
       "        vertical-align: top;\n",
       "    }\n",
       "\n",
       "    .dataframe thead th {\n",
       "        text-align: right;\n",
       "    }\n",
       "</style>\n",
       "<table border=\"1\" class=\"dataframe\">\n",
       "  <thead>\n",
       "    <tr style=\"text-align: right;\">\n",
       "      <th></th>\n",
       "      <th>currency</th>\n",
       "      <th>type</th>\n",
       "      <th>balance</th>\n",
       "      <th>available</th>\n",
       "      <th>holds</th>\n",
       "    </tr>\n",
       "  </thead>\n",
       "  <tbody>\n",
       "    <tr>\n",
       "      <th>0</th>\n",
       "      <td>USDT</td>\n",
       "      <td>trade</td>\n",
       "      <td>1466.36953896</td>\n",
       "      <td>115.50268619</td>\n",
       "      <td>1350.86685276</td>\n",
       "    </tr>\n",
       "    <tr>\n",
       "      <th>2</th>\n",
       "      <td>ATOM</td>\n",
       "      <td>trade</td>\n",
       "      <td>20.7566</td>\n",
       "      <td>7.0543</td>\n",
       "      <td>13.7023</td>\n",
       "    </tr>\n",
       "    <tr>\n",
       "      <th>3</th>\n",
       "      <td>BTC</td>\n",
       "      <td>trade</td>\n",
       "      <td>0.00172929</td>\n",
       "      <td>0.00172929</td>\n",
       "      <td>0</td>\n",
       "    </tr>\n",
       "    <tr>\n",
       "      <th>4</th>\n",
       "      <td>USDC</td>\n",
       "      <td>trade</td>\n",
       "      <td>0.0000033</td>\n",
       "      <td>0.0000033</td>\n",
       "      <td>0</td>\n",
       "    </tr>\n",
       "    <tr>\n",
       "      <th>6</th>\n",
       "      <td>ALGO</td>\n",
       "      <td>trade</td>\n",
       "      <td>0</td>\n",
       "      <td>0</td>\n",
       "      <td>0</td>\n",
       "    </tr>\n",
       "  </tbody>\n",
       "</table>\n",
       "</div>"
      ],
      "text/plain": [
       "  currency   type        balance     available          holds\n",
       "0     USDT  trade  1466.36953896  115.50268619  1350.86685276\n",
       "2     ATOM  trade        20.7566        7.0543        13.7023\n",
       "3      BTC  trade     0.00172929    0.00172929              0\n",
       "4     USDC  trade      0.0000033     0.0000033              0\n",
       "6     ALGO  trade              0             0              0"
      ]
     },
     "execution_count": 27,
     "metadata": {},
     "output_type": "execute_result"
    }
   ],
   "source": [
    "trade_account"
   ]
  },
  {
   "cell_type": "code",
   "execution_count": 28,
   "id": "506eda2f",
   "metadata": {},
   "outputs": [
    {
     "data": {
      "text/html": [
       "<div>\n",
       "<style scoped>\n",
       "    .dataframe tbody tr th:only-of-type {\n",
       "        vertical-align: middle;\n",
       "    }\n",
       "\n",
       "    .dataframe tbody tr th {\n",
       "        vertical-align: top;\n",
       "    }\n",
       "\n",
       "    .dataframe thead th {\n",
       "        text-align: right;\n",
       "    }\n",
       "</style>\n",
       "<table border=\"1\" class=\"dataframe\">\n",
       "  <thead>\n",
       "    <tr style=\"text-align: right;\">\n",
       "      <th></th>\n",
       "      <th>currency</th>\n",
       "      <th>type</th>\n",
       "      <th>balance</th>\n",
       "      <th>available</th>\n",
       "      <th>holds</th>\n",
       "    </tr>\n",
       "  </thead>\n",
       "  <tbody>\n",
       "    <tr>\n",
       "      <th>0</th>\n",
       "      <td>USDT</td>\n",
       "      <td>trade</td>\n",
       "      <td>1466.36953896</td>\n",
       "      <td>115.50268619</td>\n",
       "      <td>1350.86685276</td>\n",
       "    </tr>\n",
       "    <tr>\n",
       "      <th>2</th>\n",
       "      <td>ATOM</td>\n",
       "      <td>trade</td>\n",
       "      <td>20.7566</td>\n",
       "      <td>7.0543</td>\n",
       "      <td>13.7023</td>\n",
       "    </tr>\n",
       "    <tr>\n",
       "      <th>3</th>\n",
       "      <td>BTC</td>\n",
       "      <td>trade</td>\n",
       "      <td>0.00172929</td>\n",
       "      <td>0.00172929</td>\n",
       "      <td>0</td>\n",
       "    </tr>\n",
       "    <tr>\n",
       "      <th>4</th>\n",
       "      <td>USDC</td>\n",
       "      <td>trade</td>\n",
       "      <td>0.0000033</td>\n",
       "      <td>0.0000033</td>\n",
       "      <td>0</td>\n",
       "    </tr>\n",
       "    <tr>\n",
       "      <th>6</th>\n",
       "      <td>ALGO</td>\n",
       "      <td>trade</td>\n",
       "      <td>0</td>\n",
       "      <td>0</td>\n",
       "      <td>0</td>\n",
       "    </tr>\n",
       "  </tbody>\n",
       "</table>\n",
       "</div>"
      ],
      "text/plain": [
       "  currency   type        balance     available          holds\n",
       "0     USDT  trade  1466.36953896  115.50268619  1350.86685276\n",
       "2     ATOM  trade        20.7566        7.0543        13.7023\n",
       "3      BTC  trade     0.00172929    0.00172929              0\n",
       "4     USDC  trade      0.0000033     0.0000033              0\n",
       "6     ALGO  trade              0             0              0"
      ]
     },
     "execution_count": 28,
     "metadata": {},
     "output_type": "execute_result"
    }
   ],
   "source": [
    "test_account = trade_account\n",
    "test_account"
   ]
  },
  {
   "cell_type": "code",
   "execution_count": 29,
   "id": "d9d9505d",
   "metadata": {},
   "outputs": [
    {
     "data": {
      "text/html": [
       "<div>\n",
       "<style scoped>\n",
       "    .dataframe tbody tr th:only-of-type {\n",
       "        vertical-align: middle;\n",
       "    }\n",
       "\n",
       "    .dataframe tbody tr th {\n",
       "        vertical-align: top;\n",
       "    }\n",
       "\n",
       "    .dataframe thead th {\n",
       "        text-align: right;\n",
       "    }\n",
       "</style>\n",
       "<table border=\"1\" class=\"dataframe\">\n",
       "  <thead>\n",
       "    <tr style=\"text-align: right;\">\n",
       "      <th></th>\n",
       "      <th>currency</th>\n",
       "      <th>type</th>\n",
       "      <th>balance</th>\n",
       "      <th>available</th>\n",
       "      <th>holds</th>\n",
       "      <th>coin</th>\n",
       "      <th>price</th>\n",
       "    </tr>\n",
       "  </thead>\n",
       "  <tbody>\n",
       "    <tr>\n",
       "      <th>0</th>\n",
       "      <td>USDT</td>\n",
       "      <td>trade</td>\n",
       "      <td>1466.36953896</td>\n",
       "      <td>115.50268619</td>\n",
       "      <td>1350.86685276</td>\n",
       "      <td>NaN</td>\n",
       "      <td>NaN</td>\n",
       "    </tr>\n",
       "    <tr>\n",
       "      <th>1</th>\n",
       "      <td>ATOM</td>\n",
       "      <td>trade</td>\n",
       "      <td>20.7566</td>\n",
       "      <td>7.0543</td>\n",
       "      <td>13.7023</td>\n",
       "      <td>ATOM</td>\n",
       "      <td>16.1343</td>\n",
       "    </tr>\n",
       "    <tr>\n",
       "      <th>2</th>\n",
       "      <td>BTC</td>\n",
       "      <td>trade</td>\n",
       "      <td>0.00172929</td>\n",
       "      <td>0.00172929</td>\n",
       "      <td>0</td>\n",
       "      <td>BTC</td>\n",
       "      <td>38746.4000</td>\n",
       "    </tr>\n",
       "    <tr>\n",
       "      <th>3</th>\n",
       "      <td>USDC</td>\n",
       "      <td>trade</td>\n",
       "      <td>0.0000033</td>\n",
       "      <td>0.0000033</td>\n",
       "      <td>0</td>\n",
       "      <td>NaN</td>\n",
       "      <td>NaN</td>\n",
       "    </tr>\n",
       "    <tr>\n",
       "      <th>4</th>\n",
       "      <td>ALGO</td>\n",
       "      <td>trade</td>\n",
       "      <td>0</td>\n",
       "      <td>0</td>\n",
       "      <td>0</td>\n",
       "      <td>ALGO</td>\n",
       "      <td>1.0492</td>\n",
       "    </tr>\n",
       "  </tbody>\n",
       "</table>\n",
       "</div>"
      ],
      "text/plain": [
       "  currency   type        balance     available          holds  coin  \\\n",
       "0     USDT  trade  1466.36953896  115.50268619  1350.86685276   NaN   \n",
       "1     ATOM  trade        20.7566        7.0543        13.7023  ATOM   \n",
       "2      BTC  trade     0.00172929    0.00172929              0   BTC   \n",
       "3     USDC  trade      0.0000033     0.0000033              0   NaN   \n",
       "4     ALGO  trade              0             0              0  ALGO   \n",
       "\n",
       "        price  \n",
       "0         NaN  \n",
       "1     16.1343  \n",
       "2  38746.4000  \n",
       "3         NaN  \n",
       "4      1.0492  "
      ]
     },
     "execution_count": 29,
     "metadata": {},
     "output_type": "execute_result"
    }
   ],
   "source": [
    "# merging the two so I can create new columns:\n",
    "\n",
    "holdings = test_account.merge(df_prices, left_on = 'currency', right_on = 'coin', how = 'left')\n",
    "holdings"
   ]
  },
  {
   "cell_type": "code",
   "execution_count": 30,
   "id": "c43b6f68",
   "metadata": {},
   "outputs": [
    {
     "data": {
      "text/html": [
       "<div>\n",
       "<style scoped>\n",
       "    .dataframe tbody tr th:only-of-type {\n",
       "        vertical-align: middle;\n",
       "    }\n",
       "\n",
       "    .dataframe tbody tr th {\n",
       "        vertical-align: top;\n",
       "    }\n",
       "\n",
       "    .dataframe thead th {\n",
       "        text-align: right;\n",
       "    }\n",
       "</style>\n",
       "<table border=\"1\" class=\"dataframe\">\n",
       "  <thead>\n",
       "    <tr style=\"text-align: right;\">\n",
       "      <th></th>\n",
       "      <th>currency</th>\n",
       "      <th>type</th>\n",
       "      <th>balance</th>\n",
       "      <th>available</th>\n",
       "      <th>holds</th>\n",
       "      <th>coin</th>\n",
       "      <th>price</th>\n",
       "    </tr>\n",
       "  </thead>\n",
       "  <tbody>\n",
       "    <tr>\n",
       "      <th>0</th>\n",
       "      <td>USDT</td>\n",
       "      <td>trade</td>\n",
       "      <td>1466.36953896</td>\n",
       "      <td>115.50268619</td>\n",
       "      <td>1350.86685276</td>\n",
       "      <td>NaN</td>\n",
       "      <td>NaN</td>\n",
       "    </tr>\n",
       "    <tr>\n",
       "      <th>1</th>\n",
       "      <td>ATOM</td>\n",
       "      <td>trade</td>\n",
       "      <td>20.7566</td>\n",
       "      <td>7.0543</td>\n",
       "      <td>13.7023</td>\n",
       "      <td>ATOM</td>\n",
       "      <td>16.1343</td>\n",
       "    </tr>\n",
       "    <tr>\n",
       "      <th>2</th>\n",
       "      <td>BTC</td>\n",
       "      <td>trade</td>\n",
       "      <td>0.00172929</td>\n",
       "      <td>0.00172929</td>\n",
       "      <td>0</td>\n",
       "      <td>BTC</td>\n",
       "      <td>38746.4000</td>\n",
       "    </tr>\n",
       "    <tr>\n",
       "      <th>3</th>\n",
       "      <td>USDC</td>\n",
       "      <td>trade</td>\n",
       "      <td>0.0000033</td>\n",
       "      <td>0.0000033</td>\n",
       "      <td>0</td>\n",
       "      <td>NaN</td>\n",
       "      <td>NaN</td>\n",
       "    </tr>\n",
       "    <tr>\n",
       "      <th>4</th>\n",
       "      <td>ALGO</td>\n",
       "      <td>trade</td>\n",
       "      <td>0</td>\n",
       "      <td>0</td>\n",
       "      <td>0</td>\n",
       "      <td>ALGO</td>\n",
       "      <td>1.0492</td>\n",
       "    </tr>\n",
       "  </tbody>\n",
       "</table>\n",
       "</div>"
      ],
      "text/plain": [
       "  currency   type        balance     available          holds  coin  \\\n",
       "0     USDT  trade  1466.36953896  115.50268619  1350.86685276   NaN   \n",
       "1     ATOM  trade        20.7566        7.0543        13.7023  ATOM   \n",
       "2      BTC  trade     0.00172929    0.00172929              0   BTC   \n",
       "3     USDC  trade      0.0000033     0.0000033              0   NaN   \n",
       "4     ALGO  trade              0             0              0  ALGO   \n",
       "\n",
       "        price  \n",
       "0         NaN  \n",
       "1     16.1343  \n",
       "2  38746.4000  \n",
       "3         NaN  \n",
       "4      1.0492  "
      ]
     },
     "execution_count": 30,
     "metadata": {},
     "output_type": "execute_result"
    }
   ],
   "source": [
    "holdings.drop(columns = ['coin'])\n",
    "holdings"
   ]
  },
  {
   "cell_type": "code",
   "execution_count": 31,
   "id": "03fa5bae",
   "metadata": {},
   "outputs": [
    {
     "data": {
      "text/html": [
       "<div>\n",
       "<style scoped>\n",
       "    .dataframe tbody tr th:only-of-type {\n",
       "        vertical-align: middle;\n",
       "    }\n",
       "\n",
       "    .dataframe tbody tr th {\n",
       "        vertical-align: top;\n",
       "    }\n",
       "\n",
       "    .dataframe thead th {\n",
       "        text-align: right;\n",
       "    }\n",
       "</style>\n",
       "<table border=\"1\" class=\"dataframe\">\n",
       "  <thead>\n",
       "    <tr style=\"text-align: right;\">\n",
       "      <th></th>\n",
       "      <th>currency</th>\n",
       "      <th>type</th>\n",
       "      <th>balance</th>\n",
       "      <th>available</th>\n",
       "      <th>holds</th>\n",
       "    </tr>\n",
       "  </thead>\n",
       "  <tbody>\n",
       "    <tr>\n",
       "      <th>0</th>\n",
       "      <td>USDT</td>\n",
       "      <td>trade</td>\n",
       "      <td>1466.36953896</td>\n",
       "      <td>115.50268619</td>\n",
       "      <td>1350.86685276</td>\n",
       "    </tr>\n",
       "    <tr>\n",
       "      <th>2</th>\n",
       "      <td>ATOM</td>\n",
       "      <td>trade</td>\n",
       "      <td>20.7566</td>\n",
       "      <td>7.0543</td>\n",
       "      <td>13.7023</td>\n",
       "    </tr>\n",
       "    <tr>\n",
       "      <th>3</th>\n",
       "      <td>BTC</td>\n",
       "      <td>trade</td>\n",
       "      <td>0.00172929</td>\n",
       "      <td>0.00172929</td>\n",
       "      <td>0</td>\n",
       "    </tr>\n",
       "    <tr>\n",
       "      <th>4</th>\n",
       "      <td>USDC</td>\n",
       "      <td>trade</td>\n",
       "      <td>0.0000033</td>\n",
       "      <td>0.0000033</td>\n",
       "      <td>0</td>\n",
       "    </tr>\n",
       "    <tr>\n",
       "      <th>6</th>\n",
       "      <td>ALGO</td>\n",
       "      <td>trade</td>\n",
       "      <td>0</td>\n",
       "      <td>0</td>\n",
       "      <td>0</td>\n",
       "    </tr>\n",
       "  </tbody>\n",
       "</table>\n",
       "</div>"
      ],
      "text/plain": [
       "  currency   type        balance     available          holds\n",
       "0     USDT  trade  1466.36953896  115.50268619  1350.86685276\n",
       "2     ATOM  trade        20.7566        7.0543        13.7023\n",
       "3      BTC  trade     0.00172929    0.00172929              0\n",
       "4     USDC  trade      0.0000033     0.0000033              0\n",
       "6     ALGO  trade              0             0              0"
      ]
     },
     "execution_count": 31,
     "metadata": {},
     "output_type": "execute_result"
    }
   ],
   "source": [
    "test_account"
   ]
  },
  {
   "cell_type": "code",
   "execution_count": null,
   "id": "f882ffe0",
   "metadata": {},
   "outputs": [],
   "source": [
    "# Now to create holdings table in USDT\n",
    "\n"
   ]
  },
  {
   "cell_type": "code",
   "execution_count": 32,
   "id": "5951331e",
   "metadata": {},
   "outputs": [
    {
     "data": {
      "text/html": [
       "<div>\n",
       "<style scoped>\n",
       "    .dataframe tbody tr th:only-of-type {\n",
       "        vertical-align: middle;\n",
       "    }\n",
       "\n",
       "    .dataframe tbody tr th {\n",
       "        vertical-align: top;\n",
       "    }\n",
       "\n",
       "    .dataframe thead th {\n",
       "        text-align: right;\n",
       "    }\n",
       "</style>\n",
       "<table border=\"1\" class=\"dataframe\">\n",
       "  <thead>\n",
       "    <tr style=\"text-align: right;\">\n",
       "      <th></th>\n",
       "      <th>coin</th>\n",
       "      <th>price</th>\n",
       "    </tr>\n",
       "  </thead>\n",
       "  <tbody>\n",
       "    <tr>\n",
       "      <th>0</th>\n",
       "      <td>BTC</td>\n",
       "      <td>38746.400000</td>\n",
       "    </tr>\n",
       "    <tr>\n",
       "      <th>1</th>\n",
       "      <td>ETH</td>\n",
       "      <td>2789.900000</td>\n",
       "    </tr>\n",
       "    <tr>\n",
       "      <th>2</th>\n",
       "      <td>ADA</td>\n",
       "      <td>1.838221</td>\n",
       "    </tr>\n",
       "    <tr>\n",
       "      <th>3</th>\n",
       "      <td>ALGO</td>\n",
       "      <td>1.049200</td>\n",
       "    </tr>\n",
       "    <tr>\n",
       "      <th>4</th>\n",
       "      <td>ATOM</td>\n",
       "      <td>16.134300</td>\n",
       "    </tr>\n",
       "    <tr>\n",
       "      <th>5</th>\n",
       "      <td>XLM</td>\n",
       "      <td>0.422317</td>\n",
       "    </tr>\n",
       "    <tr>\n",
       "      <th>6</th>\n",
       "      <td>DOT</td>\n",
       "      <td>27.121300</td>\n",
       "    </tr>\n",
       "  </tbody>\n",
       "</table>\n",
       "</div>"
      ],
      "text/plain": [
       "   coin         price\n",
       "0   BTC  38746.400000\n",
       "1   ETH   2789.900000\n",
       "2   ADA      1.838221\n",
       "3  ALGO      1.049200\n",
       "4  ATOM     16.134300\n",
       "5   XLM      0.422317\n",
       "6   DOT     27.121300"
      ]
     },
     "execution_count": 32,
     "metadata": {},
     "output_type": "execute_result"
    }
   ],
   "source": [
    "df_prices"
   ]
  },
  {
   "cell_type": "code",
   "execution_count": 33,
   "id": "72694d3a",
   "metadata": {},
   "outputs": [
    {
     "name": "stdout",
     "output_type": "stream",
     "text": [
      "<class 'float'>\n"
     ]
    }
   ],
   "source": [
    "price_test = float(prices)\n",
    "print(type(price_test))"
   ]
  },
  {
   "cell_type": "code",
   "execution_count": null,
   "id": "4eb893f6",
   "metadata": {},
   "outputs": [],
   "source": [
    "# Testing the merging of the dataframes:"
   ]
  }
 ],
 "metadata": {
  "kernelspec": {
   "display_name": "Python 3",
   "language": "python",
   "name": "python3"
  },
  "language_info": {
   "codemirror_mode": {
    "name": "ipython",
    "version": 3
   },
   "file_extension": ".py",
   "mimetype": "text/x-python",
   "name": "python",
   "nbconvert_exporter": "python",
   "pygments_lexer": "ipython3",
   "version": "3.8.10"
  }
 },
 "nbformat": 4,
 "nbformat_minor": 5
}
