{
 "cells": [
  {
   "cell_type": "code",
   "execution_count": 1,
   "id": "e1feae19",
   "metadata": {},
   "outputs": [],
   "source": [
    "import pandas as pd\n",
    "import numpy as np\n",
    "\n",
    "\n",
    "import os\n",
    "import requests\n",
    "import json\n",
    "import base64"
   ]
  },
  {
   "cell_type": "code",
   "execution_count": 2,
   "id": "66805ced",
   "metadata": {},
   "outputs": [],
   "source": [
    "import time\n",
    "import base64\n",
    "import hmac\n",
    "import hashlib"
   ]
  },
  {
   "cell_type": "code",
   "execution_count": null,
   "id": "716b2cfe",
   "metadata": {},
   "outputs": [],
   "source": []
  },
  {
   "cell_type": "code",
   "execution_count": 3,
   "id": "79170255",
   "metadata": {},
   "outputs": [
    {
     "name": "stdout",
     "output_type": "stream",
     "text": [
      "Keys loaded successfully\n"
     ]
    }
   ],
   "source": [
    "import env"
   ]
  },
  {
   "cell_type": "code",
   "execution_count": 4,
   "id": "1c959fb6",
   "metadata": {},
   "outputs": [],
   "source": [
    "api_key = env.kc_api_key\n",
    "api_s = env.kc_secret_api\n",
    "api_pp = env.kc_passphrase\n",
    "api_uid = env.kc_uid"
   ]
  },
  {
   "cell_type": "code",
   "execution_count": null,
   "id": "8ebcef4a",
   "metadata": {},
   "outputs": [],
   "source": []
  },
  {
   "cell_type": "code",
   "execution_count": null,
   "id": "bcb7bfb6",
   "metadata": {},
   "outputs": [],
   "source": []
  },
  {
   "cell_type": "code",
   "execution_count": 5,
   "id": "49e78744",
   "metadata": {},
   "outputs": [],
   "source": [
    "from kucoin.client import Market"
   ]
  },
  {
   "cell_type": "code",
   "execution_count": null,
   "id": "abaa5907",
   "metadata": {},
   "outputs": [],
   "source": [
    "client = Market(url = 'https://api.kucoin.com')"
   ]
  },
  {
   "cell_type": "code",
   "execution_count": null,
   "id": "2ed03323",
   "metadata": {},
   "outputs": [],
   "source": []
  },
  {
   "cell_type": "code",
   "execution_count": null,
   "id": "7d0545a6",
   "metadata": {},
   "outputs": [],
   "source": [
    "klines = client.get_kline('BTC-USDT', '1min')"
   ]
  },
  {
   "cell_type": "code",
   "execution_count": null,
   "id": "ae9920e1",
   "metadata": {},
   "outputs": [],
   "source": [
    "klines"
   ]
  },
  {
   "cell_type": "code",
   "execution_count": null,
   "id": "47d18f00",
   "metadata": {},
   "outputs": [],
   "source": [
    "from kucoin.client import User\n",
    "client = User(api_key, api_s, api_pp)"
   ]
  },
  {
   "cell_type": "code",
   "execution_count": null,
   "id": "dd4a029c",
   "metadata": {},
   "outputs": [],
   "source": [
    "client"
   ]
  },
  {
   "cell_type": "code",
   "execution_count": null,
   "id": "b3ca3bcb",
   "metadata": {},
   "outputs": [],
   "source": []
  },
  {
   "cell_type": "code",
   "execution_count": null,
   "id": "715c0695",
   "metadata": {},
   "outputs": [],
   "source": [
    "requests.get(f'https://api.kucoin.com/api/v1/sub-accounts')"
   ]
  },
  {
   "cell_type": "code",
   "execution_count": null,
   "id": "bb1b5e28",
   "metadata": {
    "scrolled": false
   },
   "outputs": [],
   "source": [
    "account = client.get_account('609d983740a109000617f00c')"
   ]
  },
  {
   "cell_type": "code",
   "execution_count": null,
   "id": "6e7d8f09",
   "metadata": {},
   "outputs": [],
   "source": []
  },
  {
   "cell_type": "code",
   "execution_count": null,
   "id": "cf1761bd",
   "metadata": {},
   "outputs": [],
   "source": [
    "account = client.create_account('trade', 'BTC')"
   ]
  },
  {
   "cell_type": "code",
   "execution_count": null,
   "id": "c5346494",
   "metadata": {},
   "outputs": [],
   "source": [
    "response"
   ]
  },
  {
   "cell_type": "code",
   "execution_count": null,
   "id": "3aa2b84e",
   "metadata": {},
   "outputs": [],
   "source": [
    "#Example for get balance of accounts in python\n",
    "\n",
    "\n",
    "# api_key = env.kucoin_api\n",
    "# api_s = env.kucoin_secret\n",
    "# api_pp = env.kucoin_passphrase\n",
    "# api_uid = env.kucoin_uid\n",
    "\n",
    "api_key = env.kucoin_api\n",
    "api_secret = env.kucoin_secret\n",
    "api_passphrase = env.kucoin_passphrase\n",
    "url = 'https://openapi-sandbox.kucoin.com/api/v1/accounts'\n",
    "now = int(time.time() * 1000)\n",
    "str_to_sign = str(now) + 'GET' + '/api/v1/accounts'\n",
    "signature = base64.b64encode(\n",
    "    hmac.new(api_secret.encode('utf-8'), str_to_sign.encode('utf-8'), hashlib.sha256).digest())\n",
    "passphrase = base64.b64encode(hmac.new(api_secret.encode('utf-8'), api_passphrase.encode('utf-8'), hashlib.sha256).digest())\n",
    "headers = {\n",
    "    \"KC-API-SIGN\": signature,\n",
    "    \"KC-API-TIMESTAMP\": str(now),\n",
    "    \"KC-API-KEY\": api_key,\n",
    "    \"KC-API-PASSPHRASE\": passphrase,\n",
    "    \"KC-API-KEY-VERSION\": 2\n",
    "}\n",
    "response = requests.request('get', url, headers=headers)\n",
    "print(response.status_code)\n",
    "print(response.json())\n",
    "\n",
    "#Example for create deposit addresses in python\n",
    "url = 'https://openapi-sandbox.kucoin.com/api/v1/deposit-addresses'\n",
    "now = int(time.time() * 1000)\n",
    "data = {\"currency\": \"BTC\"}\n",
    "data_json = json.dumps(data)\n",
    "str_to_sign = str(now) + 'POST' + '/api/v1/deposit-addresses' + data_json\n",
    "signature = base64.b64encode(\n",
    "    hmac.new(api_secret.encode('utf-8'), str_to_sign.encode('utf-8'), hashlib.sha256).digest())\n",
    "passphrase = base64.b64encode(\n",
    "    hmac.new(api_secret.encode('utf-8'), api_passphrase.encode('utf-8'), hashlib.sha256).digest())\n",
    "headers = {\n",
    "    \"KC-API-SIGN\": signature,\n",
    "    \"KC-API-TIMESTAMP\": str(now),\n",
    "    \"KC-API-KEY\": api_key,\n",
    "    \"KC-API-PASSPHRASE\": passphrase,\n",
    "    \"KC-API-KEY-VERSION\": 2\n",
    "    \"Content-Type\": \"application/json\" # specifying content type or using json=data in request\n",
    "}\n",
    "response = requests.request('post', url, headers=headers, data=data_json)\n",
    "print(response.status_code)\n",
    "print(response.json())"
   ]
  },
  {
   "cell_type": "code",
   "execution_count": 6,
   "id": "7a3f2ac2",
   "metadata": {},
   "outputs": [],
   "source": [
    "    api_key = env.kc_api_key\n",
    "    api_secret = env.kc_secret_api\n",
    "    api_passphrase = env.kc_passphrase\n",
    "    url = 'https://api.kucoin.com/api/v1/accounts'\n",
    "    now = int(time.time() * 1000)\n",
    "    str_to_sign = str(now) + 'GET' + '/api/v1/accounts'\n",
    "    signature = base64.b64encode(\n",
    "        hmac.new(api_secret.encode('utf-8'), str_to_sign.encode('utf-8'), hashlib.sha256).digest())\n",
    "    passphrase = base64.b64encode(hmac.new(api_secret.encode('utf-8'), api_passphrase.encode('utf-8'), hashlib.sha256).digest())\n",
    "    headers = {\n",
    "        \"KC-API-SIGN\": signature,\n",
    "        \"KC-API-TIMESTAMP\": str(now),\n",
    "        \"KC-API-KEY\": api_key,\n",
    "        \"KC-API-PASSPHRASE\": passphrase,\n",
    "        \"KC-API-KEY-VERSION\": str(2)\n",
    "    }\n",
    "#     response = requests.request('get', url, headers=headers)\n",
    "#     print(response.status_code)\n",
    "#     print(response.json())"
   ]
  },
  {
   "cell_type": "code",
   "execution_count": 7,
   "id": "38ebe3fb",
   "metadata": {},
   "outputs": [
    {
     "name": "stdout",
     "output_type": "stream",
     "text": [
      "200\n",
      "{'code': '200000', 'data': [{'id': '60984217df152d0006a24128', 'currency': 'USDT', 'type': 'trade', 'balance': '1358.35564456', 'available': '168.28684366', 'holds': '1190.0688009'}, {'id': '609841d0f180450006fcf3f2', 'currency': 'ATOM', 'type': 'trade', 'balance': '33.0954', 'available': '0.4213', 'holds': '32.6741'}, {'id': '60973775df152d0006586989', 'currency': 'BTC', 'type': 'main', 'balance': '0.00673382', 'available': '0.00673382', 'holds': '0'}, {'id': '609841dadf152d0006a1ca08', 'currency': 'BTC', 'type': 'trade', 'balance': '0.00344141', 'available': '0.00344141', 'holds': '0'}, {'id': '609a801ba09b0c0006838148', 'currency': 'USDC', 'type': 'trade', 'balance': '0.0000033', 'available': '0.0000033', 'holds': '0'}, {'id': '60983b4843519c000694d3f6', 'currency': 'ALGO', 'type': 'main', 'balance': '0', 'available': '0', 'holds': '0'}, {'id': '609841c6d54db40006c93037', 'currency': 'ALGO', 'type': 'trade', 'balance': '0', 'available': '0', 'holds': '0'}, {'id': '6097261f78f8a30006099e89', 'currency': 'ATOM', 'type': 'main', 'balance': '0', 'available': '0', 'holds': '0'}, {'id': '6096edb4f1804500061b1580', 'currency': 'USDC', 'type': 'main', 'balance': '0', 'available': '0', 'holds': '0'}]}\n"
     ]
    }
   ],
   "source": [
    "response = requests.request('get', url, headers=headers)\n",
    "print(response.status_code)\n",
    "print(response.json())"
   ]
  },
  {
   "cell_type": "code",
   "execution_count": 24,
   "id": "6c4bee2c",
   "metadata": {},
   "outputs": [
    {
     "data": {
      "text/html": [
       "<div>\n",
       "<style scoped>\n",
       "    .dataframe tbody tr th:only-of-type {\n",
       "        vertical-align: middle;\n",
       "    }\n",
       "\n",
       "    .dataframe tbody tr th {\n",
       "        vertical-align: top;\n",
       "    }\n",
       "\n",
       "    .dataframe thead th {\n",
       "        text-align: right;\n",
       "    }\n",
       "</style>\n",
       "<table border=\"1\" class=\"dataframe\">\n",
       "  <thead>\n",
       "    <tr style=\"text-align: right;\">\n",
       "      <th></th>\n",
       "      <th>id</th>\n",
       "      <th>currency</th>\n",
       "      <th>type</th>\n",
       "      <th>balance</th>\n",
       "      <th>available</th>\n",
       "      <th>holds</th>\n",
       "    </tr>\n",
       "  </thead>\n",
       "  <tbody>\n",
       "    <tr>\n",
       "      <th>0</th>\n",
       "      <td>60984217df152d0006a24128</td>\n",
       "      <td>USDT</td>\n",
       "      <td>trade</td>\n",
       "      <td>1358.35564456</td>\n",
       "      <td>168.28684366</td>\n",
       "      <td>1190.0688009</td>\n",
       "    </tr>\n",
       "    <tr>\n",
       "      <th>1</th>\n",
       "      <td>609841d0f180450006fcf3f2</td>\n",
       "      <td>ATOM</td>\n",
       "      <td>trade</td>\n",
       "      <td>33.0954</td>\n",
       "      <td>0.4213</td>\n",
       "      <td>32.6741</td>\n",
       "    </tr>\n",
       "    <tr>\n",
       "      <th>2</th>\n",
       "      <td>60973775df152d0006586989</td>\n",
       "      <td>BTC</td>\n",
       "      <td>main</td>\n",
       "      <td>0.00673382</td>\n",
       "      <td>0.00673382</td>\n",
       "      <td>0</td>\n",
       "    </tr>\n",
       "    <tr>\n",
       "      <th>3</th>\n",
       "      <td>609841dadf152d0006a1ca08</td>\n",
       "      <td>BTC</td>\n",
       "      <td>trade</td>\n",
       "      <td>0.00344141</td>\n",
       "      <td>0.00344141</td>\n",
       "      <td>0</td>\n",
       "    </tr>\n",
       "    <tr>\n",
       "      <th>4</th>\n",
       "      <td>609a801ba09b0c0006838148</td>\n",
       "      <td>USDC</td>\n",
       "      <td>trade</td>\n",
       "      <td>0.0000033</td>\n",
       "      <td>0.0000033</td>\n",
       "      <td>0</td>\n",
       "    </tr>\n",
       "    <tr>\n",
       "      <th>5</th>\n",
       "      <td>60983b4843519c000694d3f6</td>\n",
       "      <td>ALGO</td>\n",
       "      <td>main</td>\n",
       "      <td>0</td>\n",
       "      <td>0</td>\n",
       "      <td>0</td>\n",
       "    </tr>\n",
       "    <tr>\n",
       "      <th>6</th>\n",
       "      <td>609841c6d54db40006c93037</td>\n",
       "      <td>ALGO</td>\n",
       "      <td>trade</td>\n",
       "      <td>0</td>\n",
       "      <td>0</td>\n",
       "      <td>0</td>\n",
       "    </tr>\n",
       "    <tr>\n",
       "      <th>7</th>\n",
       "      <td>6097261f78f8a30006099e89</td>\n",
       "      <td>ATOM</td>\n",
       "      <td>main</td>\n",
       "      <td>0</td>\n",
       "      <td>0</td>\n",
       "      <td>0</td>\n",
       "    </tr>\n",
       "    <tr>\n",
       "      <th>8</th>\n",
       "      <td>6096edb4f1804500061b1580</td>\n",
       "      <td>USDC</td>\n",
       "      <td>main</td>\n",
       "      <td>0</td>\n",
       "      <td>0</td>\n",
       "      <td>0</td>\n",
       "    </tr>\n",
       "  </tbody>\n",
       "</table>\n",
       "</div>"
      ],
      "text/plain": [
       "                         id currency   type        balance     available  \\\n",
       "0  60984217df152d0006a24128     USDT  trade  1358.35564456  168.28684366   \n",
       "1  609841d0f180450006fcf3f2     ATOM  trade        33.0954        0.4213   \n",
       "2  60973775df152d0006586989      BTC   main     0.00673382    0.00673382   \n",
       "3  609841dadf152d0006a1ca08      BTC  trade     0.00344141    0.00344141   \n",
       "4  609a801ba09b0c0006838148     USDC  trade      0.0000033     0.0000033   \n",
       "5  60983b4843519c000694d3f6     ALGO   main              0             0   \n",
       "6  609841c6d54db40006c93037     ALGO  trade              0             0   \n",
       "7  6097261f78f8a30006099e89     ATOM   main              0             0   \n",
       "8  6096edb4f1804500061b1580     USDC   main              0             0   \n",
       "\n",
       "          holds  \n",
       "0  1190.0688009  \n",
       "1       32.6741  \n",
       "2             0  \n",
       "3             0  \n",
       "4             0  \n",
       "5             0  \n",
       "6             0  \n",
       "7             0  \n",
       "8             0  "
      ]
     },
     "execution_count": 24,
     "metadata": {},
     "output_type": "execute_result"
    }
   ],
   "source": [
    "pd.DataFrame.from_dict(response.json()['data'])"
   ]
  },
  {
   "cell_type": "code",
   "execution_count": null,
   "id": "37f4f14c",
   "metadata": {},
   "outputs": [],
   "source": [
    "df = pd.DataFrame.from_dict(response.json()['data'])\n",
    "df"
   ]
  },
  {
   "cell_type": "code",
   "execution_count": null,
   "id": "7ac5248d",
   "metadata": {},
   "outputs": [],
   "source": [
    "df.drop(columns = 'id', inplace = True)\n",
    "# df.rename(columns = {'type': 'account_name'})"
   ]
  },
  {
   "cell_type": "code",
   "execution_count": null,
   "id": "7f63f6ec",
   "metadata": {},
   "outputs": [],
   "source": []
  },
  {
   "cell_type": "code",
   "execution_count": null,
   "id": "2184e800",
   "metadata": {},
   "outputs": [],
   "source": [
    "trade_account = df[df['type'] == 'trade']\n",
    "trade_account"
   ]
  },
  {
   "cell_type": "code",
   "execution_count": null,
   "id": "5e7b54f5",
   "metadata": {},
   "outputs": [],
   "source": [
    "trade_account.to_excel('account_balance.xlsx')"
   ]
  },
  {
   "cell_type": "markdown",
   "id": "45502c74",
   "metadata": {},
   "source": [
    "### Getting the coin prices"
   ]
  },
  {
   "cell_type": "code",
   "execution_count": 8,
   "id": "45d564f4",
   "metadata": {},
   "outputs": [],
   "source": [
    "# Purpose is to create another dataframe (which will eventually become an excel sheet) that'll hold the current prices.\n",
    "# Or at least hold a variable with the current price.\n",
    "\n",
    "url = 'https://api.kucoin.com/api/v1/market/orderbook/level1?symbol=BTC-USDT'\n"
   ]
  },
  {
   "cell_type": "code",
   "execution_count": 10,
   "id": "808ec11a",
   "metadata": {},
   "outputs": [],
   "source": [
    "btc_price_check = requests.get(f'https://api.kucoin.com/api/v1/market/orderbook/level1?symbol=BTC-USDT')"
   ]
  },
  {
   "cell_type": "code",
   "execution_count": 13,
   "id": "f7e83553",
   "metadata": {},
   "outputs": [
    {
     "data": {
      "text/plain": [
       "{'time': 1621133414309,\n",
       " 'sequence': '1616350993487',\n",
       " 'price': '48048.2',\n",
       " 'size': '0.00007317',\n",
       " 'bestBid': '48051',\n",
       " 'bestBidSize': '0.025',\n",
       " 'bestAsk': '48051.1',\n",
       " 'bestAskSize': '0.08757811'}"
      ]
     },
     "execution_count": 13,
     "metadata": {},
     "output_type": "execute_result"
    }
   ],
   "source": [
    "btc_price_check.json()['data']"
   ]
  },
  {
   "cell_type": "code",
   "execution_count": 16,
   "id": "15b897c6",
   "metadata": {},
   "outputs": [],
   "source": [
    "# Create a list of coins:\n",
    "\n",
    "coin_list = ['BTC', 'ETH', 'ADA', 'ALGO', 'ATOM', 'XLM', 'DOT']\n",
    "cash_list = ['USDT', 'USD', 'USDC']"
   ]
  },
  {
   "cell_type": "code",
   "execution_count": 17,
   "id": "ed5b11b0",
   "metadata": {},
   "outputs": [
    {
     "name": "stdout",
     "output_type": "stream",
     "text": [
      "['BTC', 'ETH', 'ADA', 'ALGO', 'ATOM', 'XLM', 'DOT'] ['USDT', 'USD', 'USDC']\n"
     ]
    }
   ],
   "source": [
    "print(coin_list, cash_list)"
   ]
  },
  {
   "cell_type": "code",
   "execution_count": 25,
   "id": "a090e97d",
   "metadata": {},
   "outputs": [
    {
     "name": "stdout",
     "output_type": "stream",
     "text": [
      "BTC price in USDT\n",
      "48045.1\n",
      "ETH price in USDT\n",
      "3818.29\n",
      "ADA price in USDT\n",
      "2.258084\n",
      "ALGO price in USDT\n",
      "1.471\n",
      "ATOM price in USDT\n",
      "25.5008\n",
      "XLM price in USDT\n",
      "0.698056\n",
      "DOT price in USDT\n",
      "44.0635\n"
     ]
    }
   ],
   "source": [
    "for x in coin_list:\n",
    "    new_list = []\n",
    "    new_list.append(requests.get(f'https://api.kucoin.com/api/v1/market/orderbook/level1?symbol={x}-USDT').json()['data']['price'])\n",
    "    print(x + \" price in USDT\")\n",
    "    print(requests.get(f'https://api.kucoin.com/api/v1/market/orderbook/level1?symbol={x}-USDT').json()['data']['price'])\n",
    "    \n",
    "    "
   ]
  },
  {
   "cell_type": "code",
   "execution_count": 26,
   "id": "ada56bf8",
   "metadata": {},
   "outputs": [
    {
     "data": {
      "text/plain": [
       "['44.0635']"
      ]
     },
     "execution_count": 26,
     "metadata": {},
     "output_type": "execute_result"
    }
   ],
   "source": [
    "new_list"
   ]
  },
  {
   "cell_type": "code",
   "execution_count": null,
   "id": "8e1a4d9a",
   "metadata": {},
   "outputs": [],
   "source": []
  }
 ],
 "metadata": {
  "kernelspec": {
   "display_name": "Python 3",
   "language": "python",
   "name": "python3"
  },
  "language_info": {
   "codemirror_mode": {
    "name": "ipython",
    "version": 3
   },
   "file_extension": ".py",
   "mimetype": "text/x-python",
   "name": "python",
   "nbconvert_exporter": "python",
   "pygments_lexer": "ipython3",
   "version": "3.8.8"
  }
 },
 "nbformat": 4,
 "nbformat_minor": 5
}
