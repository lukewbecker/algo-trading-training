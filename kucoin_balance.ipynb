{
 "cells": [
  {
   "cell_type": "code",
   "execution_count": 1,
   "id": "e1feae19",
   "metadata": {},
   "outputs": [],
   "source": [
    "import pandas as pd\n",
    "import numpy as np\n",
    "\n",
    "\n",
    "import os\n",
    "import requests\n",
    "import json\n",
    "import base64"
   ]
  },
  {
   "cell_type": "code",
   "execution_count": 2,
   "id": "66805ced",
   "metadata": {},
   "outputs": [],
   "source": [
    "import time\n",
    "import base64\n",
    "import hmac\n",
    "import hashlib"
   ]
  },
  {
   "cell_type": "code",
   "execution_count": 3,
   "id": "79170255",
   "metadata": {},
   "outputs": [
    {
     "name": "stdout",
     "output_type": "stream",
     "text": [
      "Keys loaded successfully\n"
     ]
    }
   ],
   "source": [
    "import env"
   ]
  },
  {
   "cell_type": "code",
   "execution_count": 4,
   "id": "1c959fb6",
   "metadata": {},
   "outputs": [],
   "source": [
    "api_key = env.kc_api_key\n",
    "api_s = env.kc_secret_api\n",
    "api_pp = env.kc_passphrase\n",
    "api_uid = env.kc_uid"
   ]
  },
  {
   "cell_type": "code",
   "execution_count": null,
   "id": "49e78744",
   "metadata": {},
   "outputs": [],
   "source": [
    "# from kucoin.client import Market\n",
    "# client = Market(url = 'https://api.kucoin.com')\n",
    "# klines = client.get_kline('BTC-USDT', '1min')\n",
    "# klines\n",
    "\n",
    "# from kucoin.client import User\n",
    "# client = User(api_key, api_s, api_pp)\n",
    "# client"
   ]
  },
  {
   "cell_type": "code",
   "execution_count": null,
   "id": "abaa5907",
   "metadata": {},
   "outputs": [],
   "source": []
  },
  {
   "cell_type": "code",
   "execution_count": null,
   "id": "7d0545a6",
   "metadata": {},
   "outputs": [],
   "source": []
  },
  {
   "cell_type": "code",
   "execution_count": null,
   "id": "ae9920e1",
   "metadata": {},
   "outputs": [],
   "source": []
  },
  {
   "cell_type": "code",
   "execution_count": null,
   "id": "47d18f00",
   "metadata": {},
   "outputs": [],
   "source": []
  },
  {
   "cell_type": "code",
   "execution_count": null,
   "id": "dd4a029c",
   "metadata": {},
   "outputs": [],
   "source": []
  },
  {
   "cell_type": "code",
   "execution_count": null,
   "id": "3aa2b84e",
   "metadata": {},
   "outputs": [],
   "source": [
    "#Example for get balance of accounts in python\n",
    "\n",
    "\n",
    "# api_key = env.kucoin_api\n",
    "# api_s = env.kucoin_secret\n",
    "# api_pp = env.kucoin_passphrase\n",
    "# api_uid = env.kucoin_uid\n",
    "\n",
    "api_key = env.kucoin_api\n",
    "api_secret = env.kucoin_secret\n",
    "api_passphrase = env.kucoin_passphrase\n",
    "url = 'https://openapi-sandbox.kucoin.com/api/v1/accounts'\n",
    "now = int(time.time() * 1000)\n",
    "str_to_sign = str(now) + 'GET' + '/api/v1/accounts'\n",
    "signature = base64.b64encode(\n",
    "    hmac.new(api_secret.encode('utf-8'), str_to_sign.encode('utf-8'), hashlib.sha256).digest())\n",
    "passphrase = base64.b64encode(hmac.new(api_secret.encode('utf-8'), api_passphrase.encode('utf-8'), hashlib.sha256).digest())\n",
    "headers = {\n",
    "    \"KC-API-SIGN\": signature,\n",
    "    \"KC-API-TIMESTAMP\": str(now),\n",
    "    \"KC-API-KEY\": api_key,\n",
    "    \"KC-API-PASSPHRASE\": passphrase,\n",
    "    \"KC-API-KEY-VERSION\": 2\n",
    "}\n",
    "response = requests.request('get', url, headers=headers)\n",
    "print(response.status_code)\n",
    "print(response.json())\n",
    "\n",
    "#Example for create deposit addresses in python\n",
    "url = 'https://openapi-sandbox.kucoin.com/api/v1/deposit-addresses'\n",
    "now = int(time.time() * 1000)\n",
    "data = {\"currency\": \"BTC\"}\n",
    "data_json = json.dumps(data)\n",
    "str_to_sign = str(now) + 'POST' + '/api/v1/deposit-addresses' + data_json\n",
    "signature = base64.b64encode(\n",
    "    hmac.new(api_secret.encode('utf-8'), str_to_sign.encode('utf-8'), hashlib.sha256).digest())\n",
    "passphrase = base64.b64encode(\n",
    "    hmac.new(api_secret.encode('utf-8'), api_passphrase.encode('utf-8'), hashlib.sha256).digest())\n",
    "headers = {\n",
    "    \"KC-API-SIGN\": signature,\n",
    "    \"KC-API-TIMESTAMP\": str(now),\n",
    "    \"KC-API-KEY\": api_key,\n",
    "    \"KC-API-PASSPHRASE\": passphrase,\n",
    "    \"KC-API-KEY-VERSION\": 2\n",
    "    \"Content-Type\": \"application/json\" # specifying content type or using json=data in request\n",
    "}\n",
    "response = requests.request('post', url, headers=headers, data=data_json)\n",
    "print(response.status_code)\n",
    "print(response.json())"
   ]
  },
  {
   "cell_type": "code",
   "execution_count": 5,
   "id": "7a3f2ac2",
   "metadata": {},
   "outputs": [],
   "source": [
    "# Creating the api keys\n",
    "api_key = env.kc_api_key\n",
    "api_secret = env.kc_secret_api\n",
    "api_passphrase = env.kc_passphrase\n",
    "url = 'https://api.kucoin.com/api/v1/accounts'\n",
    "now = int(time.time() * 1000)\n",
    "str_to_sign = str(now) + 'GET' + '/api/v1/accounts'\n",
    "signature = base64.b64encode(\n",
    "    hmac.new(api_secret.encode('utf-8'), str_to_sign.encode('utf-8'), hashlib.sha256).digest())\n",
    "passphrase = base64.b64encode(hmac.new(api_secret.encode('utf-8'), api_passphrase.encode('utf-8'), hashlib.sha256).digest())\n",
    "headers = {\n",
    "    \"KC-API-SIGN\": signature,\n",
    "    \"KC-API-TIMESTAMP\": str(now),\n",
    "    \"KC-API-KEY\": api_key,\n",
    "    \"KC-API-PASSPHRASE\": passphrase,\n",
    "    \"KC-API-KEY-VERSION\": str(2)\n",
    "}\n",
    "#     response = requests.request('get', url, headers=headers)\n",
    "#     print(response.status_code)\n",
    "#     print(response.json())"
   ]
  },
  {
   "cell_type": "code",
   "execution_count": 6,
   "id": "38ebe3fb",
   "metadata": {},
   "outputs": [
    {
     "name": "stdout",
     "output_type": "stream",
     "text": [
      "200\n",
      "{'code': '200000', 'data': [{'id': '60984217df152d0006a24128', 'currency': 'USDT', 'type': 'trade', 'balance': '868.50276971', 'available': '86.9491583', 'holds': '781.5536114'}, {'id': '609841d0f180450006fcf3f2', 'currency': 'ATOM', 'type': 'trade', 'balance': '69.4008', 'available': '1.956', 'holds': '67.4448'}, {'id': '60973775df152d0006586989', 'currency': 'BTC', 'type': 'main', 'balance': '0.0187597', 'available': '0.0187597', 'holds': '0'}, {'id': '609841dadf152d0006a1ca08', 'currency': 'BTC', 'type': 'trade', 'balance': '0.00172929', 'available': '0.00172929', 'holds': '0'}, {'id': '609a801ba09b0c0006838148', 'currency': 'USDC', 'type': 'trade', 'balance': '0.0000033', 'available': '0.0000033', 'holds': '0'}, {'id': '60983b4843519c000694d3f6', 'currency': 'ALGO', 'type': 'main', 'balance': '0', 'available': '0', 'holds': '0'}, {'id': '609841c6d54db40006c93037', 'currency': 'ALGO', 'type': 'trade', 'balance': '0', 'available': '0', 'holds': '0'}, {'id': '6097261f78f8a30006099e89', 'currency': 'ATOM', 'type': 'main', 'balance': '0', 'available': '0', 'holds': '0'}, {'id': '6096edb4f1804500061b1580', 'currency': 'USDC', 'type': 'main', 'balance': '0', 'available': '0', 'holds': '0'}]}\n"
     ]
    }
   ],
   "source": [
    "response = requests.request('get', url, headers=headers)\n",
    "print(response.status_code)\n",
    "print(response.json())"
   ]
  },
  {
   "cell_type": "code",
   "execution_count": 7,
   "id": "6c4bee2c",
   "metadata": {},
   "outputs": [
    {
     "data": {
      "text/html": [
       "<div>\n",
       "<style scoped>\n",
       "    .dataframe tbody tr th:only-of-type {\n",
       "        vertical-align: middle;\n",
       "    }\n",
       "\n",
       "    .dataframe tbody tr th {\n",
       "        vertical-align: top;\n",
       "    }\n",
       "\n",
       "    .dataframe thead th {\n",
       "        text-align: right;\n",
       "    }\n",
       "</style>\n",
       "<table border=\"1\" class=\"dataframe\">\n",
       "  <thead>\n",
       "    <tr style=\"text-align: right;\">\n",
       "      <th></th>\n",
       "      <th>id</th>\n",
       "      <th>currency</th>\n",
       "      <th>type</th>\n",
       "      <th>balance</th>\n",
       "      <th>available</th>\n",
       "      <th>holds</th>\n",
       "    </tr>\n",
       "  </thead>\n",
       "  <tbody>\n",
       "    <tr>\n",
       "      <th>0</th>\n",
       "      <td>60984217df152d0006a24128</td>\n",
       "      <td>USDT</td>\n",
       "      <td>trade</td>\n",
       "      <td>868.50276971</td>\n",
       "      <td>86.9491583</td>\n",
       "      <td>781.5536114</td>\n",
       "    </tr>\n",
       "    <tr>\n",
       "      <th>1</th>\n",
       "      <td>609841d0f180450006fcf3f2</td>\n",
       "      <td>ATOM</td>\n",
       "      <td>trade</td>\n",
       "      <td>69.4008</td>\n",
       "      <td>1.956</td>\n",
       "      <td>67.4448</td>\n",
       "    </tr>\n",
       "    <tr>\n",
       "      <th>2</th>\n",
       "      <td>60973775df152d0006586989</td>\n",
       "      <td>BTC</td>\n",
       "      <td>main</td>\n",
       "      <td>0.0187597</td>\n",
       "      <td>0.0187597</td>\n",
       "      <td>0</td>\n",
       "    </tr>\n",
       "    <tr>\n",
       "      <th>3</th>\n",
       "      <td>609841dadf152d0006a1ca08</td>\n",
       "      <td>BTC</td>\n",
       "      <td>trade</td>\n",
       "      <td>0.00172929</td>\n",
       "      <td>0.00172929</td>\n",
       "      <td>0</td>\n",
       "    </tr>\n",
       "    <tr>\n",
       "      <th>4</th>\n",
       "      <td>609a801ba09b0c0006838148</td>\n",
       "      <td>USDC</td>\n",
       "      <td>trade</td>\n",
       "      <td>0.0000033</td>\n",
       "      <td>0.0000033</td>\n",
       "      <td>0</td>\n",
       "    </tr>\n",
       "    <tr>\n",
       "      <th>5</th>\n",
       "      <td>60983b4843519c000694d3f6</td>\n",
       "      <td>ALGO</td>\n",
       "      <td>main</td>\n",
       "      <td>0</td>\n",
       "      <td>0</td>\n",
       "      <td>0</td>\n",
       "    </tr>\n",
       "    <tr>\n",
       "      <th>6</th>\n",
       "      <td>609841c6d54db40006c93037</td>\n",
       "      <td>ALGO</td>\n",
       "      <td>trade</td>\n",
       "      <td>0</td>\n",
       "      <td>0</td>\n",
       "      <td>0</td>\n",
       "    </tr>\n",
       "    <tr>\n",
       "      <th>7</th>\n",
       "      <td>6097261f78f8a30006099e89</td>\n",
       "      <td>ATOM</td>\n",
       "      <td>main</td>\n",
       "      <td>0</td>\n",
       "      <td>0</td>\n",
       "      <td>0</td>\n",
       "    </tr>\n",
       "    <tr>\n",
       "      <th>8</th>\n",
       "      <td>6096edb4f1804500061b1580</td>\n",
       "      <td>USDC</td>\n",
       "      <td>main</td>\n",
       "      <td>0</td>\n",
       "      <td>0</td>\n",
       "      <td>0</td>\n",
       "    </tr>\n",
       "  </tbody>\n",
       "</table>\n",
       "</div>"
      ],
      "text/plain": [
       "                         id currency   type       balance   available  \\\n",
       "0  60984217df152d0006a24128     USDT  trade  868.50276971  86.9491583   \n",
       "1  609841d0f180450006fcf3f2     ATOM  trade       69.4008       1.956   \n",
       "2  60973775df152d0006586989      BTC   main     0.0187597   0.0187597   \n",
       "3  609841dadf152d0006a1ca08      BTC  trade    0.00172929  0.00172929   \n",
       "4  609a801ba09b0c0006838148     USDC  trade     0.0000033   0.0000033   \n",
       "5  60983b4843519c000694d3f6     ALGO   main             0           0   \n",
       "6  609841c6d54db40006c93037     ALGO  trade             0           0   \n",
       "7  6097261f78f8a30006099e89     ATOM   main             0           0   \n",
       "8  6096edb4f1804500061b1580     USDC   main             0           0   \n",
       "\n",
       "         holds  \n",
       "0  781.5536114  \n",
       "1      67.4448  \n",
       "2            0  \n",
       "3            0  \n",
       "4            0  \n",
       "5            0  \n",
       "6            0  \n",
       "7            0  \n",
       "8            0  "
      ]
     },
     "execution_count": 7,
     "metadata": {},
     "output_type": "execute_result"
    }
   ],
   "source": [
    "pd.DataFrame.from_dict(response.json()['data'])"
   ]
  },
  {
   "cell_type": "code",
   "execution_count": 8,
   "id": "37f4f14c",
   "metadata": {},
   "outputs": [
    {
     "data": {
      "text/html": [
       "<div>\n",
       "<style scoped>\n",
       "    .dataframe tbody tr th:only-of-type {\n",
       "        vertical-align: middle;\n",
       "    }\n",
       "\n",
       "    .dataframe tbody tr th {\n",
       "        vertical-align: top;\n",
       "    }\n",
       "\n",
       "    .dataframe thead th {\n",
       "        text-align: right;\n",
       "    }\n",
       "</style>\n",
       "<table border=\"1\" class=\"dataframe\">\n",
       "  <thead>\n",
       "    <tr style=\"text-align: right;\">\n",
       "      <th></th>\n",
       "      <th>id</th>\n",
       "      <th>currency</th>\n",
       "      <th>type</th>\n",
       "      <th>balance</th>\n",
       "      <th>available</th>\n",
       "      <th>holds</th>\n",
       "    </tr>\n",
       "  </thead>\n",
       "  <tbody>\n",
       "    <tr>\n",
       "      <th>0</th>\n",
       "      <td>60984217df152d0006a24128</td>\n",
       "      <td>USDT</td>\n",
       "      <td>trade</td>\n",
       "      <td>868.50276971</td>\n",
       "      <td>86.9491583</td>\n",
       "      <td>781.5536114</td>\n",
       "    </tr>\n",
       "    <tr>\n",
       "      <th>1</th>\n",
       "      <td>609841d0f180450006fcf3f2</td>\n",
       "      <td>ATOM</td>\n",
       "      <td>trade</td>\n",
       "      <td>69.4008</td>\n",
       "      <td>1.956</td>\n",
       "      <td>67.4448</td>\n",
       "    </tr>\n",
       "    <tr>\n",
       "      <th>2</th>\n",
       "      <td>60973775df152d0006586989</td>\n",
       "      <td>BTC</td>\n",
       "      <td>main</td>\n",
       "      <td>0.0187597</td>\n",
       "      <td>0.0187597</td>\n",
       "      <td>0</td>\n",
       "    </tr>\n",
       "    <tr>\n",
       "      <th>3</th>\n",
       "      <td>609841dadf152d0006a1ca08</td>\n",
       "      <td>BTC</td>\n",
       "      <td>trade</td>\n",
       "      <td>0.00172929</td>\n",
       "      <td>0.00172929</td>\n",
       "      <td>0</td>\n",
       "    </tr>\n",
       "    <tr>\n",
       "      <th>4</th>\n",
       "      <td>609a801ba09b0c0006838148</td>\n",
       "      <td>USDC</td>\n",
       "      <td>trade</td>\n",
       "      <td>0.0000033</td>\n",
       "      <td>0.0000033</td>\n",
       "      <td>0</td>\n",
       "    </tr>\n",
       "    <tr>\n",
       "      <th>5</th>\n",
       "      <td>60983b4843519c000694d3f6</td>\n",
       "      <td>ALGO</td>\n",
       "      <td>main</td>\n",
       "      <td>0</td>\n",
       "      <td>0</td>\n",
       "      <td>0</td>\n",
       "    </tr>\n",
       "    <tr>\n",
       "      <th>6</th>\n",
       "      <td>609841c6d54db40006c93037</td>\n",
       "      <td>ALGO</td>\n",
       "      <td>trade</td>\n",
       "      <td>0</td>\n",
       "      <td>0</td>\n",
       "      <td>0</td>\n",
       "    </tr>\n",
       "    <tr>\n",
       "      <th>7</th>\n",
       "      <td>6097261f78f8a30006099e89</td>\n",
       "      <td>ATOM</td>\n",
       "      <td>main</td>\n",
       "      <td>0</td>\n",
       "      <td>0</td>\n",
       "      <td>0</td>\n",
       "    </tr>\n",
       "    <tr>\n",
       "      <th>8</th>\n",
       "      <td>6096edb4f1804500061b1580</td>\n",
       "      <td>USDC</td>\n",
       "      <td>main</td>\n",
       "      <td>0</td>\n",
       "      <td>0</td>\n",
       "      <td>0</td>\n",
       "    </tr>\n",
       "  </tbody>\n",
       "</table>\n",
       "</div>"
      ],
      "text/plain": [
       "                         id currency   type       balance   available  \\\n",
       "0  60984217df152d0006a24128     USDT  trade  868.50276971  86.9491583   \n",
       "1  609841d0f180450006fcf3f2     ATOM  trade       69.4008       1.956   \n",
       "2  60973775df152d0006586989      BTC   main     0.0187597   0.0187597   \n",
       "3  609841dadf152d0006a1ca08      BTC  trade    0.00172929  0.00172929   \n",
       "4  609a801ba09b0c0006838148     USDC  trade     0.0000033   0.0000033   \n",
       "5  60983b4843519c000694d3f6     ALGO   main             0           0   \n",
       "6  609841c6d54db40006c93037     ALGO  trade             0           0   \n",
       "7  6097261f78f8a30006099e89     ATOM   main             0           0   \n",
       "8  6096edb4f1804500061b1580     USDC   main             0           0   \n",
       "\n",
       "         holds  \n",
       "0  781.5536114  \n",
       "1      67.4448  \n",
       "2            0  \n",
       "3            0  \n",
       "4            0  \n",
       "5            0  \n",
       "6            0  \n",
       "7            0  \n",
       "8            0  "
      ]
     },
     "execution_count": 8,
     "metadata": {},
     "output_type": "execute_result"
    }
   ],
   "source": [
    "df = pd.DataFrame.from_dict(response.json()['data'])\n",
    "df"
   ]
  },
  {
   "cell_type": "code",
   "execution_count": 9,
   "id": "7ac5248d",
   "metadata": {},
   "outputs": [],
   "source": [
    "df.drop(columns = 'id', inplace = True)\n",
    "# df.rename(columns = {'type': 'account_name'})"
   ]
  },
  {
   "cell_type": "code",
   "execution_count": null,
   "id": "7f63f6ec",
   "metadata": {},
   "outputs": [],
   "source": []
  },
  {
   "cell_type": "code",
   "execution_count": 10,
   "id": "2184e800",
   "metadata": {},
   "outputs": [
    {
     "data": {
      "text/html": [
       "<div>\n",
       "<style scoped>\n",
       "    .dataframe tbody tr th:only-of-type {\n",
       "        vertical-align: middle;\n",
       "    }\n",
       "\n",
       "    .dataframe tbody tr th {\n",
       "        vertical-align: top;\n",
       "    }\n",
       "\n",
       "    .dataframe thead th {\n",
       "        text-align: right;\n",
       "    }\n",
       "</style>\n",
       "<table border=\"1\" class=\"dataframe\">\n",
       "  <thead>\n",
       "    <tr style=\"text-align: right;\">\n",
       "      <th></th>\n",
       "      <th>currency</th>\n",
       "      <th>type</th>\n",
       "      <th>balance</th>\n",
       "      <th>available</th>\n",
       "      <th>holds</th>\n",
       "    </tr>\n",
       "  </thead>\n",
       "  <tbody>\n",
       "    <tr>\n",
       "      <th>0</th>\n",
       "      <td>USDT</td>\n",
       "      <td>trade</td>\n",
       "      <td>868.50276971</td>\n",
       "      <td>86.9491583</td>\n",
       "      <td>781.5536114</td>\n",
       "    </tr>\n",
       "    <tr>\n",
       "      <th>1</th>\n",
       "      <td>ATOM</td>\n",
       "      <td>trade</td>\n",
       "      <td>69.4008</td>\n",
       "      <td>1.956</td>\n",
       "      <td>67.4448</td>\n",
       "    </tr>\n",
       "    <tr>\n",
       "      <th>3</th>\n",
       "      <td>BTC</td>\n",
       "      <td>trade</td>\n",
       "      <td>0.00172929</td>\n",
       "      <td>0.00172929</td>\n",
       "      <td>0</td>\n",
       "    </tr>\n",
       "    <tr>\n",
       "      <th>4</th>\n",
       "      <td>USDC</td>\n",
       "      <td>trade</td>\n",
       "      <td>0.0000033</td>\n",
       "      <td>0.0000033</td>\n",
       "      <td>0</td>\n",
       "    </tr>\n",
       "    <tr>\n",
       "      <th>6</th>\n",
       "      <td>ALGO</td>\n",
       "      <td>trade</td>\n",
       "      <td>0</td>\n",
       "      <td>0</td>\n",
       "      <td>0</td>\n",
       "    </tr>\n",
       "  </tbody>\n",
       "</table>\n",
       "</div>"
      ],
      "text/plain": [
       "  currency   type       balance   available        holds\n",
       "0     USDT  trade  868.50276971  86.9491583  781.5536114\n",
       "1     ATOM  trade       69.4008       1.956      67.4448\n",
       "3      BTC  trade    0.00172929  0.00172929            0\n",
       "4     USDC  trade     0.0000033   0.0000033            0\n",
       "6     ALGO  trade             0           0            0"
      ]
     },
     "execution_count": 10,
     "metadata": {},
     "output_type": "execute_result"
    }
   ],
   "source": [
    "trade_account = df[df['type'] == 'trade']\n",
    "trade_account"
   ]
  },
  {
   "cell_type": "code",
   "execution_count": 11,
   "id": "5e7b54f5",
   "metadata": {},
   "outputs": [],
   "source": [
    "trade_account.to_excel('account_balance.xlsx')"
   ]
  },
  {
   "cell_type": "markdown",
   "id": "45502c74",
   "metadata": {},
   "source": [
    "### Getting the coin prices"
   ]
  },
  {
   "cell_type": "code",
   "execution_count": 12,
   "id": "45d564f4",
   "metadata": {},
   "outputs": [],
   "source": [
    "# Purpose is to create another dataframe (which will eventually become an excel sheet) that'll hold the current prices.\n",
    "# Or at least hold a variable with the current price.\n",
    "\n",
    "url = 'https://api.kucoin.com/api/v1/market/orderbook/level1?symbol=BTC-USDT'\n"
   ]
  },
  {
   "cell_type": "code",
   "execution_count": 13,
   "id": "808ec11a",
   "metadata": {},
   "outputs": [],
   "source": [
    "btc_price_check = requests.get(f'https://api.kucoin.com/api/v1/market/orderbook/level1?symbol=BTC-USDT')"
   ]
  },
  {
   "cell_type": "code",
   "execution_count": 14,
   "id": "f7e83553",
   "metadata": {},
   "outputs": [
    {
     "data": {
      "text/plain": [
       "{'time': 1622302949909,\n",
       " 'sequence': '1616923312463',\n",
       " 'price': '34426.8',\n",
       " 'size': '0.00006669',\n",
       " 'bestBid': '34426.8',\n",
       " 'bestBidSize': '0.1526984',\n",
       " 'bestAsk': '34426.9',\n",
       " 'bestAskSize': '0.0005'}"
      ]
     },
     "execution_count": 14,
     "metadata": {},
     "output_type": "execute_result"
    }
   ],
   "source": [
    "btc_price_check.json()['data']"
   ]
  },
  {
   "cell_type": "code",
   "execution_count": 20,
   "id": "15b897c6",
   "metadata": {},
   "outputs": [],
   "source": [
    "# Create a list of coins:\n",
    "\n",
    "coin_list = ['BTC', 'ETH', 'ADA', 'ALGO', 'ATOM', 'XLM', 'DOT']\n",
    "cash_list = ['USDT', 'USD', 'USDC']"
   ]
  },
  {
   "cell_type": "code",
   "execution_count": 21,
   "id": "ed5b11b0",
   "metadata": {},
   "outputs": [
    {
     "name": "stdout",
     "output_type": "stream",
     "text": [
      "['BTC', 'ETH', 'ADA', 'ALGO', 'ATOM', 'XLM', 'DOT'] ['USDT', 'USD', 'USDC']\n"
     ]
    }
   ],
   "source": [
    "print(coin_list, cash_list)"
   ]
  },
  {
   "cell_type": "code",
   "execution_count": 22,
   "id": "a090e97d",
   "metadata": {},
   "outputs": [
    {
     "name": "stdout",
     "output_type": "stream",
     "text": [
      "BTC price in USDT\n",
      "34427.8\n",
      "ETH price in USDT\n",
      "2328.32\n",
      "ADA price in USDT\n",
      "1.40245\n",
      "ALGO price in USDT\n",
      "0.8285\n",
      "ATOM price in USDT\n",
      "12.2063\n",
      "XLM price in USDT\n",
      "0.356733\n",
      "DOT price in USDT\n",
      "20.1917\n"
     ]
    }
   ],
   "source": [
    "# Now trying to interate through the list to get the prices... I'm doing this wrong however. Append isn't the correct method to use.\n",
    "\n",
    "for x in coin_list:\n",
    "    new_list = []\n",
    "    new_list.append(requests.get(f'https://api.kucoin.com/api/v1/market/orderbook/level1?symbol={x}-USDT').json()['data']['price'])\n",
    "    print(x + \" price in USDT\")\n",
    "    print(requests.get(f'https://api.kucoin.com/api/v1/market/orderbook/level1?symbol={x}-USDT').json()['data']['price'])\n",
    "    \n",
    "    "
   ]
  },
  {
   "cell_type": "code",
   "execution_count": null,
   "id": "ada56bf8",
   "metadata": {},
   "outputs": [],
   "source": [
    "new_list = []\n",
    "\n",
    "for i in coin_list:\n",
    "    new_list.append(i)\n",
    "\n",
    "print(new_list)\n",
    "    \n",
    "\n",
    "    "
   ]
  },
  {
   "cell_type": "code",
   "execution_count": 16,
   "id": "8e1a4d9a",
   "metadata": {},
   "outputs": [],
   "source": [
    "price_data = []"
   ]
  },
  {
   "cell_type": "code",
   "execution_count": 17,
   "id": "3bf58f73",
   "metadata": {},
   "outputs": [
    {
     "data": {
      "text/plain": [
       "list"
      ]
     },
     "execution_count": 17,
     "metadata": {},
     "output_type": "execute_result"
    }
   ],
   "source": [
    "type(price_data)"
   ]
  },
  {
   "cell_type": "code",
   "execution_count": 49,
   "id": "ce4cdd12",
   "metadata": {},
   "outputs": [
    {
     "data": {
      "text/plain": [
       "'34232.6'"
      ]
     },
     "execution_count": 49,
     "metadata": {},
     "output_type": "execute_result"
    }
   ],
   "source": [
    "# testing out the api call first\n",
    "\n",
    "cointest = \"BTC\"\n",
    "requests.get(f'https://api.kucoin.com/api/v1/market/orderbook/level1?symbol={cointest}-USDT').json()['data']['price']"
   ]
  },
  {
   "cell_type": "code",
   "execution_count": 25,
   "id": "e18a7132",
   "metadata": {},
   "outputs": [
    {
     "data": {
      "text/plain": [
       "[34399.5, 2327.12, 1.400691, 0.8277, 12.254, 0.356775, 20.1701]"
      ]
     },
     "execution_count": 25,
     "metadata": {},
     "output_type": "execute_result"
    }
   ],
   "source": [
    "# This for loop will create a list of prices by calling each crypto within my 'coin_list' list. \n",
    "\n",
    "price_list = []\n",
    "for coin in coin_list:\n",
    "    prices = float(requests.get(f'https://api.kucoin.com/api/v1/market/orderbook/level1?symbol={coin}-USDT').json()['data']['price'])\n",
    "#     print(prices), print(type(prices))\n",
    "    price_list.append(prices)\n",
    "#     price_type = float(prices)\n",
    "#     print(type(price_test))\n",
    "#     price_data.append(prices.assign(coin = coin)[['coin', 'close']])\n",
    "# type(prices)\n",
    "price_list"
   ]
  },
  {
   "cell_type": "code",
   "execution_count": 33,
   "id": "ed635d8d",
   "metadata": {},
   "outputs": [
    {
     "data": {
      "text/plain": [
       "{'coin': ['BTC', 'ETH', 'ADA', 'ALGO', 'ATOM', 'XLM', 'DOT'],\n",
       " 'price': [34399.5, 2327.12, 1.400691, 0.8277, 12.254, 0.356775, 20.1701]}"
      ]
     },
     "execution_count": 33,
     "metadata": {},
     "output_type": "execute_result"
    }
   ],
   "source": [
    "coin_dict = {\"coin\":coin_list, \"price\":price_list}\n",
    "\n",
    "coin_dict"
   ]
  },
  {
   "cell_type": "code",
   "execution_count": 34,
   "id": "253e6fd1",
   "metadata": {},
   "outputs": [
    {
     "data": {
      "text/html": [
       "<div>\n",
       "<style scoped>\n",
       "    .dataframe tbody tr th:only-of-type {\n",
       "        vertical-align: middle;\n",
       "    }\n",
       "\n",
       "    .dataframe tbody tr th {\n",
       "        vertical-align: top;\n",
       "    }\n",
       "\n",
       "    .dataframe thead th {\n",
       "        text-align: right;\n",
       "    }\n",
       "</style>\n",
       "<table border=\"1\" class=\"dataframe\">\n",
       "  <thead>\n",
       "    <tr style=\"text-align: right;\">\n",
       "      <th></th>\n",
       "      <th>coin</th>\n",
       "      <th>price</th>\n",
       "    </tr>\n",
       "  </thead>\n",
       "  <tbody>\n",
       "    <tr>\n",
       "      <th>0</th>\n",
       "      <td>BTC</td>\n",
       "      <td>34399.500000</td>\n",
       "    </tr>\n",
       "    <tr>\n",
       "      <th>1</th>\n",
       "      <td>ETH</td>\n",
       "      <td>2327.120000</td>\n",
       "    </tr>\n",
       "    <tr>\n",
       "      <th>2</th>\n",
       "      <td>ADA</td>\n",
       "      <td>1.400691</td>\n",
       "    </tr>\n",
       "    <tr>\n",
       "      <th>3</th>\n",
       "      <td>ALGO</td>\n",
       "      <td>0.827700</td>\n",
       "    </tr>\n",
       "    <tr>\n",
       "      <th>4</th>\n",
       "      <td>ATOM</td>\n",
       "      <td>12.254000</td>\n",
       "    </tr>\n",
       "    <tr>\n",
       "      <th>5</th>\n",
       "      <td>XLM</td>\n",
       "      <td>0.356775</td>\n",
       "    </tr>\n",
       "    <tr>\n",
       "      <th>6</th>\n",
       "      <td>DOT</td>\n",
       "      <td>20.170100</td>\n",
       "    </tr>\n",
       "  </tbody>\n",
       "</table>\n",
       "</div>"
      ],
      "text/plain": [
       "   coin         price\n",
       "0   BTC  34399.500000\n",
       "1   ETH   2327.120000\n",
       "2   ADA      1.400691\n",
       "3  ALGO      0.827700\n",
       "4  ATOM     12.254000\n",
       "5   XLM      0.356775\n",
       "6   DOT     20.170100"
      ]
     },
     "execution_count": 34,
     "metadata": {},
     "output_type": "execute_result"
    }
   ],
   "source": [
    "df_prices = pd.DataFrame(coin_dict)\n",
    "df_prices"
   ]
  },
  {
   "cell_type": "markdown",
   "id": "4b69ab7d",
   "metadata": {},
   "source": [
    "That is my problem... when I pull the json object, and narrow down to just the price, it is just a string within the dictionary. So I need to cast is as a float somehow within that for loop."
   ]
  },
  {
   "cell_type": "code",
   "execution_count": 29,
   "id": "703f9cb8",
   "metadata": {},
   "outputs": [
    {
     "data": {
      "text/html": [
       "<div>\n",
       "<style scoped>\n",
       "    .dataframe tbody tr th:only-of-type {\n",
       "        vertical-align: middle;\n",
       "    }\n",
       "\n",
       "    .dataframe tbody tr th {\n",
       "        vertical-align: top;\n",
       "    }\n",
       "\n",
       "    .dataframe thead th {\n",
       "        text-align: right;\n",
       "    }\n",
       "</style>\n",
       "<table border=\"1\" class=\"dataframe\">\n",
       "  <thead>\n",
       "    <tr style=\"text-align: right;\">\n",
       "      <th></th>\n",
       "      <th>currency</th>\n",
       "      <th>type</th>\n",
       "      <th>balance</th>\n",
       "      <th>available</th>\n",
       "      <th>holds</th>\n",
       "    </tr>\n",
       "  </thead>\n",
       "  <tbody>\n",
       "    <tr>\n",
       "      <th>0</th>\n",
       "      <td>USDT</td>\n",
       "      <td>trade</td>\n",
       "      <td>868.50276971</td>\n",
       "      <td>86.9491583</td>\n",
       "      <td>781.5536114</td>\n",
       "    </tr>\n",
       "    <tr>\n",
       "      <th>1</th>\n",
       "      <td>ATOM</td>\n",
       "      <td>trade</td>\n",
       "      <td>69.4008</td>\n",
       "      <td>1.956</td>\n",
       "      <td>67.4448</td>\n",
       "    </tr>\n",
       "    <tr>\n",
       "      <th>3</th>\n",
       "      <td>BTC</td>\n",
       "      <td>trade</td>\n",
       "      <td>0.00172929</td>\n",
       "      <td>0.00172929</td>\n",
       "      <td>0</td>\n",
       "    </tr>\n",
       "    <tr>\n",
       "      <th>4</th>\n",
       "      <td>USDC</td>\n",
       "      <td>trade</td>\n",
       "      <td>0.0000033</td>\n",
       "      <td>0.0000033</td>\n",
       "      <td>0</td>\n",
       "    </tr>\n",
       "    <tr>\n",
       "      <th>6</th>\n",
       "      <td>ALGO</td>\n",
       "      <td>trade</td>\n",
       "      <td>0</td>\n",
       "      <td>0</td>\n",
       "      <td>0</td>\n",
       "    </tr>\n",
       "  </tbody>\n",
       "</table>\n",
       "</div>"
      ],
      "text/plain": [
       "  currency   type       balance   available        holds\n",
       "0     USDT  trade  868.50276971  86.9491583  781.5536114\n",
       "1     ATOM  trade       69.4008       1.956      67.4448\n",
       "3      BTC  trade    0.00172929  0.00172929            0\n",
       "4     USDC  trade     0.0000033   0.0000033            0\n",
       "6     ALGO  trade             0           0            0"
      ]
     },
     "execution_count": 29,
     "metadata": {},
     "output_type": "execute_result"
    }
   ],
   "source": [
    "trade_account"
   ]
  },
  {
   "cell_type": "code",
   "execution_count": 36,
   "id": "3e263c5f",
   "metadata": {},
   "outputs": [
    {
     "data": {
      "text/html": [
       "<div>\n",
       "<style scoped>\n",
       "    .dataframe tbody tr th:only-of-type {\n",
       "        vertical-align: middle;\n",
       "    }\n",
       "\n",
       "    .dataframe tbody tr th {\n",
       "        vertical-align: top;\n",
       "    }\n",
       "\n",
       "    .dataframe thead th {\n",
       "        text-align: right;\n",
       "    }\n",
       "</style>\n",
       "<table border=\"1\" class=\"dataframe\">\n",
       "  <thead>\n",
       "    <tr style=\"text-align: right;\">\n",
       "      <th></th>\n",
       "      <th>currency</th>\n",
       "      <th>type</th>\n",
       "      <th>balance</th>\n",
       "      <th>available</th>\n",
       "      <th>holds</th>\n",
       "    </tr>\n",
       "  </thead>\n",
       "  <tbody>\n",
       "    <tr>\n",
       "      <th>0</th>\n",
       "      <td>USDT</td>\n",
       "      <td>trade</td>\n",
       "      <td>868.50276971</td>\n",
       "      <td>86.9491583</td>\n",
       "      <td>781.5536114</td>\n",
       "    </tr>\n",
       "    <tr>\n",
       "      <th>1</th>\n",
       "      <td>ATOM</td>\n",
       "      <td>trade</td>\n",
       "      <td>69.4008</td>\n",
       "      <td>1.956</td>\n",
       "      <td>67.4448</td>\n",
       "    </tr>\n",
       "    <tr>\n",
       "      <th>3</th>\n",
       "      <td>BTC</td>\n",
       "      <td>trade</td>\n",
       "      <td>0.00172929</td>\n",
       "      <td>0.00172929</td>\n",
       "      <td>0</td>\n",
       "    </tr>\n",
       "    <tr>\n",
       "      <th>4</th>\n",
       "      <td>USDC</td>\n",
       "      <td>trade</td>\n",
       "      <td>0.0000033</td>\n",
       "      <td>0.0000033</td>\n",
       "      <td>0</td>\n",
       "    </tr>\n",
       "    <tr>\n",
       "      <th>6</th>\n",
       "      <td>ALGO</td>\n",
       "      <td>trade</td>\n",
       "      <td>0</td>\n",
       "      <td>0</td>\n",
       "      <td>0</td>\n",
       "    </tr>\n",
       "  </tbody>\n",
       "</table>\n",
       "</div>"
      ],
      "text/plain": [
       "  currency   type       balance   available        holds\n",
       "0     USDT  trade  868.50276971  86.9491583  781.5536114\n",
       "1     ATOM  trade       69.4008       1.956      67.4448\n",
       "3      BTC  trade    0.00172929  0.00172929            0\n",
       "4     USDC  trade     0.0000033   0.0000033            0\n",
       "6     ALGO  trade             0           0            0"
      ]
     },
     "execution_count": 36,
     "metadata": {},
     "output_type": "execute_result"
    }
   ],
   "source": [
    "test_account = trade_account\n",
    "test_account"
   ]
  },
  {
   "cell_type": "code",
   "execution_count": 43,
   "id": "ee5727fd",
   "metadata": {},
   "outputs": [
    {
     "data": {
      "text/html": [
       "<div>\n",
       "<style scoped>\n",
       "    .dataframe tbody tr th:only-of-type {\n",
       "        vertical-align: middle;\n",
       "    }\n",
       "\n",
       "    .dataframe tbody tr th {\n",
       "        vertical-align: top;\n",
       "    }\n",
       "\n",
       "    .dataframe thead th {\n",
       "        text-align: right;\n",
       "    }\n",
       "</style>\n",
       "<table border=\"1\" class=\"dataframe\">\n",
       "  <thead>\n",
       "    <tr style=\"text-align: right;\">\n",
       "      <th></th>\n",
       "      <th>currency</th>\n",
       "      <th>type</th>\n",
       "      <th>balance</th>\n",
       "      <th>available</th>\n",
       "      <th>holds</th>\n",
       "      <th>coin</th>\n",
       "      <th>price</th>\n",
       "    </tr>\n",
       "  </thead>\n",
       "  <tbody>\n",
       "    <tr>\n",
       "      <th>0</th>\n",
       "      <td>USDT</td>\n",
       "      <td>trade</td>\n",
       "      <td>868.50276971</td>\n",
       "      <td>86.9491583</td>\n",
       "      <td>781.5536114</td>\n",
       "      <td>NaN</td>\n",
       "      <td>NaN</td>\n",
       "    </tr>\n",
       "    <tr>\n",
       "      <th>1</th>\n",
       "      <td>ATOM</td>\n",
       "      <td>trade</td>\n",
       "      <td>69.4008</td>\n",
       "      <td>1.956</td>\n",
       "      <td>67.4448</td>\n",
       "      <td>ATOM</td>\n",
       "      <td>12.2540</td>\n",
       "    </tr>\n",
       "    <tr>\n",
       "      <th>2</th>\n",
       "      <td>BTC</td>\n",
       "      <td>trade</td>\n",
       "      <td>0.00172929</td>\n",
       "      <td>0.00172929</td>\n",
       "      <td>0</td>\n",
       "      <td>BTC</td>\n",
       "      <td>34399.5000</td>\n",
       "    </tr>\n",
       "    <tr>\n",
       "      <th>3</th>\n",
       "      <td>USDC</td>\n",
       "      <td>trade</td>\n",
       "      <td>0.0000033</td>\n",
       "      <td>0.0000033</td>\n",
       "      <td>0</td>\n",
       "      <td>NaN</td>\n",
       "      <td>NaN</td>\n",
       "    </tr>\n",
       "    <tr>\n",
       "      <th>4</th>\n",
       "      <td>ALGO</td>\n",
       "      <td>trade</td>\n",
       "      <td>0</td>\n",
       "      <td>0</td>\n",
       "      <td>0</td>\n",
       "      <td>ALGO</td>\n",
       "      <td>0.8277</td>\n",
       "    </tr>\n",
       "  </tbody>\n",
       "</table>\n",
       "</div>"
      ],
      "text/plain": [
       "  currency   type       balance   available        holds  coin       price\n",
       "0     USDT  trade  868.50276971  86.9491583  781.5536114   NaN         NaN\n",
       "1     ATOM  trade       69.4008       1.956      67.4448  ATOM     12.2540\n",
       "2      BTC  trade    0.00172929  0.00172929            0   BTC  34399.5000\n",
       "3     USDC  trade     0.0000033   0.0000033            0   NaN         NaN\n",
       "4     ALGO  trade             0           0            0  ALGO      0.8277"
      ]
     },
     "execution_count": 43,
     "metadata": {},
     "output_type": "execute_result"
    }
   ],
   "source": [
    "# merging the two so I can create new columns:\n",
    "\n",
    "holdings = test_account.merge(df_prices, left_on = 'currency', right_on = 'coin', how = 'left')\n",
    "holdings"
   ]
  },
  {
   "cell_type": "code",
   "execution_count": 44,
   "id": "6fb52a89",
   "metadata": {},
   "outputs": [
    {
     "data": {
      "text/html": [
       "<div>\n",
       "<style scoped>\n",
       "    .dataframe tbody tr th:only-of-type {\n",
       "        vertical-align: middle;\n",
       "    }\n",
       "\n",
       "    .dataframe tbody tr th {\n",
       "        vertical-align: top;\n",
       "    }\n",
       "\n",
       "    .dataframe thead th {\n",
       "        text-align: right;\n",
       "    }\n",
       "</style>\n",
       "<table border=\"1\" class=\"dataframe\">\n",
       "  <thead>\n",
       "    <tr style=\"text-align: right;\">\n",
       "      <th></th>\n",
       "      <th>currency</th>\n",
       "      <th>type</th>\n",
       "      <th>balance</th>\n",
       "      <th>available</th>\n",
       "      <th>holds</th>\n",
       "      <th>coin</th>\n",
       "      <th>price</th>\n",
       "    </tr>\n",
       "  </thead>\n",
       "  <tbody>\n",
       "    <tr>\n",
       "      <th>0</th>\n",
       "      <td>USDT</td>\n",
       "      <td>trade</td>\n",
       "      <td>868.50276971</td>\n",
       "      <td>86.9491583</td>\n",
       "      <td>781.5536114</td>\n",
       "      <td>NaN</td>\n",
       "      <td>NaN</td>\n",
       "    </tr>\n",
       "    <tr>\n",
       "      <th>1</th>\n",
       "      <td>ATOM</td>\n",
       "      <td>trade</td>\n",
       "      <td>69.4008</td>\n",
       "      <td>1.956</td>\n",
       "      <td>67.4448</td>\n",
       "      <td>ATOM</td>\n",
       "      <td>12.2540</td>\n",
       "    </tr>\n",
       "    <tr>\n",
       "      <th>2</th>\n",
       "      <td>BTC</td>\n",
       "      <td>trade</td>\n",
       "      <td>0.00172929</td>\n",
       "      <td>0.00172929</td>\n",
       "      <td>0</td>\n",
       "      <td>BTC</td>\n",
       "      <td>34399.5000</td>\n",
       "    </tr>\n",
       "    <tr>\n",
       "      <th>3</th>\n",
       "      <td>USDC</td>\n",
       "      <td>trade</td>\n",
       "      <td>0.0000033</td>\n",
       "      <td>0.0000033</td>\n",
       "      <td>0</td>\n",
       "      <td>NaN</td>\n",
       "      <td>NaN</td>\n",
       "    </tr>\n",
       "    <tr>\n",
       "      <th>4</th>\n",
       "      <td>ALGO</td>\n",
       "      <td>trade</td>\n",
       "      <td>0</td>\n",
       "      <td>0</td>\n",
       "      <td>0</td>\n",
       "      <td>ALGO</td>\n",
       "      <td>0.8277</td>\n",
       "    </tr>\n",
       "  </tbody>\n",
       "</table>\n",
       "</div>"
      ],
      "text/plain": [
       "  currency   type       balance   available        holds  coin       price\n",
       "0     USDT  trade  868.50276971  86.9491583  781.5536114   NaN         NaN\n",
       "1     ATOM  trade       69.4008       1.956      67.4448  ATOM     12.2540\n",
       "2      BTC  trade    0.00172929  0.00172929            0   BTC  34399.5000\n",
       "3     USDC  trade     0.0000033   0.0000033            0   NaN         NaN\n",
       "4     ALGO  trade             0           0            0  ALGO      0.8277"
      ]
     },
     "execution_count": 44,
     "metadata": {},
     "output_type": "execute_result"
    }
   ],
   "source": [
    "holdings.drop(columns = ['coin'])\n",
    "holdings"
   ]
  },
  {
   "cell_type": "code",
   "execution_count": 45,
   "id": "3d7a2db8",
   "metadata": {},
   "outputs": [
    {
     "data": {
      "text/html": [
       "<div>\n",
       "<style scoped>\n",
       "    .dataframe tbody tr th:only-of-type {\n",
       "        vertical-align: middle;\n",
       "    }\n",
       "\n",
       "    .dataframe tbody tr th {\n",
       "        vertical-align: top;\n",
       "    }\n",
       "\n",
       "    .dataframe thead th {\n",
       "        text-align: right;\n",
       "    }\n",
       "</style>\n",
       "<table border=\"1\" class=\"dataframe\">\n",
       "  <thead>\n",
       "    <tr style=\"text-align: right;\">\n",
       "      <th></th>\n",
       "      <th>currency</th>\n",
       "      <th>type</th>\n",
       "      <th>balance</th>\n",
       "      <th>available</th>\n",
       "      <th>holds</th>\n",
       "    </tr>\n",
       "  </thead>\n",
       "  <tbody>\n",
       "    <tr>\n",
       "      <th>0</th>\n",
       "      <td>USDT</td>\n",
       "      <td>trade</td>\n",
       "      <td>868.50276971</td>\n",
       "      <td>86.9491583</td>\n",
       "      <td>781.5536114</td>\n",
       "    </tr>\n",
       "    <tr>\n",
       "      <th>1</th>\n",
       "      <td>ATOM</td>\n",
       "      <td>trade</td>\n",
       "      <td>69.4008</td>\n",
       "      <td>1.956</td>\n",
       "      <td>67.4448</td>\n",
       "    </tr>\n",
       "    <tr>\n",
       "      <th>3</th>\n",
       "      <td>BTC</td>\n",
       "      <td>trade</td>\n",
       "      <td>0.00172929</td>\n",
       "      <td>0.00172929</td>\n",
       "      <td>0</td>\n",
       "    </tr>\n",
       "    <tr>\n",
       "      <th>4</th>\n",
       "      <td>USDC</td>\n",
       "      <td>trade</td>\n",
       "      <td>0.0000033</td>\n",
       "      <td>0.0000033</td>\n",
       "      <td>0</td>\n",
       "    </tr>\n",
       "    <tr>\n",
       "      <th>6</th>\n",
       "      <td>ALGO</td>\n",
       "      <td>trade</td>\n",
       "      <td>0</td>\n",
       "      <td>0</td>\n",
       "      <td>0</td>\n",
       "    </tr>\n",
       "  </tbody>\n",
       "</table>\n",
       "</div>"
      ],
      "text/plain": [
       "  currency   type       balance   available        holds\n",
       "0     USDT  trade  868.50276971  86.9491583  781.5536114\n",
       "1     ATOM  trade       69.4008       1.956      67.4448\n",
       "3      BTC  trade    0.00172929  0.00172929            0\n",
       "4     USDC  trade     0.0000033   0.0000033            0\n",
       "6     ALGO  trade             0           0            0"
      ]
     },
     "execution_count": 45,
     "metadata": {},
     "output_type": "execute_result"
    }
   ],
   "source": [
    "test_account"
   ]
  },
  {
   "cell_type": "code",
   "execution_count": null,
   "id": "d12cd1bb",
   "metadata": {},
   "outputs": [],
   "source": []
  },
  {
   "cell_type": "code",
   "execution_count": null,
   "id": "54ad2dc9",
   "metadata": {},
   "outputs": [],
   "source": [
    "prices"
   ]
  },
  {
   "cell_type": "code",
   "execution_count": null,
   "id": "9563a5d2",
   "metadata": {},
   "outputs": [],
   "source": [
    "price_test = float(prices)\n",
    "print(type(price_test))"
   ]
  },
  {
   "cell_type": "code",
   "execution_count": null,
   "id": "652ecbca",
   "metadata": {},
   "outputs": [],
   "source": []
  }
 ],
 "metadata": {
  "kernelspec": {
   "display_name": "Python 3",
   "language": "python",
   "name": "python3"
  },
  "language_info": {
   "codemirror_mode": {
    "name": "ipython",
    "version": 3
   },
   "file_extension": ".py",
   "mimetype": "text/x-python",
   "name": "python",
   "nbconvert_exporter": "python",
   "pygments_lexer": "ipython3",
   "version": "3.8.8"
  }
 },
 "nbformat": 4,
 "nbformat_minor": 5
}
