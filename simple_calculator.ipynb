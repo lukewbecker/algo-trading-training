{
 "cells": [
  {
   "cell_type": "markdown",
   "metadata": {},
   "source": [
    "## Building a Simple Python Calculator"
   ]
  },
  {
   "cell_type": "code",
   "execution_count": 1,
   "metadata": {},
   "outputs": [],
   "source": [
    "import numpy\n",
    "import math\n",
    "import scipy"
   ]
  },
  {
   "cell_type": "code",
   "execution_count": 2,
   "metadata": {},
   "outputs": [
    {
     "name": "stdout",
     "output_type": "stream",
     "text": [
      "Enter the first number: 2\n",
      "Enter the second number: 4\n",
      "6\n"
     ]
    }
   ],
   "source": [
    "number_1 = int(input(\"Enter the first number: \"))\n",
    "number_2 = int(input(\"Enter the second number: \"))\n",
    "\n",
    "total = number_1 + number_2\n",
    "\n",
    "print(total)"
   ]
  },
  {
   "cell_type": "code",
   "execution_count": 3,
   "metadata": {},
   "outputs": [
    {
     "name": "stdout",
     "output_type": "stream",
     "text": [
      "Enter the first number: 5\n",
      "Enter the second number: 1\n",
      "5 + 1 = \n",
      "6\n"
     ]
    }
   ],
   "source": [
    "number_1 = int(input(\"Enter the first number: \"))\n",
    "number_2 = int(input(\"Enter the second number: \"))\n",
    "\n",
    "total = number_1 + number_2\n",
    "\n",
    "print('{} + {} = '.format(number_1, number_2))\n",
    "\n",
    "print(total)"
   ]
  },
  {
   "cell_type": "code",
   "execution_count": 4,
   "metadata": {},
   "outputs": [
    {
     "name": "stdout",
     "output_type": "stream",
     "text": [
      "\n",
      "Please type in the math operation you would like to complete:\n",
      "+\n",
      "-\n",
      "*\n",
      "/\n",
      "+\n"
     ]
    }
   ],
   "source": [
    "operation = input(\"\"\"\n",
    "Please type in the math operation you would like to complete:\n",
    "+\n",
    "-\n",
    "*\n",
    "/\n",
    "\"\"\")"
   ]
  },
  {
   "cell_type": "code",
   "execution_count": 5,
   "metadata": {},
   "outputs": [
    {
     "name": "stdout",
     "output_type": "stream",
     "text": [
      "\n",
      "Please type in the math operation you would like to complete:\n",
      "+ for addition\n",
      "- for subtraction\n",
      "* for multiplication\n",
      "/ for division\n",
      "-\n",
      "Enter the first number: 5\n",
      "Enter the second number: 1\n",
      "5 - 1 = \n",
      "4\n"
     ]
    }
   ],
   "source": [
    "operation = input('''\n",
    "Please type in the math operation you would like to complete:\n",
    "+ for addition\n",
    "- for subtraction\n",
    "* for multiplication\n",
    "/ for division\n",
    "''')\n",
    "\n",
    "number_1 = int(input(\"Enter the first number: \"))\n",
    "number_2 = int(input(\"Enter the second number: \"))\n",
    "\n",
    "if operation == '+':\n",
    "    print('{} + {} = '.format(number_1, number_2))\n",
    "    print(number_1 + number_2)\n",
    "\n",
    "elif operation == '-':\n",
    "    print('{} - {} = '.format(number_1, number_2))\n",
    "    print(number_1 - number_2)\n",
    "\n",
    "elif operation == '*':\n",
    "    print('{} * {} = '.format(number_1, number_2))\n",
    "    print(number_1 * number_2)\n",
    "    \n",
    "elif operation == '/':\n",
    "    print('{} / {} = '.format(number_1, number_2))\n",
    "    print(number_1 / number_2)\n",
    "    \n",
    "else:\n",
    "    print(\"You have not typed a valid operator, please run the program again.\")\n",
    "    "
   ]
  },
  {
   "cell_type": "code",
   "execution_count": 6,
   "metadata": {},
   "outputs": [],
   "source": [
    "# defining the function:\n",
    "\n",
    "def calculate():\n",
    "    \n",
    "    operation = input('''\n",
    "    Please type in the math operation you would like to complete:\n",
    "    + for addition\n",
    "    - for subtraction\n",
    "    * for multiplication\n",
    "    / for division\n",
    "    ''')\n",
    "\n",
    "    number_1 = int(input(\"Enter the first number: \"))\n",
    "    number_2 = int(input(\"Enter the second number: \"))\n",
    "\n",
    "    if operation == '+':\n",
    "        print('{} + {} = '.format(number_1, number_2))\n",
    "        print(number_1 + number_2)\n",
    "\n",
    "    elif operation == '-':\n",
    "        print('{} - {} = '.format(number_1, number_2))\n",
    "        print(number_1 - number_2)\n",
    "\n",
    "    elif operation == '*':\n",
    "        print('{} * {} = '.format(number_1, number_2))\n",
    "        print(number_1 * number_2)\n",
    "\n",
    "    elif operation == '/':\n",
    "        print('{} / {} = '.format(number_1, number_2))\n",
    "        print(number_1 / number_2)\n",
    "\n",
    "    else:\n",
    "        print(\"You have not typed a valid operator, please run the program again.\")"
   ]
  },
  {
   "cell_type": "code",
   "execution_count": 7,
   "metadata": {},
   "outputs": [
    {
     "name": "stdout",
     "output_type": "stream",
     "text": [
      "\n",
      "    Please type in the math operation you would like to complete:\n",
      "    + for addition\n",
      "    - for subtraction\n",
      "    * for multiplication\n",
      "    / for division\n",
      "    *\n",
      "Enter the first number: 4\n",
      "Enter the second number: 1\n",
      "4 * 1 = \n",
      "4\n"
     ]
    }
   ],
   "source": [
    "calculate()"
   ]
  },
  {
   "cell_type": "code",
   "execution_count": 8,
   "metadata": {},
   "outputs": [],
   "source": [
    "def again():\n",
    "    \n",
    "    calc_again = input('''\n",
    "    Do you want to run the calculator again? Please type Y for Yes or N for No.\n",
    "    ''')\n",
    "    \n",
    "    # If the user types \"Y\"\n",
    "    if calc_again == 'Y':\n",
    "        calculate()\n",
    "        \n",
    "    elif calc_again == 'N':\n",
    "        print(\"Thanks for using my calculator!\")\n",
    "    \n",
    "    else:\n",
    "        again()"
   ]
  },
  {
   "cell_type": "code",
   "execution_count": 9,
   "metadata": {},
   "outputs": [
    {
     "name": "stdout",
     "output_type": "stream",
     "text": [
      "\n",
      "    Do you want to run the calculator again? Please type Y for Yes or N for No.\n",
      "    Y\n",
      "\n",
      "    Please type in the math operation you would like to complete:\n",
      "    + for addition\n",
      "    - for subtraction\n",
      "    * for multiplication\n",
      "    / for division\n",
      "    +\n",
      "Enter the first number: 5\n",
      "Enter the second number: 2\n",
      "5 + 2 = \n",
      "7\n"
     ]
    }
   ],
   "source": [
    "again()"
   ]
  },
  {
   "cell_type": "code",
   "execution_count": 10,
   "metadata": {},
   "outputs": [],
   "source": [
    "def welcome():\n",
    "    print('''Welcome to my calculator, 100% made in Python.''')\n",
    "\n",
    "def calculate():\n",
    "    \n",
    "    operation = input('''\n",
    "    Please type in the math operation you would like to complete:\n",
    "    + for addition\n",
    "    - for subtraction\n",
    "    * for multiplication\n",
    "    / for division\n",
    "    ''')\n",
    "\n",
    "    number_1 = int(input(\"Enter the first number: \"))\n",
    "    number_2 = int(input(\"Enter the second number: \"))\n",
    "\n",
    "    if operation == '+':\n",
    "        print('{} + {} = '.format(number_1, number_2))\n",
    "        print(number_1 + number_2)\n",
    "\n",
    "    elif operation == '-':\n",
    "        print('{} - {} = '.format(number_1, number_2))\n",
    "        print(number_1 - number_2)\n",
    "\n",
    "    elif operation == '*':\n",
    "        print('{} * {} = '.format(number_1, number_2))\n",
    "        print(number_1 * number_2)\n",
    "\n",
    "    elif operation == '/':\n",
    "        print('{} / {} = '.format(number_1, number_2))\n",
    "        print(number_1 / number_2)\n",
    "\n",
    "    else:\n",
    "        print(\"You have not typed a valid operator, please run the program again.\")\n",
    "\n",
    "def again():\n",
    "    \n",
    "    calc_again = input('''\n",
    "    Do you want to run the calculator again? Please type Y for Yes or N for No.\n",
    "    ''')\n",
    "    \n",
    "    # If the user types \"Y\"\n",
    "    if calc_again == 'Y':\n",
    "        calculate()\n",
    "        \n",
    "    elif calc_again == 'N':\n",
    "        print(\"Thanks for using my calculator!\")\n",
    "    \n",
    "    else:\n",
    "        again()      "
   ]
  },
  {
   "cell_type": "code",
   "execution_count": 11,
   "metadata": {},
   "outputs": [],
   "source": [
    "def welcome():\n",
    "    print('''Welcome to my calculator, 100% made in Python.''')"
   ]
  },
  {
   "cell_type": "code",
   "execution_count": 12,
   "metadata": {},
   "outputs": [
    {
     "name": "stdout",
     "output_type": "stream",
     "text": [
      "Welcome to my calculator, 100% made in Python.\n",
      "\n",
      "    Please type in the math operation you would like to complete:\n",
      "    + for addition\n",
      "    - for subtraction\n",
      "    * for multiplication\n",
      "    / for division\n",
      "    +\n",
      "Enter the first number: 4\n",
      "Enter the second number: 5\n",
      "4 + 5 = \n",
      "9\n",
      "\n",
      "    Do you want to run the calculator again? Please type Y for Yes or N for No.\n",
      "    Y\n",
      "\n",
      "    Please type in the math operation you would like to complete:\n",
      "    + for addition\n",
      "    - for subtraction\n",
      "    * for multiplication\n",
      "    / for division\n",
      "    /\n",
      "Enter the first number: 10\n",
      "Enter the second number: 5\n",
      "10 / 5 = \n",
      "2.0\n"
     ]
    }
   ],
   "source": [
    "welcome()\n",
    "calculate()\n",
    "again()"
   ]
  },
  {
   "cell_type": "code",
   "execution_count": 13,
   "metadata": {},
   "outputs": [
    {
     "name": "stdout",
     "output_type": "stream",
     "text": [
      "Welcome to my calculator, 100% made in Python.\n",
      "\n",
      "    Please type in the math operation you would like to complete:\n",
      "    + for addition\n",
      "    - for subtraction\n",
      "    * for multiplication\n",
      "    / for division\n",
      "    +\n",
      "Enter the first number: 2\n",
      "Enter the second number: 2\n",
      "2 + 2 = \n",
      "4\n",
      "\n",
      "    Do you want to run the calculator again? Please type Y for Yes or N for No.\n",
      "    N\n",
      "Thanks for using my calculator!\n"
     ]
    }
   ],
   "source": [
    "welcome()\n",
    "calculate()\n",
    "again()"
   ]
  },
  {
   "cell_type": "code",
   "execution_count": null,
   "metadata": {},
   "outputs": [],
   "source": []
  }
 ],
 "metadata": {
  "kernelspec": {
   "display_name": "Python 3",
   "language": "python",
   "name": "python3"
  },
  "language_info": {
   "codemirror_mode": {
    "name": "ipython",
    "version": 3
   },
   "file_extension": ".py",
   "mimetype": "text/x-python",
   "name": "python",
   "nbconvert_exporter": "python",
   "pygments_lexer": "ipython3",
   "version": "3.8.8"
  }
 },
 "nbformat": 4,
 "nbformat_minor": 4
}
