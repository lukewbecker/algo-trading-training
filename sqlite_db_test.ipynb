{
 "cells": [
  {
   "cell_type": "code",
   "execution_count": 1,
   "id": "dc61236d-1f0d-4068-a65a-2d3db4157ad5",
   "metadata": {},
   "outputs": [],
   "source": [
    "import sqlite3"
   ]
  },
  {
   "cell_type": "code",
   "execution_count": 2,
   "id": "ee891042-cd20-4cab-bbfb-6d0811d22dfd",
   "metadata": {},
   "outputs": [
    {
     "name": "stdout",
     "output_type": "stream",
     "text": [
      "Successfully Connected to SQLite\n",
      "SQLite table created\n",
      "sqlite connection is closed\n"
     ]
    }
   ],
   "source": [
    "try:\n",
    "    sqliteConnection = sqlite3.connect('SQLite_Python.db')\n",
    "    sqlite_create_table_query = '''CREATE TABLE SqliteDb_developers (\n",
    "                                id INTEGER PRIMARY KEY,\n",
    "                                name TEXT NOT NULL,\n",
    "                                email text NOT NULL UNIQUE,\n",
    "                                joining_date datetime,\n",
    "                                salary REAL NOT NULL);'''\n",
    "\n",
    "    cursor = sqliteConnection.cursor()\n",
    "    print(\"Successfully Connected to SQLite\")\n",
    "    cursor.execute(sqlite_create_table_query)\n",
    "    sqliteConnection.commit()\n",
    "    print(\"SQLite table created\")\n",
    "\n",
    "    cursor.close()\n",
    "\n",
    "except sqlite3.Error as error:\n",
    "    print(\"Error while creating a sqlite table\", error)\n",
    "finally:\n",
    "    if sqliteConnection:\n",
    "        sqliteConnection.close()\n",
    "        print(\"sqlite connection is closed\")"
   ]
  },
  {
   "cell_type": "code",
   "execution_count": null,
   "id": "bbf34069-b71b-4152-b6ae-3c2073d986f0",
   "metadata": {},
   "outputs": [],
   "source": []
  }
 ],
 "metadata": {
  "kernelspec": {
   "display_name": "Python 3",
   "language": "python",
   "name": "python3"
  },
  "language_info": {
   "codemirror_mode": {
    "name": "ipython",
    "version": 3
   },
   "file_extension": ".py",
   "mimetype": "text/x-python",
   "name": "python",
   "nbconvert_exporter": "python",
   "pygments_lexer": "ipython3",
   "version": "3.8.11"
  }
 },
 "nbformat": 4,
 "nbformat_minor": 5
}
