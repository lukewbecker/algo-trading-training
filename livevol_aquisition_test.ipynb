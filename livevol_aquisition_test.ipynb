{
 "cells": [
  {
   "cell_type": "code",
   "execution_count": 2,
   "id": "peripheral-interval",
   "metadata": {},
   "outputs": [
    {
     "name": "stdout",
     "output_type": "stream",
     "text": [
      "credentials loaded successfully\n"
     ]
    }
   ],
   "source": [
    "import pandas as pd\n",
    "import numpy as np\n",
    "import scipy.stats as stats\n",
    "import matplotlib.pyplot as plt\n",
    "import datetime\n",
    "\n",
    "import env"
   ]
  },
  {
   "cell_type": "code",
   "execution_count": 3,
   "id": "taken-mandate",
   "metadata": {},
   "outputs": [],
   "source": [
    "import json\n",
    "import base64\n",
    "import requests\n",
    "# Required package requests: `pip install requests`"
   ]
  },
  {
   "cell_type": "code",
   "execution_count": 9,
   "id": "alternate-source",
   "metadata": {},
   "outputs": [],
   "source": [
    "client_id = env.cboe_client_id\n",
    "client_secret = env.cboe_client_secret"
   ]
  },
  {
   "cell_type": "code",
   "execution_count": 10,
   "id": "proof-skirt",
   "metadata": {},
   "outputs": [
    {
     "name": "stdout",
     "output_type": "stream",
     "text": [
      "Authentication failed\n"
     ]
    }
   ],
   "source": [
    "identity_url = \"https://sandbox.livevol.com/id/connect/token\"\n",
    "\n",
    "encoded = base64.b64encode((client_id + ':' + client_secret).encode())\n",
    "headers = {\"Authorization\": \"Basic \" + encoded.decode('ascii')}\n",
    "payload = {\"grant_type\": \"client_credentials\"}\n",
    "\n",
    "# Requesting access token\n",
    "token_data = requests.post(identity_url, data=payload, headers=headers)\n",
    "\n",
    "if token_data.status_code == 200:\n",
    "    token = token_data.json()['access_token']\n",
    "    if len(token) > 0:\n",
    "        print(\"Authenticated successfully\")\n",
    "        # Requesting data from API\n",
    "        result = requests.get(\"https://sandbox.livevol.com/api/v1/delayed/market/symbols/AAPL\", headers={\"Authorization\": \"Bearer \" + token}, verify=False)\n",
    "        print(result.json())\n",
    "else:\n",
    "    print(\"Authentication failed\")"
   ]
  },
  {
   "cell_type": "code",
   "execution_count": 12,
   "id": "dynamic-withdrawal",
   "metadata": {},
   "outputs": [],
   "source": [
    "token_data = requests.post(identity_url, data=payload, headers=headers)"
   ]
  },
  {
   "cell_type": "code",
   "execution_count": 13,
   "id": "standard-venice",
   "metadata": {},
   "outputs": [
    {
     "data": {
      "text/plain": [
       "<Response [400]>"
      ]
     },
     "execution_count": 13,
     "metadata": {},
     "output_type": "execute_result"
    }
   ],
   "source": [
    "token_data"
   ]
  },
  {
   "cell_type": "code",
   "execution_count": null,
   "id": "funny-radical",
   "metadata": {},
   "outputs": [],
   "source": []
  }
 ],
 "metadata": {
  "kernelspec": {
   "display_name": "Python 3",
   "language": "python",
   "name": "python3"
  },
  "language_info": {
   "codemirror_mode": {
    "name": "ipython",
    "version": 3
   },
   "file_extension": ".py",
   "mimetype": "text/x-python",
   "name": "python",
   "nbconvert_exporter": "python",
   "pygments_lexer": "ipython3",
   "version": "3.7.9"
  }
 },
 "nbformat": 4,
 "nbformat_minor": 5
}
