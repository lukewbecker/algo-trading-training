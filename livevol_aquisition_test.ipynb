{
 "cells": [
  {
   "cell_type": "code",
   "execution_count": 2,
   "id": "chronic-mumbai",
   "metadata": {},
   "outputs": [
    {
     "ename": "ModuleNotFoundError",
     "evalue": "No module named 'env'",
     "output_type": "error",
     "traceback": [
      "\u001b[0;31m---------------------------------------------------------------------------\u001b[0m",
      "\u001b[0;31mModuleNotFoundError\u001b[0m                       Traceback (most recent call last)",
      "\u001b[0;32m<ipython-input-2-3c8d3bcc12a0>\u001b[0m in \u001b[0;36m<module>\u001b[0;34m\u001b[0m\n\u001b[1;32m      5\u001b[0m \u001b[0;32mimport\u001b[0m \u001b[0mdatetime\u001b[0m\u001b[0;34m\u001b[0m\u001b[0;34m\u001b[0m\u001b[0m\n\u001b[1;32m      6\u001b[0m \u001b[0;34m\u001b[0m\u001b[0m\n\u001b[0;32m----> 7\u001b[0;31m \u001b[0;32mimport\u001b[0m \u001b[0menv\u001b[0m\u001b[0;34m\u001b[0m\u001b[0;34m\u001b[0m\u001b[0m\n\u001b[0m",
      "\u001b[0;31mModuleNotFoundError\u001b[0m: No module named 'env'"
     ]
    }
   ],
   "source": [
    "import pandas as pd\n",
    "import numpy as np\n",
    "import scipy.stats as stats\n",
    "import matplotlib.pyplot as plt\n",
    "import datetime\n",
    "\n",
    "import env"
   ]
  },
  {
   "cell_type": "code",
   "execution_count": 1,
   "id": "driven-matrix",
   "metadata": {},
   "outputs": [],
   "source": [
    "import json\n",
    "import base64\n",
    "import requests\n",
    "# Required package requests: `pip install requests`"
   ]
  },
  {
   "cell_type": "code",
   "execution_count": null,
   "id": "progressive-perfume",
   "metadata": {},
   "outputs": [],
   "source": [
    "client_id = \"your_client_id\"\n",
    "client_secret = \"your_client_secret\"\n",
    "\n",
    "identity_url = \"https://sandbox.livevol.com/id/connect/token\"\n",
    "\n",
    "encoded = base64.b64encode((client_id + ':' + client_secret).encode())\n",
    "headers = {\"Authorization\": \"Basic \" + encoded.decode('ascii')}\n",
    "payload = {\"grant_type\": \"client_credentials\"}\n",
    "\n",
    "# Requesting access token\n",
    "token_data = requests.post(identity_url, data=payload, headers=headers)\n",
    "\n",
    "if token_data.status_code == 200:\n",
    "    token = token_data.json()['access_token']\n",
    "    if len(token) > 0:\n",
    "        print(\"Authenticated successfully\")\n",
    "        # Requesting data from API\n",
    "        result = requests.get(\"https://sandbox.livevol.com/api/v1/delayed/market/symbols/AAPL\", headers={\"Authorization\": \"Bearer \" + token}, verify=False)\n",
    "        print(result.json())\n",
    "else:\n",
    "    print(\"Authentication failed\")"
   ]
  }
 ],
 "metadata": {
  "kernelspec": {
   "display_name": "Python 3",
   "language": "python",
   "name": "python3"
  },
  "language_info": {
   "codemirror_mode": {
    "name": "ipython",
    "version": 3
   },
   "file_extension": ".py",
   "mimetype": "text/x-python",
   "name": "python",
   "nbconvert_exporter": "python",
   "pygments_lexer": "ipython3",
   "version": "3.7.9"
  }
 },
 "nbformat": 4,
 "nbformat_minor": 5
}
