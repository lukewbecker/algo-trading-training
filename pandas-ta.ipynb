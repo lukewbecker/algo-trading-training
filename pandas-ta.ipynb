{
 "cells": [
  {
   "cell_type": "code",
   "execution_count": 1,
   "id": "23f392f3-1612-4cfa-b5bd-42d329951728",
   "metadata": {},
   "outputs": [],
   "source": [
    "import pandas as pd"
   ]
  },
  {
   "cell_type": "code",
   "execution_count": 3,
   "id": "e8439d6e-a789-4b88-a44e-03d6a00fe7bf",
   "metadata": {},
   "outputs": [],
   "source": [
    "import numpy as np\n",
    "import matplotlib.pyplot as plt\n",
    "import seaborn as sns\n",
    "import requests\n",
    "\n",
    "import os\n",
    "import scipy.stats"
   ]
  },
  {
   "cell_type": "code",
   "execution_count": 4,
   "id": "5b5f62b3-ee48-4690-b2fe-aa8b54bf389c",
   "metadata": {},
   "outputs": [],
   "source": [
    "import pandas_ta as ta"
   ]
  },
  {
   "cell_type": "code",
   "execution_count": 5,
   "id": "fab508b0-32cb-4f3b-ae71-1e4d469eaabb",
   "metadata": {},
   "outputs": [],
   "source": [
    "test_var = 123"
   ]
  },
  {
   "cell_type": "code",
   "execution_count": null,
   "id": "c067b361-e336-409e-9a44-259417a20acd",
   "metadata": {},
   "outputs": [],
   "source": [
    "df = pd.DataFrame() # Empty DataFrame\n",
    "\n",
    "# Load data\n",
    "df = pd.read_csv(\"path/to/symbol.csv\", sep=\",\")\n",
    "# OR if you have yfinance installed\n",
    "df = df.ta.ticker(\"aapl\")\n",
    "\n",
    "# VWAP requires the DataFrame index to be a DatetimeIndex.\n",
    "# Replace \"datetime\" with the appropriate column from your DataFrame\n",
    "df.set_index(pd.DatetimeIndex(df[\"datetime\"]), inplace=True)\n",
    "\n",
    "# Calculate Returns and append to the df DataFrame\n",
    "df.ta.log_return(cumulative=True, append=True)\n",
    "df.ta.percent_return(cumulative=True, append=True)\n",
    "\n",
    "# New Columns with results\n",
    "df.columns\n",
    "\n",
    "# Take a peek\n",
    "df.tail()\n",
    "\n",
    "# vv Continue Post Processing vv"
   ]
  }
 ],
 "metadata": {
  "kernelspec": {
   "display_name": "Python 3",
   "language": "python",
   "name": "python3"
  },
  "language_info": {
   "codemirror_mode": {
    "name": "ipython",
    "version": 3
   },
   "file_extension": ".py",
   "mimetype": "text/x-python",
   "name": "python",
   "nbconvert_exporter": "python",
   "pygments_lexer": "ipython3",
   "version": "3.8.11"
  }
 },
 "nbformat": 4,
 "nbformat_minor": 5
}
