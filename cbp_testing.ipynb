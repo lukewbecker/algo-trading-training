{
 "cells": [
  {
   "cell_type": "code",
   "execution_count": 3,
   "id": "78186a7e",
   "metadata": {},
   "outputs": [],
   "source": [
    "import pandas as pd\n",
    "import numpy as np\n",
    "\n",
    "from scipy import stats\n",
    "import matplotlib.pyplot as plt\n",
    "import itertools\n",
    "\n",
    "import coinbasepro as cbp"
   ]
  },
  {
   "cell_type": "code",
   "execution_count": 5,
   "id": "0c6538d5",
   "metadata": {},
   "outputs": [
    {
     "data": {
      "text/plain": [
       "{'trade_id': 156590003,\n",
       " 'price': Decimal('61826.45'),\n",
       " 'size': Decimal('0.0106'),\n",
       " 'time': datetime.datetime(2021, 4, 17, 1, 12, 11, 940557),\n",
       " 'bid': Decimal('61826.44'),\n",
       " 'ask': Decimal('61826.45'),\n",
       " 'volume': Decimal('18543.1794655')}"
      ]
     },
     "execution_count": 5,
     "metadata": {},
     "output_type": "execute_result"
    }
   ],
   "source": [
    "client = cbp.PublicClient()\n",
    "client.get_product_ticker('BTC-USD')"
   ]
  },
  {
   "cell_type": "code",
   "execution_count": 6,
   "id": "5205e99d",
   "metadata": {},
   "outputs": [],
   "source": [
    "import talib"
   ]
  },
  {
   "cell_type": "code",
   "execution_count": 7,
   "id": "b83cb2ed",
   "metadata": {},
   "outputs": [
    {
     "data": {
      "text/plain": [
       "{'time': datetime.datetime(2021, 4, 17, 1, 14),\n",
       " 'low': Decimal('61750.01'),\n",
       " 'high': Decimal('61789.38'),\n",
       " 'open': 61775,\n",
       " 'close': Decimal('61750.01'),\n",
       " 'volume': Decimal('1.44338745')}"
      ]
     },
     "execution_count": 7,
     "metadata": {},
     "output_type": "execute_result"
    }
   ],
   "source": [
    "client.get_product_historic_rates('BTC-USD')[0]"
   ]
  },
  {
   "cell_type": "code",
   "execution_count": null,
   "id": "f13601c8",
   "metadata": {},
   "outputs": [],
   "source": []
  }
 ],
 "metadata": {
  "kernelspec": {
   "display_name": "Python 3",
   "language": "python",
   "name": "python3"
  },
  "language_info": {
   "codemirror_mode": {
    "name": "ipython",
    "version": 3
   },
   "file_extension": ".py",
   "mimetype": "text/x-python",
   "name": "python",
   "nbconvert_exporter": "python",
   "pygments_lexer": "ipython3",
   "version": "3.8.8"
  }
 },
 "nbformat": 4,
 "nbformat_minor": 5
}
