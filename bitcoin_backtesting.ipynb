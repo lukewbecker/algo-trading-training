{
 "cells": [
  {
   "cell_type": "code",
   "execution_count": 1,
   "metadata": {},
   "outputs": [],
   "source": [
    "#Bitcoin backtesting"
   ]
  },
  {
   "cell_type": "code",
   "execution_count": 29,
   "metadata": {},
   "outputs": [],
   "source": [
    "import pandas as pd\n",
    "date_from = \"2021-02-01\"\n",
    "date_to = \"2021-02-17\"\n",
    "\n",
    "dates = pd.date_range(date_from, date_to).astype(str).str.replace(\"-\", \"\")"
   ]
  },
  {
   "cell_type": "code",
   "execution_count": 20,
   "metadata": {},
   "outputs": [],
   "source": [
    "import requests\n",
    "from os import path\n",
    "BASE_URL = 'https://s3-eu-west-1.amazonaws.com/public.bitmex.com/data/trade/%s'"
   ]
  },
  {
   "cell_type": "code",
   "execution_count": 21,
   "metadata": {},
   "outputs": [],
   "source": [
    "# Function to download trade files:\n",
    "\n",
    "def download_trade_file(filename, output_folder):\n",
    "    print(f\"Downloading {filename} file\")\n",
    "    url = BASE_URL % filename\n",
    "    resp = requests.get(url)\n",
    "    if resp.status_code != 200:\n",
    "        print(f\"Cannot download the {filename} file. Status code: {resp.status_code}\")\n",
    "        return\n",
    "    with open(path.join(output_folder, filename), \"wb\") as f:\n",
    "        f.write(resp.content)\n",
    "    print(f\"{filename} downloaded\")"
   ]
  },
  {
   "cell_type": "code",
   "execution_count": 30,
   "metadata": {
    "scrolled": true
   },
   "outputs": [
    {
     "name": "stdout",
     "output_type": "stream",
     "text": [
      "Downloading 20210201.csv.gz file\n",
      "20210201.csv.gz downloaded\n",
      "Downloading 20210202.csv.gz file\n",
      "20210202.csv.gz downloaded\n",
      "Downloading 20210203.csv.gz file\n",
      "20210203.csv.gz downloaded\n",
      "Downloading 20210204.csv.gz file\n",
      "20210204.csv.gz downloaded\n",
      "Downloading 20210205.csv.gz file\n",
      "20210205.csv.gz downloaded\n",
      "Downloading 20210206.csv.gz file\n",
      "20210206.csv.gz downloaded\n",
      "Downloading 20210207.csv.gz file\n",
      "20210207.csv.gz downloaded\n",
      "Downloading 20210208.csv.gz file\n",
      "20210208.csv.gz downloaded\n",
      "Downloading 20210209.csv.gz file\n",
      "20210209.csv.gz downloaded\n",
      "Downloading 20210210.csv.gz file\n",
      "20210210.csv.gz downloaded\n",
      "Downloading 20210211.csv.gz file\n",
      "20210211.csv.gz downloaded\n",
      "Downloading 20210212.csv.gz file\n",
      "20210212.csv.gz downloaded\n",
      "Downloading 20210213.csv.gz file\n",
      "20210213.csv.gz downloaded\n",
      "Downloading 20210214.csv.gz file\n",
      "20210214.csv.gz downloaded\n",
      "Downloading 20210215.csv.gz file\n",
      "20210215.csv.gz downloaded\n",
      "Downloading 20210216.csv.gz file\n",
      "20210216.csv.gz downloaded\n",
      "Downloading 20210217.csv.gz file\n",
      "20210217.csv.gz downloaded\n"
     ]
    }
   ],
   "source": [
    "output_folder = \"data/bitmex\"\n",
    "\n",
    "# Now the for loop:\n",
    "\n",
    "for date in dates:\n",
    "    filename = date + '.csv.gz'\n",
    "    download_trade_file(filename, output_folder)"
   ]
  },
  {
   "cell_type": "code",
   "execution_count": 1,
   "metadata": {},
   "outputs": [],
   "source": [
    "import scipy"
   ]
  },
  {
   "cell_type": "code",
   "execution_count": null,
   "metadata": {},
   "outputs": [],
   "source": []
  }
 ],
 "metadata": {
  "kernelspec": {
   "display_name": "Python 3",
   "language": "python",
   "name": "python3"
  },
  "language_info": {
   "codemirror_mode": {
    "name": "ipython",
    "version": 3
   },
   "file_extension": ".py",
   "mimetype": "text/x-python",
   "name": "python",
   "nbconvert_exporter": "python",
   "pygments_lexer": "ipython3",
   "version": "3.8.8"
  }
 },
 "nbformat": 4,
 "nbformat_minor": 4
}
