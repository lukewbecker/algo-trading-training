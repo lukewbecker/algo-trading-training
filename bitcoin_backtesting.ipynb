{
 "cells": [
  {
   "cell_type": "code",
   "execution_count": 1,
   "metadata": {},
   "outputs": [],
   "source": [
    "#Bitcoin backtesting"
   ]
  },
  {
   "cell_type": "code",
   "execution_count": 4,
   "metadata": {},
   "outputs": [],
   "source": [
    "import pandas as pd\n",
    "date_from = \"2021-02-17\"\n",
    "date_to = \"2021-03-31\"\n",
    "\n",
    "dates = pd.date_range(date_from, date_to).astype(str).str.replace(\"-\", \"\")"
   ]
  },
  {
   "cell_type": "code",
   "execution_count": 5,
   "metadata": {},
   "outputs": [],
   "source": [
    "import requests\n",
    "from os import path\n",
    "BASE_URL = 'https://s3-eu-west-1.amazonaws.com/public.bitmex.com/data/trade/%s'"
   ]
  },
  {
   "cell_type": "code",
   "execution_count": 6,
   "metadata": {},
   "outputs": [],
   "source": [
    "# Function to download trade files:\n",
    "\n",
    "def download_trade_file(filename, output_folder):\n",
    "    print(f\"Downloading {filename} file\")\n",
    "    url = BASE_URL % filename\n",
    "    resp = requests.get(url)\n",
    "    if resp.status_code != 200:\n",
    "        print(f\"Cannot download the {filename} file. Status code: {resp.status_code}\")\n",
    "        return\n",
    "    with open(path.join(output_folder, filename), \"wb\") as f:\n",
    "        f.write(resp.content)\n",
    "    print(f\"{filename} downloaded\")"
   ]
  },
  {
   "cell_type": "code",
   "execution_count": 7,
   "metadata": {
    "scrolled": true
   },
   "outputs": [
    {
     "name": "stdout",
     "output_type": "stream",
     "text": [
      "Downloading 20210217.csv.gz file\n",
      "20210217.csv.gz downloaded\n",
      "Downloading 20210218.csv.gz file\n",
      "20210218.csv.gz downloaded\n",
      "Downloading 20210219.csv.gz file\n",
      "20210219.csv.gz downloaded\n",
      "Downloading 20210220.csv.gz file\n",
      "20210220.csv.gz downloaded\n",
      "Downloading 20210221.csv.gz file\n",
      "20210221.csv.gz downloaded\n",
      "Downloading 20210222.csv.gz file\n",
      "20210222.csv.gz downloaded\n",
      "Downloading 20210223.csv.gz file\n",
      "20210223.csv.gz downloaded\n",
      "Downloading 20210224.csv.gz file\n",
      "20210224.csv.gz downloaded\n",
      "Downloading 20210225.csv.gz file\n",
      "20210225.csv.gz downloaded\n",
      "Downloading 20210226.csv.gz file\n",
      "20210226.csv.gz downloaded\n",
      "Downloading 20210227.csv.gz file\n",
      "20210227.csv.gz downloaded\n",
      "Downloading 20210228.csv.gz file\n",
      "20210228.csv.gz downloaded\n",
      "Downloading 20210301.csv.gz file\n",
      "20210301.csv.gz downloaded\n",
      "Downloading 20210302.csv.gz file\n",
      "20210302.csv.gz downloaded\n",
      "Downloading 20210303.csv.gz file\n",
      "20210303.csv.gz downloaded\n",
      "Downloading 20210304.csv.gz file\n",
      "20210304.csv.gz downloaded\n",
      "Downloading 20210305.csv.gz file\n",
      "20210305.csv.gz downloaded\n",
      "Downloading 20210306.csv.gz file\n",
      "20210306.csv.gz downloaded\n",
      "Downloading 20210307.csv.gz file\n",
      "20210307.csv.gz downloaded\n",
      "Downloading 20210308.csv.gz file\n",
      "20210308.csv.gz downloaded\n",
      "Downloading 20210309.csv.gz file\n",
      "20210309.csv.gz downloaded\n",
      "Downloading 20210310.csv.gz file\n",
      "20210310.csv.gz downloaded\n",
      "Downloading 20210311.csv.gz file\n",
      "20210311.csv.gz downloaded\n",
      "Downloading 20210312.csv.gz file\n",
      "20210312.csv.gz downloaded\n",
      "Downloading 20210313.csv.gz file\n",
      "20210313.csv.gz downloaded\n",
      "Downloading 20210314.csv.gz file\n",
      "20210314.csv.gz downloaded\n",
      "Downloading 20210315.csv.gz file\n",
      "20210315.csv.gz downloaded\n",
      "Downloading 20210316.csv.gz file\n",
      "20210316.csv.gz downloaded\n",
      "Downloading 20210317.csv.gz file\n",
      "20210317.csv.gz downloaded\n",
      "Downloading 20210318.csv.gz file\n",
      "20210318.csv.gz downloaded\n",
      "Downloading 20210319.csv.gz file\n",
      "20210319.csv.gz downloaded\n",
      "Downloading 20210320.csv.gz file\n",
      "20210320.csv.gz downloaded\n",
      "Downloading 20210321.csv.gz file\n",
      "20210321.csv.gz downloaded\n",
      "Downloading 20210322.csv.gz file\n",
      "20210322.csv.gz downloaded\n",
      "Downloading 20210323.csv.gz file\n",
      "20210323.csv.gz downloaded\n",
      "Downloading 20210324.csv.gz file\n",
      "20210324.csv.gz downloaded\n",
      "Downloading 20210325.csv.gz file\n",
      "20210325.csv.gz downloaded\n",
      "Downloading 20210326.csv.gz file\n",
      "20210326.csv.gz downloaded\n",
      "Downloading 20210327.csv.gz file\n",
      "20210327.csv.gz downloaded\n",
      "Downloading 20210328.csv.gz file\n",
      "20210328.csv.gz downloaded\n",
      "Downloading 20210329.csv.gz file\n",
      "20210329.csv.gz downloaded\n",
      "Downloading 20210330.csv.gz file\n",
      "20210330.csv.gz downloaded\n",
      "Downloading 20210331.csv.gz file\n",
      "20210331.csv.gz downloaded\n"
     ]
    }
   ],
   "source": [
    "output_folder = \"data/bitmex\"\n",
    "\n",
    "# Now the for loop:\n",
    "\n",
    "for date in dates:\n",
    "    filename = date + '.csv.gz'\n",
    "    download_trade_file(filename, output_folder)"
   ]
  },
  {
   "cell_type": "code",
   "execution_count": 1,
   "metadata": {},
   "outputs": [],
   "source": [
    "import scipy"
   ]
  },
  {
   "cell_type": "code",
   "execution_count": 3,
   "metadata": {},
   "outputs": [
    {
     "ename": "NameError",
     "evalue": "name 'path' is not defined",
     "output_type": "error",
     "traceback": [
      "\u001b[0;31m---------------------------------------------------------------------------\u001b[0m",
      "\u001b[0;31mNameError\u001b[0m                                 Traceback (most recent call last)",
      "\u001b[0;32m<ipython-input-3-79a23bd816d6>\u001b[0m in \u001b[0;36m<module>\u001b[0;34m\u001b[0m\n\u001b[1;32m      1\u001b[0m \u001b[0;32mimport\u001b[0m \u001b[0mglob\u001b[0m\u001b[0;34m\u001b[0m\u001b[0;34m\u001b[0m\u001b[0m\n\u001b[0;32m----> 2\u001b[0;31m \u001b[0mfilepaths\u001b[0m \u001b[0;34m=\u001b[0m \u001b[0mglob\u001b[0m\u001b[0;34m.\u001b[0m\u001b[0mglob\u001b[0m\u001b[0;34m(\u001b[0m\u001b[0mpath\u001b[0m\u001b[0;34m.\u001b[0m\u001b[0mjoin\u001b[0m\u001b[0;34m(\u001b[0m\u001b[0moutput_folder\u001b[0m\u001b[0;34m,\u001b[0m \u001b[0;34m\"*.csv.gz\"\u001b[0m\u001b[0;34m)\u001b[0m\u001b[0;34m)\u001b[0m\u001b[0;34m\u001b[0m\u001b[0;34m\u001b[0m\u001b[0m\n\u001b[0m\u001b[1;32m      3\u001b[0m \u001b[0mfilepaths\u001b[0m \u001b[0;34m=\u001b[0m \u001b[0msorted\u001b[0m\u001b[0;34m(\u001b[0m\u001b[0mfilepaths\u001b[0m\u001b[0;34m)\u001b[0m\u001b[0;34m\u001b[0m\u001b[0;34m\u001b[0m\u001b[0m\n\u001b[1;32m      4\u001b[0m \u001b[0mfilepaths\u001b[0m\u001b[0;34m\u001b[0m\u001b[0;34m\u001b[0m\u001b[0m\n",
      "\u001b[0;31mNameError\u001b[0m: name 'path' is not defined"
     ]
    }
   ],
   "source": [
    "import glob\n",
    "filepaths = glob.glob(path.join(output_folder, \"*.csv.gz\"))\n",
    "filepaths = sorted(filepaths)\n",
    "filepaths"
   ]
  },
  {
   "cell_type": "code",
   "execution_count": null,
   "metadata": {},
   "outputs": [],
   "source": []
  }
 ],
 "metadata": {
  "kernelspec": {
   "display_name": "Python 3",
   "language": "python",
   "name": "python3"
  },
  "language_info": {
   "codemirror_mode": {
    "name": "ipython",
    "version": 3
   },
   "file_extension": ".py",
   "mimetype": "text/x-python",
   "name": "python",
   "nbconvert_exporter": "python",
   "pygments_lexer": "ipython3",
   "version": "3.8.8"
  }
 },
 "nbformat": 4,
 "nbformat_minor": 4
}
