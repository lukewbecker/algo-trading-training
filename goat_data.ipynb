{
 "cells": [
  {
   "cell_type": "code",
   "execution_count": null,
   "metadata": {},
   "outputs": [],
   "source": [
    "#TDA API Greek Options Attribution Tool"
   ]
  },
  {
   "cell_type": "markdown",
   "metadata": {},
   "source": [
    "### Data Aquisition\n",
    "\n",
    "- Aquiring the data from TDA's API. \n",
    "- I'll have to use my TDA credentials, so I'm hiding them inside my env file and only using them as a specific variable. That way the actual credentials shouldn't be compromised."
   ]
  },
  {
   "cell_type": "code",
   "execution_count": 1,
   "metadata": {},
   "outputs": [
    {
     "name": "stdout",
     "output_type": "stream",
     "text": [
      "Polygon.io API key loaded up.\n",
      "Cboe API key loaded up.\n",
      "TD Ameritrade API key loaded up.\n",
      "Coinbase API key loaded up.\n",
      "All credentials loaded successfully\n"
     ]
    }
   ],
   "source": [
    "import pandas as pd\n",
    "import numpy as np\n",
    "import scipy.stats as stats\n",
    "import matplotlib.pyplot as plt\n",
    "import seaborn as sns\n",
    "import math\n",
    "import datetime\n",
    "\n",
    "import env\n",
    "\n",
    "import tda\n",
    "import os\n",
    "import requests\n",
    "import json"
   ]
  },
  {
   "cell_type": "code",
   "execution_count": 3,
   "metadata": {},
   "outputs": [],
   "source": [
    "# TDA API keys\n",
    "\n",
    "tda_key = env.tda_api_key\n",
    "tda_url = env.my_redirect_url"
   ]
  },
  {
   "cell_type": "code",
   "execution_count": 6,
   "metadata": {},
   "outputs": [],
   "source": [
    "# Cboe LiveVol API keys:\n",
    "\n",
    "cboe_key = env.cboe_client_id\n",
    "cboe_secret = env.cboe_client_secret"
   ]
  },
  {
   "cell_type": "code",
   "execution_count": 7,
   "metadata": {},
   "outputs": [
    {
     "data": {
      "text/plain": [
       "<Response [200]>"
      ]
     },
     "execution_count": 7,
     "metadata": {},
     "output_type": "execute_result"
    }
   ],
   "source": [
    "requests.get(f'https://api.tdameritrade.com//v1/marketdata/chains?apikey={tda_key}&symbol=AAPL&contractType=CALL&strikeCount=2&includeQuotes=TRUE&strategy=SINGLE&toDate=2021-03-16&expMonth=MAR&optionType=S HTTP/1.1')"
   ]
  },
  {
   "cell_type": "code",
   "execution_count": 8,
   "metadata": {},
   "outputs": [],
   "source": [
    "aapl_api_test = requests.get(f'https://api.tdameritrade.com//v1/marketdata/chains?apikey={tda_key}&symbol=AAPL&contractType=CALL&strikeCount=2&includeQuotes=TRUE&strategy=SINGLE&toDate=2021-03-16&expMonth=MAR&optionType=S HTTP/1.1')"
   ]
  },
  {
   "cell_type": "code",
   "execution_count": 9,
   "metadata": {},
   "outputs": [],
   "source": [
    "aapl_content = aapl_api_test.content\n",
    "\n",
    "# aapl_content"
   ]
  },
  {
   "cell_type": "code",
   "execution_count": 19,
   "metadata": {
    "scrolled": true
   },
   "outputs": [],
   "source": [
    "request = requests.get(f'https://api.tdameritrade.com//v1/marketdata/chains?apikey={tda_key}&symbol=AAPL&contractType=CALL&strikeCount=2&includeQuotes=TRUE&strategy=SINGLE&toDate=2021-03-16&expMonth=MAR&optionType=S HTTP/1.1').text\n",
    "aapl = json.loads(request)\n",
    "# print(aapl['callExpDateMap'])"
   ]
  },
  {
   "cell_type": "code",
   "execution_count": 20,
   "metadata": {},
   "outputs": [
    {
     "data": {
      "text/plain": [
       "{'symbol': 'AAPL',\n",
       " 'status': 'SUCCESS',\n",
       " 'underlying': {'symbol': 'AAPL',\n",
       "  'description': 'Apple Inc. - Common Stock',\n",
       "  'change': 0.0,\n",
       "  'percentChange': 0.0,\n",
       "  'close': 129.87,\n",
       "  'quoteTime': 1613782799834,\n",
       "  'tradeTime': 1613782798447,\n",
       "  'bid': 129.72,\n",
       "  'ask': 129.74,\n",
       "  'last': 129.87,\n",
       "  'mark': 129.87,\n",
       "  'markChange': 0.0,\n",
       "  'markPercentChange': 0.0,\n",
       "  'bidSize': 1100,\n",
       "  'askSize': 1000,\n",
       "  'highPrice': 130.71,\n",
       "  'lowPrice': 128.8,\n",
       "  'openPrice': 130.24,\n",
       "  'totalVolume': 87668834,\n",
       "  'exchangeName': 'NAS',\n",
       "  'fiftyTwoWeekHigh': 145.09,\n",
       "  'fiftyTwoWeekLow': 53.1525,\n",
       "  'delayed': True},\n",
       " 'strategy': 'SINGLE',\n",
       " 'interval': 0.0,\n",
       " 'isDelayed': True,\n",
       " 'isIndex': False,\n",
       " 'interestRate': 0.1,\n",
       " 'underlyingPrice': 129.73000000000002,\n",
       " 'volatility': 29.0,\n",
       " 'daysToExpiration': 0.0,\n",
       " 'numberOfContracts': 4,\n",
       " 'callExpDateMap': {'2021-03-05:13': {'129.0': [{'putCall': 'CALL',\n",
       "     'symbol': 'AAPL_030521C129',\n",
       "     'description': 'AAPL Mar 5 2021 129 Call (Weekly)',\n",
       "     'exchangeName': 'OPR',\n",
       "     'bid': 3.2,\n",
       "     'ask': 3.25,\n",
       "     'last': 3.2,\n",
       "     'mark': 3.23,\n",
       "     'bidSize': 1,\n",
       "     'askSize': 1,\n",
       "     'bidAskSize': '1X1',\n",
       "     'lastSize': 0,\n",
       "     'highPrice': 3.9,\n",
       "     'lowPrice': 2.9,\n",
       "     'openPrice': 0.0,\n",
       "     'closePrice': 3.2,\n",
       "     'totalVolume': 2620,\n",
       "     'tradeDate': None,\n",
       "     'tradeTimeInLong': 1613768361963,\n",
       "     'quoteTimeInLong': 1613768399772,\n",
       "     'netChange': -0.34,\n",
       "     'volatility': 26.48,\n",
       "     'delta': 0.561,\n",
       "     'gamma': 0.057,\n",
       "     'theta': -0.093,\n",
       "     'vega': 0.103,\n",
       "     'rho': 0.028,\n",
       "     'openInterest': 4107,\n",
       "     'timeValue': 2.33,\n",
       "     'theoreticalOptionValue': 3.2,\n",
       "     'theoreticalVolatility': 29.0,\n",
       "     'optionDeliverablesList': None,\n",
       "     'strikePrice': 129.0,\n",
       "     'expirationDate': 1614978000000,\n",
       "     'daysToExpiration': 13,\n",
       "     'expirationType': 'S',\n",
       "     'lastTradingDay': 1614992400000,\n",
       "     'multiplier': 100.0,\n",
       "     'settlementType': ' ',\n",
       "     'deliverableNote': '',\n",
       "     'isIndexOption': None,\n",
       "     'percentChange': -10.62,\n",
       "     'markChange': 0.02,\n",
       "     'markPercentChange': 0.78,\n",
       "     'mini': False,\n",
       "     'inTheMoney': True,\n",
       "     'nonStandard': False}],\n",
       "   '130.0': [{'putCall': 'CALL',\n",
       "     'symbol': 'AAPL_030521C130',\n",
       "     'description': 'AAPL Mar 5 2021 130 Call (Weekly)',\n",
       "     'exchangeName': 'OPR',\n",
       "     'bid': 2.63,\n",
       "     'ask': 2.73,\n",
       "     'last': 2.66,\n",
       "     'mark': 2.68,\n",
       "     'bidSize': 8,\n",
       "     'askSize': 10,\n",
       "     'bidAskSize': '8X10',\n",
       "     'lastSize': 0,\n",
       "     'highPrice': 3.3,\n",
       "     'lowPrice': 2.42,\n",
       "     'openPrice': 0.0,\n",
       "     'closePrice': 2.68,\n",
       "     'totalVolume': 11628,\n",
       "     'tradeDate': None,\n",
       "     'tradeTimeInLong': 1613768396065,\n",
       "     'quoteTimeInLong': 1613768399976,\n",
       "     'netChange': -0.37,\n",
       "     'volatility': 26.395,\n",
       "     'delta': 0.503,\n",
       "     'gamma': 0.058,\n",
       "     'theta': -0.094,\n",
       "     'vega': 0.104,\n",
       "     'rho': 0.025,\n",
       "     'openInterest': 7460,\n",
       "     'timeValue': 2.66,\n",
       "     'theoreticalOptionValue': 2.68,\n",
       "     'theoreticalVolatility': 29.0,\n",
       "     'optionDeliverablesList': None,\n",
       "     'strikePrice': 130.0,\n",
       "     'expirationDate': 1614978000000,\n",
       "     'daysToExpiration': 13,\n",
       "     'expirationType': 'S',\n",
       "     'lastTradingDay': 1614992400000,\n",
       "     'multiplier': 100.0,\n",
       "     'settlementType': ' ',\n",
       "     'deliverableNote': '',\n",
       "     'isIndexOption': None,\n",
       "     'percentChange': -13.81,\n",
       "     'markChange': 0.0,\n",
       "     'markPercentChange': 0.0,\n",
       "     'mini': False,\n",
       "     'inTheMoney': False,\n",
       "     'nonStandard': False}]},\n",
       "  '2021-03-12:20': {'129.0': [{'putCall': 'CALL',\n",
       "     'symbol': 'AAPL_031221C129',\n",
       "     'description': 'AAPL Mar 12 2021 129 Call (Weekly)',\n",
       "     'exchangeName': 'OPR',\n",
       "     'bid': 3.85,\n",
       "     'ask': 4.1,\n",
       "     'last': 3.95,\n",
       "     'mark': 3.97,\n",
       "     'bidSize': 10,\n",
       "     'askSize': 1,\n",
       "     'bidAskSize': '10X1',\n",
       "     'lastSize': 0,\n",
       "     'highPrice': 4.6,\n",
       "     'lowPrice': 3.65,\n",
       "     'openPrice': 0.0,\n",
       "     'closePrice': 3.95,\n",
       "     'totalVolume': 987,\n",
       "     'tradeDate': None,\n",
       "     'tradeTimeInLong': 1613768395100,\n",
       "     'quoteTimeInLong': 1613768399893,\n",
       "     'netChange': -0.31,\n",
       "     'volatility': 27.799,\n",
       "     'delta': 0.553,\n",
       "     'gamma': 0.045,\n",
       "     'theta': -0.08,\n",
       "     'vega': 0.125,\n",
       "     'rho': 0.04,\n",
       "     'openInterest': 1062,\n",
       "     'timeValue': 3.08,\n",
       "     'theoreticalOptionValue': 3.952,\n",
       "     'theoreticalVolatility': 29.0,\n",
       "     'optionDeliverablesList': None,\n",
       "     'strikePrice': 129.0,\n",
       "     'expirationDate': 1615582800000,\n",
       "     'daysToExpiration': 20,\n",
       "     'expirationType': 'S',\n",
       "     'lastTradingDay': 1615597200000,\n",
       "     'multiplier': 100.0,\n",
       "     'settlementType': ' ',\n",
       "     'deliverableNote': '',\n",
       "     'isIndexOption': None,\n",
       "     'percentChange': -7.91,\n",
       "     'markChange': 0.02,\n",
       "     'markPercentChange': 0.57,\n",
       "     'mini': False,\n",
       "     'inTheMoney': True,\n",
       "     'nonStandard': False}],\n",
       "   '130.0': [{'putCall': 'CALL',\n",
       "     'symbol': 'AAPL_031221C130',\n",
       "     'description': 'AAPL Mar 12 2021 130 Call (Weekly)',\n",
       "     'exchangeName': 'OPR',\n",
       "     'bid': 3.35,\n",
       "     'ask': 3.5,\n",
       "     'last': 3.45,\n",
       "     'mark': 3.43,\n",
       "     'bidSize': 134,\n",
       "     'askSize': 13,\n",
       "     'bidAskSize': '134X13',\n",
       "     'lastSize': 0,\n",
       "     'highPrice': 4.05,\n",
       "     'lowPrice': 3.19,\n",
       "     'openPrice': 0.0,\n",
       "     'closePrice': 3.42,\n",
       "     'totalVolume': 1772,\n",
       "     'tradeDate': None,\n",
       "     'tradeTimeInLong': 1613768381050,\n",
       "     'quoteTimeInLong': 1613768399973,\n",
       "     'netChange': -0.3,\n",
       "     'volatility': 27.611,\n",
       "     'delta': 0.508,\n",
       "     'gamma': 0.046,\n",
       "     'theta': -0.081,\n",
       "     'vega': 0.126,\n",
       "     'rho': 0.037,\n",
       "     'openInterest': 2740,\n",
       "     'timeValue': 3.45,\n",
       "     'theoreticalOptionValue': 3.425,\n",
       "     'theoreticalVolatility': 29.0,\n",
       "     'optionDeliverablesList': None,\n",
       "     'strikePrice': 130.0,\n",
       "     'expirationDate': 1615582800000,\n",
       "     'daysToExpiration': 20,\n",
       "     'expirationType': 'S',\n",
       "     'lastTradingDay': 1615597200000,\n",
       "     'multiplier': 100.0,\n",
       "     'settlementType': ' ',\n",
       "     'deliverableNote': '',\n",
       "     'isIndexOption': None,\n",
       "     'percentChange': -8.76,\n",
       "     'markChange': 0.0,\n",
       "     'markPercentChange': 0.0,\n",
       "     'mini': False,\n",
       "     'inTheMoney': False,\n",
       "     'nonStandard': False}]}},\n",
       " 'putExpDateMap': {}}"
      ]
     },
     "execution_count": 20,
     "metadata": {},
     "output_type": "execute_result"
    }
   ],
   "source": [
    "aapl"
   ]
  },
  {
   "cell_type": "code",
   "execution_count": null,
   "metadata": {
    "scrolled": true
   },
   "outputs": [],
   "source": [
    "aapl['callExpDateMap']"
   ]
  },
  {
   "cell_type": "code",
   "execution_count": null,
   "metadata": {
    "scrolled": true
   },
   "outputs": [],
   "source": [
    "aapl['callExpDateMap']['2021-03-05:13']['129.0'][0]"
   ]
  },
  {
   "cell_type": "code",
   "execution_count": null,
   "metadata": {
    "scrolled": true
   },
   "outputs": [],
   "source": [
    "aapl['callExpDateMap']['2021-03-05:13']['129.0']"
   ]
  },
  {
   "cell_type": "markdown",
   "metadata": {},
   "source": [
    "### Preparing the data\n",
    "\n",
    "- The goal is to grab just the option greek and volatility data from the option chain. We don't need any other data at this point.\n",
    "- I'm going to use a Pandas dataframe to help organize my work."
   ]
  },
  {
   "cell_type": "code",
   "execution_count": null,
   "metadata": {},
   "outputs": [],
   "source": []
  },
  {
   "cell_type": "code",
   "execution_count": 22,
   "metadata": {},
   "outputs": [
    {
     "data": {
      "text/html": [
       "<div>\n",
       "<style scoped>\n",
       "    .dataframe tbody tr th:only-of-type {\n",
       "        vertical-align: middle;\n",
       "    }\n",
       "\n",
       "    .dataframe tbody tr th {\n",
       "        vertical-align: top;\n",
       "    }\n",
       "\n",
       "    .dataframe thead th {\n",
       "        text-align: right;\n",
       "    }\n",
       "</style>\n",
       "<table border=\"1\" class=\"dataframe\">\n",
       "  <thead>\n",
       "    <tr style=\"text-align: right;\">\n",
       "      <th></th>\n",
       "      <th>putCall</th>\n",
       "      <th>symbol</th>\n",
       "      <th>description</th>\n",
       "      <th>exchangeName</th>\n",
       "      <th>bid</th>\n",
       "      <th>ask</th>\n",
       "      <th>last</th>\n",
       "      <th>mark</th>\n",
       "      <th>bidSize</th>\n",
       "      <th>askSize</th>\n",
       "      <th>...</th>\n",
       "      <th>multiplier</th>\n",
       "      <th>settlementType</th>\n",
       "      <th>deliverableNote</th>\n",
       "      <th>isIndexOption</th>\n",
       "      <th>percentChange</th>\n",
       "      <th>markChange</th>\n",
       "      <th>markPercentChange</th>\n",
       "      <th>mini</th>\n",
       "      <th>inTheMoney</th>\n",
       "      <th>nonStandard</th>\n",
       "    </tr>\n",
       "  </thead>\n",
       "  <tbody>\n",
       "    <tr>\n",
       "      <th>0</th>\n",
       "      <td>CALL</td>\n",
       "      <td>AAPL_030521C129</td>\n",
       "      <td>AAPL Mar 5 2021 129 Call (Weekly)</td>\n",
       "      <td>OPR</td>\n",
       "      <td>3.2</td>\n",
       "      <td>3.25</td>\n",
       "      <td>3.2</td>\n",
       "      <td>3.23</td>\n",
       "      <td>1</td>\n",
       "      <td>1</td>\n",
       "      <td>...</td>\n",
       "      <td>100.0</td>\n",
       "      <td></td>\n",
       "      <td></td>\n",
       "      <td>None</td>\n",
       "      <td>-10.62</td>\n",
       "      <td>0.02</td>\n",
       "      <td>0.78</td>\n",
       "      <td>False</td>\n",
       "      <td>True</td>\n",
       "      <td>False</td>\n",
       "    </tr>\n",
       "  </tbody>\n",
       "</table>\n",
       "<p>1 rows × 47 columns</p>\n",
       "</div>"
      ],
      "text/plain": [
       "  putCall           symbol                        description exchangeName  \\\n",
       "0    CALL  AAPL_030521C129  AAPL Mar 5 2021 129 Call (Weekly)          OPR   \n",
       "\n",
       "   bid   ask  last  mark  bidSize  askSize  ... multiplier  settlementType  \\\n",
       "0  3.2  3.25   3.2  3.23        1        1  ...      100.0                   \n",
       "\n",
       "   deliverableNote  isIndexOption  percentChange  markChange  \\\n",
       "0                            None         -10.62        0.02   \n",
       "\n",
       "   markPercentChange   mini  inTheMoney  nonStandard  \n",
       "0               0.78  False        True        False  \n",
       "\n",
       "[1 rows x 47 columns]"
      ]
     },
     "execution_count": 22,
     "metadata": {},
     "output_type": "execute_result"
    }
   ],
   "source": [
    "df = pd.DataFrame(aapl['callExpDateMap']['2021-03-05:13']['129.0'][0], index = [0])\n",
    "\n",
    "df"
   ]
  },
  {
   "cell_type": "code",
   "execution_count": 23,
   "metadata": {},
   "outputs": [
    {
     "data": {
      "text/plain": [
       "Index(['putCall', 'symbol', 'description', 'exchangeName', 'bid', 'ask',\n",
       "       'last', 'mark', 'bidSize', 'askSize', 'bidAskSize', 'lastSize',\n",
       "       'highPrice', 'lowPrice', 'openPrice', 'closePrice', 'totalVolume',\n",
       "       'tradeDate', 'tradeTimeInLong', 'quoteTimeInLong', 'netChange',\n",
       "       'volatility', 'delta', 'gamma', 'theta', 'vega', 'rho', 'openInterest',\n",
       "       'timeValue', 'theoreticalOptionValue', 'theoreticalVolatility',\n",
       "       'optionDeliverablesList', 'strikePrice', 'expirationDate',\n",
       "       'daysToExpiration', 'expirationType', 'lastTradingDay', 'multiplier',\n",
       "       'settlementType', 'deliverableNote', 'isIndexOption', 'percentChange',\n",
       "       'markChange', 'markPercentChange', 'mini', 'inTheMoney', 'nonStandard'],\n",
       "      dtype='object')"
      ]
     },
     "execution_count": 23,
     "metadata": {},
     "output_type": "execute_result"
    }
   ],
   "source": [
    "df.columns"
   ]
  },
  {
   "cell_type": "code",
   "execution_count": 24,
   "metadata": {},
   "outputs": [],
   "source": [
    "greeks = ['delta', 'gamma', 'theta', 'vega', 'rho']\n",
    "\n",
    "volatility_info = ['openInterest', 'timeValue', 'theoreticalOptionValue', 'theoreticalVolatility']\n",
    "\n",
    "basic_info = ['mark', 'totalVolume', 'volatility', 'inTheMoney']"
   ]
  },
  {
   "cell_type": "code",
   "execution_count": 25,
   "metadata": {},
   "outputs": [
    {
     "data": {
      "text/plain": [
       "['delta',\n",
       " 'gamma',\n",
       " 'theta',\n",
       " 'vega',\n",
       " 'rho',\n",
       " 'mark',\n",
       " 'totalVolume',\n",
       " 'volatility',\n",
       " 'inTheMoney',\n",
       " 'openInterest',\n",
       " 'timeValue',\n",
       " 'theoreticalOptionValue',\n",
       " 'theoreticalVolatility']"
      ]
     },
     "execution_count": 25,
     "metadata": {},
     "output_type": "execute_result"
    }
   ],
   "source": [
    "greeks + basic_info + volatility_info"
   ]
  },
  {
   "cell_type": "code",
   "execution_count": 26,
   "metadata": {},
   "outputs": [],
   "source": [
    "columns_list = basic_info + greeks + volatility_info"
   ]
  },
  {
   "cell_type": "code",
   "execution_count": 27,
   "metadata": {},
   "outputs": [
    {
     "data": {
      "text/html": [
       "<div>\n",
       "<style scoped>\n",
       "    .dataframe tbody tr th:only-of-type {\n",
       "        vertical-align: middle;\n",
       "    }\n",
       "\n",
       "    .dataframe tbody tr th {\n",
       "        vertical-align: top;\n",
       "    }\n",
       "\n",
       "    .dataframe thead th {\n",
       "        text-align: right;\n",
       "    }\n",
       "</style>\n",
       "<table border=\"1\" class=\"dataframe\">\n",
       "  <thead>\n",
       "    <tr style=\"text-align: right;\">\n",
       "      <th></th>\n",
       "      <th>mark</th>\n",
       "      <th>totalVolume</th>\n",
       "      <th>volatility</th>\n",
       "      <th>delta</th>\n",
       "      <th>gamma</th>\n",
       "      <th>theta</th>\n",
       "      <th>vega</th>\n",
       "      <th>rho</th>\n",
       "      <th>openInterest</th>\n",
       "      <th>timeValue</th>\n",
       "      <th>theoreticalOptionValue</th>\n",
       "      <th>theoreticalVolatility</th>\n",
       "      <th>inTheMoney</th>\n",
       "    </tr>\n",
       "  </thead>\n",
       "  <tbody>\n",
       "    <tr>\n",
       "      <th>0</th>\n",
       "      <td>3.23</td>\n",
       "      <td>2620</td>\n",
       "      <td>26.48</td>\n",
       "      <td>0.561</td>\n",
       "      <td>0.057</td>\n",
       "      <td>-0.093</td>\n",
       "      <td>0.103</td>\n",
       "      <td>0.028</td>\n",
       "      <td>4107</td>\n",
       "      <td>2.33</td>\n",
       "      <td>3.2</td>\n",
       "      <td>29.0</td>\n",
       "      <td>True</td>\n",
       "    </tr>\n",
       "  </tbody>\n",
       "</table>\n",
       "</div>"
      ],
      "text/plain": [
       "   mark  totalVolume  volatility  delta  gamma  theta   vega    rho  \\\n",
       "0  3.23         2620       26.48  0.561  0.057 -0.093  0.103  0.028   \n",
       "\n",
       "   openInterest  timeValue  theoreticalOptionValue  theoreticalVolatility  \\\n",
       "0          4107       2.33                     3.2                   29.0   \n",
       "\n",
       "   inTheMoney  \n",
       "0        True  "
      ]
     },
     "execution_count": 27,
     "metadata": {},
     "output_type": "execute_result"
    }
   ],
   "source": [
    "df[[c for c in df.columns if c in columns_list]]"
   ]
  },
  {
   "cell_type": "code",
   "execution_count": 28,
   "metadata": {},
   "outputs": [
    {
     "data": {
      "text/html": [
       "<div>\n",
       "<style scoped>\n",
       "    .dataframe tbody tr th:only-of-type {\n",
       "        vertical-align: middle;\n",
       "    }\n",
       "\n",
       "    .dataframe tbody tr th {\n",
       "        vertical-align: top;\n",
       "    }\n",
       "\n",
       "    .dataframe thead th {\n",
       "        text-align: right;\n",
       "    }\n",
       "</style>\n",
       "<table border=\"1\" class=\"dataframe\">\n",
       "  <thead>\n",
       "    <tr style=\"text-align: right;\">\n",
       "      <th></th>\n",
       "      <th>mark</th>\n",
       "      <th>totalVolume</th>\n",
       "      <th>volatility</th>\n",
       "      <th>delta</th>\n",
       "      <th>gamma</th>\n",
       "      <th>theta</th>\n",
       "      <th>vega</th>\n",
       "      <th>rho</th>\n",
       "      <th>openInterest</th>\n",
       "      <th>timeValue</th>\n",
       "      <th>theoreticalOptionValue</th>\n",
       "      <th>theoreticalVolatility</th>\n",
       "      <th>inTheMoney</th>\n",
       "    </tr>\n",
       "  </thead>\n",
       "  <tbody>\n",
       "    <tr>\n",
       "      <th>0</th>\n",
       "      <td>3.23</td>\n",
       "      <td>2620</td>\n",
       "      <td>26.48</td>\n",
       "      <td>0.561</td>\n",
       "      <td>0.057</td>\n",
       "      <td>-0.093</td>\n",
       "      <td>0.103</td>\n",
       "      <td>0.028</td>\n",
       "      <td>4107</td>\n",
       "      <td>2.33</td>\n",
       "      <td>3.2</td>\n",
       "      <td>29.0</td>\n",
       "      <td>True</td>\n",
       "    </tr>\n",
       "  </tbody>\n",
       "</table>\n",
       "</div>"
      ],
      "text/plain": [
       "   mark  totalVolume  volatility  delta  gamma  theta   vega    rho  \\\n",
       "0  3.23         2620       26.48  0.561  0.057 -0.093  0.103  0.028   \n",
       "\n",
       "   openInterest  timeValue  theoreticalOptionValue  theoreticalVolatility  \\\n",
       "0          4107       2.33                     3.2                   29.0   \n",
       "\n",
       "   inTheMoney  \n",
       "0        True  "
      ]
     },
     "execution_count": 28,
     "metadata": {},
     "output_type": "execute_result"
    }
   ],
   "source": [
    "df = df[[c for c in df.columns if c in columns_list]]\n",
    "df"
   ]
  },
  {
   "cell_type": "code",
   "execution_count": 29,
   "metadata": {},
   "outputs": [],
   "source": [
    "# 3.53 to 2.50\n",
    "\n"
   ]
  },
  {
   "cell_type": "code",
   "execution_count": null,
   "metadata": {},
   "outputs": [],
   "source": []
  },
  {
   "cell_type": "code",
   "execution_count": 33,
   "metadata": {},
   "outputs": [],
   "source": [
    "livevol_url = 'https://api.livevol.com/v1/delayed/allaccess/market/option-and-underlying-quotes?root=AAPL&option_type=C&date=2021-02-17&min_expiry=2021-03-19&max_expiry=2021-03-19&min_strike=130&max_strike=130&symbol=AAPL'"
   ]
  },
  {
   "cell_type": "code",
   "execution_count": 35,
   "metadata": {},
   "outputs": [],
   "source": [
    "import requests"
   ]
  },
  {
   "cell_type": "code",
   "execution_count": 36,
   "metadata": {},
   "outputs": [
    {
     "data": {
      "text/plain": [
       "<Response [403]>"
      ]
     },
     "execution_count": 36,
     "metadata": {},
     "output_type": "execute_result"
    }
   ],
   "source": [
    "requests.get('https://api.livevol.com/v1/delayed/allaccess/market/option-and-underlying-quotes?root=AAPL&option_type=C&date=2021-02-17&min_expiry=2021-03-19&max_expiry=2021-03-19&min_strike=130&max_strike=130&symbol=AAPL')"
   ]
  },
  {
   "cell_type": "code",
   "execution_count": null,
   "metadata": {},
   "outputs": [],
   "source": [
    "requests.get('https://sandbox.livevol.com/api/v1/delayed/market/symbols/AAPL/options?root=AAPL&expiry=2021-02-19&strike=130&option_type=C&date=2021-02-10')"
   ]
  },
  {
   "cell_type": "code",
   "execution_count": 32,
   "metadata": {},
   "outputs": [
    {
     "name": "stdout",
     "output_type": "stream",
     "text": [
      "Authenticated successfully\n"
     ]
    },
    {
     "name": "stderr",
     "output_type": "stream",
     "text": [
      "/usr/local/anaconda3/lib/python3.8/site-packages/urllib3/connectionpool.py:981: InsecureRequestWarning: Unverified HTTPS request is being made to host 'api.livevol.com'. Adding certificate verification is strongly advised. See: https://urllib3.readthedocs.io/en/latest/advanced-usage.html#ssl-warnings\n",
      "  warnings.warn(\n"
     ]
    },
    {
     "ename": "JSONDecodeError",
     "evalue": "Expecting value: line 1 column 1 (char 0)",
     "output_type": "error",
     "traceback": [
      "\u001b[0;31m---------------------------------------------------------------------------\u001b[0m",
      "\u001b[0;31mJSONDecodeError\u001b[0m                           Traceback (most recent call last)",
      "\u001b[0;32m<ipython-input-32-e20e08e84adf>\u001b[0m in \u001b[0;36m<module>\u001b[0;34m\u001b[0m\n\u001b[1;32m     22\u001b[0m         \u001b[0;31m# Requesting data from API\u001b[0m\u001b[0;34m\u001b[0m\u001b[0;34m\u001b[0m\u001b[0;34m\u001b[0m\u001b[0m\n\u001b[1;32m     23\u001b[0m         \u001b[0mresult\u001b[0m \u001b[0;34m=\u001b[0m \u001b[0mrequests\u001b[0m\u001b[0;34m.\u001b[0m\u001b[0mget\u001b[0m\u001b[0;34m(\u001b[0m\u001b[0;34m\"https://api.livevol.com/v1/delayed/market/symbols/AAPL\"\u001b[0m\u001b[0;34m,\u001b[0m \u001b[0mheaders\u001b[0m\u001b[0;34m=\u001b[0m\u001b[0;34m{\u001b[0m\u001b[0;34m\"Authorization\"\u001b[0m\u001b[0;34m:\u001b[0m \u001b[0;34m\"Bearer \"\u001b[0m \u001b[0;34m+\u001b[0m \u001b[0mtoken\u001b[0m\u001b[0;34m}\u001b[0m\u001b[0;34m,\u001b[0m \u001b[0mverify\u001b[0m\u001b[0;34m=\u001b[0m\u001b[0;32mFalse\u001b[0m\u001b[0;34m)\u001b[0m\u001b[0;34m\u001b[0m\u001b[0;34m\u001b[0m\u001b[0m\n\u001b[0;32m---> 24\u001b[0;31m         \u001b[0mprint\u001b[0m\u001b[0;34m(\u001b[0m\u001b[0mresult\u001b[0m\u001b[0;34m.\u001b[0m\u001b[0mjson\u001b[0m\u001b[0;34m(\u001b[0m\u001b[0;34m)\u001b[0m\u001b[0;34m)\u001b[0m\u001b[0;34m\u001b[0m\u001b[0;34m\u001b[0m\u001b[0m\n\u001b[0m\u001b[1;32m     25\u001b[0m \u001b[0;32melse\u001b[0m\u001b[0;34m:\u001b[0m\u001b[0;34m\u001b[0m\u001b[0;34m\u001b[0m\u001b[0m\n\u001b[1;32m     26\u001b[0m     \u001b[0mprint\u001b[0m\u001b[0;34m(\u001b[0m\u001b[0;34m\"Authentication failed\"\u001b[0m\u001b[0;34m)\u001b[0m\u001b[0;34m\u001b[0m\u001b[0;34m\u001b[0m\u001b[0m\n",
      "\u001b[0;32m/usr/local/anaconda3/lib/python3.8/site-packages/requests/models.py\u001b[0m in \u001b[0;36mjson\u001b[0;34m(self, **kwargs)\u001b[0m\n\u001b[1;32m    898\u001b[0m                     \u001b[0;31m# used.\u001b[0m\u001b[0;34m\u001b[0m\u001b[0;34m\u001b[0m\u001b[0;34m\u001b[0m\u001b[0m\n\u001b[1;32m    899\u001b[0m                     \u001b[0;32mpass\u001b[0m\u001b[0;34m\u001b[0m\u001b[0;34m\u001b[0m\u001b[0m\n\u001b[0;32m--> 900\u001b[0;31m         \u001b[0;32mreturn\u001b[0m \u001b[0mcomplexjson\u001b[0m\u001b[0;34m.\u001b[0m\u001b[0mloads\u001b[0m\u001b[0;34m(\u001b[0m\u001b[0mself\u001b[0m\u001b[0;34m.\u001b[0m\u001b[0mtext\u001b[0m\u001b[0;34m,\u001b[0m \u001b[0;34m**\u001b[0m\u001b[0mkwargs\u001b[0m\u001b[0;34m)\u001b[0m\u001b[0;34m\u001b[0m\u001b[0;34m\u001b[0m\u001b[0m\n\u001b[0m\u001b[1;32m    901\u001b[0m \u001b[0;34m\u001b[0m\u001b[0m\n\u001b[1;32m    902\u001b[0m     \u001b[0;34m@\u001b[0m\u001b[0mproperty\u001b[0m\u001b[0;34m\u001b[0m\u001b[0;34m\u001b[0m\u001b[0m\n",
      "\u001b[0;32m/usr/local/anaconda3/lib/python3.8/json/__init__.py\u001b[0m in \u001b[0;36mloads\u001b[0;34m(s, cls, object_hook, parse_float, parse_int, parse_constant, object_pairs_hook, **kw)\u001b[0m\n\u001b[1;32m    355\u001b[0m             \u001b[0mparse_int\u001b[0m \u001b[0;32mis\u001b[0m \u001b[0;32mNone\u001b[0m \u001b[0;32mand\u001b[0m \u001b[0mparse_float\u001b[0m \u001b[0;32mis\u001b[0m \u001b[0;32mNone\u001b[0m \u001b[0;32mand\u001b[0m\u001b[0;34m\u001b[0m\u001b[0;34m\u001b[0m\u001b[0m\n\u001b[1;32m    356\u001b[0m             parse_constant is None and object_pairs_hook is None and not kw):\n\u001b[0;32m--> 357\u001b[0;31m         \u001b[0;32mreturn\u001b[0m \u001b[0m_default_decoder\u001b[0m\u001b[0;34m.\u001b[0m\u001b[0mdecode\u001b[0m\u001b[0;34m(\u001b[0m\u001b[0ms\u001b[0m\u001b[0;34m)\u001b[0m\u001b[0;34m\u001b[0m\u001b[0;34m\u001b[0m\u001b[0m\n\u001b[0m\u001b[1;32m    358\u001b[0m     \u001b[0;32mif\u001b[0m \u001b[0mcls\u001b[0m \u001b[0;32mis\u001b[0m \u001b[0;32mNone\u001b[0m\u001b[0;34m:\u001b[0m\u001b[0;34m\u001b[0m\u001b[0;34m\u001b[0m\u001b[0m\n\u001b[1;32m    359\u001b[0m         \u001b[0mcls\u001b[0m \u001b[0;34m=\u001b[0m \u001b[0mJSONDecoder\u001b[0m\u001b[0;34m\u001b[0m\u001b[0;34m\u001b[0m\u001b[0m\n",
      "\u001b[0;32m/usr/local/anaconda3/lib/python3.8/json/decoder.py\u001b[0m in \u001b[0;36mdecode\u001b[0;34m(self, s, _w)\u001b[0m\n\u001b[1;32m    335\u001b[0m \u001b[0;34m\u001b[0m\u001b[0m\n\u001b[1;32m    336\u001b[0m         \"\"\"\n\u001b[0;32m--> 337\u001b[0;31m         \u001b[0mobj\u001b[0m\u001b[0;34m,\u001b[0m \u001b[0mend\u001b[0m \u001b[0;34m=\u001b[0m \u001b[0mself\u001b[0m\u001b[0;34m.\u001b[0m\u001b[0mraw_decode\u001b[0m\u001b[0;34m(\u001b[0m\u001b[0ms\u001b[0m\u001b[0;34m,\u001b[0m \u001b[0midx\u001b[0m\u001b[0;34m=\u001b[0m\u001b[0m_w\u001b[0m\u001b[0;34m(\u001b[0m\u001b[0ms\u001b[0m\u001b[0;34m,\u001b[0m \u001b[0;36m0\u001b[0m\u001b[0;34m)\u001b[0m\u001b[0;34m.\u001b[0m\u001b[0mend\u001b[0m\u001b[0;34m(\u001b[0m\u001b[0;34m)\u001b[0m\u001b[0;34m)\u001b[0m\u001b[0;34m\u001b[0m\u001b[0;34m\u001b[0m\u001b[0m\n\u001b[0m\u001b[1;32m    338\u001b[0m         \u001b[0mend\u001b[0m \u001b[0;34m=\u001b[0m \u001b[0m_w\u001b[0m\u001b[0;34m(\u001b[0m\u001b[0ms\u001b[0m\u001b[0;34m,\u001b[0m \u001b[0mend\u001b[0m\u001b[0;34m)\u001b[0m\u001b[0;34m.\u001b[0m\u001b[0mend\u001b[0m\u001b[0;34m(\u001b[0m\u001b[0;34m)\u001b[0m\u001b[0;34m\u001b[0m\u001b[0;34m\u001b[0m\u001b[0m\n\u001b[1;32m    339\u001b[0m         \u001b[0;32mif\u001b[0m \u001b[0mend\u001b[0m \u001b[0;34m!=\u001b[0m \u001b[0mlen\u001b[0m\u001b[0;34m(\u001b[0m\u001b[0ms\u001b[0m\u001b[0;34m)\u001b[0m\u001b[0;34m:\u001b[0m\u001b[0;34m\u001b[0m\u001b[0;34m\u001b[0m\u001b[0m\n",
      "\u001b[0;32m/usr/local/anaconda3/lib/python3.8/json/decoder.py\u001b[0m in \u001b[0;36mraw_decode\u001b[0;34m(self, s, idx)\u001b[0m\n\u001b[1;32m    353\u001b[0m             \u001b[0mobj\u001b[0m\u001b[0;34m,\u001b[0m \u001b[0mend\u001b[0m \u001b[0;34m=\u001b[0m \u001b[0mself\u001b[0m\u001b[0;34m.\u001b[0m\u001b[0mscan_once\u001b[0m\u001b[0;34m(\u001b[0m\u001b[0ms\u001b[0m\u001b[0;34m,\u001b[0m \u001b[0midx\u001b[0m\u001b[0;34m)\u001b[0m\u001b[0;34m\u001b[0m\u001b[0;34m\u001b[0m\u001b[0m\n\u001b[1;32m    354\u001b[0m         \u001b[0;32mexcept\u001b[0m \u001b[0mStopIteration\u001b[0m \u001b[0;32mas\u001b[0m \u001b[0merr\u001b[0m\u001b[0;34m:\u001b[0m\u001b[0;34m\u001b[0m\u001b[0;34m\u001b[0m\u001b[0m\n\u001b[0;32m--> 355\u001b[0;31m             \u001b[0;32mraise\u001b[0m \u001b[0mJSONDecodeError\u001b[0m\u001b[0;34m(\u001b[0m\u001b[0;34m\"Expecting value\"\u001b[0m\u001b[0;34m,\u001b[0m \u001b[0ms\u001b[0m\u001b[0;34m,\u001b[0m \u001b[0merr\u001b[0m\u001b[0;34m.\u001b[0m\u001b[0mvalue\u001b[0m\u001b[0;34m)\u001b[0m \u001b[0;32mfrom\u001b[0m \u001b[0;32mNone\u001b[0m\u001b[0;34m\u001b[0m\u001b[0;34m\u001b[0m\u001b[0m\n\u001b[0m\u001b[1;32m    356\u001b[0m         \u001b[0;32mreturn\u001b[0m \u001b[0mobj\u001b[0m\u001b[0;34m,\u001b[0m \u001b[0mend\u001b[0m\u001b[0;34m\u001b[0m\u001b[0;34m\u001b[0m\u001b[0m\n",
      "\u001b[0;31mJSONDecodeError\u001b[0m: Expecting value: line 1 column 1 (char 0)"
     ]
    }
   ],
   "source": [
    "import json\n",
    "import base64\n",
    "import requests\n",
    "# Required package requests: `pip install requests`\n",
    "\n",
    "client_id = cboe_key\n",
    "client_secret = cboe_secret\n",
    "\n",
    "identity_url = \"https://id.livevol.com/connect/token\"\n",
    "\n",
    "encoded = base64.b64encode((client_id + ':' + client_secret).encode())\n",
    "headers = {\"Authorization\": \"Basic \" + encoded.decode('ascii')}\n",
    "payload = {\"grant_type\": \"client_credentials\"}\n",
    "\n",
    "# Requesting access token\n",
    "token_data = requests.post(identity_url, data=payload, headers=headers)\n",
    "\n",
    "if token_data.status_code == 200:\n",
    "    token = token_data.json()['access_token']\n",
    "    if len(token) > 0:\n",
    "        print(\"Authenticated successfully\")\n",
    "        # Requesting data from API\n",
    "        result = requests.get(\"https://api.livevol.com/v1/delayed/market/symbols/AAPL\", headers={\"Authorization\": \"Bearer \" + token}, verify=False)\n",
    "        print(result.json())\n",
    "else:\n",
    "    print(\"Authentication failed\")"
   ]
  },
  {
   "cell_type": "code",
   "execution_count": null,
   "metadata": {},
   "outputs": [],
   "source": [
    "# https://www.livevol.com/apis/technical-reference-legacy?m=market-at-a-glance/options"
   ]
  },
  {
   "cell_type": "code",
   "execution_count": null,
   "metadata": {},
   "outputs": [],
   "source": [
    "# https://www.livevol.com/apis/technical-reference/?m=market-at-a-glance/option-and-underlying-quotes"
   ]
  }
 ],
 "metadata": {
  "kernelspec": {
   "display_name": "Python 3",
   "language": "python",
   "name": "python3"
  },
  "language_info": {
   "codemirror_mode": {
    "name": "ipython",
    "version": 3
   },
   "file_extension": ".py",
   "mimetype": "text/x-python",
   "name": "python",
   "nbconvert_exporter": "python",
   "pygments_lexer": "ipython3",
   "version": "3.8.5"
  }
 },
 "nbformat": 4,
 "nbformat_minor": 4
}
