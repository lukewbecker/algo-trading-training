{
 "cells": [
  {
   "cell_type": "code",
   "execution_count": null,
   "metadata": {},
   "outputs": [],
   "source": [
    "#TDA API Greek Options Attribution Tool"
   ]
  },
  {
   "cell_type": "markdown",
   "metadata": {},
   "source": [
    "### Data Aquisition\n",
    "\n",
    "- Aquiring the data from TDA's API. \n",
    "- I'll have to use my TDA credentials, so I'm hiding them inside my env file and only using them as a specific variable. That way the actual credentials shouldn't be compromised."
   ]
  },
  {
   "cell_type": "code",
   "execution_count": 1,
   "metadata": {},
   "outputs": [],
   "source": [
    "import pandas as pd\n",
    "import numpy as np\n",
    "import scipy.stats as stats\n",
    "import matplotlib.pyplot as plt\n",
    "import seaborn as sns\n",
    "import math\n",
    "import datetime\n",
    "\n",
    "import tda\n",
    "import os\n",
    "import requests\n",
    "import json\n",
    "import base64"
   ]
  },
  {
   "cell_type": "code",
   "execution_count": 2,
   "metadata": {},
   "outputs": [
    {
     "name": "stdout",
     "output_type": "stream",
     "text": [
      "Polygon.io API key loaded up.\n",
      "Cboe API key loaded up.\n",
      "TD Ameritrade API key loaded up.\n",
      "Coinbase API key loaded up.\n",
      "All credentials loaded successfully\n"
     ]
    }
   ],
   "source": [
    "import env"
   ]
  },
  {
   "cell_type": "code",
   "execution_count": null,
   "metadata": {},
   "outputs": [],
   "source": [
    "# TDA API keys\n",
    "\n",
    "tda_key = env.tda_api_key\n",
    "tda_url = env.my_redirect_url"
   ]
  },
  {
   "cell_type": "code",
   "execution_count": 3,
   "metadata": {},
   "outputs": [],
   "source": [
    "# Cboe LiveVol API keys:\n",
    "\n",
    "cboe_key = env.cboe_client_id\n",
    "cboe_secret = env.cboe_client_secret"
   ]
  },
  {
   "cell_type": "code",
   "execution_count": null,
   "metadata": {},
   "outputs": [],
   "source": [
    "requests.get(f'https://api.tdameritrade.com//v1/marketdata/chains?apikey={tda_key}&symbol=AAPL&contractType=CALL&strikeCount=2&includeQuotes=TRUE&strategy=SINGLE&toDate=2021-03-16&expMonth=MAR&optionType=S HTTP/1.1')"
   ]
  },
  {
   "cell_type": "code",
   "execution_count": null,
   "metadata": {},
   "outputs": [],
   "source": [
    "aapl_api_test = requests.get(f'https://api.tdameritrade.com//v1/marketdata/chains?apikey={tda_key}&symbol=AAPL&contractType=CALL&strikeCount=2&includeQuotes=TRUE&strategy=SINGLE&toDate=2021-03-16&expMonth=MAR&optionType=S HTTP/1.1')"
   ]
  },
  {
   "cell_type": "code",
   "execution_count": null,
   "metadata": {},
   "outputs": [],
   "source": [
    "aapl_content = aapl_api_test.content\n",
    "\n",
    "# aapl_content"
   ]
  },
  {
   "cell_type": "code",
   "execution_count": null,
   "metadata": {
    "scrolled": true
   },
   "outputs": [],
   "source": [
    "request = requests.get(f'https://api.tdameritrade.com//v1/marketdata/chains?apikey={tda_key}&symbol=AAPL&contractType=CALL&strikeCount=2&includeQuotes=TRUE&strategy=SINGLE&toDate=2021-03-16&expMonth=MAR&optionType=S HTTP/1.1').text\n",
    "aapl = json.loads(request)\n",
    "# print(aapl['callExpDateMap'])"
   ]
  },
  {
   "cell_type": "code",
   "execution_count": null,
   "metadata": {},
   "outputs": [],
   "source": [
    "aapl"
   ]
  },
  {
   "cell_type": "code",
   "execution_count": null,
   "metadata": {
    "scrolled": true
   },
   "outputs": [],
   "source": [
    "aapl['callExpDateMap']"
   ]
  },
  {
   "cell_type": "code",
   "execution_count": null,
   "metadata": {
    "scrolled": true
   },
   "outputs": [],
   "source": [
    "aapl['callExpDateMap']['2021-03-05:9']['124.0'][0]"
   ]
  },
  {
   "cell_type": "code",
   "execution_count": null,
   "metadata": {
    "scrolled": true
   },
   "outputs": [],
   "source": [
    "aapl['callExpDateMap']['2021-03-05:13']['129.0']"
   ]
  },
  {
   "cell_type": "markdown",
   "metadata": {},
   "source": [
    "### Preparing the data\n",
    "\n",
    "- The goal is to grab just the option greek and volatility data from the option chain. We don't need any other data at this point.\n",
    "- I'm going to use a Pandas dataframe to help organize my work."
   ]
  },
  {
   "cell_type": "code",
   "execution_count": null,
   "metadata": {},
   "outputs": [],
   "source": []
  },
  {
   "cell_type": "code",
   "execution_count": null,
   "metadata": {},
   "outputs": [],
   "source": [
    "df = pd.DataFrame(aapl['callExpDateMap']['2021-03-05:9']['124.0'][0], index = [0])\n",
    "\n",
    "df"
   ]
  },
  {
   "cell_type": "code",
   "execution_count": null,
   "metadata": {},
   "outputs": [],
   "source": [
    "df.columns"
   ]
  },
  {
   "cell_type": "code",
   "execution_count": null,
   "metadata": {},
   "outputs": [],
   "source": [
    "greeks = ['delta', 'gamma', 'theta', 'vega', 'rho']\n",
    "\n",
    "volatility_info = ['openInterest', 'timeValue', 'theoreticalOptionValue', 'theoreticalVolatility']\n",
    "\n",
    "basic_info = ['mark', 'totalVolume', 'volatility', 'inTheMoney']"
   ]
  },
  {
   "cell_type": "code",
   "execution_count": null,
   "metadata": {},
   "outputs": [],
   "source": [
    "greeks + basic_info + volatility_info"
   ]
  },
  {
   "cell_type": "code",
   "execution_count": null,
   "metadata": {},
   "outputs": [],
   "source": [
    "columns_list = basic_info + greeks + volatility_info"
   ]
  },
  {
   "cell_type": "code",
   "execution_count": null,
   "metadata": {},
   "outputs": [],
   "source": [
    "df[[c for c in df.columns if c in columns_list]]"
   ]
  },
  {
   "cell_type": "code",
   "execution_count": null,
   "metadata": {},
   "outputs": [],
   "source": [
    "df = df[[c for c in df.columns if c in columns_list]]\n",
    "df"
   ]
  },
  {
   "cell_type": "code",
   "execution_count": null,
   "metadata": {},
   "outputs": [],
   "source": [
    "# 3.53 to 2.50\n",
    "\n"
   ]
  },
  {
   "cell_type": "code",
   "execution_count": null,
   "metadata": {},
   "outputs": [],
   "source": []
  },
  {
   "cell_type": "markdown",
   "metadata": {},
   "source": [
    "### Creating the Auth Code:"
   ]
  },
  {
   "cell_type": "code",
   "execution_count": null,
   "metadata": {},
   "outputs": [],
   "source": []
  },
  {
   "cell_type": "code",
   "execution_count": 33,
   "metadata": {},
   "outputs": [
    {
     "name": "stdout",
     "output_type": "stream",
     "text": [
      "Authenticated successfully\n"
     ]
    }
   ],
   "source": [
    "# Creating the client ID variables to use in getting an access token:\n",
    "client_id = env.cboe_client_id\n",
    "client_secret = env.cboe_client_secret\n",
    "\n",
    "identity_url = \"https://id.livevol.com/connect/token\"\n",
    "\n",
    "encoded = base64.b64encode((client_id + ':' + client_secret).encode())\n",
    "headers = {\"Authorization\": \"Basic \" + encoded.decode('ascii')}\n",
    "payload = {\"grant_type\": \"client_credentials\"}\n",
    "\n",
    "# Requesting access token\n",
    "token_data = requests.post(identity_url, data=payload, headers=headers)\n",
    "\n",
    "if token_data.status_code == 200:\n",
    "    token = token_data.json()['access_token']\n",
    "    if len(token) > 0:\n",
    "        print(\"Authenticated successfully\")\n",
    "        # Requesting data from API\n",
    "#         result = requests.get(f'https://api.livevol.com/v1/live/allaccess/market/option-and-underlying-quotes?root={root}&option_type={option_type}&date={date}&min_expiry={min_expiry}&max_expiry={max_expiry}&min_strike={min_strike}&max_strike={max_strike}&symbol={symbol}', headers={\"Authorization\": \"Bearer \" + token}, verify=False)\n",
    "#         print(result.json())\n",
    "else:\n",
    "    print(\"Authentication failed\")"
   ]
  },
  {
   "cell_type": "markdown",
   "metadata": {},
   "source": [
    "#### DataFrame Function"
   ]
  },
  {
   "cell_type": "code",
   "execution_count": 31,
   "metadata": {},
   "outputs": [],
   "source": [
    "# Example data points used in function:\n",
    "\n",
    "# root = 'TDOC'\n",
    "# option_type = 'C'\n",
    "# date = '2021-01-04'\n",
    "# min_expiry = '2022-01-21'\n",
    "# max_expiry = '2022-01-21'\n",
    "# min_strike = '145'\n",
    "# max_strike = '145'\n",
    "# symbol = root\n",
    "\n",
    "\n",
    "def cboe_data(root, option_type, date, min_expiry, max_expiry, min_strike, max_strike, symbol, header_code):\n",
    "    \n",
    "    url = f'https://api.livevol.com/v1/live/allaccess/market/option-and-underlying-quotes?root={root}&option_type={option_type}&date={date}&min_expiry={min_expiry}&max_expiry={max_expiry}&min_strike={min_strike}&max_strike={max_strike}&symbol={symbol}'\n",
    "    \n",
    "    cboe_headers = {'Authorization': f'Bearer {header_code}'}\n",
    "    \n",
    "    \n",
    "    # Getting the data from the API:\n",
    "    stock_get = requests.get(url = url, headers = cboe_headers)\n",
    "    \n",
    "    stock_data = json.loads(stock_get.text)\n",
    "    \n",
    "    # Creating the Dataframe and cleaning up columns:\n",
    "    stock_df = pd.DataFrame(stock_data['options'][0], index = [0])\n",
    "    columns_to_keep = ['root', 'expiry', 'strike', 'option_type', 'timestamp', 'option_mid', 'option_bid', 'option_ask', 'delta', 'gamme', 'vega', 'theta', 'rho']\n",
    "    \n",
    "    # Using list comprehension to filter for the columns I want to keep\n",
    "    stock_df = stock_df[[c for c in stock_df.columns if c in columns_to_keep]]\n",
    "    \n",
    "    # Adding the as of date:\n",
    "    stock_df['as_of_date'] = date\n",
    "    \n",
    "    # Returning the df:\n",
    "    \n",
    "    return stock_df"
   ]
  },
  {
   "cell_type": "code",
   "execution_count": 6,
   "metadata": {},
   "outputs": [],
   "source": [
    "# Function using delayed data from Cboe:\n",
    "\n",
    "def cboe_data_delayed(root, option_type, date, min_expiry, max_expiry, min_strike, max_strike, symbol, header_code):\n",
    "    \n",
    "    '''\n",
    "    Must use the Cboe LiveVol's API formatting for this call. This function essentially fills in the blanks for a live API call using the function arguments.\n",
    "    '''\n",
    "    \n",
    "    url = f'https://api.livevol.com/v1/delayed/allaccess/market/option-and-underlying-quotes?root={root}&option_type={option_type}&date={date}&min_expiry={min_expiry}&max_expiry={max_expiry}&min_strike={min_strike}&max_strike={max_strike}&symbol={symbol}'\n",
    "    \n",
    "    cboe_headers = {'Authorization': f'Bearer {header_code}'}\n",
    "    \n",
    "    \n",
    "    # Getting the data from the API:\n",
    "    stock_get = requests.get(url = url, headers = cboe_headers)\n",
    "    \n",
    "    stock_data = json.loads(stock_get.text)\n",
    "    \n",
    "    # Creating the Dataframe and cleaning up columns:\n",
    "    stock_df = pd.DataFrame(stock_data['options'][0], index = [0])\n",
    "    columns_to_keep = ['root', 'expiry', 'strike', 'option_type', 'timestamp', 'option_mid', 'option_bid', 'option_ask', 'delta', 'gamme', 'vega', 'theta', 'rho']\n",
    "    \n",
    "    # Using list comprehension to filter for the columns I want to keep\n",
    "    stock_df = stock_df[[c for c in stock_df.columns if c in columns_to_keep]]\n",
    "    \n",
    "    # Adding the as of date:\n",
    "    stock_df['as_of_date'] = date\n",
    "    \n",
    "    # Returning the df:\n",
    "    \n",
    "    return stock_df"
   ]
  },
  {
   "cell_type": "markdown",
   "metadata": {},
   "source": [
    "### Data Aquisition"
   ]
  },
  {
   "cell_type": "code",
   "execution_count": 7,
   "metadata": {},
   "outputs": [],
   "source": [
    "# Creating the url and authorization headers:\n",
    "\n",
    "end_url = 'https://api.livevol.com/v1/delayed/allaccess/market/option-and-underlying-quotes?root=AAPL&option_type=C&date=2021-02-26&min_expiry=2021-03-19&max_expiry=2021-03-19&min_strike=130&max_strike=130&symbol=AAPL'\n",
    "start_url = 'https://api.livevol.com/v1/delayed/allaccess/market/option-and-underlying-quotes?root=AAPL&option_type=C&date=2021-02-01&min_expiry=2021-03-19&max_expiry=2021-03-19&min_strike=130&max_strike=130&symbol=AAPL'\n",
    "cboe_headers = {'Authorization': 'Bearer ' + token}\n",
    "\n",
    "\n",
    "# Loading the start date and end date option data from the API:\n",
    "\n",
    "r_start = requests.get(url = start_url, headers = cboe_headers)\n",
    "start_data = json.loads(r_start.content)\n",
    "\n",
    "r_end = requests.get(url = end_url, headers = cboe_headers)\n",
    "end_data = json.loads(r_end.content)\n"
   ]
  },
  {
   "cell_type": "code",
   "execution_count": 8,
   "metadata": {},
   "outputs": [
    {
     "data": {
      "text/plain": [
       "{'options': [{'root': 'AAPL',\n",
       "   'expiry': '2021-03-19',\n",
       "   'strike': 130.0,\n",
       "   'option_type': 'C',\n",
       "   'timestamp': None,\n",
       "   'option': 'AAPL210319C00130000',\n",
       "   'option_mid': 9.95,\n",
       "   'option_trade_count': None,\n",
       "   'option_bid': 9.9,\n",
       "   'option_bid_size': 231,\n",
       "   'option_ask': 10.0,\n",
       "   'option_ask_size': 152,\n",
       "   'option_open': 10.2,\n",
       "   'option_high': 10.55,\n",
       "   'option_low': 8.45,\n",
       "   'option_close': 9.6,\n",
       "   'option_prev_day_close': 9.41,\n",
       "   'option_last_trade_price': 9.6,\n",
       "   'iv': 0.4157,\n",
       "   'open_interest': 87715,\n",
       "   'option_volume': 5501,\n",
       "   'delta': 0.6104,\n",
       "   'gamma': 0.0194,\n",
       "   'vega': 0.1824,\n",
       "   'theta': -0.0816,\n",
       "   'rho': 0.0}],\n",
       " 'timestamp': None,\n",
       " 'symbol': 'AAPL',\n",
       " 'implied_underlying_bid': None,\n",
       " 'implied_underlying_ask': None,\n",
       " 'implied_underlying_bid_size': None,\n",
       " 'implied_underlying_ask_size': None,\n",
       " 'implied_underlying_mid': None,\n",
       " 'underlying_mid': None,\n",
       " 'underlying_last_trade_price': None,\n",
       " 'underlying_last_trade_size': None,\n",
       " 'underlying_bid': None,\n",
       " 'underlying_ask': None,\n",
       " 'underlying_bid_size': None,\n",
       " 'underlying_ask_size': None,\n",
       " 'underlying_open': 133.66,\n",
       " 'underlying_high': 135.38,\n",
       " 'underlying_low': 130.93,\n",
       " 'underlying_close': 134.14,\n",
       " 'underlying_prev_day_close': 131.96,\n",
       " 'underlying_volume': 106239823,\n",
       " 'iv30': 38.4423,\n",
       " 'iv30_change': -6.1941,\n",
       " 'iv30_change_percent': -13.8768,\n",
       " 'seq_no': None}"
      ]
     },
     "execution_count": 8,
     "metadata": {},
     "output_type": "execute_result"
    }
   ],
   "source": [
    "start_data"
   ]
  },
  {
   "cell_type": "code",
   "execution_count": 9,
   "metadata": {},
   "outputs": [
    {
     "data": {
      "text/plain": [
       "{'options': [{'root': 'AAPL',\n",
       "   'expiry': '2021-03-19',\n",
       "   'strike': 130.0,\n",
       "   'option_type': 'C',\n",
       "   'timestamp': None,\n",
       "   'option': 'AAPL210319C00130000',\n",
       "   'option_mid': 1.845,\n",
       "   'option_trade_count': None,\n",
       "   'option_bid': 1.84,\n",
       "   'option_bid_size': 108,\n",
       "   'option_ask': 1.85,\n",
       "   'option_ask_size': 68,\n",
       "   'option_open': 1.73,\n",
       "   'option_high': 2.11,\n",
       "   'option_low': 1.2,\n",
       "   'option_close': 1.23,\n",
       "   'option_prev_day_close': 1.54,\n",
       "   'option_last_trade_price': 1.23,\n",
       "   'iv': 0.4212,\n",
       "   'open_interest': 96747,\n",
       "   'option_volume': 20705,\n",
       "   'delta': 0.2616,\n",
       "   'gamma': 0.0266,\n",
       "   'vega': 0.0946,\n",
       "   'theta': -0.095,\n",
       "   'rho': 0.0}],\n",
       " 'timestamp': None,\n",
       " 'symbol': 'AAPL',\n",
       " 'implied_underlying_bid': None,\n",
       " 'implied_underlying_ask': None,\n",
       " 'implied_underlying_bid_size': None,\n",
       " 'implied_underlying_ask_size': None,\n",
       " 'implied_underlying_mid': None,\n",
       " 'underlying_mid': None,\n",
       " 'underlying_last_trade_price': None,\n",
       " 'underlying_last_trade_size': None,\n",
       " 'underlying_bid': None,\n",
       " 'underlying_ask': None,\n",
       " 'underlying_bid_size': None,\n",
       " 'underlying_ask_size': None,\n",
       " 'underlying_open': 122.59,\n",
       " 'underlying_high': 124.85,\n",
       " 'underlying_low': 121.2,\n",
       " 'underlying_close': 121.26,\n",
       " 'underlying_prev_day_close': 120.99,\n",
       " 'underlying_volume': 164560394,\n",
       " 'iv30': 37.1108,\n",
       " 'iv30_change': -2.2395,\n",
       " 'iv30_change_percent': -5.6912,\n",
       " 'seq_no': None}"
      ]
     },
     "execution_count": 9,
     "metadata": {},
     "output_type": "execute_result"
    }
   ],
   "source": [
    "end_data"
   ]
  },
  {
   "cell_type": "code",
   "execution_count": 10,
   "metadata": {},
   "outputs": [],
   "source": [
    "# Creating the save_json function:\n",
    "\n",
    "def save_json(var_obj, filename):\n",
    "    '''\n",
    "    This function saves a python dictionary as a json object in a text file. Purpose is to save my option data calls to save on my API call limits.\n",
    "    The filename MUST be a string and have the .txt extension, eg: `start_data.csv`. \n",
    "    var_obj must be an already existing variable that you want to save to a text file.\n",
    "    '''\n",
    "    \n",
    "#     filename = str(input(\"Please enter a filename: \"))\n",
    "    \n",
    "#     var_obj = \n",
    "    \n",
    "    with open(filename, 'w') as outfile:\n",
    "        json.dump(var_obj, outfile)"
   ]
  },
  {
   "cell_type": "code",
   "execution_count": 11,
   "metadata": {},
   "outputs": [],
   "source": [
    "save_json(start_data, 'start_data.txt')"
   ]
  },
  {
   "cell_type": "code",
   "execution_count": 12,
   "metadata": {},
   "outputs": [],
   "source": [
    "save_json(end_data, 'end_data.txt')"
   ]
  },
  {
   "cell_type": "code",
   "execution_count": null,
   "metadata": {},
   "outputs": [],
   "source": []
  },
  {
   "cell_type": "markdown",
   "metadata": {},
   "source": [
    "## The G/OAT Calculator"
   ]
  },
  {
   "cell_type": "code",
   "execution_count": 13,
   "metadata": {},
   "outputs": [],
   "source": [
    "# Finding delta, both current and from a past date:\n",
    "\n",
    "start_delta = start_data['options'][0]['delta']\n",
    "start_gamma = start_data['options'][0]['gamma']\n",
    "start_vega = start_data['options'][0]['vega']\n",
    "start_theta = start_data['options'][0]['theta']\n",
    "start_rho = start_data['options'][0]['rho']"
   ]
  },
  {
   "cell_type": "code",
   "execution_count": 14,
   "metadata": {},
   "outputs": [
    {
     "data": {
      "text/plain": [
       "(0.6104, 0.0194, 0.1824, -0.0816, 0.0)"
      ]
     },
     "execution_count": 14,
     "metadata": {},
     "output_type": "execute_result"
    }
   ],
   "source": [
    "start_delta, start_gamma, start_vega, start_theta, start_rho"
   ]
  },
  {
   "cell_type": "code",
   "execution_count": 15,
   "metadata": {},
   "outputs": [],
   "source": [
    "end_delta = end_data['options'][0]['delta']\n",
    "end_gamma = end_data['options'][0]['gamma']\n",
    "end_vega = end_data['options'][0]['vega']\n",
    "end_theta = end_data['options'][0]['theta']\n",
    "end_rho = end_data['options'][0]['rho']"
   ]
  },
  {
   "cell_type": "code",
   "execution_count": 16,
   "metadata": {},
   "outputs": [
    {
     "data": {
      "text/plain": [
       "(0.2616, 0.0266, 0.0946, -0.095, 0.0)"
      ]
     },
     "execution_count": 16,
     "metadata": {},
     "output_type": "execute_result"
    }
   ],
   "source": [
    "end_delta, end_gamma, end_vega, end_theta, end_rho"
   ]
  },
  {
   "cell_type": "code",
   "execution_count": 17,
   "metadata": {},
   "outputs": [
    {
     "data": {
      "text/plain": [
       "(9.95, 1.845, 8.1)"
      ]
     },
     "execution_count": 17,
     "metadata": {},
     "output_type": "execute_result"
    }
   ],
   "source": [
    "# Now the start and end price for this option:\n",
    "\n",
    "start_price = start_data['options'][0]['option_mid']\n",
    "end_price = end_data['options'][0]['option_mid']\n",
    "\n",
    "start_price, end_price, round(start_price - end_price, 2)"
   ]
  },
  {
   "cell_type": "code",
   "execution_count": null,
   "metadata": {},
   "outputs": [],
   "source": [
    "# Dates:\n",
    "\n",
    "start_date = "
   ]
  },
  {
   "cell_type": "code",
   "execution_count": 18,
   "metadata": {},
   "outputs": [],
   "source": [
    "# Starting and Ending price of the underlying asset, in this case Apple's stock price. \n",
    "\n",
    "# We'll use the most recent previous day's stock close price to keep things simple for now:\n",
    "\n",
    "start_under_price = start_data['underlying_prev_day_close']\n",
    "end_under_price = end_data['underlying_prev_day_close']\n",
    "\n"
   ]
  },
  {
   "cell_type": "code",
   "execution_count": 19,
   "metadata": {},
   "outputs": [
    {
     "data": {
      "text/plain": [
       "131.96"
      ]
     },
     "execution_count": 19,
     "metadata": {},
     "output_type": "execute_result"
    }
   ],
   "source": [
    "start_data['underlying_prev_day_close']"
   ]
  },
  {
   "cell_type": "code",
   "execution_count": 20,
   "metadata": {},
   "outputs": [
    {
     "data": {
      "text/plain": [
       "{'options': [{'root': 'AAPL',\n",
       "   'expiry': '2021-03-19',\n",
       "   'strike': 130.0,\n",
       "   'option_type': 'C',\n",
       "   'timestamp': None,\n",
       "   'option': 'AAPL210319C00130000',\n",
       "   'option_mid': 9.95,\n",
       "   'option_trade_count': None,\n",
       "   'option_bid': 9.9,\n",
       "   'option_bid_size': 231,\n",
       "   'option_ask': 10.0,\n",
       "   'option_ask_size': 152,\n",
       "   'option_open': 10.2,\n",
       "   'option_high': 10.55,\n",
       "   'option_low': 8.45,\n",
       "   'option_close': 9.6,\n",
       "   'option_prev_day_close': 9.41,\n",
       "   'option_last_trade_price': 9.6,\n",
       "   'iv': 0.4157,\n",
       "   'open_interest': 87715,\n",
       "   'option_volume': 5501,\n",
       "   'delta': 0.6104,\n",
       "   'gamma': 0.0194,\n",
       "   'vega': 0.1824,\n",
       "   'theta': -0.0816,\n",
       "   'rho': 0.0}],\n",
       " 'timestamp': None,\n",
       " 'symbol': 'AAPL',\n",
       " 'implied_underlying_bid': None,\n",
       " 'implied_underlying_ask': None,\n",
       " 'implied_underlying_bid_size': None,\n",
       " 'implied_underlying_ask_size': None,\n",
       " 'implied_underlying_mid': None,\n",
       " 'underlying_mid': None,\n",
       " 'underlying_last_trade_price': None,\n",
       " 'underlying_last_trade_size': None,\n",
       " 'underlying_bid': None,\n",
       " 'underlying_ask': None,\n",
       " 'underlying_bid_size': None,\n",
       " 'underlying_ask_size': None,\n",
       " 'underlying_open': 133.66,\n",
       " 'underlying_high': 135.38,\n",
       " 'underlying_low': 130.93,\n",
       " 'underlying_close': 134.14,\n",
       " 'underlying_prev_day_close': 131.96,\n",
       " 'underlying_volume': 106239823,\n",
       " 'iv30': 38.4423,\n",
       " 'iv30_change': -6.1941,\n",
       " 'iv30_change_percent': -13.8768,\n",
       " 'seq_no': None}"
      ]
     },
     "execution_count": 20,
     "metadata": {},
     "output_type": "execute_result"
    }
   ],
   "source": [
    "start_data"
   ]
  },
  {
   "cell_type": "code",
   "execution_count": 37,
   "metadata": {},
   "outputs": [
    {
     "data": {
      "text/plain": [
       "NoneType"
      ]
     },
     "execution_count": 37,
     "metadata": {},
     "output_type": "execute_result"
    }
   ],
   "source": [
    "type(start_data['options'][0]['timestamp'])"
   ]
  },
  {
   "cell_type": "code",
   "execution_count": 21,
   "metadata": {},
   "outputs": [],
   "source": [
    "# The calculator estimates the attribution of price changes in an option to each of the main greeks; Delta, Vega, and Theta. This is a test of that idea."
   ]
  },
  {
   "cell_type": "code",
   "execution_count": 22,
   "metadata": {},
   "outputs": [
    {
     "data": {
      "text/plain": [
       "8.1"
      ]
     },
     "execution_count": 22,
     "metadata": {},
     "output_type": "execute_result"
    }
   ],
   "source": [
    "round(start_price - end_price, 2)"
   ]
  },
  {
   "cell_type": "code",
   "execution_count": 23,
   "metadata": {},
   "outputs": [
    {
     "data": {
      "text/html": [
       "<div>\n",
       "<style scoped>\n",
       "    .dataframe tbody tr th:only-of-type {\n",
       "        vertical-align: middle;\n",
       "    }\n",
       "\n",
       "    .dataframe tbody tr th {\n",
       "        vertical-align: top;\n",
       "    }\n",
       "\n",
       "    .dataframe thead th {\n",
       "        text-align: right;\n",
       "    }\n",
       "</style>\n",
       "<table border=\"1\" class=\"dataframe\">\n",
       "  <thead>\n",
       "    <tr style=\"text-align: right;\">\n",
       "      <th></th>\n",
       "      <th>start_date</th>\n",
       "      <th>end_date</th>\n",
       "    </tr>\n",
       "  </thead>\n",
       "  <tbody>\n",
       "    <tr>\n",
       "      <th>0</th>\n",
       "      <td>9.9500</td>\n",
       "      <td>1.8450</td>\n",
       "    </tr>\n",
       "    <tr>\n",
       "      <th>1</th>\n",
       "      <td>0.6104</td>\n",
       "      <td>0.2616</td>\n",
       "    </tr>\n",
       "    <tr>\n",
       "      <th>2</th>\n",
       "      <td>0.0194</td>\n",
       "      <td>0.0266</td>\n",
       "    </tr>\n",
       "    <tr>\n",
       "      <th>3</th>\n",
       "      <td>0.1824</td>\n",
       "      <td>0.0946</td>\n",
       "    </tr>\n",
       "    <tr>\n",
       "      <th>4</th>\n",
       "      <td>-0.0816</td>\n",
       "      <td>-0.0950</td>\n",
       "    </tr>\n",
       "    <tr>\n",
       "      <th>5</th>\n",
       "      <td>0.0000</td>\n",
       "      <td>0.0000</td>\n",
       "    </tr>\n",
       "  </tbody>\n",
       "</table>\n",
       "</div>"
      ],
      "text/plain": [
       "   start_date  end_date\n",
       "0      9.9500    1.8450\n",
       "1      0.6104    0.2616\n",
       "2      0.0194    0.0266\n",
       "3      0.1824    0.0946\n",
       "4     -0.0816   -0.0950\n",
       "5      0.0000    0.0000"
      ]
     },
     "execution_count": 23,
     "metadata": {},
     "output_type": "execute_result"
    }
   ],
   "source": [
    "calc_df = pd.DataFrame({\"start_date\": [start_price, start_delta, start_gamma, start_vega, start_theta, start_rho], \"end_date\": [end_price, end_delta, end_gamma, end_vega, end_theta, end_rho]})\n",
    "calc_df"
   ]
  },
  {
   "cell_type": "code",
   "execution_count": 25,
   "metadata": {},
   "outputs": [
    {
     "data": {
      "text/plain": [
       "0    9.9500\n",
       "1    0.6104\n",
       "2    0.0194\n",
       "3    0.1824\n",
       "4   -0.0816\n",
       "5    0.0000\n",
       "Name: start_date, dtype: float64"
      ]
     },
     "execution_count": 25,
     "metadata": {},
     "output_type": "execute_result"
    }
   ],
   "source": [
    "calc_df.start_date"
   ]
  },
  {
   "cell_type": "code",
   "execution_count": null,
   "metadata": {},
   "outputs": [],
   "source": []
  },
  {
   "cell_type": "code",
   "execution_count": 26,
   "metadata": {},
   "outputs": [],
   "source": [
    "# I need to transpose the df so that the greeks are columns and the dates are rows."
   ]
  },
  {
   "cell_type": "code",
   "execution_count": 29,
   "metadata": {},
   "outputs": [
    {
     "data": {
      "text/html": [
       "<div>\n",
       "<style scoped>\n",
       "    .dataframe tbody tr th:only-of-type {\n",
       "        vertical-align: middle;\n",
       "    }\n",
       "\n",
       "    .dataframe tbody tr th {\n",
       "        vertical-align: top;\n",
       "    }\n",
       "\n",
       "    .dataframe thead th {\n",
       "        text-align: right;\n",
       "    }\n",
       "</style>\n",
       "<table border=\"1\" class=\"dataframe\">\n",
       "  <thead>\n",
       "    <tr style=\"text-align: right;\">\n",
       "      <th></th>\n",
       "      <th>price</th>\n",
       "      <th>delta</th>\n",
       "    </tr>\n",
       "  </thead>\n",
       "  <tbody>\n",
       "    <tr>\n",
       "      <th>0</th>\n",
       "      <td>9.95</td>\n",
       "      <td>0.6104</td>\n",
       "    </tr>\n",
       "  </tbody>\n",
       "</table>\n",
       "</div>"
      ],
      "text/plain": [
       "   price   delta\n",
       "0   9.95  0.6104"
      ]
     },
     "execution_count": 29,
     "metadata": {},
     "output_type": "execute_result"
    }
   ],
   "source": [
    "pd.DataFrame({\"price\": start_price, \"delta\": start_delta}, index = [0])"
   ]
  },
  {
   "cell_type": "markdown",
   "metadata": {},
   "source": [
    "### Black-Scholes Options Model\n",
    "\n",
    "   \n",
    "     \n",
    "      \n",
    "\n",
    "**Call Formula:**\n",
    "\n",
    "$$ C = S_{t}N(d_{1}) - Ke^{-rt}N(d_{2}) $$\n",
    "\n",
    "**where:**\n",
    "\n",
    "$$d_1 = \\frac{\\ln \\left(\\frac{S}{K} \\right) + \\left(r + \\frac{\\sigma^2}{2} \\right)(T - t)}{\\sigma \\sqrt{T - t}}$$\n"
   ]
  },
  {
   "cell_type": "code",
   "execution_count": 32,
   "metadata": {},
   "outputs": [],
   "source": [
    "# Now, the key is to figure out how to utilize this within the calculator."
   ]
  },
  {
   "cell_type": "code",
   "execution_count": null,
   "metadata": {},
   "outputs": [],
   "source": []
  }
 ],
 "metadata": {
  "kernelspec": {
   "display_name": "Python 3",
   "language": "python",
   "name": "python3"
  },
  "language_info": {
   "codemirror_mode": {
    "name": "ipython",
    "version": 3
   },
   "file_extension": ".py",
   "mimetype": "text/x-python",
   "name": "python",
   "nbconvert_exporter": "python",
   "pygments_lexer": "ipython3",
   "version": "3.8.5"
  }
 },
 "nbformat": 4,
 "nbformat_minor": 4
}
