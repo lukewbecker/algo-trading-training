{
 "cells": [
  {
   "cell_type": "code",
   "execution_count": 1,
   "metadata": {},
   "outputs": [],
   "source": [
    "#TDA API Greek Options Attribution Tool"
   ]
  },
  {
   "cell_type": "markdown",
   "metadata": {},
   "source": [
    "### Data Aquisition\n",
    "\n",
    "- Aquiring the data from TDA's API. \n",
    "- I'll have to use my TDA credentials, so I'm hiding them inside my env file and only using them as a specific variable. That way the actual credentials shouldn't be compromised."
   ]
  },
  {
   "cell_type": "code",
   "execution_count": 2,
   "metadata": {},
   "outputs": [
    {
     "name": "stdout",
     "output_type": "stream",
     "text": [
      "Polygon.io API key loaded up.\n",
      "Cboe API key loaded up.\n",
      "TD Ameritrade API key loaded up.\n",
      "Coinbase API key loaded up.\n",
      "All credentials loaded successfully\n"
     ]
    }
   ],
   "source": [
    "import pandas as pd\n",
    "import numpy as np\n",
    "import scipy.stats as stats\n",
    "import matplotlib.pyplot as plt\n",
    "import seaborn as sns\n",
    "import math\n",
    "import datetime\n",
    "\n",
    "import env\n",
    "\n",
    "import tda\n",
    "import os\n",
    "import requests\n",
    "import json"
   ]
  },
  {
   "cell_type": "code",
   "execution_count": 4,
   "metadata": {},
   "outputs": [],
   "source": [
    "tda_key = env.tda_api_key\n",
    "tda_url = env.my_redirect_url"
   ]
  },
  {
   "cell_type": "code",
   "execution_count": 5,
   "metadata": {},
   "outputs": [
    {
     "data": {
      "text/plain": [
       "<Response [200]>"
      ]
     },
     "execution_count": 5,
     "metadata": {},
     "output_type": "execute_result"
    }
   ],
   "source": [
    "requests.get(f'https://api.tdameritrade.com//v1/marketdata/chains?apikey={tda_key}&symbol=AAPL&contractType=CALL&strikeCount=2&includeQuotes=TRUE&strategy=SINGLE&toDate=2021-03-16&expMonth=MAR&optionType=S HTTP/1.1')"
   ]
  },
  {
   "cell_type": "code",
   "execution_count": 6,
   "metadata": {},
   "outputs": [],
   "source": [
    "aapl_api_test = requests.get(f'https://api.tdameritrade.com//v1/marketdata/chains?apikey={tda_key}&symbol=AAPL&contractType=CALL&strikeCount=2&includeQuotes=TRUE&strategy=SINGLE&toDate=2021-03-16&expMonth=MAR&optionType=S HTTP/1.1')"
   ]
  },
  {
   "cell_type": "code",
   "execution_count": null,
   "metadata": {},
   "outputs": [],
   "source": [
    "aapl_content = aapl_api_test.content\n",
    "\n",
    "# aapl_content"
   ]
  },
  {
   "cell_type": "code",
   "execution_count": 24,
   "metadata": {
    "scrolled": true
   },
   "outputs": [],
   "source": [
    "request = requests.get(f'https://api.tdameritrade.com//v1/marketdata/chains?apikey={tda_key}&symbol=AAPL&contractType=CALL&strikeCount=2&includeQuotes=TRUE&strategy=SINGLE&toDate=2021-03-16&expMonth=MAR&optionType=S HTTP/1.1').text\n",
    "aapl = json.loads(request)\n",
    "# print(aapl['callExpDateMap'])"
   ]
  },
  {
   "cell_type": "code",
   "execution_count": 25,
   "metadata": {
    "scrolled": true
   },
   "outputs": [
    {
     "data": {
      "text/plain": [
       "{'2021-03-05:15': {'129.0': [{'putCall': 'CALL',\n",
       "    'symbol': 'AAPL_030521C129',\n",
       "    'description': 'AAPL Mar 5 2021 129 Call (Weekly)',\n",
       "    'exchangeName': 'OPR',\n",
       "    'bid': 3.45,\n",
       "    'ask': 3.6,\n",
       "    'last': 3.5,\n",
       "    'mark': 3.53,\n",
       "    'bidSize': 13,\n",
       "    'askSize': 15,\n",
       "    'bidAskSize': '13X15',\n",
       "    'lastSize': 0,\n",
       "    'highPrice': 3.7,\n",
       "    'lowPrice': 2.73,\n",
       "    'openPrice': 0.0,\n",
       "    'closePrice': 4.24,\n",
       "    'totalVolume': 2066,\n",
       "    'tradeDate': None,\n",
       "    'tradeTimeInLong': 1613681974888,\n",
       "    'quoteTimeInLong': 1613681999991,\n",
       "    'netChange': -0.74,\n",
       "    'volatility': 29.451,\n",
       "    'delta': 0.552,\n",
       "    'gamma': 0.05,\n",
       "    'theta': -0.102,\n",
       "    'vega': 0.106,\n",
       "    'rho': 0.029,\n",
       "    'openInterest': 3329,\n",
       "    'timeValue': 2.79,\n",
       "    'theoreticalOptionValue': 3.554,\n",
       "    'theoreticalVolatility': 29.0,\n",
       "    'optionDeliverablesList': None,\n",
       "    'strikePrice': 129.0,\n",
       "    'expirationDate': 1614978000000,\n",
       "    'daysToExpiration': 15,\n",
       "    'expirationType': 'S',\n",
       "    'lastTradingDay': 1614992400000,\n",
       "    'multiplier': 100.0,\n",
       "    'settlementType': ' ',\n",
       "    'deliverableNote': '',\n",
       "    'isIndexOption': None,\n",
       "    'percentChange': -17.36,\n",
       "    'markChange': -0.71,\n",
       "    'markPercentChange': -16.77,\n",
       "    'inTheMoney': True,\n",
       "    'mini': False,\n",
       "    'nonStandard': False}],\n",
       "  '130.0': [{'putCall': 'CALL',\n",
       "    'symbol': 'AAPL_030521C130',\n",
       "    'description': 'AAPL Mar 5 2021 130 Call (Weekly)',\n",
       "    'exchangeName': 'OPR',\n",
       "    'bid': 2.96,\n",
       "    'ask': 3.1,\n",
       "    'last': 3.05,\n",
       "    'mark': 3.03,\n",
       "    'bidSize': 2,\n",
       "    'askSize': 107,\n",
       "    'bidAskSize': '2X107',\n",
       "    'lastSize': 0,\n",
       "    'highPrice': 3.15,\n",
       "    'lowPrice': 2.3,\n",
       "    'openPrice': 0.0,\n",
       "    'closePrice': 3.65,\n",
       "    'totalVolume': 7036,\n",
       "    'tradeDate': None,\n",
       "    'tradeTimeInLong': 1613681998314,\n",
       "    'quoteTimeInLong': 1613681999893,\n",
       "    'netChange': -0.6,\n",
       "    'volatility': 29.243,\n",
       "    'delta': 0.501,\n",
       "    'gamma': 0.051,\n",
       "    'theta': -0.102,\n",
       "    'vega': 0.107,\n",
       "    'rho': 0.027,\n",
       "    'openInterest': 5660,\n",
       "    'timeValue': 3.05,\n",
       "    'theoreticalOptionValue': 3.03,\n",
       "    'theoreticalVolatility': 29.0,\n",
       "    'optionDeliverablesList': None,\n",
       "    'strikePrice': 130.0,\n",
       "    'expirationDate': 1614978000000,\n",
       "    'daysToExpiration': 15,\n",
       "    'expirationType': 'S',\n",
       "    'lastTradingDay': 1614992400000,\n",
       "    'multiplier': 100.0,\n",
       "    'settlementType': ' ',\n",
       "    'deliverableNote': '',\n",
       "    'isIndexOption': None,\n",
       "    'percentChange': -16.44,\n",
       "    'markChange': -0.62,\n",
       "    'markPercentChange': -16.99,\n",
       "    'inTheMoney': False,\n",
       "    'mini': False,\n",
       "    'nonStandard': False}]},\n",
       " '2021-03-12:22': {'129.0': [{'putCall': 'CALL',\n",
       "    'symbol': 'AAPL_031221C129',\n",
       "    'description': 'AAPL Mar 12 2021 129 Call (Weekly)',\n",
       "    'exchangeName': 'OPR',\n",
       "    'bid': 4.2,\n",
       "    'ask': 4.35,\n",
       "    'last': 4.2,\n",
       "    'mark': 4.28,\n",
       "    'bidSize': 20,\n",
       "    'askSize': 60,\n",
       "    'bidAskSize': '20X60',\n",
       "    'lastSize': 0,\n",
       "    'highPrice': 4.35,\n",
       "    'lowPrice': 3.5,\n",
       "    'openPrice': 0.0,\n",
       "    'closePrice': 4.89,\n",
       "    'totalVolume': 1142,\n",
       "    'tradeDate': None,\n",
       "    'tradeTimeInLong': 1613681985011,\n",
       "    'quoteTimeInLong': 1613681999948,\n",
       "    'netChange': -0.69,\n",
       "    'volatility': 29.938,\n",
       "    'delta': 0.547,\n",
       "    'gamma': 0.041,\n",
       "    'theta': -0.086,\n",
       "    'vega': 0.128,\n",
       "    'rho': 0.041,\n",
       "    'openInterest': 559,\n",
       "    'timeValue': 3.49,\n",
       "    'theoreticalOptionValue': 4.249,\n",
       "    'theoreticalVolatility': 29.0,\n",
       "    'optionDeliverablesList': None,\n",
       "    'strikePrice': 129.0,\n",
       "    'expirationDate': 1615582800000,\n",
       "    'daysToExpiration': 22,\n",
       "    'expirationType': 'S',\n",
       "    'lastTradingDay': 1615597200000,\n",
       "    'multiplier': 100.0,\n",
       "    'settlementType': ' ',\n",
       "    'deliverableNote': '',\n",
       "    'isIndexOption': None,\n",
       "    'percentChange': -14.17,\n",
       "    'markChange': -0.62,\n",
       "    'markPercentChange': -12.63,\n",
       "    'inTheMoney': True,\n",
       "    'mini': False,\n",
       "    'nonStandard': False}],\n",
       "  '130.0': [{'putCall': 'CALL',\n",
       "    'symbol': 'AAPL_031221C130',\n",
       "    'description': 'AAPL Mar 12 2021 130 Call (Weekly)',\n",
       "    'exchangeName': 'OPR',\n",
       "    'bid': 3.7,\n",
       "    'ask': 3.8,\n",
       "    'last': 3.65,\n",
       "    'mark': 3.75,\n",
       "    'bidSize': 20,\n",
       "    'askSize': 6,\n",
       "    'bidAskSize': '20X6',\n",
       "    'lastSize': 0,\n",
       "    'highPrice': 3.9,\n",
       "    'lowPrice': 2.98,\n",
       "    'openPrice': 0.0,\n",
       "    'closePrice': 4.34,\n",
       "    'totalVolume': 1590,\n",
       "    'tradeDate': None,\n",
       "    'tradeTimeInLong': 1613681990663,\n",
       "    'quoteTimeInLong': 1613681999946,\n",
       "    'netChange': -0.69,\n",
       "    'volatility': 29.916,\n",
       "    'delta': 0.506,\n",
       "    'gamma': 0.041,\n",
       "    'theta': -0.087,\n",
       "    'vega': 0.129,\n",
       "    'rho': 0.038,\n",
       "    'openInterest': 2271,\n",
       "    'timeValue': 3.65,\n",
       "    'theoreticalOptionValue': 3.75,\n",
       "    'theoreticalVolatility': 29.0,\n",
       "    'optionDeliverablesList': None,\n",
       "    'strikePrice': 130.0,\n",
       "    'expirationDate': 1615582800000,\n",
       "    'daysToExpiration': 22,\n",
       "    'expirationType': 'S',\n",
       "    'lastTradingDay': 1615597200000,\n",
       "    'multiplier': 100.0,\n",
       "    'settlementType': ' ',\n",
       "    'deliverableNote': '',\n",
       "    'isIndexOption': None,\n",
       "    'percentChange': -15.86,\n",
       "    'markChange': -0.59,\n",
       "    'markPercentChange': -13.55,\n",
       "    'inTheMoney': False,\n",
       "    'mini': False,\n",
       "    'nonStandard': False}]}}"
      ]
     },
     "execution_count": 25,
     "metadata": {},
     "output_type": "execute_result"
    }
   ],
   "source": [
    "aapl['callExpDateMap']"
   ]
  },
  {
   "cell_type": "code",
   "execution_count": 26,
   "metadata": {
    "scrolled": false
   },
   "outputs": [
    {
     "data": {
      "text/plain": [
       "{'putCall': 'CALL',\n",
       " 'symbol': 'AAPL_030521C129',\n",
       " 'description': 'AAPL Mar 5 2021 129 Call (Weekly)',\n",
       " 'exchangeName': 'OPR',\n",
       " 'bid': 3.45,\n",
       " 'ask': 3.6,\n",
       " 'last': 3.5,\n",
       " 'mark': 3.53,\n",
       " 'bidSize': 13,\n",
       " 'askSize': 15,\n",
       " 'bidAskSize': '13X15',\n",
       " 'lastSize': 0,\n",
       " 'highPrice': 3.7,\n",
       " 'lowPrice': 2.73,\n",
       " 'openPrice': 0.0,\n",
       " 'closePrice': 4.24,\n",
       " 'totalVolume': 2066,\n",
       " 'tradeDate': None,\n",
       " 'tradeTimeInLong': 1613681974888,\n",
       " 'quoteTimeInLong': 1613681999991,\n",
       " 'netChange': -0.74,\n",
       " 'volatility': 29.451,\n",
       " 'delta': 0.552,\n",
       " 'gamma': 0.05,\n",
       " 'theta': -0.102,\n",
       " 'vega': 0.106,\n",
       " 'rho': 0.029,\n",
       " 'openInterest': 3329,\n",
       " 'timeValue': 2.79,\n",
       " 'theoreticalOptionValue': 3.554,\n",
       " 'theoreticalVolatility': 29.0,\n",
       " 'optionDeliverablesList': None,\n",
       " 'strikePrice': 129.0,\n",
       " 'expirationDate': 1614978000000,\n",
       " 'daysToExpiration': 15,\n",
       " 'expirationType': 'S',\n",
       " 'lastTradingDay': 1614992400000,\n",
       " 'multiplier': 100.0,\n",
       " 'settlementType': ' ',\n",
       " 'deliverableNote': '',\n",
       " 'isIndexOption': None,\n",
       " 'percentChange': -17.36,\n",
       " 'markChange': -0.71,\n",
       " 'markPercentChange': -16.77,\n",
       " 'inTheMoney': True,\n",
       " 'mini': False,\n",
       " 'nonStandard': False}"
      ]
     },
     "execution_count": 26,
     "metadata": {},
     "output_type": "execute_result"
    }
   ],
   "source": [
    "aapl['callExpDateMap']['2021-03-05:15']['129.0'][0]"
   ]
  },
  {
   "cell_type": "code",
   "execution_count": 17,
   "metadata": {
    "scrolled": true
   },
   "outputs": [
    {
     "data": {
      "text/plain": [
       "[{'putCall': 'CALL',\n",
       "  'symbol': 'AAPL_030521C129',\n",
       "  'description': 'AAPL Mar 5 2021 129 Call (Weekly)',\n",
       "  'exchangeName': 'OPR',\n",
       "  'bid': 3.45,\n",
       "  'ask': 3.6,\n",
       "  'last': 3.5,\n",
       "  'mark': 3.53,\n",
       "  'bidSize': 13,\n",
       "  'askSize': 15,\n",
       "  'bidAskSize': '13X15',\n",
       "  'lastSize': 0,\n",
       "  'highPrice': 3.7,\n",
       "  'lowPrice': 2.73,\n",
       "  'openPrice': 0.0,\n",
       "  'closePrice': 4.24,\n",
       "  'totalVolume': 2066,\n",
       "  'tradeDate': None,\n",
       "  'tradeTimeInLong': 1613681974888,\n",
       "  'quoteTimeInLong': 1613681999991,\n",
       "  'netChange': -0.74,\n",
       "  'volatility': 29.451,\n",
       "  'delta': 0.552,\n",
       "  'gamma': 0.05,\n",
       "  'theta': -0.102,\n",
       "  'vega': 0.106,\n",
       "  'rho': 0.029,\n",
       "  'openInterest': 3329,\n",
       "  'timeValue': 2.79,\n",
       "  'theoreticalOptionValue': 3.554,\n",
       "  'theoreticalVolatility': 29.0,\n",
       "  'optionDeliverablesList': None,\n",
       "  'strikePrice': 129.0,\n",
       "  'expirationDate': 1614978000000,\n",
       "  'daysToExpiration': 15,\n",
       "  'expirationType': 'S',\n",
       "  'lastTradingDay': 1614992400000,\n",
       "  'multiplier': 100.0,\n",
       "  'settlementType': ' ',\n",
       "  'deliverableNote': '',\n",
       "  'isIndexOption': None,\n",
       "  'percentChange': -17.36,\n",
       "  'markChange': -0.71,\n",
       "  'markPercentChange': -16.77,\n",
       "  'inTheMoney': True,\n",
       "  'mini': False,\n",
       "  'nonStandard': False}]"
      ]
     },
     "execution_count": 17,
     "metadata": {},
     "output_type": "execute_result"
    }
   ],
   "source": [
    "aapl['callExpDateMap']['2021-03-05:15']['129.0']"
   ]
  },
  {
   "cell_type": "markdown",
   "metadata": {},
   "source": [
    "### Preparing the data\n",
    "\n",
    "- The goal is to grab just the option greek and volatility data from the option chain. We don't need any other data at this point.\n",
    "- I'm going to use a Pandas dataframe to help organize my work."
   ]
  },
  {
   "cell_type": "code",
   "execution_count": null,
   "metadata": {},
   "outputs": [],
   "source": []
  },
  {
   "cell_type": "code",
   "execution_count": 57,
   "metadata": {},
   "outputs": [
    {
     "data": {
      "text/html": [
       "<div>\n",
       "<style scoped>\n",
       "    .dataframe tbody tr th:only-of-type {\n",
       "        vertical-align: middle;\n",
       "    }\n",
       "\n",
       "    .dataframe tbody tr th {\n",
       "        vertical-align: top;\n",
       "    }\n",
       "\n",
       "    .dataframe thead th {\n",
       "        text-align: right;\n",
       "    }\n",
       "</style>\n",
       "<table border=\"1\" class=\"dataframe\">\n",
       "  <thead>\n",
       "    <tr style=\"text-align: right;\">\n",
       "      <th></th>\n",
       "      <th>putCall</th>\n",
       "      <th>symbol</th>\n",
       "      <th>description</th>\n",
       "      <th>exchangeName</th>\n",
       "      <th>bid</th>\n",
       "      <th>ask</th>\n",
       "      <th>last</th>\n",
       "      <th>mark</th>\n",
       "      <th>bidSize</th>\n",
       "      <th>askSize</th>\n",
       "      <th>...</th>\n",
       "      <th>multiplier</th>\n",
       "      <th>settlementType</th>\n",
       "      <th>deliverableNote</th>\n",
       "      <th>isIndexOption</th>\n",
       "      <th>percentChange</th>\n",
       "      <th>markChange</th>\n",
       "      <th>markPercentChange</th>\n",
       "      <th>inTheMoney</th>\n",
       "      <th>mini</th>\n",
       "      <th>nonStandard</th>\n",
       "    </tr>\n",
       "  </thead>\n",
       "  <tbody>\n",
       "    <tr>\n",
       "      <th>0</th>\n",
       "      <td>CALL</td>\n",
       "      <td>AAPL_030521C129</td>\n",
       "      <td>AAPL Mar 5 2021 129 Call (Weekly)</td>\n",
       "      <td>OPR</td>\n",
       "      <td>3.45</td>\n",
       "      <td>3.6</td>\n",
       "      <td>3.5</td>\n",
       "      <td>3.53</td>\n",
       "      <td>13</td>\n",
       "      <td>15</td>\n",
       "      <td>...</td>\n",
       "      <td>100.0</td>\n",
       "      <td></td>\n",
       "      <td></td>\n",
       "      <td>None</td>\n",
       "      <td>-17.36</td>\n",
       "      <td>-0.71</td>\n",
       "      <td>-16.77</td>\n",
       "      <td>True</td>\n",
       "      <td>False</td>\n",
       "      <td>False</td>\n",
       "    </tr>\n",
       "  </tbody>\n",
       "</table>\n",
       "<p>1 rows × 47 columns</p>\n",
       "</div>"
      ],
      "text/plain": [
       "  putCall           symbol                        description exchangeName  \\\n",
       "0    CALL  AAPL_030521C129  AAPL Mar 5 2021 129 Call (Weekly)          OPR   \n",
       "\n",
       "    bid  ask  last  mark  bidSize  askSize  ... multiplier  settlementType  \\\n",
       "0  3.45  3.6   3.5  3.53       13       15  ...      100.0                   \n",
       "\n",
       "   deliverableNote  isIndexOption  percentChange  markChange  \\\n",
       "0                            None         -17.36       -0.71   \n",
       "\n",
       "   markPercentChange inTheMoney   mini  nonStandard  \n",
       "0             -16.77       True  False        False  \n",
       "\n",
       "[1 rows x 47 columns]"
      ]
     },
     "execution_count": 57,
     "metadata": {},
     "output_type": "execute_result"
    }
   ],
   "source": [
    "df = pd.DataFrame(aapl['callExpDateMap']['2021-03-05:15']['129.0'][0], index = [0])\n",
    "\n",
    "df"
   ]
  },
  {
   "cell_type": "code",
   "execution_count": 43,
   "metadata": {},
   "outputs": [
    {
     "data": {
      "text/plain": [
       "Index(['putCall', 'symbol', 'description', 'exchangeName', 'bid', 'ask',\n",
       "       'last', 'mark', 'bidSize', 'askSize', 'bidAskSize', 'lastSize',\n",
       "       'highPrice', 'lowPrice', 'openPrice', 'closePrice', 'totalVolume',\n",
       "       'tradeDate', 'tradeTimeInLong', 'quoteTimeInLong', 'netChange',\n",
       "       'volatility', 'delta', 'gamma', 'theta', 'vega', 'rho', 'openInterest',\n",
       "       'timeValue', 'theoreticalOptionValue', 'theoreticalVolatility',\n",
       "       'optionDeliverablesList', 'strikePrice', 'expirationDate',\n",
       "       'daysToExpiration', 'expirationType', 'lastTradingDay', 'multiplier',\n",
       "       'settlementType', 'deliverableNote', 'isIndexOption', 'percentChange',\n",
       "       'markChange', 'markPercentChange', 'inTheMoney', 'mini', 'nonStandard'],\n",
       "      dtype='object')"
      ]
     },
     "execution_count": 43,
     "metadata": {},
     "output_type": "execute_result"
    }
   ],
   "source": [
    "df.columns"
   ]
  },
  {
   "cell_type": "code",
   "execution_count": 54,
   "metadata": {},
   "outputs": [],
   "source": [
    "greeks = ['delta', 'gamma', 'theta', 'vega', 'rho']\n",
    "\n",
    "volatility_info = ['openInterest', 'timeValue', 'theoreticalOptionValue', 'theoreticalVolatility']\n",
    "\n",
    "basic_info = ['mark', 'totalVolume', 'volatility', 'inTheMoney']"
   ]
  },
  {
   "cell_type": "code",
   "execution_count": 58,
   "metadata": {},
   "outputs": [
    {
     "data": {
      "text/plain": [
       "['delta',\n",
       " 'gamma',\n",
       " 'theta',\n",
       " 'vega',\n",
       " 'rho',\n",
       " 'mark',\n",
       " 'totalVolume',\n",
       " 'volatility',\n",
       " 'inTheMoney',\n",
       " 'openInterest',\n",
       " 'timeValue',\n",
       " 'theoreticalOptionValue',\n",
       " 'theoreticalVolatility']"
      ]
     },
     "execution_count": 58,
     "metadata": {},
     "output_type": "execute_result"
    }
   ],
   "source": [
    "greeks + basic_info + volatility_info"
   ]
  },
  {
   "cell_type": "code",
   "execution_count": 59,
   "metadata": {},
   "outputs": [],
   "source": [
    "columns_list = basic_info + greeks + volatility_info"
   ]
  },
  {
   "cell_type": "code",
   "execution_count": 60,
   "metadata": {},
   "outputs": [
    {
     "data": {
      "text/html": [
       "<div>\n",
       "<style scoped>\n",
       "    .dataframe tbody tr th:only-of-type {\n",
       "        vertical-align: middle;\n",
       "    }\n",
       "\n",
       "    .dataframe tbody tr th {\n",
       "        vertical-align: top;\n",
       "    }\n",
       "\n",
       "    .dataframe thead th {\n",
       "        text-align: right;\n",
       "    }\n",
       "</style>\n",
       "<table border=\"1\" class=\"dataframe\">\n",
       "  <thead>\n",
       "    <tr style=\"text-align: right;\">\n",
       "      <th></th>\n",
       "      <th>mark</th>\n",
       "      <th>totalVolume</th>\n",
       "      <th>volatility</th>\n",
       "      <th>delta</th>\n",
       "      <th>gamma</th>\n",
       "      <th>theta</th>\n",
       "      <th>vega</th>\n",
       "      <th>rho</th>\n",
       "      <th>openInterest</th>\n",
       "      <th>timeValue</th>\n",
       "      <th>theoreticalOptionValue</th>\n",
       "      <th>theoreticalVolatility</th>\n",
       "      <th>inTheMoney</th>\n",
       "    </tr>\n",
       "  </thead>\n",
       "  <tbody>\n",
       "    <tr>\n",
       "      <th>0</th>\n",
       "      <td>3.53</td>\n",
       "      <td>2066</td>\n",
       "      <td>29.451</td>\n",
       "      <td>0.552</td>\n",
       "      <td>0.05</td>\n",
       "      <td>-0.102</td>\n",
       "      <td>0.106</td>\n",
       "      <td>0.029</td>\n",
       "      <td>3329</td>\n",
       "      <td>2.79</td>\n",
       "      <td>3.554</td>\n",
       "      <td>29.0</td>\n",
       "      <td>True</td>\n",
       "    </tr>\n",
       "  </tbody>\n",
       "</table>\n",
       "</div>"
      ],
      "text/plain": [
       "   mark  totalVolume  volatility  delta  gamma  theta   vega    rho  \\\n",
       "0  3.53         2066      29.451  0.552   0.05 -0.102  0.106  0.029   \n",
       "\n",
       "   openInterest  timeValue  theoreticalOptionValue  theoreticalVolatility  \\\n",
       "0          3329       2.79                   3.554                   29.0   \n",
       "\n",
       "   inTheMoney  \n",
       "0        True  "
      ]
     },
     "execution_count": 60,
     "metadata": {},
     "output_type": "execute_result"
    }
   ],
   "source": [
    "df[[c for c in df.columns if c in columns_list]]"
   ]
  },
  {
   "cell_type": "code",
   "execution_count": 61,
   "metadata": {},
   "outputs": [
    {
     "data": {
      "text/html": [
       "<div>\n",
       "<style scoped>\n",
       "    .dataframe tbody tr th:only-of-type {\n",
       "        vertical-align: middle;\n",
       "    }\n",
       "\n",
       "    .dataframe tbody tr th {\n",
       "        vertical-align: top;\n",
       "    }\n",
       "\n",
       "    .dataframe thead th {\n",
       "        text-align: right;\n",
       "    }\n",
       "</style>\n",
       "<table border=\"1\" class=\"dataframe\">\n",
       "  <thead>\n",
       "    <tr style=\"text-align: right;\">\n",
       "      <th></th>\n",
       "      <th>mark</th>\n",
       "      <th>totalVolume</th>\n",
       "      <th>volatility</th>\n",
       "      <th>delta</th>\n",
       "      <th>gamma</th>\n",
       "      <th>theta</th>\n",
       "      <th>vega</th>\n",
       "      <th>rho</th>\n",
       "      <th>openInterest</th>\n",
       "      <th>timeValue</th>\n",
       "      <th>theoreticalOptionValue</th>\n",
       "      <th>theoreticalVolatility</th>\n",
       "      <th>inTheMoney</th>\n",
       "    </tr>\n",
       "  </thead>\n",
       "  <tbody>\n",
       "    <tr>\n",
       "      <th>0</th>\n",
       "      <td>3.53</td>\n",
       "      <td>2066</td>\n",
       "      <td>29.451</td>\n",
       "      <td>0.552</td>\n",
       "      <td>0.05</td>\n",
       "      <td>-0.102</td>\n",
       "      <td>0.106</td>\n",
       "      <td>0.029</td>\n",
       "      <td>3329</td>\n",
       "      <td>2.79</td>\n",
       "      <td>3.554</td>\n",
       "      <td>29.0</td>\n",
       "      <td>True</td>\n",
       "    </tr>\n",
       "  </tbody>\n",
       "</table>\n",
       "</div>"
      ],
      "text/plain": [
       "   mark  totalVolume  volatility  delta  gamma  theta   vega    rho  \\\n",
       "0  3.53         2066      29.451  0.552   0.05 -0.102  0.106  0.029   \n",
       "\n",
       "   openInterest  timeValue  theoreticalOptionValue  theoreticalVolatility  \\\n",
       "0          3329       2.79                   3.554                   29.0   \n",
       "\n",
       "   inTheMoney  \n",
       "0        True  "
      ]
     },
     "execution_count": 61,
     "metadata": {},
     "output_type": "execute_result"
    }
   ],
   "source": [
    "df = df[[c for c in df.columns if c in columns_list]]\n",
    "df"
   ]
  },
  {
   "cell_type": "code",
   "execution_count": null,
   "metadata": {},
   "outputs": [],
   "source": [
    "# 3.53 to 2.50\n",
    "\n"
   ]
  },
  {
   "cell_type": "code",
   "execution_count": null,
   "metadata": {},
   "outputs": [],
   "source": []
  },
  {
   "cell_type": "code",
   "execution_count": null,
   "metadata": {},
   "outputs": [],
   "source": []
  },
  {
   "cell_type": "code",
   "execution_count": null,
   "metadata": {},
   "outputs": [],
   "source": []
  },
  {
   "cell_type": "code",
   "execution_count": null,
   "metadata": {},
   "outputs": [],
   "source": []
  },
  {
   "cell_type": "code",
   "execution_count": null,
   "metadata": {},
   "outputs": [],
   "source": []
  },
  {
   "cell_type": "code",
   "execution_count": null,
   "metadata": {},
   "outputs": [],
   "source": []
  },
  {
   "cell_type": "code",
   "execution_count": null,
   "metadata": {},
   "outputs": [],
   "source": [
    "# https://www.livevol.com/apis/technical-reference/?m=market-at-a-glance/option-and-underlying-quotes"
   ]
  }
 ],
 "metadata": {
  "kernelspec": {
   "display_name": "Python 3",
   "language": "python",
   "name": "python3"
  },
  "language_info": {
   "codemirror_mode": {
    "name": "ipython",
    "version": 3
   },
   "file_extension": ".py",
   "mimetype": "text/x-python",
   "name": "python",
   "nbconvert_exporter": "python",
   "pygments_lexer": "ipython3",
   "version": "3.8.5"
  }
 },
 "nbformat": 4,
 "nbformat_minor": 4
}
