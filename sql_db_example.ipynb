{
 "cells": [
  {
   "cell_type": "markdown",
   "id": "d4770f62-c380-43c4-8f69-438dced53be7",
   "metadata": {},
   "source": [
    "# Pandas to SQLite Walkthrough"
   ]
  },
  {
   "cell_type": "code",
   "execution_count": 1,
   "id": "86f3bd85",
   "metadata": {},
   "outputs": [],
   "source": [
    "import pandas as pd\n",
    "import numpy as np\n",
    "import matplotlib.pyplot as plt\n",
    "\n",
    "import sqlite3 as sql"
   ]
  },
  {
   "cell_type": "code",
   "execution_count": 2,
   "id": "9eb0258b-a9d2-4528-a14c-f12a8fae35e8",
   "metadata": {},
   "outputs": [],
   "source": [
    "weather = pd.read_csv('https://github.com/alanjones2/dataviz/raw/master/londonweather.csv')"
   ]
  },
  {
   "cell_type": "code",
   "execution_count": 3,
   "id": "ecaf344b-7057-45a3-b33a-446090295516",
   "metadata": {},
   "outputs": [],
   "source": [
    "# Creating the connection and creating the db using the pandas format as the db schema:\n",
    "\n",
    "conn = sql.connect('weather.db')\n",
    "\n",
    "#only need to run this once:\n",
    "weather.to_sql('weather', conn)"
   ]
  },
  {
   "cell_type": "code",
   "execution_count": 4,
   "id": "39b99a22",
   "metadata": {},
   "outputs": [],
   "source": [
    "# reading from the db:\n",
    "\n",
    "weather = pd.read_sql('SELECT * FROM weather', conn)"
   ]
  },
  {
   "cell_type": "code",
   "execution_count": 5,
   "id": "e0980943",
   "metadata": {},
   "outputs": [
    {
     "data": {
      "text/html": [
       "<div>\n",
       "<style scoped>\n",
       "    .dataframe tbody tr th:only-of-type {\n",
       "        vertical-align: middle;\n",
       "    }\n",
       "\n",
       "    .dataframe tbody tr th {\n",
       "        vertical-align: top;\n",
       "    }\n",
       "\n",
       "    .dataframe thead th {\n",
       "        text-align: right;\n",
       "    }\n",
       "</style>\n",
       "<table border=\"1\" class=\"dataframe\">\n",
       "  <thead>\n",
       "    <tr style=\"text-align: right;\">\n",
       "      <th></th>\n",
       "      <th>index</th>\n",
       "      <th>Year</th>\n",
       "      <th>Month</th>\n",
       "      <th>Tmax</th>\n",
       "      <th>Tmin</th>\n",
       "      <th>Rain</th>\n",
       "      <th>Sun</th>\n",
       "    </tr>\n",
       "  </thead>\n",
       "  <tbody>\n",
       "    <tr>\n",
       "      <th>0</th>\n",
       "      <td>0</td>\n",
       "      <td>1957</td>\n",
       "      <td>1</td>\n",
       "      <td>8.7</td>\n",
       "      <td>2.7</td>\n",
       "      <td>39.5</td>\n",
       "      <td>53.0</td>\n",
       "    </tr>\n",
       "    <tr>\n",
       "      <th>1</th>\n",
       "      <td>1</td>\n",
       "      <td>1957</td>\n",
       "      <td>2</td>\n",
       "      <td>9.0</td>\n",
       "      <td>2.9</td>\n",
       "      <td>69.8</td>\n",
       "      <td>64.9</td>\n",
       "    </tr>\n",
       "    <tr>\n",
       "      <th>2</th>\n",
       "      <td>2</td>\n",
       "      <td>1957</td>\n",
       "      <td>3</td>\n",
       "      <td>13.9</td>\n",
       "      <td>5.7</td>\n",
       "      <td>25.4</td>\n",
       "      <td>96.7</td>\n",
       "    </tr>\n",
       "    <tr>\n",
       "      <th>3</th>\n",
       "      <td>3</td>\n",
       "      <td>1957</td>\n",
       "      <td>4</td>\n",
       "      <td>14.2</td>\n",
       "      <td>5.2</td>\n",
       "      <td>5.7</td>\n",
       "      <td>169.6</td>\n",
       "    </tr>\n",
       "    <tr>\n",
       "      <th>4</th>\n",
       "      <td>4</td>\n",
       "      <td>1957</td>\n",
       "      <td>5</td>\n",
       "      <td>16.2</td>\n",
       "      <td>6.5</td>\n",
       "      <td>21.3</td>\n",
       "      <td>195.0</td>\n",
       "    </tr>\n",
       "    <tr>\n",
       "      <th>...</th>\n",
       "      <td>...</td>\n",
       "      <td>...</td>\n",
       "      <td>...</td>\n",
       "      <td>...</td>\n",
       "      <td>...</td>\n",
       "      <td>...</td>\n",
       "      <td>...</td>\n",
       "    </tr>\n",
       "    <tr>\n",
       "      <th>743</th>\n",
       "      <td>743</td>\n",
       "      <td>2018</td>\n",
       "      <td>12</td>\n",
       "      <td>10.7</td>\n",
       "      <td>5.2</td>\n",
       "      <td>60.6</td>\n",
       "      <td>40.3</td>\n",
       "    </tr>\n",
       "    <tr>\n",
       "      <th>744</th>\n",
       "      <td>744</td>\n",
       "      <td>2019</td>\n",
       "      <td>1</td>\n",
       "      <td>7.6</td>\n",
       "      <td>2.0</td>\n",
       "      <td>33.2</td>\n",
       "      <td>56.4</td>\n",
       "    </tr>\n",
       "    <tr>\n",
       "      <th>745</th>\n",
       "      <td>745</td>\n",
       "      <td>2019</td>\n",
       "      <td>2</td>\n",
       "      <td>12.4</td>\n",
       "      <td>3.3</td>\n",
       "      <td>34.2</td>\n",
       "      <td>120.2</td>\n",
       "    </tr>\n",
       "    <tr>\n",
       "      <th>746</th>\n",
       "      <td>746</td>\n",
       "      <td>2019</td>\n",
       "      <td>3</td>\n",
       "      <td>13.1</td>\n",
       "      <td>5.8</td>\n",
       "      <td>49.6</td>\n",
       "      <td>119.0</td>\n",
       "    </tr>\n",
       "    <tr>\n",
       "      <th>747</th>\n",
       "      <td>747</td>\n",
       "      <td>2019</td>\n",
       "      <td>4</td>\n",
       "      <td>15.8</td>\n",
       "      <td>5.7</td>\n",
       "      <td>12.8</td>\n",
       "      <td>170.1</td>\n",
       "    </tr>\n",
       "  </tbody>\n",
       "</table>\n",
       "<p>748 rows × 7 columns</p>\n",
       "</div>"
      ],
      "text/plain": [
       "     index  Year  Month  Tmax  Tmin  Rain    Sun\n",
       "0        0  1957      1   8.7   2.7  39.5   53.0\n",
       "1        1  1957      2   9.0   2.9  69.8   64.9\n",
       "2        2  1957      3  13.9   5.7  25.4   96.7\n",
       "3        3  1957      4  14.2   5.2   5.7  169.6\n",
       "4        4  1957      5  16.2   6.5  21.3  195.0\n",
       "..     ...   ...    ...   ...   ...   ...    ...\n",
       "743    743  2018     12  10.7   5.2  60.6   40.3\n",
       "744    744  2019      1   7.6   2.0  33.2   56.4\n",
       "745    745  2019      2  12.4   3.3  34.2  120.2\n",
       "746    746  2019      3  13.1   5.8  49.6  119.0\n",
       "747    747  2019      4  15.8   5.7  12.8  170.1\n",
       "\n",
       "[748 rows x 7 columns]"
      ]
     },
     "execution_count": 5,
     "metadata": {},
     "output_type": "execute_result"
    }
   ],
   "source": [
    "weather"
   ]
  },
  {
   "cell_type": "code",
   "execution_count": 6,
   "id": "c4ac88d0",
   "metadata": {},
   "outputs": [],
   "source": [
    "y2010 = pd.read_sql('SELECT * FROM weather WHERE Year == 2010', conn)"
   ]
  },
  {
   "cell_type": "code",
   "execution_count": 7,
   "id": "8c61e50a-e9d8-44bc-9dde-0ece36216af1",
   "metadata": {},
   "outputs": [],
   "source": [
    "y1960 = pd.read_sql('SELECT * FROM weather WHERE Year == 1960', conn)"
   ]
  },
  {
   "cell_type": "code",
   "execution_count": 8,
   "id": "8105ce15-2c54-447d-8999-4bb16517e8ed",
   "metadata": {},
   "outputs": [
    {
     "data": {
      "text/plain": [
       "<matplotlib.legend.Legend at 0x7faff1bc47f0>"
      ]
     },
     "execution_count": 8,
     "metadata": {},
     "output_type": "execute_result"
    }
   ],
   "source": [
    "ax2010 = y2010.plot(y='Tmax')\n",
    "ax = y1960.plot(y='Tmax',color = 'red', ax=ax2010)\n",
    "ax.legend(['2010','1960'])"
   ]
  },
  {
   "cell_type": "code",
   "execution_count": 9,
   "id": "951154bf-cf4e-48d1-a187-ef62854a9f5f",
   "metadata": {},
   "outputs": [],
   "source": [
    "high = pd.read_sql('SELECT Year,Month,Tmax FROM weather WHERE Tmax > 25', conn)"
   ]
  },
  {
   "cell_type": "markdown",
   "id": "3f5d74ee-db0b-4d33-a2ac-cf4bb36be565",
   "metadata": {},
   "source": [
    "Source article for this walkthrough:\n",
    "https://towardsdatascience.com/python-pandas-and-sqlite-a0e2c052456f"
   ]
  }
 ],
 "metadata": {
  "kernelspec": {
   "display_name": "Python 3",
   "language": "python",
   "name": "python3"
  },
  "language_info": {
   "codemirror_mode": {
    "name": "ipython",
    "version": 3
   },
   "file_extension": ".py",
   "mimetype": "text/x-python",
   "name": "python",
   "nbconvert_exporter": "python",
   "pygments_lexer": "ipython3",
   "version": "3.8.11"
  }
 },
 "nbformat": 4,
 "nbformat_minor": 5
}
