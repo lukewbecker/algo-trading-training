{
 "cells": [
  {
   "cell_type": "code",
   "execution_count": 1,
   "id": "bbdc4337-25ce-472c-b874-7ea11d8d2383",
   "metadata": {},
   "outputs": [],
   "source": [
    "import pandas as pd\n",
    "import numpy as np\n",
    "\n",
    "\n",
    "import os\n",
    "import requests\n",
    "import json\n",
    "import base64\n",
    "\n",
    "import time\n",
    "import base64\n",
    "import hmac\n",
    "import hashlib"
   ]
  },
  {
   "cell_type": "code",
   "execution_count": 2,
   "id": "9e34baad-164b-4170-bdab-eea6ef3839a6",
   "metadata": {},
   "outputs": [],
   "source": [
    "import cbpro\n",
    "public_client = cbpro.PublicClient()"
   ]
  },
  {
   "cell_type": "code",
   "execution_count": 4,
   "id": "375a5910-2ea3-4350-aa61-34d647c362cf",
   "metadata": {},
   "outputs": [],
   "source": [
    "import cbp_env"
   ]
  },
  {
   "cell_type": "code",
   "execution_count": 6,
   "id": "041d19aa-a4f7-4eb2-a7c0-ffc3e5057f4c",
   "metadata": {},
   "outputs": [],
   "source": [
    "passphrase = cbp_env.passphrase\n",
    "api_key = cbp_env.api_key\n",
    "api_secret = cbp_env.api_secret"
   ]
  },
  {
   "cell_type": "code",
   "execution_count": 3,
   "id": "f326b64d-1bd7-4422-95a9-e695ed90923a",
   "metadata": {},
   "outputs": [
    {
     "data": {
      "text/plain": [
       "{'bids': [['49459', '0.08219721', 2]],\n",
       " 'asks': [['49459.01', '3.55433119', 7]],\n",
       " 'sequence': 28538724872}"
      ]
     },
     "execution_count": 3,
     "metadata": {},
     "output_type": "execute_result"
    }
   ],
   "source": [
    "public_client.get_product_order_book('BTC-USD')"
   ]
  },
  {
   "cell_type": "code",
   "execution_count": 8,
   "id": "8bbbd042-3360-416d-bf63-04c559db8656",
   "metadata": {},
   "outputs": [],
   "source": [
    "auth_client = cbpro.AuthenticatedClient(api_key, api_secret, passphrase)"
   ]
  },
  {
   "cell_type": "code",
   "execution_count": null,
   "id": "30c8faf6-3c6a-47d7-8d69-b69d550c30dd",
   "metadata": {},
   "outputs": [],
   "source": []
  }
 ],
 "metadata": {
  "kernelspec": {
   "display_name": "Python 3",
   "language": "python",
   "name": "python3"
  },
  "language_info": {
   "codemirror_mode": {
    "name": "ipython",
    "version": 3
   },
   "file_extension": ".py",
   "mimetype": "text/x-python",
   "name": "python",
   "nbconvert_exporter": "python",
   "pygments_lexer": "ipython3",
   "version": "3.8.11"
  }
 },
 "nbformat": 4,
 "nbformat_minor": 5
}
