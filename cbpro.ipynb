{
 "cells": [
  {
   "cell_type": "code",
   "execution_count": null,
   "id": "bbdc4337-25ce-472c-b874-7ea11d8d2383",
   "metadata": {},
   "outputs": [],
   "source": [
    "import pandas as pd\n",
    "import numpy as np\n",
    "\n",
    "\n",
    "import os\n",
    "import requests\n",
    "import json\n",
    "import base64\n",
    "\n",
    "import time\n",
    "import base64\n",
    "import hmac\n",
    "import hashlib"
   ]
  },
  {
   "cell_type": "code",
   "execution_count": null,
   "id": "9e34baad-164b-4170-bdab-eea6ef3839a6",
   "metadata": {},
   "outputs": [],
   "source": [
    "import cbpro\n",
    "public_client = cbpro.PublicClient()"
   ]
  },
  {
   "cell_type": "code",
   "execution_count": null,
   "id": "375a5910-2ea3-4350-aa61-34d647c362cf",
   "metadata": {},
   "outputs": [],
   "source": [
    "import cbp_env"
   ]
  },
  {
   "cell_type": "code",
   "execution_count": null,
   "id": "041d19aa-a4f7-4eb2-a7c0-ffc3e5057f4c",
   "metadata": {},
   "outputs": [],
   "source": [
    "passphrase = cbp_env.passphrase\n",
    "api_key = cbp_env.api_key\n",
    "api_secret = cbp_env.api_secret"
   ]
  },
  {
   "cell_type": "code",
   "execution_count": null,
   "id": "61ee6ac2-6932-4377-8a38-0d70d8c045e4",
   "metadata": {},
   "outputs": [],
   "source": []
  },
  {
   "cell_type": "code",
   "execution_count": null,
   "id": "f326b64d-1bd7-4422-95a9-e695ed90923a",
   "metadata": {},
   "outputs": [],
   "source": [
    "public_client.get_product_order_book('BTC-USD')"
   ]
  },
  {
   "cell_type": "code",
   "execution_count": null,
   "id": "8bbbd042-3360-416d-bf63-04c559db8656",
   "metadata": {},
   "outputs": [],
   "source": [
    "auth_client = cbpro.AuthenticatedClient(api_key, api_secret, passphrase)"
   ]
  },
  {
   "cell_type": "code",
   "execution_count": null,
   "id": "30c8faf6-3c6a-47d7-8d69-b69d550c30dd",
   "metadata": {
    "tags": []
   },
   "outputs": [],
   "source": [
    "auth_client.get_accounts()"
   ]
  },
  {
   "cell_type": "code",
   "execution_count": null,
   "id": "a36dd76e-4c40-47dc-b4dc-ba8152b5a3d2",
   "metadata": {},
   "outputs": [],
   "source": [
    "# ADA account: '86783860-463e-459d-93cf-434dd7b0b840'\n",
    "\n",
    "\n",
    "auth_client.get_account_history()"
   ]
  },
  {
   "cell_type": "code",
   "execution_count": null,
   "id": "c0a9f4f5-2fce-4926-bdd6-6fe3147966b1",
   "metadata": {},
   "outputs": [],
   "source": [
    "# Coinbase endpoint: https://api.coinbase.com/v2/"
   ]
  },
  {
   "cell_type": "code",
   "execution_count": null,
   "id": "5e13f452-d740-480b-a068-2993d679176d",
   "metadata": {},
   "outputs": [],
   "source": [
    "import cbpro, time\n",
    "class myWebsocketClient(cbpro.WebsocketClient):\n",
    "    def on_open(self):\n",
    "        self.url = \"wss://ws-feed.pro.coinbase.com/\"\n",
    "        self.products = [\"LTC-USD\"]\n",
    "        self.message_count = 0\n",
    "        print(\"Lets count the messages!\")\n",
    "    def on_message(self, msg):\n",
    "        self.message_count += 1\n",
    "        if 'price' in msg and 'type' in msg:\n",
    "            print (\"Message type:\", msg[\"type\"],\n",
    "                   \"\\t@ {:.3f}\".format(float(msg[\"price\"])))\n",
    "    def on_close(self):\n",
    "        print(\"-- Goodbye! --\")\n",
    "\n",
    "wsClient = myWebsocketClient()\n",
    "wsClient.start()\n",
    "print(wsClient.url, wsClient.products)\n",
    "while (wsClient.message_count < 500):\n",
    "    print (\"\\nmessage_count =\", \"{} \\n\".format(wsClient.message_count))\n",
    "    time.sleep(1)\n",
    "wsClient.close()"
   ]
  },
  {
   "cell_type": "code",
   "execution_count": null,
   "id": "838e9f70-4086-4d8e-ae16-e32323bb1d5a",
   "metadata": {},
   "outputs": [],
   "source": []
  },
  {
   "cell_type": "code",
   "execution_count": null,
   "id": "eea97159-a7e3-407c-af61-e38be5136d3e",
   "metadata": {},
   "outputs": [],
   "source": [
    "import krakenex"
   ]
  },
  {
   "cell_type": "code",
   "execution_count": null,
   "id": "19132f1a-9281-4eae-859e-206d9f10e1b8",
   "metadata": {},
   "outputs": [],
   "source": [
    "k = krakenex.API()\n",
    "k.load_key('kraken.key')"
   ]
  },
  {
   "cell_type": "code",
   "execution_count": null,
   "id": "c1e44ac6-2c5d-4f21-8d98-f84690c2f79d",
   "metadata": {},
   "outputs": [],
   "source": [
    "print(k.query_private('Balance'))"
   ]
  },
  {
   "cell_type": "code",
   "execution_count": null,
   "id": "d5da977c-d349-4317-8ca7-b8a41090dc04",
   "metadata": {},
   "outputs": [],
   "source": [
    "kraken_balance = k.query_private('Balance')\n",
    "kraken_balance"
   ]
  },
  {
   "cell_type": "code",
   "execution_count": null,
   "id": "36a449a3-3aa5-4cdd-b3fd-8fc2155aa5ef",
   "metadata": {},
   "outputs": [],
   "source": [
    "# configure api\n",
    "k = krakenex.API()\n",
    "k.load_key('kraken.key')\n",
    "\n",
    "# prepare request\n",
    "req_data = {'docalcs': 'true'}\n",
    "\n",
    "# query servers\n",
    "start = k.query_public('Time')\n",
    "open_positions = k.query_private('OpenPositions', req_data)\n",
    "end = k.query_public('Time')\n",
    "latency = end['result']['unixtime'] - start['result']['unixtime']\n",
    "\n",
    "# parse result\n",
    "b, c = 0, 0\n",
    "\n",
    "for order in open_positions['result']:\n",
    "    coin = order[\"pair\"]\n",
    "    if coin == 'XETHZUSD':\n",
    "        b += (float(order['vol']))\n",
    "    elif coin == 'XXBTZUSD':\n",
    "        c += (float(order['vol']))\n",
    "\n",
    "n_errors = len(open_positions['error'])\n",
    "total = len(open_positions['result'])\n",
    "\n",
    "msg = \"\"\"\n",
    "error counts: {n_errors}\n",
    "latency: {latency}\n",
    "open orders\n",
    "    eth: {b}\n",
    "    btc: {c}\n",
    "    total: {total}\n",
    "\"\"\"\n",
    "print(msg.format(n_errors=n_errors, total=total, b=b, c=c, latency=latency))"
   ]
  },
  {
   "cell_type": "code",
   "execution_count": null,
   "id": "874540df-fd60-4fb0-9763-472efcf03341",
   "metadata": {},
   "outputs": [],
   "source": []
  }
 ],
 "metadata": {
  "kernelspec": {
   "display_name": "Python 3 (ipykernel)",
   "language": "python",
   "name": "python3"
  },
  "language_info": {
   "codemirror_mode": {
    "name": "ipython",
    "version": 3
   },
   "file_extension": ".py",
   "mimetype": "text/x-python",
   "name": "python",
   "nbconvert_exporter": "python",
   "pygments_lexer": "ipython3",
   "version": "3.8.11"
  }
 },
 "nbformat": 4,
 "nbformat_minor": 5
}
