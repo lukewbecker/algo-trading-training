{
 "cells": [
  {
   "cell_type": "markdown",
   "id": "6ebfe139-2607-4d38-ad6f-e3f67d1c786f",
   "metadata": {},
   "source": [
    "# WhatToMine Data\n",
    "\n",
    "Pulling data from the whattomine json website in order to get estimates for miner hashrates and daily profit calcs."
   ]
  },
  {
   "cell_type": "code",
   "execution_count": 1,
   "id": "e28e7c46-beb5-49de-bd36-470e1cf5dfe1",
   "metadata": {},
   "outputs": [],
   "source": [
    "import numpy as np\n",
    "import pandas as pd\n",
    "\n",
    "import requests"
   ]
  },
  {
   "cell_type": "code",
   "execution_count": null,
   "id": "0d719e49-486b-4006-ba81-aa902a093014",
   "metadata": {},
   "outputs": [],
   "source": [
    "# Website: https://whattomine.com/coins.json"
   ]
  },
  {
   "cell_type": "code",
   "execution_count": null,
   "id": "f10520c9-330c-4ac7-a723-c74b2477ef6b",
   "metadata": {},
   "outputs": [],
   "source": [
    "response = requests.get('https://whattomine.com/coins.json')\n",
    "response"
   ]
  },
  {
   "cell_type": "code",
   "execution_count": null,
   "id": "999fd051-1037-49bf-9909-6b497893b5c8",
   "metadata": {},
   "outputs": [],
   "source": [
    "response.ok"
   ]
  },
  {
   "cell_type": "code",
   "execution_count": null,
   "id": "fed638e0-2e62-4957-8e85-86d3d488248d",
   "metadata": {},
   "outputs": [],
   "source": [
    "response.status_code"
   ]
  },
  {
   "cell_type": "code",
   "execution_count": null,
   "id": "3d140aa2-5d66-4710-80ec-98498c4b02c5",
   "metadata": {},
   "outputs": [],
   "source": [
    "data = response.json()"
   ]
  },
  {
   "cell_type": "code",
   "execution_count": null,
   "id": "dec38ef9-16f1-4403-9693-f06753331eec",
   "metadata": {
    "tags": []
   },
   "outputs": [],
   "source": [
    "data"
   ]
  },
  {
   "cell_type": "code",
   "execution_count": null,
   "id": "0cddf4db-2e1b-4e6f-ade3-4e8948edef05",
   "metadata": {},
   "outputs": [],
   "source": [
    "df = pd.DataFrame.from_dict(data['coins']).T\n",
    "df.reset_index(inplace = True)\n",
    "df.rename(columns = {'index': 'coin'}, inplace = True)\n",
    "df"
   ]
  },
  {
   "cell_type": "code",
   "execution_count": null,
   "id": "3df2c7c5-b193-40d4-a5cc-aaa0a403af39",
   "metadata": {},
   "outputs": [],
   "source": [
    "df.shape"
   ]
  },
  {
   "cell_type": "code",
   "execution_count": null,
   "id": "25b42f2c-bce9-4e90-82b4-8730e83385fd",
   "metadata": {},
   "outputs": [],
   "source": [
    "df.insert(0, 'date', pd.to_datetime('now').replace(microsecond=0))\n",
    "df.date = pd.to_datetime(df.date)\n",
    "df = df.set_index('date').sort_index()\n",
    "df\n"
   ]
  },
  {
   "cell_type": "code",
   "execution_count": null,
   "id": "8b93bb1d-2f88-4989-965b-44da431b859e",
   "metadata": {},
   "outputs": [],
   "source": [
    "# Updating the local SQLite database.\n",
    "import sqlite3 as sql\n",
    "import pandas as pd\n",
    "\n",
    "# This line must be run first to setup the connection.\n",
    "conn = sql.connect('/Users/luke/projects/github/algo-trading-experiments/whattomine.db')\n",
    "\n",
    "# This code checks to see if the SQLite database has a table named \"holdings\".\n",
    "holdings_test = pd.read_sql(\"SELECT * FROM sqlite_master WHERE type = 'table' AND name = 'holdings';\", conn)\n",
    "\n",
    "# Now the code checks if the table exists, and if so appends the newest holdings dataframe to the sqlite database.\n",
    "if holdings_test.name.count() > 0:\n",
    "    holdings_append.to_sql('holdings', con = conn, if_exists = 'append')\n",
    "else:\n",
    "    # This line creates a table called \"holdings\" if the table doesn't exist.\n",
    "    holdings_append.to_sql('holdings', con = conn)"
   ]
  },
  {
   "cell_type": "code",
   "execution_count": null,
   "id": "88891b27-2ca4-4ae4-8194-3cc048f476f0",
   "metadata": {},
   "outputs": [],
   "source": [
    "from csv import writer"
   ]
  },
  {
   "cell_type": "code",
   "execution_count": null,
   "id": "91b48975-b44a-44db-b0da-265ee10870a6",
   "metadata": {},
   "outputs": [],
   "source": [
    "with open('whattomine_list.csv', 'a') as f_object:\n",
    "    \n",
    "    writer_object = writer(f_object)\n",
    "    \n",
    "    writer"
   ]
  },
  {
   "cell_type": "code",
   "execution_count": null,
   "id": "2604410b-8646-4a9b-b3cb-4367e0988756",
   "metadata": {},
   "outputs": [],
   "source": [
    "df.to_csv('whattomine.csv', mode = 'a', header = False)\n",
    "print(\"CSV written successfully.\")"
   ]
  },
  {
   "cell_type": "markdown",
   "id": "9130d3d9-f96a-4f35-a7cc-f250923622bd",
   "metadata": {},
   "source": [
    "## Whattomine Function"
   ]
  },
  {
   "cell_type": "code",
   "execution_count": 1,
   "id": "b8df8e12-292a-4fac-9651-00747cd09b26",
   "metadata": {},
   "outputs": [
    {
     "name": "stdout",
     "output_type": "stream",
     "text": [
      "Updated csv with daily values (non-appended).\n",
      "Updated csv with daily values (appended).\n",
      "Updated database files.\n",
      "Successfully ran script.\n"
     ]
    }
   ],
   "source": [
    "import numpy as np\n",
    "import pandas as pd\n",
    "\n",
    "import requests\n",
    "\n",
    "response = requests.get('https://whattomine.com/coins.json')\n",
    "\n",
    "data = response.json()\n",
    "\n",
    "df = pd.DataFrame.from_dict(data['coins']).T\n",
    "df.reset_index(inplace = True)\n",
    "df.rename(columns = {'index': 'coin'}, inplace = True)\n",
    "\n",
    "df.insert(0, 'date', pd.to_datetime('now').replace(microsecond=0))\n",
    "df.date = pd.to_datetime(df.date)\n",
    "df = df.set_index('date').sort_index()\n",
    "\n",
    "# Use this if we want to append.\n",
    "# df.to_csv('whattomine.csv', mode = 'a', header = False)\n",
    "# print(\"CSV written successfully.\")\n",
    "\n",
    "# Use this for daily updating of spreadsheet:\n",
    "df.to_csv(\"whattomine_list.csv\")\n",
    "print(\"Updated csv with daily values (non-appended).\")\n",
    "\n",
    "# Use this for daily updating of spreadsheet:\n",
    "df.to_csv(\"whattomine_list_history.csv\", mode = 'a', header = False)\n",
    "print(\"Updated csv with daily values (appended).\")\n",
    "\n",
    "# Updating the local SQLite database.\n",
    "import sqlite3 as sql\n",
    "import pandas as pd\n",
    "\n",
    "# This line must be run first to setup the connection.\n",
    "conn = sql.connect('/Users/luke/projects/github/algo-trading-experiments/whattomine.db')\n",
    "\n",
    "# This code checks to see if the SQLite database has a table named \"holdings\".\n",
    "holdings_test = pd.read_sql(\"SELECT * FROM sqlite_master WHERE type = 'table' AND name = 'holdings';\", conn)\n",
    "\n",
    "# Now the code checks if the table exists, and if so appends the newest holdings dataframe to the sqlite database.\n",
    "if holdings_test.name.count() > 0:\n",
    "    df.to_sql('holdings', con = conn, if_exists = 'append')\n",
    "else:\n",
    "    # This line creates a table called \"holdings\" if the table doesn't exist.\n",
    "    df.to_sql('holdings', con = conn)\n",
    "\n",
    "print(\"Updated database files.\")\n",
    "\n",
    "print(\"Successfully ran script.\")"
   ]
  },
  {
   "cell_type": "code",
   "execution_count": 1,
   "id": "79f58c53-7d67-40e5-bc85-168fa9673262",
   "metadata": {},
   "outputs": [],
   "source": [
    "# This is the version of the script I need to use."
   ]
  },
  {
   "cell_type": "code",
   "execution_count": 1,
   "id": "76ca4fdd-7273-4ec5-922b-c5b0da6007f7",
   "metadata": {},
   "outputs": [],
   "source": [
    "# Now needing to add the Google CSV functionality"
   ]
  },
  {
   "cell_type": "code",
   "execution_count": null,
   "id": "5ebf4e54-47a7-47e9-b680-f1b6196968d8",
   "metadata": {},
   "outputs": [],
   "source": []
  }
 ],
 "metadata": {
  "kernelspec": {
   "display_name": "Python 3 (ipykernel)",
   "language": "python",
   "name": "python3"
  },
  "language_info": {
   "codemirror_mode": {
    "name": "ipython",
    "version": 3
   },
   "file_extension": ".py",
   "mimetype": "text/x-python",
   "name": "python",
   "nbconvert_exporter": "python",
   "pygments_lexer": "ipython3",
   "version": "3.8.12"
  }
 },
 "nbformat": 4,
 "nbformat_minor": 5
}
