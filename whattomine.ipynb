{
 "cells": [
  {
   "cell_type": "markdown",
   "id": "6ebfe139-2607-4d38-ad6f-e3f67d1c786f",
   "metadata": {},
   "source": [
    "# WhatToMine Data\n",
    "\n",
    "Pulling data from the whattomine json website in order to get estimates for miner hashrates and daily profit calcs."
   ]
  },
  {
   "cell_type": "code",
   "execution_count": 4,
   "id": "e28e7c46-beb5-49de-bd36-470e1cf5dfe1",
   "metadata": {},
   "outputs": [],
   "source": [
    "import numpy as np\n",
    "import pandas as pd"
   ]
  },
  {
   "cell_type": "code",
   "execution_count": 5,
   "id": "0d719e49-486b-4006-ba81-aa902a093014",
   "metadata": {},
   "outputs": [],
   "source": [
    "# Website: https://whattomine.com/coins.json"
   ]
  },
  {
   "cell_type": "code",
   "execution_count": 6,
   "id": "c10bb12b-22dc-4d10-b08f-54ea4fff7274",
   "metadata": {},
   "outputs": [],
   "source": [
    "import json"
   ]
  },
  {
   "cell_type": "code",
   "execution_count": null,
   "id": "f10520c9-330c-4ac7-a723-c74b2477ef6b",
   "metadata": {},
   "outputs": [],
   "source": []
  },
  {
   "cell_type": "code",
   "execution_count": null,
   "id": "999fd051-1037-49bf-9909-6b497893b5c8",
   "metadata": {},
   "outputs": [],
   "source": []
  }
 ],
 "metadata": {
  "kernelspec": {
   "display_name": "Python 3",
   "language": "python",
   "name": "python3"
  },
  "language_info": {
   "codemirror_mode": {
    "name": "ipython",
    "version": 3
   },
   "file_extension": ".py",
   "mimetype": "text/x-python",
   "name": "python",
   "nbconvert_exporter": "python",
   "pygments_lexer": "ipython3",
   "version": "3.8.10"
  }
 },
 "nbformat": 4,
 "nbformat_minor": 5
}
