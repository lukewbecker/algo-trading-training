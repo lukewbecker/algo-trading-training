{
 "cells": [
  {
   "cell_type": "markdown",
   "id": "6ebfe139-2607-4d38-ad6f-e3f67d1c786f",
   "metadata": {},
   "source": [
    "# WhatToMine Data\n",
    "\n",
    "Pulling data from the whattomine json website in order to get estimates for miner hashrates and daily profit calcs."
   ]
  },
  {
   "cell_type": "code",
   "execution_count": null,
   "id": "e28e7c46-beb5-49de-bd36-470e1cf5dfe1",
   "metadata": {},
   "outputs": [],
   "source": []
  }
 ],
 "metadata": {
  "kernelspec": {
   "display_name": "Python 3",
   "language": "python",
   "name": "python3"
  },
  "language_info": {
   "codemirror_mode": {
    "name": "ipython",
    "version": 3
   },
   "file_extension": ".py",
   "mimetype": "text/x-python",
   "name": "python",
   "nbconvert_exporter": "python",
   "pygments_lexer": "ipython3",
   "version": "3.8.10"
  }
 },
 "nbformat": 4,
 "nbformat_minor": 5
}
