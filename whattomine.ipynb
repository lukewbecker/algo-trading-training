{
 "cells": [
  {
   "cell_type": "markdown",
   "id": "6ebfe139-2607-4d38-ad6f-e3f67d1c786f",
   "metadata": {},
   "source": [
    "# WhatToMine Data\n",
    "\n",
    "Pulling data from the whattomine json website in order to get estimates for miner hashrates and daily profit calcs."
   ]
  },
  {
   "cell_type": "code",
   "execution_count": 1,
   "id": "e28e7c46-beb5-49de-bd36-470e1cf5dfe1",
   "metadata": {},
   "outputs": [],
   "source": [
    "import numpy as np\n",
    "import pandas as pd\n",
    "\n",
    "import requests"
   ]
  },
  {
   "cell_type": "code",
   "execution_count": null,
   "id": "0d719e49-486b-4006-ba81-aa902a093014",
   "metadata": {},
   "outputs": [],
   "source": [
    "# Website: https://whattomine.com/coins.json"
   ]
  },
  {
   "cell_type": "code",
   "execution_count": null,
   "id": "f10520c9-330c-4ac7-a723-c74b2477ef6b",
   "metadata": {},
   "outputs": [],
   "source": [
    "response = requests.get('https://whattomine.com/coins.json')\n",
    "response"
   ]
  },
  {
   "cell_type": "code",
   "execution_count": null,
   "id": "999fd051-1037-49bf-9909-6b497893b5c8",
   "metadata": {},
   "outputs": [],
   "source": [
    "response.ok"
   ]
  },
  {
   "cell_type": "code",
   "execution_count": null,
   "id": "fed638e0-2e62-4957-8e85-86d3d488248d",
   "metadata": {},
   "outputs": [],
   "source": [
    "response.status_code"
   ]
  },
  {
   "cell_type": "code",
   "execution_count": null,
   "id": "3d140aa2-5d66-4710-80ec-98498c4b02c5",
   "metadata": {},
   "outputs": [],
   "source": [
    "data = response.json()"
   ]
  },
  {
   "cell_type": "code",
   "execution_count": null,
   "id": "dec38ef9-16f1-4403-9693-f06753331eec",
   "metadata": {
    "tags": []
   },
   "outputs": [],
   "source": [
    "data"
   ]
  },
  {
   "cell_type": "code",
   "execution_count": null,
   "id": "0cddf4db-2e1b-4e6f-ade3-4e8948edef05",
   "metadata": {},
   "outputs": [],
   "source": [
    "df = pd.DataFrame.from_dict(data['coins']).T\n",
    "df.reset_index(inplace = True)\n",
    "df.rename(columns = {'index': 'coin'}, inplace = True)\n",
    "df"
   ]
  },
  {
   "cell_type": "code",
   "execution_count": null,
   "id": "3df2c7c5-b193-40d4-a5cc-aaa0a403af39",
   "metadata": {},
   "outputs": [],
   "source": [
    "df.shape"
   ]
  },
  {
   "cell_type": "code",
   "execution_count": null,
   "id": "25b42f2c-bce9-4e90-82b4-8730e83385fd",
   "metadata": {},
   "outputs": [],
   "source": [
    "df.insert(0, 'date', pd.to_datetime('now').replace(microsecond=0))\n",
    "df.date = pd.to_datetime(df.date)\n",
    "df = df.set_index('date').sort_index()\n",
    "df\n"
   ]
  },
  {
   "cell_type": "code",
   "execution_count": null,
   "id": "b1b6074f-0873-42a6-8ab5-c1ecb1d05f4f",
   "metadata": {},
   "outputs": [],
   "source": [
    "df.to_csv(\"whattomine_list.csv\")"
   ]
  },
  {
   "cell_type": "code",
   "execution_count": null,
   "id": "1d281678-e707-41f0-b378-685e392813a2",
   "metadata": {},
   "outputs": [],
   "source": [
    "df"
   ]
  },
  {
   "cell_type": "code",
   "execution_count": null,
   "id": "1e8446b5-1ef0-4504-bf6e-2f85c91afa42",
   "metadata": {},
   "outputs": [],
   "source": []
  },
  {
   "cell_type": "code",
   "execution_count": null,
   "id": "8b93bb1d-2f88-4989-965b-44da431b859e",
   "metadata": {},
   "outputs": [],
   "source": [
    "# Updating the local SQLite database.\n",
    "import sqlite3 as sql\n",
    "import pandas as pd\n",
    "\n",
    "# This line must be run first to setup the connection.\n",
    "conn = sql.connect('/Users/luke/projects/github/algo-trading-experiments/whattomine.db')\n",
    "\n",
    "# This code checks to see if the SQLite database has a table named \"holdings\".\n",
    "holdings_test = pd.read_sql(\"SELECT * FROM sqlite_master WHERE type = 'table' AND name = 'holdings';\", conn)\n",
    "\n",
    "# Now the code checks if the table exists, and if so appends the newest holdings dataframe to the sqlite database.\n",
    "if holdings_test.name.count() > 0:\n",
    "    holdings_append.to_sql('holdings', con = conn, if_exists = 'append')\n",
    "else:\n",
    "    # This line creates a table called \"holdings\" if the table doesn't exist.\n",
    "    holdings_append.to_sql('holdings', con = conn)"
   ]
  },
  {
   "cell_type": "code",
   "execution_count": null,
   "id": "2acc43a6-491f-4e06-86b5-e4b6cc8a9a69",
   "metadata": {},
   "outputs": [],
   "source": []
  },
  {
   "cell_type": "code",
   "execution_count": null,
   "id": "7eeba905-a090-47fc-bf58-a23af49220b2",
   "metadata": {},
   "outputs": [],
   "source": []
  },
  {
   "cell_type": "code",
   "execution_count": null,
   "id": "aec48c3c-98ae-4ad3-83af-e46614128d52",
   "metadata": {},
   "outputs": [],
   "source": []
  },
  {
   "cell_type": "code",
   "execution_count": null,
   "id": "624e750f-d0ec-4efd-91fc-cf81e16839d0",
   "metadata": {},
   "outputs": [],
   "source": []
  },
  {
   "cell_type": "code",
   "execution_count": null,
   "id": "2abcc414-9c10-47eb-b7c4-a9a64741ed03",
   "metadata": {},
   "outputs": [],
   "source": [
    "# fruity_taste = {'fruit': ['apple', 'banana'], 'count': [23, 2]}"
   ]
  },
  {
   "cell_type": "code",
   "execution_count": null,
   "id": "edb47563-ee97-4ef8-b046-64b3300ae3eb",
   "metadata": {},
   "outputs": [],
   "source": [
    "# type(fruity_taste)"
   ]
  },
  {
   "cell_type": "code",
   "execution_count": null,
   "id": "ed7734b7-48c7-4b1c-a79e-57165cce19df",
   "metadata": {},
   "outputs": [],
   "source": [
    "# fruits = pd.DataFrame(fruity_taste)"
   ]
  },
  {
   "cell_type": "code",
   "execution_count": null,
   "id": "c930fe5a-2e59-4b36-bfb5-fd8d99e0a611",
   "metadata": {},
   "outputs": [],
   "source": [
    "# fruits"
   ]
  },
  {
   "cell_type": "code",
   "execution_count": null,
   "id": "b45f2b60-cc19-4fb4-bcc5-ac7666ef44bf",
   "metadata": {},
   "outputs": [],
   "source": [
    "# fruits.to_csv('fruity.csv')"
   ]
  },
  {
   "cell_type": "code",
   "execution_count": null,
   "id": "550b5b85-882d-4502-ba2d-21ab1102f582",
   "metadata": {},
   "outputs": [],
   "source": [
    "# file = open('fruity.csv', 'a')\n",
    "# file.write('orange,3')\n",
    "# file.close()"
   ]
  },
  {
   "cell_type": "code",
   "execution_count": null,
   "id": "d98749c6-6d09-431f-b962-10e8abe3f4d9",
   "metadata": {},
   "outputs": [],
   "source": []
  },
  {
   "cell_type": "code",
   "execution_count": null,
   "id": "88891b27-2ca4-4ae4-8194-3cc048f476f0",
   "metadata": {},
   "outputs": [],
   "source": [
    "from csv import writer"
   ]
  },
  {
   "cell_type": "code",
   "execution_count": null,
   "id": "91b48975-b44a-44db-b0da-265ee10870a6",
   "metadata": {},
   "outputs": [],
   "source": [
    "with open('whattomine_list.csv', 'a') as f_object:\n",
    "    \n",
    "    writer_object = writer(f_object)\n",
    "    \n",
    "    writer"
   ]
  },
  {
   "cell_type": "code",
   "execution_count": null,
   "id": "2604410b-8646-4a9b-b3cb-4367e0988756",
   "metadata": {},
   "outputs": [],
   "source": [
    "df.to_csv('whattomine.csv', mode = 'a', header = False)\n",
    "print(\"CSV written successfully.\")"
   ]
  },
  {
   "cell_type": "markdown",
   "id": "9130d3d9-f96a-4f35-a7cc-f250923622bd",
   "metadata": {},
   "source": [
    "## Function"
   ]
  },
  {
   "cell_type": "code",
   "execution_count": 5,
   "id": "b8df8e12-292a-4fac-9651-00747cd09b26",
   "metadata": {},
   "outputs": [
    {
     "name": "stdout",
     "output_type": "stream",
     "text": [
      "Updated csv with daily values (non-appended).\n",
      "Successfully ran script.\n"
     ]
    }
   ],
   "source": [
    "import numpy as np\n",
    "import pandas as pd\n",
    "\n",
    "import requests\n",
    "\n",
    "response = requests.get('https://whattomine.com/coins.json')\n",
    "\n",
    "data = response.json()\n",
    "\n",
    "df = pd.DataFrame.from_dict(data['coins']).T\n",
    "df.reset_index(inplace = True)\n",
    "df.rename(columns = {'index': 'coin'}, inplace = True)\n",
    "\n",
    "df.insert(0, 'date', pd.to_datetime('now').replace(microsecond=0))\n",
    "df.date = pd.to_datetime(df.date)\n",
    "df = df.set_index('date').sort_index()\n",
    "\n",
    "# Use this if we want to append.\n",
    "# df.to_csv('whattomine.csv', mode = 'a', header = False)\n",
    "# print(\"CSV written successfully.\")\n",
    "\n",
    "# Use this for daily updating of spreadsheet:\n",
    "df.to_csv(\"whattomine_list.csv\")\n",
    "print(\"Updated csv with daily values (non-appended).\")\n",
    "\n",
    "print(\"Successfully ran script.\")"
   ]
  },
  {
   "cell_type": "code",
   "execution_count": 1,
   "id": "79f58c53-7d67-40e5-bc85-168fa9673262",
   "metadata": {},
   "outputs": [],
   "source": [
    "# This is the version of the script I need to use."
   ]
  },
  {
   "cell_type": "code",
   "execution_count": null,
   "id": "76ca4fdd-7273-4ec5-922b-c5b0da6007f7",
   "metadata": {},
   "outputs": [],
   "source": []
  }
 ],
 "metadata": {
  "kernelspec": {
   "display_name": "Python 3 (ipykernel)",
   "language": "python",
   "name": "python3"
  },
  "language_info": {
   "codemirror_mode": {
    "name": "ipython",
    "version": 3
   },
   "file_extension": ".py",
   "mimetype": "text/x-python",
   "name": "python",
   "nbconvert_exporter": "python",
   "pygments_lexer": "ipython3",
   "version": "3.8.11"
  }
 },
 "nbformat": 4,
 "nbformat_minor": 5
}
