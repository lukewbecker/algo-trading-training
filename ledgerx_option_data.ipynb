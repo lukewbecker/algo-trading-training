{
 "cells": [
  {
   "cell_type": "markdown",
   "id": "96d55c1d",
   "metadata": {},
   "source": [
    "## LedgerX Options Data\n",
    "\n",
    "- Purpose of this notebook is to pull and examine options trades placed on the LedgerX Bitcoin options exchange, currently the only Bitcoin options availble to US traders."
   ]
  },
  {
   "cell_type": "code",
   "execution_count": 2,
   "id": "eab9a7f1",
   "metadata": {},
   "outputs": [],
   "source": [
    "# Importing needed libraries:\n",
    "\n",
    "import requests\n",
    "import pandas as pd\n",
    "import numpy as np\n",
    "import matplotlib.pyplot as plt"
   ]
  },
  {
   "cell_type": "code",
   "execution_count": 3,
   "id": "2a995dd1",
   "metadata": {},
   "outputs": [
    {
     "name": "stdout",
     "output_type": "stream",
     "text": [
      "Keys loaded successfully\n"
     ]
    }
   ],
   "source": [
    "# Importing the LedgerX credentials:\n",
    "\n",
    "import env"
   ]
  },
  {
   "cell_type": "code",
   "execution_count": 6,
   "id": "7da981a3",
   "metadata": {},
   "outputs": [],
   "source": [
    "key = env.ledgerx_api_key"
   ]
  },
  {
   "cell_type": "code",
   "execution_count": null,
   "id": "b52e1f47",
   "metadata": {},
   "outputs": [],
   "source": []
  }
 ],
 "metadata": {
  "kernelspec": {
   "display_name": "Python 3",
   "language": "python",
   "name": "python3"
  },
  "language_info": {
   "codemirror_mode": {
    "name": "ipython",
    "version": 3
   },
   "file_extension": ".py",
   "mimetype": "text/x-python",
   "name": "python",
   "nbconvert_exporter": "python",
   "pygments_lexer": "ipython3",
   "version": "3.8.10"
  }
 },
 "nbformat": 4,
 "nbformat_minor": 5
}
