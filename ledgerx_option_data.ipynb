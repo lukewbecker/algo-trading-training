{
 "cells": [
  {
   "cell_type": "markdown",
   "id": "6061bc35",
   "metadata": {},
   "source": [
    "## LedgerX Options Data\n",
    "\n",
    "- Purpose of this notebook is to pull and examine options trades placed on the LedgerX Bitcoin options exchange, currently the only Bitcoin options availble to US traders."
   ]
  },
  {
   "cell_type": "code",
   "execution_count": 1,
   "id": "a19c19bc",
   "metadata": {},
   "outputs": [],
   "source": [
    "# Importing needed libraries:\n",
    "\n",
    "import requests\n",
    "import pandas as pd\n",
    "import numpy as np\n",
    "import matplotlib.pyplot as plt"
   ]
  },
  {
   "cell_type": "code",
   "execution_count": 2,
   "id": "a7da8ce8",
   "metadata": {},
   "outputs": [
    {
     "name": "stdout",
     "output_type": "stream",
     "text": [
      "Keys loaded successfully\n"
     ]
    }
   ],
   "source": [
    "# Importing the LedgerX credentials:\n",
    "\n",
    "import env"
   ]
  },
  {
   "cell_type": "code",
   "execution_count": 3,
   "id": "a9db5d8b",
   "metadata": {},
   "outputs": [
    {
     "ename": "AttributeError",
     "evalue": "module 'env' has no attribute 'ledgerx_api_key'",
     "output_type": "error",
     "traceback": [
      "\u001b[0;31m---------------------------------------------------------------------------\u001b[0m",
      "\u001b[0;31mAttributeError\u001b[0m                            Traceback (most recent call last)",
      "\u001b[0;32m/var/folders/8t/wm4_9htn0l781swml25l3r3w0000gn/T/ipykernel_60255/3023131086.py\u001b[0m in \u001b[0;36m<module>\u001b[0;34m\u001b[0m\n\u001b[0;32m----> 1\u001b[0;31m \u001b[0mkey\u001b[0m \u001b[0;34m=\u001b[0m \u001b[0menv\u001b[0m\u001b[0;34m.\u001b[0m\u001b[0mledgerx_api_key\u001b[0m\u001b[0;34m\u001b[0m\u001b[0;34m\u001b[0m\u001b[0m\n\u001b[0m",
      "\u001b[0;31mAttributeError\u001b[0m: module 'env' has no attribute 'ledgerx_api_key'"
     ]
    }
   ],
   "source": [
    "key = env.ledgerx_api_key"
   ]
  },
  {
   "cell_type": "code",
   "execution_count": null,
   "id": "ad5cd784",
   "metadata": {},
   "outputs": [],
   "source": [
    "url = \"https://api.ledgerx.com/trading/contracts\"\n",
    "\n",
    "headers = {\"Accept\": \"application/json\"}\n",
    "\n",
    "response = requests.request(\"GET\", url, headers=headers)\n",
    "\n",
    "print(response.text)"
   ]
  },
  {
   "cell_type": "code",
   "execution_count": null,
   "id": "c62b0a4e",
   "metadata": {},
   "outputs": [],
   "source": [
    "url = \"https://api.ledgerx.com/trading/contracts\"\n",
    "\n",
    "headers = {\"Accept\": \"application/json\"}\n",
    "\n",
    "response = requests.request(\"GET\", url, headers=headers)\n",
    "\n",
    "print(response.content)"
   ]
  },
  {
   "cell_type": "code",
   "execution_count": null,
   "id": "ddef9f28",
   "metadata": {},
   "outputs": [],
   "source": [
    "url = \"https://api.ledgerx.com/trading/contracts\"\n",
    "\n",
    "headers = {\"Accept\": \"application/json\"}\n",
    "\n",
    "response = requests.request(\"GET\", url, headers=headers)\n",
    "\n",
    "print(response.text)"
   ]
  },
  {
   "cell_type": "code",
   "execution_count": null,
   "id": "1d8a1f96",
   "metadata": {},
   "outputs": [],
   "source": [
    "url = \"https://api.ledgerx.com/trading/contracts\"\n",
    "\n",
    "headers = {\"Accept\": \"application/json\"}\n",
    "\n",
    "response = requests.request(\"GET\", url, headers=headers)\n",
    "\n",
    "print(response.text)"
   ]
  },
  {
   "cell_type": "code",
   "execution_count": null,
   "id": "3e95b96d",
   "metadata": {},
   "outputs": [],
   "source": [
    "url = \"https://api.ledgerx.com/trading/contracts\"\n",
    "\n",
    "headers = {\"Accept\": \"application/json\"}\n",
    "\n",
    "response = requests.request(\"GET\", url, headers=headers)\n",
    "\n",
    "print(response.text)"
   ]
  },
  {
   "cell_type": "code",
   "execution_count": null,
   "id": "402c42cd",
   "metadata": {},
   "outputs": [],
   "source": []
  }
 ],
 "metadata": {
  "kernelspec": {
   "display_name": "Python 3 (ipykernel)",
   "language": "python",
   "name": "python3"
  },
  "language_info": {
   "codemirror_mode": {
    "name": "ipython",
    "version": 3
   },
   "file_extension": ".py",
   "mimetype": "text/x-python",
   "name": "python",
   "nbconvert_exporter": "python",
   "pygments_lexer": "ipython3",
   "version": "3.8.12"
  }
 },
 "nbformat": 4,
 "nbformat_minor": 5
}
