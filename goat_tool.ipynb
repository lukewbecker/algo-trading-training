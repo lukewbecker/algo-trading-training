{
 "cells": [
  {
   "cell_type": "code",
   "execution_count": 1,
   "metadata": {},
   "outputs": [
    {
     "name": "stdout",
     "output_type": "stream",
     "text": [
      "Polygon.io API key loaded up.\n",
      "Cboe API key loaded up.\n",
      "TD Ameritrade API key loaded up.\n",
      "Coinbase API key loaded up.\n",
      "All credentials loaded successfully\n"
     ]
    }
   ],
   "source": [
    "import pandas as pd\n",
    "import numpy as np\n",
    "import scipy.stats as stats\n",
    "import matplotlib.pyplot as plt\n",
    "import seaborn as sns\n",
    "import math\n",
    "import datetime\n",
    "\n",
    "import env\n",
    "\n",
    "import tda\n",
    "import os\n",
    "import requests\n",
    "import json\n",
    "import base64"
   ]
  },
  {
   "cell_type": "markdown",
   "metadata": {},
   "source": [
    "#### Code to get new authorization key"
   ]
  },
  {
   "cell_type": "code",
   "execution_count": 2,
   "metadata": {},
   "outputs": [
    {
     "name": "stdout",
     "output_type": "stream",
     "text": [
      "Authenticated successfully\n"
     ]
    }
   ],
   "source": [
    "# Creating the client ID variables to use in getting an access token:\n",
    "client_id = env.cboe_client_id\n",
    "client_secret = env.cboe_client_secret\n",
    "\n",
    "identity_url = \"https://id.livevol.com/connect/token\"\n",
    "\n",
    "encoded = base64.b64encode((client_id + ':' + client_secret).encode())\n",
    "headers = {\"Authorization\": \"Basic \" + encoded.decode('ascii')}\n",
    "payload = {\"grant_type\": \"client_credentials\"}\n",
    "\n",
    "# Requesting access token\n",
    "token_data = requests.post(identity_url, data=payload, headers=headers)\n",
    "\n",
    "if token_data.status_code == 200:\n",
    "    token = token_data.json()['access_token']\n",
    "    if len(token) > 0:\n",
    "        print(\"Authenticated successfully\")\n",
    "        # Requesting data from API\n",
    "#         result = requests.get(f'https://api.livevol.com/v1/live/allaccess/market/option-and-underlying-quotes?root={root}&option_type={option_type}&date={date}&min_expiry={min_expiry}&max_expiry={max_expiry}&min_strike={min_strike}&max_strike={max_strike}&symbol={symbol}', headers={\"Authorization\": \"Bearer \" + token}, verify=False)\n",
    "#         print(result.json())\n",
    "else:\n",
    "    print(\"Authentication failed\")"
   ]
  },
  {
   "cell_type": "markdown",
   "metadata": {},
   "source": [
    "#### Functions to get option data"
   ]
  },
  {
   "cell_type": "code",
   "execution_count": 3,
   "metadata": {},
   "outputs": [],
   "source": [
    "# Example data points used in function:\n",
    "\n",
    "# root = 'TDOC'\n",
    "# option_type = 'C'\n",
    "# date = '2021-01-04'\n",
    "# min_expiry = '2022-01-21'\n",
    "# max_expiry = '2022-01-21'\n",
    "# min_strike = '145'\n",
    "# max_strike = '145'\n",
    "# symbol = root\n",
    "\n",
    "\n",
    "def cboe_data(root, option_type, date, min_expiry, max_expiry, min_strike, max_strike, symbol, header_code):\n",
    "    \n",
    "    url = f'https://api.livevol.com/v1/live/allaccess/market/option-and-underlying-quotes?root={root}&option_type={option_type}&date={date}&min_expiry={min_expiry}&max_expiry={max_expiry}&min_strike={min_strike}&max_strike={max_strike}&symbol={symbol}'\n",
    "    \n",
    "    cboe_headers = {'Authorization': f'Bearer {header_code}'}\n",
    "    \n",
    "    \n",
    "    # Getting the data from the API:\n",
    "    stock_get = requests.get(url = url, headers = cboe_headers)\n",
    "    \n",
    "    stock_data = json.loads(stock_get.text)\n",
    "    \n",
    "    # Creating the Dataframe and cleaning up columns:\n",
    "    stock_df = pd.DataFrame(stock_data['options'][0], index = [0])\n",
    "    columns_to_keep = ['root', 'expiry', 'strike', 'option_type', 'timestamp', 'option_mid', 'option_bid', 'option_ask', 'delta', 'gamme', 'vega', 'theta', 'rho']\n",
    "    \n",
    "    # Using list comprehension to filter for the columns I want to keep\n",
    "    stock_df = stock_df[[c for c in stock_df.columns if c in columns_to_keep]]\n",
    "    \n",
    "    # Adding the as of date:\n",
    "    stock_df['as_of_date'] = date\n",
    "    \n",
    "    # Returning the df:\n",
    "    \n",
    "    return stock_df"
   ]
  },
  {
   "cell_type": "code",
   "execution_count": 4,
   "metadata": {},
   "outputs": [],
   "source": [
    "# Function using delayed data from Cboe:\n",
    "\n",
    "def cboe_data_delayed(root, option_type, date, min_expiry, max_expiry, min_strike, max_strike, symbol, header_code):\n",
    "    \n",
    "    '''\n",
    "    Must use the Cboe LiveVol's API formatting for this call. This function essentially fills in the blanks for a live API call using the function arguments.\n",
    "    '''\n",
    "    \n",
    "    url = f'https://api.livevol.com/v1/delayed/allaccess/market/option-and-underlying-quotes?root={root}&option_type={option_type}&date={date}&min_expiry={min_expiry}&max_expiry={max_expiry}&min_strike={min_strike}&max_strike={max_strike}&symbol={symbol}'\n",
    "    \n",
    "    cboe_headers = {'Authorization': f'Bearer {header_code}'}\n",
    "    \n",
    "    \n",
    "    # Getting the data from the API:\n",
    "    stock_get = requests.get(url = url, headers = cboe_headers)\n",
    "    \n",
    "    stock_data = json.loads(stock_get.text)\n",
    "    \n",
    "    # Creating the Dataframe and cleaning up columns:\n",
    "    stock_df = pd.DataFrame(stock_data['options'][0], index = [0])\n",
    "    columns_to_keep = ['root', 'expiry', 'strike', 'option_type', 'timestamp', 'option_mid', 'option_bid', 'option_ask', 'delta', 'gamme', 'vega', 'theta', 'rho']\n",
    "    \n",
    "    # Using list comprehension to filter for the columns I want to keep\n",
    "    stock_df = stock_df[[c for c in stock_df.columns if c in columns_to_keep]]\n",
    "    \n",
    "    # Adding the as of date:\n",
    "    stock_df['as_of_date'] = date\n",
    "    \n",
    "    # Returning the df:\n",
    "    \n",
    "    return stock_df"
   ]
  },
  {
   "cell_type": "markdown",
   "metadata": {},
   "source": [
    "### Data Aquisition\n",
    "\n",
    "- First step is to get the starting and ending prices of the option\n",
    "    - The start date will be the first trading day of the year, 1/4/2021, and the last date will be the end of the previous month, 2/26/2021\n",
    "- Will also retrieve the option greeks for these two dates, same option.\n",
    "- Starting out looking at an ATM call.\n",
    "    - Adjusted close for AAPL on 1/4/21 was 129.22, so we'll use the 130 call."
   ]
  },
  {
   "cell_type": "code",
   "execution_count": 6,
   "metadata": {},
   "outputs": [],
   "source": [
    "start_data = cboe_data('AAPL', 'C', '2021-01-04', '2021-03-19', '2021-03-19','130', '130', 'AAPL', token)"
   ]
  },
  {
   "cell_type": "code",
   "execution_count": 7,
   "metadata": {},
   "outputs": [],
   "source": [
    "end_data = cboe_data('AAPL', 'C', '2021-02-26', '2021-03-19', '2021-03-19','130', '130', 'AAPL', token)"
   ]
  },
  {
   "cell_type": "code",
   "execution_count": 11,
   "metadata": {},
   "outputs": [
    {
     "data": {
      "text/html": [
       "<div>\n",
       "<style scoped>\n",
       "    .dataframe tbody tr th:only-of-type {\n",
       "        vertical-align: middle;\n",
       "    }\n",
       "\n",
       "    .dataframe tbody tr th {\n",
       "        vertical-align: top;\n",
       "    }\n",
       "\n",
       "    .dataframe thead th {\n",
       "        text-align: right;\n",
       "    }\n",
       "</style>\n",
       "<table border=\"1\" class=\"dataframe\">\n",
       "  <thead>\n",
       "    <tr style=\"text-align: right;\">\n",
       "      <th></th>\n",
       "      <th>root</th>\n",
       "      <th>expiry</th>\n",
       "      <th>strike</th>\n",
       "      <th>option_type</th>\n",
       "      <th>timestamp</th>\n",
       "      <th>option_mid</th>\n",
       "      <th>option_bid</th>\n",
       "      <th>option_ask</th>\n",
       "      <th>delta</th>\n",
       "      <th>vega</th>\n",
       "      <th>theta</th>\n",
       "      <th>rho</th>\n",
       "      <th>as_of_date</th>\n",
       "    </tr>\n",
       "  </thead>\n",
       "  <tbody>\n",
       "    <tr>\n",
       "      <th>0</th>\n",
       "      <td>AAPL</td>\n",
       "      <td>2021-03-19</td>\n",
       "      <td>130.0</td>\n",
       "      <td>C</td>\n",
       "      <td>None</td>\n",
       "      <td>8.625</td>\n",
       "      <td>8.60</td>\n",
       "      <td>8.65</td>\n",
       "      <td>0.5243</td>\n",
       "      <td>0.2320</td>\n",
       "      <td>-0.0602</td>\n",
       "      <td>0.0</td>\n",
       "      <td>2021-01-04</td>\n",
       "    </tr>\n",
       "    <tr>\n",
       "      <th>1</th>\n",
       "      <td>AAPL</td>\n",
       "      <td>2021-03-19</td>\n",
       "      <td>130.0</td>\n",
       "      <td>C</td>\n",
       "      <td>None</td>\n",
       "      <td>1.845</td>\n",
       "      <td>1.84</td>\n",
       "      <td>1.85</td>\n",
       "      <td>0.2616</td>\n",
       "      <td>0.0946</td>\n",
       "      <td>-0.0950</td>\n",
       "      <td>0.0</td>\n",
       "      <td>2021-02-26</td>\n",
       "    </tr>\n",
       "  </tbody>\n",
       "</table>\n",
       "</div>"
      ],
      "text/plain": [
       "   root      expiry  strike option_type timestamp  option_mid  option_bid  \\\n",
       "0  AAPL  2021-03-19   130.0           C      None       8.625        8.60   \n",
       "1  AAPL  2021-03-19   130.0           C      None       1.845        1.84   \n",
       "\n",
       "   option_ask   delta    vega   theta  rho  as_of_date  \n",
       "0        8.65  0.5243  0.2320 -0.0602  0.0  2021-01-04  \n",
       "1        1.85  0.2616  0.0946 -0.0950  0.0  2021-02-26  "
      ]
     },
     "execution_count": 11,
     "metadata": {},
     "output_type": "execute_result"
    }
   ],
   "source": [
    "df = pd.concat([start_data, end_data], ignore_index = True)\n",
    "df"
   ]
  },
  {
   "cell_type": "code",
   "execution_count": 12,
   "metadata": {},
   "outputs": [],
   "source": [
    "# The calculator estimates the attribution of price changes in an option to each of the main greeks; Delta, Vega, and Theta. This is a test of that idea."
   ]
  },
  {
   "cell_type": "code",
   "execution_count": null,
   "metadata": {},
   "outputs": [],
   "source": []
  },
  {
   "cell_type": "code",
   "execution_count": null,
   "metadata": {},
   "outputs": [],
   "source": []
  }
 ],
 "metadata": {
  "kernelspec": {
   "display_name": "Python 3",
   "language": "python",
   "name": "python3"
  },
  "language_info": {
   "codemirror_mode": {
    "name": "ipython",
    "version": 3
   },
   "file_extension": ".py",
   "mimetype": "text/x-python",
   "name": "python",
   "nbconvert_exporter": "python",
   "pygments_lexer": "ipython3",
   "version": "3.8.5"
  }
 },
 "nbformat": 4,
 "nbformat_minor": 4
}
