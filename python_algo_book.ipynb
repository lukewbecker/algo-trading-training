{
 "cells": [
  {
   "cell_type": "code",
   "execution_count": 1,
   "metadata": {},
   "outputs": [],
   "source": [
    "# Python for Algorithmic Trading Book Practice Notebook"
   ]
  },
  {
   "cell_type": "code",
   "execution_count": 2,
   "metadata": {},
   "outputs": [
    {
     "name": "stdout",
     "output_type": "stream",
     "text": [
      "CPU times: user 9 µs, sys: 2 µs, total: 11 µs\n",
      "Wall time: 14.1 µs\n"
     ]
    }
   ],
   "source": []
  },
  {
   "cell_type": "code",
   "execution_count": 5,
   "metadata": {},
   "outputs": [
    {
     "name": "stdout",
     "output_type": "stream",
     "text": [
      "CPU times: user 93.2 ms, sys: 3.95 ms, total: 97.1 ms\n",
      "Wall time: 96.3 ms\n"
     ]
    }
   ],
   "source": [
    "%%time\n",
    "import random\n",
    "from math import exp, sqrt\n",
    "\n",
    "S0 = 100\n",
    "r = 0.05\n",
    "T_math = 1.0\n",
    "sigma = 0.2\n",
    "\n",
    "values = []\n",
    "\n",
    "for _ in range(100000):\n",
    "    ST_math = S0 * exp((r - 0.5 * sigma ** 2) * T_math +\n",
    "                      sigma * random.gauss(0, 1) * sqrt(T_math))\n",
    "    values.append(ST_math)"
   ]
  },
  {
   "cell_type": "code",
   "execution_count": 6,
   "metadata": {},
   "outputs": [
    {
     "name": "stdout",
     "output_type": "stream",
     "text": [
      "CPU times: user 836 ms, sys: 17.7 ms, total: 854 ms\n",
      "Wall time: 856 ms\n"
     ]
    }
   ],
   "source": [
    "%%time\n",
    "import random\n",
    "from math import exp, sqrt\n",
    "\n",
    "S0 = 100\n",
    "r = 0.05\n",
    "T_math = 1.0\n",
    "sigma = 0.2\n",
    "\n",
    "values = []\n",
    "\n",
    "for _ in range(1000000):\n",
    "    ST_math = S0 * exp((r - 0.5 * sigma ** 2) * T_math +\n",
    "                      sigma * random.gauss(0, 1) * sqrt(T_math))\n",
    "    values.append(ST_math)"
   ]
  },
  {
   "cell_type": "code",
   "execution_count": 7,
   "metadata": {},
   "outputs": [
    {
     "name": "stdout",
     "output_type": "stream",
     "text": [
      "{'BTC': {'USD': 56222.17}}\n"
     ]
    }
   ],
   "source": [
    "import cryptocompare as cc\n",
    "\n",
    "price = cc.get_price('BTC', 'USD')\n",
    "\n",
    "print(price)"
   ]
  },
  {
   "cell_type": "code",
   "execution_count": null,
   "metadata": {},
   "outputs": [],
   "source": []
  }
 ],
 "metadata": {
  "kernelspec": {
   "display_name": "Python 3",
   "language": "python",
   "name": "python3"
  },
  "language_info": {
   "codemirror_mode": {
    "name": "ipython",
    "version": 3
   },
   "file_extension": ".py",
   "mimetype": "text/x-python",
   "name": "python",
   "nbconvert_exporter": "python",
   "pygments_lexer": "ipython3",
   "version": "3.8.5"
  }
 },
 "nbformat": 4,
 "nbformat_minor": 4
}
