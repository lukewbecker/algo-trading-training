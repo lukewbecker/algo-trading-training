{
 "cells": [
  {
   "cell_type": "code",
   "execution_count": 1,
   "metadata": {},
   "outputs": [],
   "source": [
    "#TDA API testing"
   ]
  },
  {
   "cell_type": "code",
   "execution_count": 2,
   "metadata": {},
   "outputs": [],
   "source": [
    "import pandas as pd\n",
    "import numpy as np\n",
    "import scipy.stats as stats\n",
    "import matplotlib.pyplot as plt\n",
    "import seaborn as sns\n",
    "import math\n",
    "import datetime"
   ]
  },
  {
   "cell_type": "code",
   "execution_count": 3,
   "metadata": {},
   "outputs": [
    {
     "name": "stdout",
     "output_type": "stream",
     "text": [
      "Polygon.io API key loaded up.\n",
      "Cboe API key loaded up.\n",
      "TD Ameritrade API key loaded up.\n",
      "Coinbase API key loaded up.\n",
      "All credentials loaded successfully\n"
     ]
    }
   ],
   "source": [
    "import env"
   ]
  },
  {
   "cell_type": "code",
   "execution_count": 4,
   "metadata": {},
   "outputs": [],
   "source": [
    "import tda"
   ]
  },
  {
   "cell_type": "code",
   "execution_count": 5,
   "metadata": {},
   "outputs": [],
   "source": [
    "tda_key = env.tda_api_key\n",
    "tda_url = env.my_redirect_url\n",
    "\n",
    "# tda_url"
   ]
  },
  {
   "cell_type": "code",
   "execution_count": 6,
   "metadata": {},
   "outputs": [
    {
     "data": {
      "text/plain": [
       "<module 'tda' from '/usr/local/anaconda3/lib/python3.8/site-packages/tda/__init__.py'>"
      ]
     },
     "execution_count": 6,
     "metadata": {},
     "output_type": "execute_result"
    }
   ],
   "source": [
    "tda"
   ]
  },
  {
   "cell_type": "code",
   "execution_count": 7,
   "metadata": {},
   "outputs": [],
   "source": [
    "token_path = 'ameritrade-token.json'"
   ]
  },
  {
   "cell_type": "code",
   "execution_count": 8,
   "metadata": {},
   "outputs": [
    {
     "data": {
      "text/plain": [
       "'ameritrade-token.json'"
      ]
     },
     "execution_count": 8,
     "metadata": {},
     "output_type": "execute_result"
    }
   ],
   "source": [
    "token_path"
   ]
  },
  {
   "cell_type": "code",
   "execution_count": 9,
   "metadata": {},
   "outputs": [
    {
     "data": {
      "text/plain": [
       "<tda.client.synchronous.Client at 0x7ff139bd0d90>"
      ]
     },
     "execution_count": 9,
     "metadata": {},
     "output_type": "execute_result"
    }
   ],
   "source": [
    "tda.auth.easy_client(tda_key, tda_url, token_path)"
   ]
  },
  {
   "cell_type": "code",
   "execution_count": 10,
   "metadata": {},
   "outputs": [
    {
     "ename": "NameError",
     "evalue": "name 'webdriver' is not defined",
     "output_type": "error",
     "traceback": [
      "\u001b[0;31m---------------------------------------------------------------------------\u001b[0m",
      "\u001b[0;31mNameError\u001b[0m                                 Traceback (most recent call last)",
      "\u001b[0;32m<ipython-input-10-5a753e062acd>\u001b[0m in \u001b[0;36m<module>\u001b[0;34m\u001b[0m\n\u001b[0;32m----> 1\u001b[0;31m \u001b[0mdriver\u001b[0m \u001b[0;34m=\u001b[0m \u001b[0mwebdriver\u001b[0m\u001b[0;34m.\u001b[0m\u001b[0mChrome\u001b[0m\u001b[0;34m(\u001b[0m\u001b[0;34m)\u001b[0m\u001b[0;34m\u001b[0m\u001b[0;34m\u001b[0m\u001b[0m\n\u001b[0m\u001b[1;32m      2\u001b[0m \u001b[0mdriver\u001b[0m\u001b[0;34m\u001b[0m\u001b[0;34m\u001b[0m\u001b[0m\n",
      "\u001b[0;31mNameError\u001b[0m: name 'webdriver' is not defined"
     ]
    }
   ],
   "source": [
    "driver = webdriver.Chrome()\n",
    "driver"
   ]
  },
  {
   "cell_type": "code",
   "execution_count": null,
   "metadata": {},
   "outputs": [],
   "source": [
    "def make_webdriver():\n",
    "# Import selenium here because it's slow to import from selenium import webdriver\n",
    "    from selenium import webdriver\n",
    "    \n",
    "    driver = webdriver.Chrome()\n",
    "    atexit.register(lambda: driver.quit())\n",
    "    return driver"
   ]
  },
  {
   "cell_type": "code",
   "execution_count": null,
   "metadata": {},
   "outputs": [],
   "source": [
    "tda.auth.client_from_login_flow(webdriver = make_webdriver(), api_key = tda_key, redirect_url = tda_url, token_path = 'ameritrade-token.json')"
   ]
  },
  {
   "cell_type": "code",
   "execution_count": 11,
   "metadata": {},
   "outputs": [],
   "source": [
    "from selenium import webdriver"
   ]
  },
  {
   "cell_type": "code",
   "execution_count": 12,
   "metadata": {},
   "outputs": [
    {
     "data": {
      "text/plain": [
       "<module 'selenium.webdriver' from '/usr/local/anaconda3/lib/python3.8/site-packages/selenium/webdriver/__init__.py'>"
      ]
     },
     "execution_count": 12,
     "metadata": {},
     "output_type": "execute_result"
    }
   ],
   "source": [
    "webdriver"
   ]
  },
  {
   "cell_type": "code",
   "execution_count": 13,
   "metadata": {},
   "outputs": [],
   "source": [
    "import os"
   ]
  },
  {
   "cell_type": "code",
   "execution_count": 14,
   "metadata": {},
   "outputs": [],
   "source": [
    "import atexit\n",
    "import datetime\n",
    "import dateutil\n",
    "import httpx\n",
    "import sys\n",
    "import tda\n",
    "\n",
    "API_KEY = tda_key\n",
    "REDIRECT_URI = tda_url\n",
    "TOKEN_PATH = 'ameritrade-token.json'\n",
    "YOUR_BIRTHDAY = datetime.datetime(year=1986, month=2, day=23)\n",
    "SP500_URL = \"https://tda-api.readthedocs.io/en/latest/_static/sp500.txt\"\n",
    "\n",
    "def make_webdriver():\n",
    "# Import selenium here because it's slow to import from selenium import webdriver\n",
    "    from selenium import webdriver\n",
    "    \n",
    "    driver = webdriver.Chrome()\n",
    "    atexit.register(lambda: driver.quit())\n",
    "    return driver\n",
    "\n",
    "# Create a new client\n",
    "client = tda.auth.easy_client(\n",
    "    API_KEY,\n",
    "    REDIRECT_URI,\n",
    "    TOKEN_PATH,\n",
    "    make_webdriver)\n",
    "\n",
    "\n",
    "# Load S&P 500 composition from documentation\n",
    "# sp500 = httpx.get(\n",
    "#     SP500_URL, headers={\n",
    "#         \"User-Agent\": \"Mozilla/5.0\"}).read().decode().split()\n",
    "\n",
    "# Fetch fundamentals for all symbols and filter out the ones with ex-dividend\n",
    "# dates in the future and dividend payment dates on your birth month. Note we\n",
    "# perform the fetch in two calls because the API places an upper limit on the\n",
    "# number of symbols you can fetch at once.\n",
    "# today = datetime.datetime.today()\n",
    "# birth_month_dividends = []\n",
    "# for s in (sp500[:250], sp500[250:]):\n",
    "#     r = client.search_instruments(\n",
    "#         s, tda.client.Client.Instrument.Projection.FUNDAMENTAL)\n",
    "#     assert r.status_code == 200, r.raise_for_status()\n",
    "\n",
    "#     for symbol, f in r.json().items():\n",
    "\n",
    "#         # Parse ex-dividend date\n",
    "#         ex_div_string = f['fundamental']['dividendDate']\n",
    "#         if not ex_div_string.strip():\n",
    "#             continue\n",
    "#         ex_dividend_date = dateutil.parser.parse(ex_div_string)\n",
    "\n",
    "#         # Parse payment date\n",
    "#         pay_date_string = f['fundamental']['dividendPayDate']\n",
    "#         if not pay_date_string.strip():\n",
    "#             continue\n",
    "#         pay_date = dateutil.parser.parse(pay_date_string)\n",
    "\n",
    "#         # Check dates\n",
    "#         if (ex_dividend_date > today\n",
    "#                 and pay_date.month == YOUR_BIRTHDAY.month):\n",
    "#             birth_month_dividends.append(symbol)\n",
    "\n",
    "# if not birth_month_dividends:\n",
    "#     print('Sorry, no stocks are paying out in your birth month yet. This is ',\n",
    "#           'most likely because the dividends haven\\'t been announced yet. ',\n",
    "#           'Try again closer to your birthday.')\n",
    "#     sys.exit(1)\n",
    "\n",
    "# Purchase one share of each the stocks that pay in your birthday month.\n",
    "# account_id = int(input(\n",
    "#     'Input your TDA account number to place orders (<Ctrl-C> to quit): '))\n",
    "# for symbol in birth_month_dividends:\n",
    "#     print('Buying one share of', symbol)\n",
    "\n",
    "    # Build the order spec and place the order\n",
    "#     order = tda.orders.equities.equity_buy_market(symbol, 1)\n",
    "\n",
    "#     r = client.place_order(account_id, order)\n",
    "#     assert r.ok, r.raise_for_status()"
   ]
  },
  {
   "cell_type": "code",
   "execution_count": 15,
   "metadata": {},
   "outputs": [
    {
     "data": {
      "text/plain": [
       "<Response [401 Unauthorized]>"
      ]
     },
     "execution_count": 15,
     "metadata": {},
     "output_type": "execute_result"
    }
   ],
   "source": [
    "client.get_option_chain(\"AAPL\")"
   ]
  },
  {
   "cell_type": "code",
   "execution_count": 16,
   "metadata": {
    "scrolled": true
   },
   "outputs": [],
   "source": [
    "# Trying to get historical data into a dataframe:\n",
    "\n",
    "response = client.get_price_history(\"AAPL\").content"
   ]
  },
  {
   "cell_type": "code",
   "execution_count": 17,
   "metadata": {
    "scrolled": true
   },
   "outputs": [
    {
     "data": {
      "text/plain": [
       "b'{\"error\":\"Not Authorized.\"}'"
      ]
     },
     "execution_count": 17,
     "metadata": {},
     "output_type": "execute_result"
    }
   ],
   "source": [
    "# only print this if I actually need to see it. It fills up the GitHub page.\n",
    "\n",
    "response"
   ]
  },
  {
   "cell_type": "code",
   "execution_count": 18,
   "metadata": {},
   "outputs": [],
   "source": [
    "import requests"
   ]
  },
  {
   "cell_type": "code",
   "execution_count": 19,
   "metadata": {},
   "outputs": [],
   "source": [
    "td_consumer_key = env.tda_api_key"
   ]
  },
  {
   "cell_type": "code",
   "execution_count": 20,
   "metadata": {},
   "outputs": [],
   "source": [
    "import json"
   ]
  },
  {
   "cell_type": "code",
   "execution_count": 21,
   "metadata": {},
   "outputs": [],
   "source": [
    "# response = requests.get('https://api.tdameritrade.com/v1/marketdata/AAPL/pricehistory?periodType=month&frequencyType=daily&startDate=1464148800000&endDate=1464825600000')\n",
    "response = requests.get('https://api.tdameritrade.com/v1/marketdata/{AAPL}/quotes')"
   ]
  },
  {
   "cell_type": "code",
   "execution_count": 22,
   "metadata": {},
   "outputs": [],
   "source": [
    "endpoint = 'https://api.tdameritrade.com/v1/marketdata/{stock_ticker}/quotes'"
   ]
  },
  {
   "cell_type": "code",
   "execution_count": 23,
   "metadata": {},
   "outputs": [],
   "source": [
    "full_url = endpoint.format(stock_ticker = 'AAPL')\n",
    "\n",
    "page = requests.get(url = full_url, params = {'apikey' : td_consumer_key})\n",
    "\n",
    "content = json.loads(page.content)"
   ]
  },
  {
   "cell_type": "code",
   "execution_count": 24,
   "metadata": {},
   "outputs": [],
   "source": [
    "# Creating a function to return stock price:\n",
    "\n",
    "# def stock_price(url = full_url, params = {'apikey' : td_consumer_key}):\n",
    "    "
   ]
  },
  {
   "cell_type": "code",
   "execution_count": 25,
   "metadata": {},
   "outputs": [],
   "source": [
    "# This should be the GET command I need:\n",
    "\n",
    "# GET /v1/marketdata/chains?apikey='MYAUTHCODE'&symbol=AAPL&contractType=CALL&strikeCount=2&strategy=SINGLE&toDate=2021-03-19&expMonth=MAR&optionType=S HTTP/1.1\n",
    "\n",
    "# And tie it together with the resource URL:\n",
    "# https://api.tdameritrade.com/v1/marketdata/chains\n",
    "\n",
    "# Which should look something like this:\n",
    "\n",
    "# https://api.tdameritrade.com//v1/marketdata/chains?apikey='MYAUTHCODE'&symbol=AAPL&contractType=CALL&strikeCount=2&strategy=SINGLE&toDate=2021-03-19&expMonth=MAR&optionType=S HTTP/1.1"
   ]
  },
  {
   "cell_type": "code",
   "execution_count": 26,
   "metadata": {},
   "outputs": [
    {
     "data": {
      "text/plain": [
       "<Response [200]>"
      ]
     },
     "execution_count": 26,
     "metadata": {},
     "output_type": "execute_result"
    }
   ],
   "source": [
    "requests.get(f'https://api.tdameritrade.com//v1/marketdata/chains?apikey={tda_key}&symbol=AAPL&contractType=CALL&strikeCount=2&includeQuotes=TRUE&strategy=SINGLE&toDate=2021-03-16&expMonth=MAR&optionType=S HTTP/1.1')"
   ]
  },
  {
   "cell_type": "code",
   "execution_count": null,
   "metadata": {},
   "outputs": [],
   "source": []
  },
  {
   "cell_type": "code",
   "execution_count": 27,
   "metadata": {},
   "outputs": [],
   "source": [
    "aapl_api_test = requests.get(f'https://api.tdameritrade.com//v1/marketdata/chains?apikey={tda_key}&symbol=AAPL&contractType=CALL&strikeCount=2&includeQuotes=TRUE&strategy=SINGLE&toDate=2021-03-16&expMonth=MAR&optionType=S HTTP/1.1')"
   ]
  },
  {
   "cell_type": "code",
   "execution_count": 28,
   "metadata": {
    "scrolled": false
   },
   "outputs": [],
   "source": [
    "aapl_content = aapl_api_test.content"
   ]
  },
  {
   "cell_type": "code",
   "execution_count": 29,
   "metadata": {
    "scrolled": false
   },
   "outputs": [
    {
     "data": {
      "text/plain": [
       "b'{\"symbol\":\"AAPL\",\"status\":\"SUCCESS\",\"underlying\":{\"symbol\":\"AAPL\",\"description\":\"Apple Inc. - Common Stock\",\"change\":-1.0416,\"percentChange\":-0.7961,\"close\":130.84,\"quoteTime\":1613680971517,\"tradeTime\":1613680971430,\"bid\":129.78,\"ask\":129.8,\"last\":129.7984,\"mark\":129.7984,\"markChange\":-1.0416,\"markPercentChange\":-0.7961,\"bidSize\":1500,\"askSize\":1100,\"highPrice\":129.995,\"lowPrice\":127.41,\"openPrice\":129.2,\"totalVolume\":84035018,\"exchangeName\":\"NAS\",\"fiftyTwoWeekHigh\":145.09,\"fiftyTwoWeekLow\":53.1525,\"delayed\":true},\"strategy\":\"SINGLE\",\"interval\":0.0,\"isDelayed\":true,\"isIndex\":false,\"interestRate\":0.1,\"underlyingPrice\":129.805,\"volatility\":29.0,\"daysToExpiration\":0.0,\"numberOfContracts\":4,\"putExpDateMap\":{},\"callExpDateMap\":{\"2021-03-05:15\":{\"129.0\":[{\"putCall\":\"CALL\",\"symbol\":\"AAPL_030521C129\",\"description\":\"AAPL Mar 5 2021 129 Call (Weekly)\",\"exchangeName\":\"OPR\",\"bid\":3.55,\"ask\":3.6,\"last\":3.6,\"mark\":3.58,\"bidSize\":113,\"askSize\":20,\"bidAskSize\":\"113X20\",\"lastSize\":0,\"highPrice\":3.7,\"lowPrice\":2.73,\"openPrice\":0.0,\"closePrice\":4.24,\"totalVolume\":1956,\"tradeDate\":null,\"tradeTimeInLong\":1613681868265,\"quoteTimeInLong\":1613681871211,\"netChange\":-0.64,\"volatility\":29.368,\"delta\":0.558,\"gamma\":0.05,\"theta\":-0.102,\"vega\":0.106,\"rho\":0.03,\"openInterest\":3329,\"timeValue\":2.8,\"theoreticalOptionValue\":3.609,\"theoreticalVolatility\":29.0,\"optionDeliverablesList\":null,\"strikePrice\":129.0,\"expirationDate\":1614978000000,\"daysToExpiration\":15,\"expirationType\":\"S\",\"lastTradingDay\":1614992400000,\"multiplier\":100.0,\"settlementType\":\" \",\"deliverableNote\":\"\",\"isIndexOption\":null,\"percentChange\":-15.0,\"markChange\":-0.66,\"markPercentChange\":-15.59,\"nonStandard\":false,\"inTheMoney\":true,\"mini\":false}],\"130.0\":[{\"putCall\":\"CALL\",\"symbol\":\"AAPL_030521C130\",\"description\":\"AAPL Mar 5 2021 130 Call (Weekly)\",\"exchangeName\":\"OPR\",\"bid\":3.0,\"ask\":3.05,\"last\":3.05,\"mark\":3.03,\"bidSize\":325,\"askSize\":20,\"bidAskSize\":\"325X20\",\"lastSize\":0,\"highPrice\":3.15,\"lowPrice\":2.3,\"openPrice\":0.0,\"closePrice\":3.65,\"totalVolume\":6961,\"tradeDate\":null,\"tradeTimeInLong\":1613681831511,\"quoteTimeInLong\":1613681871286,\"netChange\":-0.6,\"volatility\":28.89,\"delta\":0.507,\"gamma\":0.051,\"theta\":-0.101,\"vega\":0.107,\"rho\":0.027,\"openInterest\":5660,\"timeValue\":3.05,\"theoreticalOptionValue\":3.05,\"theoreticalVolatility\":29.0,\"optionDeliverablesList\":null,\"strikePrice\":130.0,\"expirationDate\":1614978000000,\"daysToExpiration\":15,\"expirationType\":\"S\",\"lastTradingDay\":1614992400000,\"multiplier\":100.0,\"settlementType\":\" \",\"deliverableNote\":\"\",\"isIndexOption\":null,\"percentChange\":-16.44,\"markChange\":-0.63,\"markPercentChange\":-17.13,\"nonStandard\":false,\"inTheMoney\":false,\"mini\":false}]},\"2021-03-12:22\":{\"129.0\":[{\"putCall\":\"CALL\",\"symbol\":\"AAPL_031221C129\",\"description\":\"AAPL Mar 12 2021 129 Call (Weekly)\",\"exchangeName\":\"OPR\",\"bid\":4.25,\"ask\":4.35,\"last\":4.3,\"mark\":4.3,\"bidSize\":404,\"askSize\":231,\"bidAskSize\":\"404X231\",\"lastSize\":0,\"highPrice\":4.35,\"lowPrice\":3.5,\"openPrice\":0.0,\"closePrice\":4.89,\"totalVolume\":1141,\"tradeDate\":null,\"tradeTimeInLong\":1613681839196,\"quoteTimeInLong\":1613681871377,\"netChange\":-0.59,\"volatility\":29.823,\"delta\":0.553,\"gamma\":0.041,\"theta\":-0.087,\"vega\":0.128,\"rho\":0.042,\"openInterest\":559,\"timeValue\":3.5,\"theoreticalOptionValue\":4.309,\"theoreticalVolatility\":29.0,\"optionDeliverablesList\":null,\"strikePrice\":129.0,\"expirationDate\":1615582800000,\"daysToExpiration\":22,\"expirationType\":\"S\",\"lastTradingDay\":1615597200000,\"multiplier\":100.0,\"settlementType\":\" \",\"deliverableNote\":\"\",\"isIndexOption\":null,\"percentChange\":-12.12,\"markChange\":-0.59,\"markPercentChange\":-12.12,\"nonStandard\":false,\"inTheMoney\":true,\"mini\":false}],\"130.0\":[{\"putCall\":\"CALL\",\"symbol\":\"AAPL_031221C130\",\"description\":\"AAPL Mar 12 2021 130 Call (Weekly)\",\"exchangeName\":\"OPR\",\"bid\":3.75,\"ask\":3.8,\"last\":3.8,\"mark\":3.78,\"bidSize\":89,\"askSize\":82,\"bidAskSize\":\"89X82\",\"lastSize\":0,\"highPrice\":3.9,\"lowPrice\":2.98,\"openPrice\":0.0,\"closePrice\":4.34,\"totalVolume\":1542,\"tradeDate\":null,\"tradeTimeInLong\":1613681755881,\"quoteTimeInLong\":1613681871367,\"netChange\":-0.54,\"volatility\":29.772,\"delta\":0.511,\"gamma\":0.041,\"theta\":-0.087,\"vega\":0.129,\"rho\":0.039,\"openInterest\":2271,\"timeValue\":3.8,\"theoreticalOptionValue\":3.8,\"theoreticalVolatility\":29.0,\"optionDeliverablesList\":null,\"strikePrice\":130.0,\"expirationDate\":1615582800000,\"daysToExpiration\":22,\"expirationType\":\"S\",\"lastTradingDay\":1615597200000,\"multiplier\":100.0,\"settlementType\":\" \",\"deliverableNote\":\"\",\"isIndexOption\":null,\"percentChange\":-12.4,\"markChange\":-0.56,\"markPercentChange\":-12.97,\"nonStandard\":false,\"inTheMoney\":false,\"mini\":false}]}}}'"
      ]
     },
     "execution_count": 29,
     "metadata": {},
     "output_type": "execute_result"
    }
   ],
   "source": [
    "aapl_content"
   ]
  },
  {
   "cell_type": "code",
   "execution_count": 30,
   "metadata": {},
   "outputs": [
    {
     "ename": "TypeError",
     "evalue": "byte indices must be integers or slices, not str",
     "output_type": "error",
     "traceback": [
      "\u001b[0;31m---------------------------------------------------------------------------\u001b[0m",
      "\u001b[0;31mTypeError\u001b[0m                                 Traceback (most recent call last)",
      "\u001b[0;32m<ipython-input-30-c46e182fc8c0>\u001b[0m in \u001b[0;36m<module>\u001b[0;34m\u001b[0m\n\u001b[0;32m----> 1\u001b[0;31m \u001b[0maapl_content\u001b[0m\u001b[0;34m[\u001b[0m\u001b[0;34m'callExpDateMap'\u001b[0m\u001b[0;34m]\u001b[0m\u001b[0;34m\u001b[0m\u001b[0;34m\u001b[0m\u001b[0m\n\u001b[0m",
      "\u001b[0;31mTypeError\u001b[0m: byte indices must be integers or slices, not str"
     ]
    }
   ],
   "source": [
    "aapl_content['callExpDateMap']"
   ]
  },
  {
   "cell_type": "code",
   "execution_count": 31,
   "metadata": {},
   "outputs": [],
   "source": [
    "import json"
   ]
  },
  {
   "cell_type": "code",
   "execution_count": 32,
   "metadata": {
    "scrolled": true
   },
   "outputs": [
    {
     "name": "stdout",
     "output_type": "stream",
     "text": [
      "{'2021-03-05:15': {'129.0': [{'putCall': 'CALL', 'symbol': 'AAPL_030521C129', 'description': 'AAPL Mar 5 2021 129 Call (Weekly)', 'exchangeName': 'OPR', 'bid': 3.55, 'ask': 3.6, 'last': 3.6, 'mark': 3.58, 'bidSize': 244, 'askSize': 100, 'bidAskSize': '244X100', 'lastSize': 0, 'highPrice': 3.7, 'lowPrice': 2.73, 'openPrice': 0.0, 'closePrice': 4.24, 'totalVolume': 1956, 'tradeDate': None, 'tradeTimeInLong': 1613681868265, 'quoteTimeInLong': 1613681878704, 'netChange': -0.64, 'volatility': 29.368, 'delta': 0.558, 'gamma': 0.05, 'theta': -0.102, 'vega': 0.106, 'rho': 0.03, 'openInterest': 3329, 'timeValue': 2.78, 'theoreticalOptionValue': 3.609, 'theoreticalVolatility': 29.0, 'optionDeliverablesList': None, 'strikePrice': 129.0, 'expirationDate': 1614978000000, 'daysToExpiration': 15, 'expirationType': 'S', 'lastTradingDay': 1614992400000, 'multiplier': 100.0, 'settlementType': ' ', 'deliverableNote': '', 'isIndexOption': None, 'percentChange': -15.0, 'markChange': -0.66, 'markPercentChange': -15.59, 'mini': False, 'inTheMoney': True, 'nonStandard': False}], '130.0': [{'putCall': 'CALL', 'symbol': 'AAPL_030521C130', 'description': 'AAPL Mar 5 2021 130 Call (Weekly)', 'exchangeName': 'OPR', 'bid': 3.0, 'ask': 3.1, 'last': 3.05, 'mark': 3.05, 'bidSize': 329, 'askSize': 503, 'bidAskSize': '329X503', 'lastSize': 0, 'highPrice': 3.15, 'lowPrice': 2.3, 'openPrice': 0.0, 'closePrice': 3.65, 'totalVolume': 6971, 'tradeDate': None, 'tradeTimeInLong': 1613681876411, 'quoteTimeInLong': 1613681878527, 'netChange': -0.6, 'volatility': 28.89, 'delta': 0.507, 'gamma': 0.051, 'theta': -0.101, 'vega': 0.107, 'rho': 0.027, 'openInterest': 5660, 'timeValue': 3.05, 'theoreticalOptionValue': 3.05, 'theoreticalVolatility': 29.0, 'optionDeliverablesList': None, 'strikePrice': 130.0, 'expirationDate': 1614978000000, 'daysToExpiration': 15, 'expirationType': 'S', 'lastTradingDay': 1614992400000, 'multiplier': 100.0, 'settlementType': ' ', 'deliverableNote': '', 'isIndexOption': None, 'percentChange': -16.44, 'markChange': -0.6, 'markPercentChange': -16.44, 'mini': False, 'inTheMoney': False, 'nonStandard': False}]}, '2021-03-12:22': {'129.0': [{'putCall': 'CALL', 'symbol': 'AAPL_031221C129', 'description': 'AAPL Mar 12 2021 129 Call (Weekly)', 'exchangeName': 'OPR', 'bid': 4.25, 'ask': 4.35, 'last': 4.3, 'mark': 4.3, 'bidSize': 468, 'askSize': 182, 'bidAskSize': '468X182', 'lastSize': 0, 'highPrice': 4.35, 'lowPrice': 3.5, 'openPrice': 0.0, 'closePrice': 4.89, 'totalVolume': 1141, 'tradeDate': None, 'tradeTimeInLong': 1613681839196, 'quoteTimeInLong': 1613681878513, 'netChange': -0.59, 'volatility': 29.823, 'delta': 0.553, 'gamma': 0.041, 'theta': -0.087, 'vega': 0.128, 'rho': 0.042, 'openInterest': 559, 'timeValue': 3.49, 'theoreticalOptionValue': 4.309, 'theoreticalVolatility': 29.0, 'optionDeliverablesList': None, 'strikePrice': 129.0, 'expirationDate': 1615582800000, 'daysToExpiration': 22, 'expirationType': 'S', 'lastTradingDay': 1615597200000, 'multiplier': 100.0, 'settlementType': ' ', 'deliverableNote': '', 'isIndexOption': None, 'percentChange': -12.12, 'markChange': -0.59, 'markPercentChange': -12.12, 'mini': False, 'inTheMoney': True, 'nonStandard': False}], '130.0': [{'putCall': 'CALL', 'symbol': 'AAPL_031221C130', 'description': 'AAPL Mar 12 2021 130 Call (Weekly)', 'exchangeName': 'OPR', 'bid': 3.75, 'ask': 3.8, 'last': 3.8, 'mark': 3.78, 'bidSize': 109, 'askSize': 35, 'bidAskSize': '109X35', 'lastSize': 0, 'highPrice': 3.9, 'lowPrice': 2.98, 'openPrice': 0.0, 'closePrice': 4.34, 'totalVolume': 1542, 'tradeDate': None, 'tradeTimeInLong': 1613681755881, 'quoteTimeInLong': 1613681878839, 'netChange': -0.54, 'volatility': 29.772, 'delta': 0.511, 'gamma': 0.041, 'theta': -0.087, 'vega': 0.129, 'rho': 0.039, 'openInterest': 2271, 'timeValue': 3.8, 'theoreticalOptionValue': 3.8, 'theoreticalVolatility': 29.0, 'optionDeliverablesList': None, 'strikePrice': 130.0, 'expirationDate': 1615582800000, 'daysToExpiration': 22, 'expirationType': 'S', 'lastTradingDay': 1615597200000, 'multiplier': 100.0, 'settlementType': ' ', 'deliverableNote': '', 'isIndexOption': None, 'percentChange': -12.4, 'markChange': -0.56, 'markPercentChange': -12.97, 'mini': False, 'inTheMoney': False, 'nonStandard': False}]}}\n"
     ]
    }
   ],
   "source": [
    "request = requests.get(f'https://api.tdameritrade.com//v1/marketdata/chains?apikey={tda_key}&symbol=AAPL&contractType=CALL&strikeCount=2&includeQuotes=TRUE&strategy=SINGLE&toDate=2021-03-16&expMonth=MAR&optionType=S HTTP/1.1').text\n",
    "a = json.loads(request)\n",
    "print(a['callExpDateMap'])"
   ]
  },
  {
   "cell_type": "code",
   "execution_count": 33,
   "metadata": {},
   "outputs": [
    {
     "data": {
      "text/html": [
       "<div>\n",
       "<style scoped>\n",
       "    .dataframe tbody tr th:only-of-type {\n",
       "        vertical-align: middle;\n",
       "    }\n",
       "\n",
       "    .dataframe tbody tr th {\n",
       "        vertical-align: top;\n",
       "    }\n",
       "\n",
       "    .dataframe thead th {\n",
       "        text-align: right;\n",
       "    }\n",
       "</style>\n",
       "<table border=\"1\" class=\"dataframe\">\n",
       "  <thead>\n",
       "    <tr style=\"text-align: right;\">\n",
       "      <th></th>\n",
       "      <th>symbol</th>\n",
       "      <th>status</th>\n",
       "      <th>underlying</th>\n",
       "      <th>strategy</th>\n",
       "      <th>interval</th>\n",
       "      <th>isDelayed</th>\n",
       "      <th>isIndex</th>\n",
       "      <th>interestRate</th>\n",
       "      <th>underlyingPrice</th>\n",
       "      <th>volatility</th>\n",
       "      <th>daysToExpiration</th>\n",
       "      <th>numberOfContracts</th>\n",
       "      <th>callExpDateMap</th>\n",
       "      <th>putExpDateMap</th>\n",
       "    </tr>\n",
       "  </thead>\n",
       "  <tbody>\n",
       "    <tr>\n",
       "      <th>symbol</th>\n",
       "      <td>AAPL</td>\n",
       "      <td>SUCCESS</td>\n",
       "      <td>AAPL</td>\n",
       "      <td>SINGLE</td>\n",
       "      <td>0.0</td>\n",
       "      <td>True</td>\n",
       "      <td>False</td>\n",
       "      <td>0.1</td>\n",
       "      <td>129.815</td>\n",
       "      <td>29.0</td>\n",
       "      <td>0.0</td>\n",
       "      <td>4</td>\n",
       "      <td>NaN</td>\n",
       "      <td>NaN</td>\n",
       "    </tr>\n",
       "    <tr>\n",
       "      <th>description</th>\n",
       "      <td>AAPL</td>\n",
       "      <td>SUCCESS</td>\n",
       "      <td>Apple Inc. - Common Stock</td>\n",
       "      <td>SINGLE</td>\n",
       "      <td>0.0</td>\n",
       "      <td>True</td>\n",
       "      <td>False</td>\n",
       "      <td>0.1</td>\n",
       "      <td>129.815</td>\n",
       "      <td>29.0</td>\n",
       "      <td>0.0</td>\n",
       "      <td>4</td>\n",
       "      <td>NaN</td>\n",
       "      <td>NaN</td>\n",
       "    </tr>\n",
       "    <tr>\n",
       "      <th>change</th>\n",
       "      <td>AAPL</td>\n",
       "      <td>SUCCESS</td>\n",
       "      <td>-1.03</td>\n",
       "      <td>SINGLE</td>\n",
       "      <td>0.0</td>\n",
       "      <td>True</td>\n",
       "      <td>False</td>\n",
       "      <td>0.1</td>\n",
       "      <td>129.815</td>\n",
       "      <td>29.0</td>\n",
       "      <td>0.0</td>\n",
       "      <td>4</td>\n",
       "      <td>NaN</td>\n",
       "      <td>NaN</td>\n",
       "    </tr>\n",
       "    <tr>\n",
       "      <th>percentChange</th>\n",
       "      <td>AAPL</td>\n",
       "      <td>SUCCESS</td>\n",
       "      <td>-0.7872</td>\n",
       "      <td>SINGLE</td>\n",
       "      <td>0.0</td>\n",
       "      <td>True</td>\n",
       "      <td>False</td>\n",
       "      <td>0.1</td>\n",
       "      <td>129.815</td>\n",
       "      <td>29.0</td>\n",
       "      <td>0.0</td>\n",
       "      <td>4</td>\n",
       "      <td>NaN</td>\n",
       "      <td>NaN</td>\n",
       "    </tr>\n",
       "    <tr>\n",
       "      <th>close</th>\n",
       "      <td>AAPL</td>\n",
       "      <td>SUCCESS</td>\n",
       "      <td>130.84</td>\n",
       "      <td>SINGLE</td>\n",
       "      <td>0.0</td>\n",
       "      <td>True</td>\n",
       "      <td>False</td>\n",
       "      <td>0.1</td>\n",
       "      <td>129.815</td>\n",
       "      <td>29.0</td>\n",
       "      <td>0.0</td>\n",
       "      <td>4</td>\n",
       "      <td>NaN</td>\n",
       "      <td>NaN</td>\n",
       "    </tr>\n",
       "    <tr>\n",
       "      <th>quoteTime</th>\n",
       "      <td>AAPL</td>\n",
       "      <td>SUCCESS</td>\n",
       "      <td>1613680978995</td>\n",
       "      <td>SINGLE</td>\n",
       "      <td>0.0</td>\n",
       "      <td>True</td>\n",
       "      <td>False</td>\n",
       "      <td>0.1</td>\n",
       "      <td>129.815</td>\n",
       "      <td>29.0</td>\n",
       "      <td>0.0</td>\n",
       "      <td>4</td>\n",
       "      <td>NaN</td>\n",
       "      <td>NaN</td>\n",
       "    </tr>\n",
       "    <tr>\n",
       "      <th>tradeTime</th>\n",
       "      <td>AAPL</td>\n",
       "      <td>SUCCESS</td>\n",
       "      <td>1613680977650</td>\n",
       "      <td>SINGLE</td>\n",
       "      <td>0.0</td>\n",
       "      <td>True</td>\n",
       "      <td>False</td>\n",
       "      <td>0.1</td>\n",
       "      <td>129.815</td>\n",
       "      <td>29.0</td>\n",
       "      <td>0.0</td>\n",
       "      <td>4</td>\n",
       "      <td>NaN</td>\n",
       "      <td>NaN</td>\n",
       "    </tr>\n",
       "    <tr>\n",
       "      <th>bid</th>\n",
       "      <td>AAPL</td>\n",
       "      <td>SUCCESS</td>\n",
       "      <td>129.81</td>\n",
       "      <td>SINGLE</td>\n",
       "      <td>0.0</td>\n",
       "      <td>True</td>\n",
       "      <td>False</td>\n",
       "      <td>0.1</td>\n",
       "      <td>129.815</td>\n",
       "      <td>29.0</td>\n",
       "      <td>0.0</td>\n",
       "      <td>4</td>\n",
       "      <td>NaN</td>\n",
       "      <td>NaN</td>\n",
       "    </tr>\n",
       "    <tr>\n",
       "      <th>ask</th>\n",
       "      <td>AAPL</td>\n",
       "      <td>SUCCESS</td>\n",
       "      <td>129.82</td>\n",
       "      <td>SINGLE</td>\n",
       "      <td>0.0</td>\n",
       "      <td>True</td>\n",
       "      <td>False</td>\n",
       "      <td>0.1</td>\n",
       "      <td>129.815</td>\n",
       "      <td>29.0</td>\n",
       "      <td>0.0</td>\n",
       "      <td>4</td>\n",
       "      <td>NaN</td>\n",
       "      <td>NaN</td>\n",
       "    </tr>\n",
       "    <tr>\n",
       "      <th>last</th>\n",
       "      <td>AAPL</td>\n",
       "      <td>SUCCESS</td>\n",
       "      <td>129.81</td>\n",
       "      <td>SINGLE</td>\n",
       "      <td>0.0</td>\n",
       "      <td>True</td>\n",
       "      <td>False</td>\n",
       "      <td>0.1</td>\n",
       "      <td>129.815</td>\n",
       "      <td>29.0</td>\n",
       "      <td>0.0</td>\n",
       "      <td>4</td>\n",
       "      <td>NaN</td>\n",
       "      <td>NaN</td>\n",
       "    </tr>\n",
       "    <tr>\n",
       "      <th>mark</th>\n",
       "      <td>AAPL</td>\n",
       "      <td>SUCCESS</td>\n",
       "      <td>129.81</td>\n",
       "      <td>SINGLE</td>\n",
       "      <td>0.0</td>\n",
       "      <td>True</td>\n",
       "      <td>False</td>\n",
       "      <td>0.1</td>\n",
       "      <td>129.815</td>\n",
       "      <td>29.0</td>\n",
       "      <td>0.0</td>\n",
       "      <td>4</td>\n",
       "      <td>NaN</td>\n",
       "      <td>NaN</td>\n",
       "    </tr>\n",
       "    <tr>\n",
       "      <th>markChange</th>\n",
       "      <td>AAPL</td>\n",
       "      <td>SUCCESS</td>\n",
       "      <td>-1.03</td>\n",
       "      <td>SINGLE</td>\n",
       "      <td>0.0</td>\n",
       "      <td>True</td>\n",
       "      <td>False</td>\n",
       "      <td>0.1</td>\n",
       "      <td>129.815</td>\n",
       "      <td>29.0</td>\n",
       "      <td>0.0</td>\n",
       "      <td>4</td>\n",
       "      <td>NaN</td>\n",
       "      <td>NaN</td>\n",
       "    </tr>\n",
       "    <tr>\n",
       "      <th>markPercentChange</th>\n",
       "      <td>AAPL</td>\n",
       "      <td>SUCCESS</td>\n",
       "      <td>-0.7872</td>\n",
       "      <td>SINGLE</td>\n",
       "      <td>0.0</td>\n",
       "      <td>True</td>\n",
       "      <td>False</td>\n",
       "      <td>0.1</td>\n",
       "      <td>129.815</td>\n",
       "      <td>29.0</td>\n",
       "      <td>0.0</td>\n",
       "      <td>4</td>\n",
       "      <td>NaN</td>\n",
       "      <td>NaN</td>\n",
       "    </tr>\n",
       "    <tr>\n",
       "      <th>bidSize</th>\n",
       "      <td>AAPL</td>\n",
       "      <td>SUCCESS</td>\n",
       "      <td>8400</td>\n",
       "      <td>SINGLE</td>\n",
       "      <td>0.0</td>\n",
       "      <td>True</td>\n",
       "      <td>False</td>\n",
       "      <td>0.1</td>\n",
       "      <td>129.815</td>\n",
       "      <td>29.0</td>\n",
       "      <td>0.0</td>\n",
       "      <td>4</td>\n",
       "      <td>NaN</td>\n",
       "      <td>NaN</td>\n",
       "    </tr>\n",
       "    <tr>\n",
       "      <th>askSize</th>\n",
       "      <td>AAPL</td>\n",
       "      <td>SUCCESS</td>\n",
       "      <td>600</td>\n",
       "      <td>SINGLE</td>\n",
       "      <td>0.0</td>\n",
       "      <td>True</td>\n",
       "      <td>False</td>\n",
       "      <td>0.1</td>\n",
       "      <td>129.815</td>\n",
       "      <td>29.0</td>\n",
       "      <td>0.0</td>\n",
       "      <td>4</td>\n",
       "      <td>NaN</td>\n",
       "      <td>NaN</td>\n",
       "    </tr>\n",
       "    <tr>\n",
       "      <th>highPrice</th>\n",
       "      <td>AAPL</td>\n",
       "      <td>SUCCESS</td>\n",
       "      <td>129.995</td>\n",
       "      <td>SINGLE</td>\n",
       "      <td>0.0</td>\n",
       "      <td>True</td>\n",
       "      <td>False</td>\n",
       "      <td>0.1</td>\n",
       "      <td>129.815</td>\n",
       "      <td>29.0</td>\n",
       "      <td>0.0</td>\n",
       "      <td>4</td>\n",
       "      <td>NaN</td>\n",
       "      <td>NaN</td>\n",
       "    </tr>\n",
       "    <tr>\n",
       "      <th>lowPrice</th>\n",
       "      <td>AAPL</td>\n",
       "      <td>SUCCESS</td>\n",
       "      <td>127.41</td>\n",
       "      <td>SINGLE</td>\n",
       "      <td>0.0</td>\n",
       "      <td>True</td>\n",
       "      <td>False</td>\n",
       "      <td>0.1</td>\n",
       "      <td>129.815</td>\n",
       "      <td>29.0</td>\n",
       "      <td>0.0</td>\n",
       "      <td>4</td>\n",
       "      <td>NaN</td>\n",
       "      <td>NaN</td>\n",
       "    </tr>\n",
       "    <tr>\n",
       "      <th>openPrice</th>\n",
       "      <td>AAPL</td>\n",
       "      <td>SUCCESS</td>\n",
       "      <td>129.2</td>\n",
       "      <td>SINGLE</td>\n",
       "      <td>0.0</td>\n",
       "      <td>True</td>\n",
       "      <td>False</td>\n",
       "      <td>0.1</td>\n",
       "      <td>129.815</td>\n",
       "      <td>29.0</td>\n",
       "      <td>0.0</td>\n",
       "      <td>4</td>\n",
       "      <td>NaN</td>\n",
       "      <td>NaN</td>\n",
       "    </tr>\n",
       "    <tr>\n",
       "      <th>totalVolume</th>\n",
       "      <td>AAPL</td>\n",
       "      <td>SUCCESS</td>\n",
       "      <td>84056035</td>\n",
       "      <td>SINGLE</td>\n",
       "      <td>0.0</td>\n",
       "      <td>True</td>\n",
       "      <td>False</td>\n",
       "      <td>0.1</td>\n",
       "      <td>129.815</td>\n",
       "      <td>29.0</td>\n",
       "      <td>0.0</td>\n",
       "      <td>4</td>\n",
       "      <td>NaN</td>\n",
       "      <td>NaN</td>\n",
       "    </tr>\n",
       "    <tr>\n",
       "      <th>exchangeName</th>\n",
       "      <td>AAPL</td>\n",
       "      <td>SUCCESS</td>\n",
       "      <td>NAS</td>\n",
       "      <td>SINGLE</td>\n",
       "      <td>0.0</td>\n",
       "      <td>True</td>\n",
       "      <td>False</td>\n",
       "      <td>0.1</td>\n",
       "      <td>129.815</td>\n",
       "      <td>29.0</td>\n",
       "      <td>0.0</td>\n",
       "      <td>4</td>\n",
       "      <td>NaN</td>\n",
       "      <td>NaN</td>\n",
       "    </tr>\n",
       "    <tr>\n",
       "      <th>fiftyTwoWeekHigh</th>\n",
       "      <td>AAPL</td>\n",
       "      <td>SUCCESS</td>\n",
       "      <td>145.09</td>\n",
       "      <td>SINGLE</td>\n",
       "      <td>0.0</td>\n",
       "      <td>True</td>\n",
       "      <td>False</td>\n",
       "      <td>0.1</td>\n",
       "      <td>129.815</td>\n",
       "      <td>29.0</td>\n",
       "      <td>0.0</td>\n",
       "      <td>4</td>\n",
       "      <td>NaN</td>\n",
       "      <td>NaN</td>\n",
       "    </tr>\n",
       "    <tr>\n",
       "      <th>fiftyTwoWeekLow</th>\n",
       "      <td>AAPL</td>\n",
       "      <td>SUCCESS</td>\n",
       "      <td>53.1525</td>\n",
       "      <td>SINGLE</td>\n",
       "      <td>0.0</td>\n",
       "      <td>True</td>\n",
       "      <td>False</td>\n",
       "      <td>0.1</td>\n",
       "      <td>129.815</td>\n",
       "      <td>29.0</td>\n",
       "      <td>0.0</td>\n",
       "      <td>4</td>\n",
       "      <td>NaN</td>\n",
       "      <td>NaN</td>\n",
       "    </tr>\n",
       "    <tr>\n",
       "      <th>delayed</th>\n",
       "      <td>AAPL</td>\n",
       "      <td>SUCCESS</td>\n",
       "      <td>True</td>\n",
       "      <td>SINGLE</td>\n",
       "      <td>0.0</td>\n",
       "      <td>True</td>\n",
       "      <td>False</td>\n",
       "      <td>0.1</td>\n",
       "      <td>129.815</td>\n",
       "      <td>29.0</td>\n",
       "      <td>0.0</td>\n",
       "      <td>4</td>\n",
       "      <td>NaN</td>\n",
       "      <td>NaN</td>\n",
       "    </tr>\n",
       "    <tr>\n",
       "      <th>2021-03-05:15</th>\n",
       "      <td>AAPL</td>\n",
       "      <td>SUCCESS</td>\n",
       "      <td>NaN</td>\n",
       "      <td>SINGLE</td>\n",
       "      <td>0.0</td>\n",
       "      <td>True</td>\n",
       "      <td>False</td>\n",
       "      <td>0.1</td>\n",
       "      <td>129.815</td>\n",
       "      <td>29.0</td>\n",
       "      <td>0.0</td>\n",
       "      <td>4</td>\n",
       "      <td>{'129.0': [{'putCall': 'CALL', 'symbol': 'AAPL...</td>\n",
       "      <td>NaN</td>\n",
       "    </tr>\n",
       "    <tr>\n",
       "      <th>2021-03-12:22</th>\n",
       "      <td>AAPL</td>\n",
       "      <td>SUCCESS</td>\n",
       "      <td>NaN</td>\n",
       "      <td>SINGLE</td>\n",
       "      <td>0.0</td>\n",
       "      <td>True</td>\n",
       "      <td>False</td>\n",
       "      <td>0.1</td>\n",
       "      <td>129.815</td>\n",
       "      <td>29.0</td>\n",
       "      <td>0.0</td>\n",
       "      <td>4</td>\n",
       "      <td>{'129.0': [{'putCall': 'CALL', 'symbol': 'AAPL...</td>\n",
       "      <td>NaN</td>\n",
       "    </tr>\n",
       "  </tbody>\n",
       "</table>\n",
       "</div>"
      ],
      "text/plain": [
       "                  symbol   status                 underlying strategy  \\\n",
       "symbol              AAPL  SUCCESS                       AAPL   SINGLE   \n",
       "description         AAPL  SUCCESS  Apple Inc. - Common Stock   SINGLE   \n",
       "change              AAPL  SUCCESS                      -1.03   SINGLE   \n",
       "percentChange       AAPL  SUCCESS                    -0.7872   SINGLE   \n",
       "close               AAPL  SUCCESS                     130.84   SINGLE   \n",
       "quoteTime           AAPL  SUCCESS              1613680978995   SINGLE   \n",
       "tradeTime           AAPL  SUCCESS              1613680977650   SINGLE   \n",
       "bid                 AAPL  SUCCESS                     129.81   SINGLE   \n",
       "ask                 AAPL  SUCCESS                     129.82   SINGLE   \n",
       "last                AAPL  SUCCESS                     129.81   SINGLE   \n",
       "mark                AAPL  SUCCESS                     129.81   SINGLE   \n",
       "markChange          AAPL  SUCCESS                      -1.03   SINGLE   \n",
       "markPercentChange   AAPL  SUCCESS                    -0.7872   SINGLE   \n",
       "bidSize             AAPL  SUCCESS                       8400   SINGLE   \n",
       "askSize             AAPL  SUCCESS                        600   SINGLE   \n",
       "highPrice           AAPL  SUCCESS                    129.995   SINGLE   \n",
       "lowPrice            AAPL  SUCCESS                     127.41   SINGLE   \n",
       "openPrice           AAPL  SUCCESS                      129.2   SINGLE   \n",
       "totalVolume         AAPL  SUCCESS                   84056035   SINGLE   \n",
       "exchangeName        AAPL  SUCCESS                        NAS   SINGLE   \n",
       "fiftyTwoWeekHigh    AAPL  SUCCESS                     145.09   SINGLE   \n",
       "fiftyTwoWeekLow     AAPL  SUCCESS                    53.1525   SINGLE   \n",
       "delayed             AAPL  SUCCESS                       True   SINGLE   \n",
       "2021-03-05:15       AAPL  SUCCESS                        NaN   SINGLE   \n",
       "2021-03-12:22       AAPL  SUCCESS                        NaN   SINGLE   \n",
       "\n",
       "                   interval  isDelayed  isIndex  interestRate  \\\n",
       "symbol                  0.0       True    False           0.1   \n",
       "description             0.0       True    False           0.1   \n",
       "change                  0.0       True    False           0.1   \n",
       "percentChange           0.0       True    False           0.1   \n",
       "close                   0.0       True    False           0.1   \n",
       "quoteTime               0.0       True    False           0.1   \n",
       "tradeTime               0.0       True    False           0.1   \n",
       "bid                     0.0       True    False           0.1   \n",
       "ask                     0.0       True    False           0.1   \n",
       "last                    0.0       True    False           0.1   \n",
       "mark                    0.0       True    False           0.1   \n",
       "markChange              0.0       True    False           0.1   \n",
       "markPercentChange       0.0       True    False           0.1   \n",
       "bidSize                 0.0       True    False           0.1   \n",
       "askSize                 0.0       True    False           0.1   \n",
       "highPrice               0.0       True    False           0.1   \n",
       "lowPrice                0.0       True    False           0.1   \n",
       "openPrice               0.0       True    False           0.1   \n",
       "totalVolume             0.0       True    False           0.1   \n",
       "exchangeName            0.0       True    False           0.1   \n",
       "fiftyTwoWeekHigh        0.0       True    False           0.1   \n",
       "fiftyTwoWeekLow         0.0       True    False           0.1   \n",
       "delayed                 0.0       True    False           0.1   \n",
       "2021-03-05:15           0.0       True    False           0.1   \n",
       "2021-03-12:22           0.0       True    False           0.1   \n",
       "\n",
       "                   underlyingPrice  volatility  daysToExpiration  \\\n",
       "symbol                     129.815        29.0               0.0   \n",
       "description                129.815        29.0               0.0   \n",
       "change                     129.815        29.0               0.0   \n",
       "percentChange              129.815        29.0               0.0   \n",
       "close                      129.815        29.0               0.0   \n",
       "quoteTime                  129.815        29.0               0.0   \n",
       "tradeTime                  129.815        29.0               0.0   \n",
       "bid                        129.815        29.0               0.0   \n",
       "ask                        129.815        29.0               0.0   \n",
       "last                       129.815        29.0               0.0   \n",
       "mark                       129.815        29.0               0.0   \n",
       "markChange                 129.815        29.0               0.0   \n",
       "markPercentChange          129.815        29.0               0.0   \n",
       "bidSize                    129.815        29.0               0.0   \n",
       "askSize                    129.815        29.0               0.0   \n",
       "highPrice                  129.815        29.0               0.0   \n",
       "lowPrice                   129.815        29.0               0.0   \n",
       "openPrice                  129.815        29.0               0.0   \n",
       "totalVolume                129.815        29.0               0.0   \n",
       "exchangeName               129.815        29.0               0.0   \n",
       "fiftyTwoWeekHigh           129.815        29.0               0.0   \n",
       "fiftyTwoWeekLow            129.815        29.0               0.0   \n",
       "delayed                    129.815        29.0               0.0   \n",
       "2021-03-05:15              129.815        29.0               0.0   \n",
       "2021-03-12:22              129.815        29.0               0.0   \n",
       "\n",
       "                   numberOfContracts  \\\n",
       "symbol                             4   \n",
       "description                        4   \n",
       "change                             4   \n",
       "percentChange                      4   \n",
       "close                              4   \n",
       "quoteTime                          4   \n",
       "tradeTime                          4   \n",
       "bid                                4   \n",
       "ask                                4   \n",
       "last                               4   \n",
       "mark                               4   \n",
       "markChange                         4   \n",
       "markPercentChange                  4   \n",
       "bidSize                            4   \n",
       "askSize                            4   \n",
       "highPrice                          4   \n",
       "lowPrice                           4   \n",
       "openPrice                          4   \n",
       "totalVolume                        4   \n",
       "exchangeName                       4   \n",
       "fiftyTwoWeekHigh                   4   \n",
       "fiftyTwoWeekLow                    4   \n",
       "delayed                            4   \n",
       "2021-03-05:15                      4   \n",
       "2021-03-12:22                      4   \n",
       "\n",
       "                                                      callExpDateMap  \\\n",
       "symbol                                                           NaN   \n",
       "description                                                      NaN   \n",
       "change                                                           NaN   \n",
       "percentChange                                                    NaN   \n",
       "close                                                            NaN   \n",
       "quoteTime                                                        NaN   \n",
       "tradeTime                                                        NaN   \n",
       "bid                                                              NaN   \n",
       "ask                                                              NaN   \n",
       "last                                                             NaN   \n",
       "mark                                                             NaN   \n",
       "markChange                                                       NaN   \n",
       "markPercentChange                                                NaN   \n",
       "bidSize                                                          NaN   \n",
       "askSize                                                          NaN   \n",
       "highPrice                                                        NaN   \n",
       "lowPrice                                                         NaN   \n",
       "openPrice                                                        NaN   \n",
       "totalVolume                                                      NaN   \n",
       "exchangeName                                                     NaN   \n",
       "fiftyTwoWeekHigh                                                 NaN   \n",
       "fiftyTwoWeekLow                                                  NaN   \n",
       "delayed                                                          NaN   \n",
       "2021-03-05:15      {'129.0': [{'putCall': 'CALL', 'symbol': 'AAPL...   \n",
       "2021-03-12:22      {'129.0': [{'putCall': 'CALL', 'symbol': 'AAPL...   \n",
       "\n",
       "                   putExpDateMap  \n",
       "symbol                       NaN  \n",
       "description                  NaN  \n",
       "change                       NaN  \n",
       "percentChange                NaN  \n",
       "close                        NaN  \n",
       "quoteTime                    NaN  \n",
       "tradeTime                    NaN  \n",
       "bid                          NaN  \n",
       "ask                          NaN  \n",
       "last                         NaN  \n",
       "mark                         NaN  \n",
       "markChange                   NaN  \n",
       "markPercentChange            NaN  \n",
       "bidSize                      NaN  \n",
       "askSize                      NaN  \n",
       "highPrice                    NaN  \n",
       "lowPrice                     NaN  \n",
       "openPrice                    NaN  \n",
       "totalVolume                  NaN  \n",
       "exchangeName                 NaN  \n",
       "fiftyTwoWeekHigh             NaN  \n",
       "fiftyTwoWeekLow              NaN  \n",
       "delayed                      NaN  \n",
       "2021-03-05:15                NaN  \n",
       "2021-03-12:22                NaN  "
      ]
     },
     "execution_count": 33,
     "metadata": {},
     "output_type": "execute_result"
    }
   ],
   "source": [
    "df = pd.DataFrame(a)\n",
    "df"
   ]
  },
  {
   "cell_type": "code",
   "execution_count": 35,
   "metadata": {},
   "outputs": [
    {
     "data": {
      "text/plain": [
       "{'2021-03-05:15': {'129.0': [{'putCall': 'CALL',\n",
       "    'symbol': 'AAPL_030521C129',\n",
       "    'description': 'AAPL Mar 5 2021 129 Call (Weekly)',\n",
       "    'exchangeName': 'OPR',\n",
       "    'bid': 3.55,\n",
       "    'ask': 3.6,\n",
       "    'last': 3.6,\n",
       "    'mark': 3.58,\n",
       "    'bidSize': 244,\n",
       "    'askSize': 100,\n",
       "    'bidAskSize': '244X100',\n",
       "    'lastSize': 0,\n",
       "    'highPrice': 3.7,\n",
       "    'lowPrice': 2.73,\n",
       "    'openPrice': 0.0,\n",
       "    'closePrice': 4.24,\n",
       "    'totalVolume': 1956,\n",
       "    'tradeDate': None,\n",
       "    'tradeTimeInLong': 1613681868265,\n",
       "    'quoteTimeInLong': 1613681878704,\n",
       "    'netChange': -0.64,\n",
       "    'volatility': 29.368,\n",
       "    'delta': 0.558,\n",
       "    'gamma': 0.05,\n",
       "    'theta': -0.102,\n",
       "    'vega': 0.106,\n",
       "    'rho': 0.03,\n",
       "    'openInterest': 3329,\n",
       "    'timeValue': 2.78,\n",
       "    'theoreticalOptionValue': 3.609,\n",
       "    'theoreticalVolatility': 29.0,\n",
       "    'optionDeliverablesList': None,\n",
       "    'strikePrice': 129.0,\n",
       "    'expirationDate': 1614978000000,\n",
       "    'daysToExpiration': 15,\n",
       "    'expirationType': 'S',\n",
       "    'lastTradingDay': 1614992400000,\n",
       "    'multiplier': 100.0,\n",
       "    'settlementType': ' ',\n",
       "    'deliverableNote': '',\n",
       "    'isIndexOption': None,\n",
       "    'percentChange': -15.0,\n",
       "    'markChange': -0.66,\n",
       "    'markPercentChange': -15.59,\n",
       "    'mini': False,\n",
       "    'inTheMoney': True,\n",
       "    'nonStandard': False}],\n",
       "  '130.0': [{'putCall': 'CALL',\n",
       "    'symbol': 'AAPL_030521C130',\n",
       "    'description': 'AAPL Mar 5 2021 130 Call (Weekly)',\n",
       "    'exchangeName': 'OPR',\n",
       "    'bid': 3.0,\n",
       "    'ask': 3.1,\n",
       "    'last': 3.05,\n",
       "    'mark': 3.05,\n",
       "    'bidSize': 329,\n",
       "    'askSize': 503,\n",
       "    'bidAskSize': '329X503',\n",
       "    'lastSize': 0,\n",
       "    'highPrice': 3.15,\n",
       "    'lowPrice': 2.3,\n",
       "    'openPrice': 0.0,\n",
       "    'closePrice': 3.65,\n",
       "    'totalVolume': 6971,\n",
       "    'tradeDate': None,\n",
       "    'tradeTimeInLong': 1613681876411,\n",
       "    'quoteTimeInLong': 1613681878527,\n",
       "    'netChange': -0.6,\n",
       "    'volatility': 28.89,\n",
       "    'delta': 0.507,\n",
       "    'gamma': 0.051,\n",
       "    'theta': -0.101,\n",
       "    'vega': 0.107,\n",
       "    'rho': 0.027,\n",
       "    'openInterest': 5660,\n",
       "    'timeValue': 3.05,\n",
       "    'theoreticalOptionValue': 3.05,\n",
       "    'theoreticalVolatility': 29.0,\n",
       "    'optionDeliverablesList': None,\n",
       "    'strikePrice': 130.0,\n",
       "    'expirationDate': 1614978000000,\n",
       "    'daysToExpiration': 15,\n",
       "    'expirationType': 'S',\n",
       "    'lastTradingDay': 1614992400000,\n",
       "    'multiplier': 100.0,\n",
       "    'settlementType': ' ',\n",
       "    'deliverableNote': '',\n",
       "    'isIndexOption': None,\n",
       "    'percentChange': -16.44,\n",
       "    'markChange': -0.6,\n",
       "    'markPercentChange': -16.44,\n",
       "    'mini': False,\n",
       "    'inTheMoney': False,\n",
       "    'nonStandard': False}]},\n",
       " '2021-03-12:22': {'129.0': [{'putCall': 'CALL',\n",
       "    'symbol': 'AAPL_031221C129',\n",
       "    'description': 'AAPL Mar 12 2021 129 Call (Weekly)',\n",
       "    'exchangeName': 'OPR',\n",
       "    'bid': 4.25,\n",
       "    'ask': 4.35,\n",
       "    'last': 4.3,\n",
       "    'mark': 4.3,\n",
       "    'bidSize': 468,\n",
       "    'askSize': 182,\n",
       "    'bidAskSize': '468X182',\n",
       "    'lastSize': 0,\n",
       "    'highPrice': 4.35,\n",
       "    'lowPrice': 3.5,\n",
       "    'openPrice': 0.0,\n",
       "    'closePrice': 4.89,\n",
       "    'totalVolume': 1141,\n",
       "    'tradeDate': None,\n",
       "    'tradeTimeInLong': 1613681839196,\n",
       "    'quoteTimeInLong': 1613681878513,\n",
       "    'netChange': -0.59,\n",
       "    'volatility': 29.823,\n",
       "    'delta': 0.553,\n",
       "    'gamma': 0.041,\n",
       "    'theta': -0.087,\n",
       "    'vega': 0.128,\n",
       "    'rho': 0.042,\n",
       "    'openInterest': 559,\n",
       "    'timeValue': 3.49,\n",
       "    'theoreticalOptionValue': 4.309,\n",
       "    'theoreticalVolatility': 29.0,\n",
       "    'optionDeliverablesList': None,\n",
       "    'strikePrice': 129.0,\n",
       "    'expirationDate': 1615582800000,\n",
       "    'daysToExpiration': 22,\n",
       "    'expirationType': 'S',\n",
       "    'lastTradingDay': 1615597200000,\n",
       "    'multiplier': 100.0,\n",
       "    'settlementType': ' ',\n",
       "    'deliverableNote': '',\n",
       "    'isIndexOption': None,\n",
       "    'percentChange': -12.12,\n",
       "    'markChange': -0.59,\n",
       "    'markPercentChange': -12.12,\n",
       "    'mini': False,\n",
       "    'inTheMoney': True,\n",
       "    'nonStandard': False}],\n",
       "  '130.0': [{'putCall': 'CALL',\n",
       "    'symbol': 'AAPL_031221C130',\n",
       "    'description': 'AAPL Mar 12 2021 130 Call (Weekly)',\n",
       "    'exchangeName': 'OPR',\n",
       "    'bid': 3.75,\n",
       "    'ask': 3.8,\n",
       "    'last': 3.8,\n",
       "    'mark': 3.78,\n",
       "    'bidSize': 109,\n",
       "    'askSize': 35,\n",
       "    'bidAskSize': '109X35',\n",
       "    'lastSize': 0,\n",
       "    'highPrice': 3.9,\n",
       "    'lowPrice': 2.98,\n",
       "    'openPrice': 0.0,\n",
       "    'closePrice': 4.34,\n",
       "    'totalVolume': 1542,\n",
       "    'tradeDate': None,\n",
       "    'tradeTimeInLong': 1613681755881,\n",
       "    'quoteTimeInLong': 1613681878839,\n",
       "    'netChange': -0.54,\n",
       "    'volatility': 29.772,\n",
       "    'delta': 0.511,\n",
       "    'gamma': 0.041,\n",
       "    'theta': -0.087,\n",
       "    'vega': 0.129,\n",
       "    'rho': 0.039,\n",
       "    'openInterest': 2271,\n",
       "    'timeValue': 3.8,\n",
       "    'theoreticalOptionValue': 3.8,\n",
       "    'theoreticalVolatility': 29.0,\n",
       "    'optionDeliverablesList': None,\n",
       "    'strikePrice': 130.0,\n",
       "    'expirationDate': 1615582800000,\n",
       "    'daysToExpiration': 22,\n",
       "    'expirationType': 'S',\n",
       "    'lastTradingDay': 1615597200000,\n",
       "    'multiplier': 100.0,\n",
       "    'settlementType': ' ',\n",
       "    'deliverableNote': '',\n",
       "    'isIndexOption': None,\n",
       "    'percentChange': -12.4,\n",
       "    'markChange': -0.56,\n",
       "    'markPercentChange': -12.97,\n",
       "    'mini': False,\n",
       "    'inTheMoney': False,\n",
       "    'nonStandard': False}]}}"
      ]
     },
     "execution_count": 35,
     "metadata": {},
     "output_type": "execute_result"
    }
   ],
   "source": [
    "a['callExpDateMap']"
   ]
  },
  {
   "cell_type": "code",
   "execution_count": 43,
   "metadata": {},
   "outputs": [
    {
     "data": {
      "text/plain": [
       "'AAPL Mar 5 2021 129 Call (Weekly)'"
      ]
     },
     "execution_count": 43,
     "metadata": {},
     "output_type": "execute_result"
    }
   ],
   "source": [
    "a['callExpDateMap']['2021-03-05:15']['129.0'][0]['description']"
   ]
  },
  {
   "cell_type": "code",
   "execution_count": null,
   "metadata": {},
   "outputs": [],
   "source": []
  },
  {
   "cell_type": "code",
   "execution_count": null,
   "metadata": {},
   "outputs": [],
   "source": []
  },
  {
   "cell_type": "code",
   "execution_count": null,
   "metadata": {},
   "outputs": [],
   "source": []
  },
  {
   "cell_type": "code",
   "execution_count": null,
   "metadata": {},
   "outputs": [],
   "source": [
    "df2 = pd.DataFrame(a['callExpDateMap'])\n",
    "df2"
   ]
  },
  {
   "cell_type": "code",
   "execution_count": null,
   "metadata": {},
   "outputs": [],
   "source": []
  },
  {
   "cell_type": "code",
   "execution_count": null,
   "metadata": {},
   "outputs": [],
   "source": []
  },
  {
   "cell_type": "code",
   "execution_count": null,
   "metadata": {},
   "outputs": [],
   "source": []
  },
  {
   "cell_type": "code",
   "execution_count": null,
   "metadata": {},
   "outputs": [],
   "source": []
  },
  {
   "cell_type": "code",
   "execution_count": null,
   "metadata": {},
   "outputs": [],
   "source": [
    "num = 7"
   ]
  },
  {
   "cell_type": "code",
   "execution_count": null,
   "metadata": {},
   "outputs": [],
   "source": [
    "factorial = 1"
   ]
  },
  {
   "cell_type": "code",
   "execution_count": null,
   "metadata": {},
   "outputs": [],
   "source": [
    "if num < 0:\n",
    "    print(\"Sorry, factorial does not exist for negative numbers\")\n",
    "elif num == 0:\n",
    "    print(\"The factorial of 0 is 1\")\n",
    "else:\n",
    "    for i in range(1, num + 1):\n",
    "        factorial = factorial * i\n",
    "    print(\"The factorial of\", num, 'is', factorial)"
   ]
  },
  {
   "cell_type": "code",
   "execution_count": null,
   "metadata": {},
   "outputs": [],
   "source": []
  }
 ],
 "metadata": {
  "kernelspec": {
   "display_name": "Python 3",
   "language": "python",
   "name": "python3"
  },
  "language_info": {
   "codemirror_mode": {
    "name": "ipython",
    "version": 3
   },
   "file_extension": ".py",
   "mimetype": "text/x-python",
   "name": "python",
   "nbconvert_exporter": "python",
   "pygments_lexer": "ipython3",
   "version": "3.8.5"
  }
 },
 "nbformat": 4,
 "nbformat_minor": 5
}
