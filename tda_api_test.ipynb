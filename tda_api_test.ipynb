{
 "cells": [
  {
   "cell_type": "code",
   "execution_count": 1,
   "metadata": {},
   "outputs": [],
   "source": [
    "#TDA API testing"
   ]
  },
  {
   "cell_type": "code",
   "execution_count": 2,
   "metadata": {},
   "outputs": [],
   "source": [
    "import pandas as pd\n",
    "import numpy as np\n",
    "import scipy.stats as stats\n",
    "import matplotlib.pyplot as plt\n",
    "import seaborn as sns\n",
    "import math\n",
    "import datetime"
   ]
  },
  {
   "cell_type": "code",
   "execution_count": 3,
   "metadata": {},
   "outputs": [
    {
     "name": "stdout",
     "output_type": "stream",
     "text": [
      "Polygon.io API key loaded up.\n",
      "Cboe API key loaded up.\n",
      "TD Ameritrade API key loaded up.\n",
      "Coinbase API key loaded up.\n",
      "All credentials loaded successfully\n"
     ]
    }
   ],
   "source": [
    "import env"
   ]
  },
  {
   "cell_type": "code",
   "execution_count": 4,
   "metadata": {},
   "outputs": [],
   "source": [
    "import tda"
   ]
  },
  {
   "cell_type": "code",
   "execution_count": 5,
   "metadata": {},
   "outputs": [],
   "source": [
    "tda_key = env.tda_api_key\n",
    "tda_url = env.my_redirect_url\n",
    "\n",
    "# tda_url"
   ]
  },
  {
   "cell_type": "code",
   "execution_count": 6,
   "metadata": {},
   "outputs": [
    {
     "data": {
      "text/plain": [
       "<module 'tda' from '/usr/local/anaconda3/lib/python3.8/site-packages/tda/__init__.py'>"
      ]
     },
     "execution_count": 6,
     "metadata": {},
     "output_type": "execute_result"
    }
   ],
   "source": [
    "tda"
   ]
  },
  {
   "cell_type": "code",
   "execution_count": 7,
   "metadata": {},
   "outputs": [],
   "source": [
    "import os"
   ]
  },
  {
   "cell_type": "code",
   "execution_count": 8,
   "metadata": {},
   "outputs": [],
   "source": [
    "import atexit\n",
    "import datetime\n",
    "import dateutil\n",
    "import httpx\n",
    "import sys\n",
    "import tda\n",
    "\n",
    "API_KEY = env.tda_api_key\n",
    "REDIRECT_URI = env.my_redirect_url\n",
    "TOKEN_PATH = 'ameritrade-token.json'\n",
    "YOUR_BIRTHDAY = datetime.datetime(year=1986, month=2, day=23)\n",
    "SP500_URL = \"https://tda-api.readthedocs.io/en/latest/_static/sp500.txt\"\n",
    "\n",
    "def make_webdriver():\n",
    "# Import selenium here because it's slow to import from selenium import webdriver\n",
    "    from selenium import webdriver\n",
    "    \n",
    "    driver = webdriver.Chrome()\n",
    "    atexit.register(lambda: driver.quit())\n",
    "    return driver\n",
    "\n",
    "# Create a new client\n",
    "client = tda.auth.easy_client(\n",
    "    API_KEY,\n",
    "    REDIRECT_URI,\n",
    "    TOKEN_PATH,\n",
    "    make_webdriver)\n",
    "\n",
    "\n",
    "# Load S&P 500 composition from documentation\n",
    "# sp500 = httpx.get(\n",
    "#     SP500_URL, headers={\n",
    "#         \"User-Agent\": \"Mozilla/5.0\"}).read().decode().split()\n",
    "\n",
    "# Fetch fundamentals for all symbols and filter out the ones with ex-dividend\n",
    "# dates in the future and dividend payment dates on your birth month. Note we\n",
    "# perform the fetch in two calls because the API places an upper limit on the\n",
    "# number of symbols you can fetch at once.\n",
    "# today = datetime.datetime.today()\n",
    "# birth_month_dividends = []\n",
    "# for s in (sp500[:250], sp500[250:]):\n",
    "#     r = client.search_instruments(\n",
    "#         s, tda.client.Client.Instrument.Projection.FUNDAMENTAL)\n",
    "#     assert r.status_code == 200, r.raise_for_status()\n",
    "\n",
    "#     for symbol, f in r.json().items():\n",
    "\n",
    "#         # Parse ex-dividend date\n",
    "#         ex_div_string = f['fundamental']['dividendDate']\n",
    "#         if not ex_div_string.strip():\n",
    "#             continue\n",
    "#         ex_dividend_date = dateutil.parser.parse(ex_div_string)\n",
    "\n",
    "#         # Parse payment date\n",
    "#         pay_date_string = f['fundamental']['dividendPayDate']\n",
    "#         if not pay_date_string.strip():\n",
    "#             continue\n",
    "#         pay_date = dateutil.parser.parse(pay_date_string)\n",
    "\n",
    "#         # Check dates\n",
    "#         if (ex_dividend_date > today\n",
    "#                 and pay_date.month == YOUR_BIRTHDAY.month):\n",
    "#             birth_month_dividends.append(symbol)\n",
    "\n",
    "# if not birth_month_dividends:\n",
    "#     print('Sorry, no stocks are paying out in your birth month yet. This is ',\n",
    "#           'most likely because the dividends haven\\'t been announced yet. ',\n",
    "#           'Try again closer to your birthday.')\n",
    "#     sys.exit(1)\n",
    "\n",
    "# Purchase one share of each the stocks that pay in your birthday month.\n",
    "# account_id = int(input(\n",
    "#     'Input your TDA account number to place orders (<Ctrl-C> to quit): '))\n",
    "# for symbol in birth_month_dividends:\n",
    "#     print('Buying one share of', symbol)\n",
    "\n",
    "    # Build the order spec and place the order\n",
    "#     order = tda.orders.equities.equity_buy_market(symbol, 1)\n",
    "\n",
    "#     r = client.place_order(account_id, order)\n",
    "#     assert r.ok, r.raise_for_status()"
   ]
  },
  {
   "cell_type": "code",
   "execution_count": 9,
   "metadata": {},
   "outputs": [
    {
     "data": {
      "text/plain": [
       "<Response [200 OK]>"
      ]
     },
     "execution_count": 9,
     "metadata": {},
     "output_type": "execute_result"
    }
   ],
   "source": [
    "client.get_option_chain(\"AAPL\")"
   ]
  },
  {
   "cell_type": "code",
   "execution_count": 10,
   "metadata": {
    "scrolled": true
   },
   "outputs": [],
   "source": [
    "# Trying to get historical data into a dataframe:\n",
    "\n",
    "response = client.get_price_history(\"AAPL\").content"
   ]
  },
  {
   "cell_type": "code",
   "execution_count": null,
   "metadata": {
    "scrolled": true
   },
   "outputs": [],
   "source": [
    "# only print this if I actually need to see it. It fills up the GitHub page.\n",
    "\n",
    "# response"
   ]
  },
  {
   "cell_type": "code",
   "execution_count": 12,
   "metadata": {},
   "outputs": [],
   "source": [
    "import requests"
   ]
  },
  {
   "cell_type": "code",
   "execution_count": 13,
   "metadata": {},
   "outputs": [],
   "source": [
    "td_consumer_key = env.tda_api_key"
   ]
  },
  {
   "cell_type": "code",
   "execution_count": 14,
   "metadata": {},
   "outputs": [],
   "source": [
    "import json"
   ]
  },
  {
   "cell_type": "code",
   "execution_count": 15,
   "metadata": {},
   "outputs": [],
   "source": [
    "# response = requests.get('https://api.tdameritrade.com/v1/marketdata/AAPL/pricehistory?periodType=month&frequencyType=daily&startDate=1464148800000&endDate=1464825600000')\n",
    "response = requests.get('https://api.tdameritrade.com/v1/marketdata/{AAPL}/quotes')"
   ]
  },
  {
   "cell_type": "code",
   "execution_count": 16,
   "metadata": {},
   "outputs": [],
   "source": [
    "endpoint = 'https://api.tdameritrade.com/v1/marketdata/{stock_ticker}/quotes'"
   ]
  },
  {
   "cell_type": "code",
   "execution_count": 17,
   "metadata": {},
   "outputs": [],
   "source": [
    "full_url = endpoint.format(stock_ticker = 'AAPL')\n",
    "\n",
    "page = requests.get(url = full_url, params = {'apikey' : td_consumer_key})\n",
    "\n",
    "content = json.loads(page.content)"
   ]
  },
  {
   "cell_type": "code",
   "execution_count": 18,
   "metadata": {},
   "outputs": [],
   "source": [
    "# Creating a function to return stock price:\n",
    "\n",
    "# def stock_price(url = full_url, params = {'apikey' : td_consumer_key}):\n",
    "    "
   ]
  },
  {
   "cell_type": "code",
   "execution_count": 19,
   "metadata": {},
   "outputs": [],
   "source": [
    "# This should be the GET command I need:\n",
    "\n",
    "# GET /v1/marketdata/chains?apikey='myAUTHENTICATIONcodegoeshere'&symbol=AAPL&contractType=CALL&strikeCount=5&strategy=SINGLE&toDate=2021-06-18 HTTP/1.1\n",
    "\n",
    "# And tie it together with the resource URL:\n",
    "# https://api.tdameritrade.com/v1/marketdata/chains"
   ]
  },
  {
   "cell_type": "code",
   "execution_count": 20,
   "metadata": {},
   "outputs": [
    {
     "data": {
      "text/plain": [
       "<Response [200]>"
      ]
     },
     "execution_count": 20,
     "metadata": {},
     "output_type": "execute_result"
    }
   ],
   "source": [
    "requests.get(f'https://api.tdameritrade.com//v1/marketdata/chains?apikey={tda_key}&symbol=AAPL&contractType=CALL&strikeCount=5&strategy=SINGLE&toDate=2021-06-18 HTTP/1.1')"
   ]
  },
  {
   "cell_type": "code",
   "execution_count": 21,
   "metadata": {},
   "outputs": [],
   "source": [
    "aapl_api_test = requests.get(f'https://api.tdameritrade.com//v1/marketdata/chains?apikey={tda_key}&symbol=AAPL&contractType=CALL&strikeCount=5&strategy=SINGLE&toDate=2021-06-18 HTTP/1.1')"
   ]
  },
  {
   "cell_type": "code",
   "execution_count": 22,
   "metadata": {
    "scrolled": false
   },
   "outputs": [],
   "source": [
    "aapl_content = aapl_api_test.content"
   ]
  },
  {
   "cell_type": "code",
   "execution_count": null,
   "metadata": {},
   "outputs": [],
   "source": [
    "aapl_content"
   ]
  },
  {
   "cell_type": "code",
   "execution_count": null,
   "metadata": {},
   "outputs": [],
   "source": []
  },
  {
   "cell_type": "code",
   "execution_count": null,
   "metadata": {},
   "outputs": [],
   "source": []
  },
  {
   "cell_type": "code",
   "execution_count": null,
   "metadata": {},
   "outputs": [],
   "source": []
  },
  {
   "cell_type": "code",
   "execution_count": 24,
   "metadata": {},
   "outputs": [],
   "source": [
    "num = 7"
   ]
  },
  {
   "cell_type": "code",
   "execution_count": 25,
   "metadata": {},
   "outputs": [],
   "source": [
    "factorial = 1"
   ]
  },
  {
   "cell_type": "code",
   "execution_count": 26,
   "metadata": {},
   "outputs": [
    {
     "name": "stdout",
     "output_type": "stream",
     "text": [
      "The factorial of 7 is 5040\n"
     ]
    }
   ],
   "source": [
    "if num < 0:\n",
    "    print(\"Sorry, factorial does not exist for negative numbers\")\n",
    "elif num == 0:\n",
    "    print(\"The factorial of 0 is 1\")\n",
    "else:\n",
    "    for i in range(1, num + 1):\n",
    "        factorial = factorial * i\n",
    "    print(\"The factorial of\", num, 'is', factorial)"
   ]
  },
  {
   "cell_type": "code",
   "execution_count": null,
   "metadata": {},
   "outputs": [],
   "source": []
  }
 ],
 "metadata": {
  "kernelspec": {
   "display_name": "Python 3",
   "language": "python",
   "name": "python3"
  },
  "language_info": {
   "codemirror_mode": {
    "name": "ipython",
    "version": 3
   },
   "file_extension": ".py",
   "mimetype": "text/x-python",
   "name": "python",
   "nbconvert_exporter": "python",
   "pygments_lexer": "ipython3",
   "version": "3.8.5"
  }
 },
 "nbformat": 4,
 "nbformat_minor": 5
}
