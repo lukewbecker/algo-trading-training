{
 "cells": [
  {
   "cell_type": "code",
   "execution_count": null,
   "id": "worst-compression",
   "metadata": {},
   "outputs": [],
   "source": [
    "#TDA API testing"
   ]
  },
  {
   "cell_type": "code",
   "execution_count": 1,
   "id": "presidential-trauma",
   "metadata": {},
   "outputs": [],
   "source": [
    "import pandas as pd\n",
    "import numpy as np\n",
    "import scipy.stats as stats\n",
    "import matplotlib.pyplot as plt\n",
    "import seaborn as sns\n",
    "import math\n",
    "import datetime"
   ]
  },
  {
   "cell_type": "code",
   "execution_count": 2,
   "id": "stopped-chest",
   "metadata": {},
   "outputs": [
    {
     "name": "stdout",
     "output_type": "stream",
     "text": [
      "credentials loaded successfully\n"
     ]
    }
   ],
   "source": [
    "import env"
   ]
  },
  {
   "cell_type": "code",
   "execution_count": 3,
   "id": "rational-congress",
   "metadata": {},
   "outputs": [],
   "source": [
    "import tda"
   ]
  },
  {
   "cell_type": "code",
   "execution_count": 4,
   "id": "introductory-sleep",
   "metadata": {},
   "outputs": [
    {
     "data": {
      "text/plain": [
       "'http://localhost'"
      ]
     },
     "execution_count": 4,
     "metadata": {},
     "output_type": "execute_result"
    }
   ],
   "source": [
    "tda_key = env.tda_api_key\n",
    "tda_url = env.my_redirect_url\n",
    "\n",
    "# tda_url"
   ]
  },
  {
   "cell_type": "code",
   "execution_count": null,
   "id": "herbal-thanks",
   "metadata": {},
   "outputs": [],
   "source": []
  },
  {
   "cell_type": "code",
   "execution_count": null,
   "id": "suffering-detector",
   "metadata": {},
   "outputs": [],
   "source": []
  },
  {
   "cell_type": "code",
   "execution_count": 5,
   "id": "transparent-dallas",
   "metadata": {},
   "outputs": [
    {
     "data": {
      "text/plain": [
       "<module 'tda' from '/Users/luke/opt/anaconda3/lib/python3.7/site-packages/tda/__init__.py'>"
      ]
     },
     "execution_count": 5,
     "metadata": {},
     "output_type": "execute_result"
    }
   ],
   "source": [
    "tda"
   ]
  },
  {
   "cell_type": "code",
   "execution_count": 9,
   "id": "informal-pitch",
   "metadata": {},
   "outputs": [
    {
     "ename": "TypeError",
     "evalue": "client_from_login_flow() missing 1 required positional argument: 'token_path'",
     "output_type": "error",
     "traceback": [
      "\u001b[0;31m---------------------------------------------------------------------------\u001b[0m",
      "\u001b[0;31mTypeError\u001b[0m                                 Traceback (most recent call last)",
      "\u001b[0;32m<ipython-input-9-ebdd4d209854>\u001b[0m in \u001b[0;36m<module>\u001b[0;34m\u001b[0m\n\u001b[1;32m      1\u001b[0m \u001b[0;31m# Testing the client authentication server:\u001b[0m\u001b[0;34m\u001b[0m\u001b[0;34m\u001b[0m\u001b[0;34m\u001b[0m\u001b[0m\n\u001b[1;32m      2\u001b[0m \u001b[0;34m\u001b[0m\u001b[0m\n\u001b[0;32m----> 3\u001b[0;31m \u001b[0mtda\u001b[0m\u001b[0;34m.\u001b[0m\u001b[0mauth\u001b[0m\u001b[0;34m.\u001b[0m\u001b[0mclient_from_login_flow\u001b[0m\u001b[0;34m(\u001b[0m\u001b[0mtda_key\u001b[0m\u001b[0;34m,\u001b[0m \u001b[0;34m'http://localhost'\u001b[0m\u001b[0;34m,\u001b[0m \u001b[0;34m\"/luke/personal_projects\"\u001b[0m\u001b[0;34m)\u001b[0m\u001b[0;34m\u001b[0m\u001b[0;34m\u001b[0m\u001b[0m\n\u001b[0m",
      "\u001b[0;31mTypeError\u001b[0m: client_from_login_flow() missing 1 required positional argument: 'token_path'"
     ]
    }
   ],
   "source": [
    "# Testing the client authentication server:\n",
    "\n",
    "tda.auth.client_from_login_flow(tda_key, 'http://localhost', \"/luke/personal_projects\")"
   ]
  },
  {
   "cell_type": "code",
   "execution_count": null,
   "id": "stretch-robin",
   "metadata": {},
   "outputs": [],
   "source": []
  }
 ],
 "metadata": {
  "kernelspec": {
   "display_name": "Python 3",
   "language": "python",
   "name": "python3"
  },
  "language_info": {
   "codemirror_mode": {
    "name": "ipython",
    "version": 3
   },
   "file_extension": ".py",
   "mimetype": "text/x-python",
   "name": "python",
   "nbconvert_exporter": "python",
   "pygments_lexer": "ipython3",
   "version": "3.7.9"
  }
 },
 "nbformat": 4,
 "nbformat_minor": 5
}
