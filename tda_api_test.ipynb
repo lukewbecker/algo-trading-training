{
 "cells": [
  {
   "cell_type": "code",
   "execution_count": 1,
   "id": "worst-compression",
   "metadata": {},
   "outputs": [],
   "source": [
    "#TDA API testing"
   ]
  },
  {
   "cell_type": "code",
   "execution_count": 2,
   "id": "presidential-trauma",
   "metadata": {},
   "outputs": [],
   "source": [
    "import pandas as pd\n",
    "import numpy as np\n",
    "import scipy.stats as stats\n",
    "import matplotlib.pyplot as plt\n",
    "import seaborn as sns\n",
    "import math\n",
    "import datetime"
   ]
  },
  {
   "cell_type": "code",
   "execution_count": 3,
   "id": "stopped-chest",
   "metadata": {},
   "outputs": [
    {
     "name": "stdout",
     "output_type": "stream",
     "text": [
      "credentials loaded successfully\n"
     ]
    }
   ],
   "source": [
    "import env"
   ]
  },
  {
   "cell_type": "code",
   "execution_count": 4,
   "id": "rational-congress",
   "metadata": {},
   "outputs": [],
   "source": [
    "import tda"
   ]
  },
  {
   "cell_type": "code",
   "execution_count": 5,
   "id": "introductory-sleep",
   "metadata": {},
   "outputs": [],
   "source": [
    "tda_key = env.tda_api_key\n",
    "tda_url = env.my_redirect_url\n",
    "\n",
    "# tda_url"
   ]
  },
  {
   "cell_type": "code",
   "execution_count": 6,
   "id": "transparent-dallas",
   "metadata": {},
   "outputs": [
    {
     "data": {
      "text/plain": [
       "<module 'tda' from '/Users/luke/opt/anaconda3/lib/python3.7/site-packages/tda/__init__.py'>"
      ]
     },
     "execution_count": 6,
     "metadata": {},
     "output_type": "execute_result"
    }
   ],
   "source": [
    "tda"
   ]
  },
  {
   "cell_type": "code",
   "execution_count": 7,
   "id": "weird-digest",
   "metadata": {},
   "outputs": [],
   "source": [
    "import os"
   ]
  },
  {
   "cell_type": "code",
   "execution_count": 12,
   "id": "sensitive-sensitivity",
   "metadata": {},
   "outputs": [],
   "source": [
    "import atexit\n",
    "import datetime\n",
    "import dateutil\n",
    "import httpx\n",
    "import sys\n",
    "import tda\n",
    "\n",
    "API_KEY = env.tda_api_key\n",
    "REDIRECT_URI = env.my_redirect_url\n",
    "TOKEN_PATH = 'ameritrade-token.json'\n",
    "YOUR_BIRTHDAY = datetime.datetime(year=1986, month=2, day=23)\n",
    "SP500_URL = \"https://tda-api.readthedocs.io/en/latest/_static/sp500.txt\"\n",
    "\n",
    "def make_webdriver():\n",
    "# Import selenium here because it's slow to import from selenium import webdriver\n",
    "    from selenium import webdriver\n",
    "    \n",
    "    driver = webdriver.Chrome()\n",
    "    atexit.register(lambda: driver.quit())\n",
    "    return driver\n",
    "\n",
    "# Create a new client\n",
    "client = tda.auth.easy_client(\n",
    "    API_KEY,\n",
    "    REDIRECT_URI,\n",
    "    TOKEN_PATH,\n",
    "    make_webdriver)\n",
    "\n",
    "\n",
    "# Load S&P 500 composition from documentation\n",
    "sp500 = httpx.get(\n",
    "    SP500_URL, headers={\n",
    "        \"User-Agent\": \"Mozilla/5.0\"}).read().decode().split()\n",
    "\n",
    "# Fetch fundamentals for all symbols and filter out the ones with ex-dividend\n",
    "# dates in the future and dividend payment dates on your birth month. Note we\n",
    "# perform the fetch in two calls because the API places an upper limit on the\n",
    "# number of symbols you can fetch at once.\n",
    "today = datetime.datetime.today()\n",
    "birth_month_dividends = []\n",
    "for s in (sp500[:250], sp500[250:]):\n",
    "    r = client.search_instruments(\n",
    "        s, tda.client.Client.Instrument.Projection.FUNDAMENTAL)\n",
    "    assert r.status_code == 200, r.raise_for_status()\n",
    "\n",
    "    for symbol, f in r.json().items():\n",
    "\n",
    "        # Parse ex-dividend date\n",
    "        ex_div_string = f['fundamental']['dividendDate']\n",
    "        if not ex_div_string.strip():\n",
    "            continue\n",
    "        ex_dividend_date = dateutil.parser.parse(ex_div_string)\n",
    "\n",
    "        # Parse payment date\n",
    "        pay_date_string = f['fundamental']['dividendPayDate']\n",
    "        if not pay_date_string.strip():\n",
    "            continue\n",
    "        pay_date = dateutil.parser.parse(pay_date_string)\n",
    "\n",
    "        # Check dates\n",
    "        if (ex_dividend_date > today\n",
    "                and pay_date.month == YOUR_BIRTHDAY.month):\n",
    "            birth_month_dividends.append(symbol)\n",
    "\n",
    "if not birth_month_dividends:\n",
    "    print('Sorry, no stocks are paying out in your birth month yet. This is ',\n",
    "          'most likely because the dividends haven\\'t been announced yet. ',\n",
    "          'Try again closer to your birthday.')\n",
    "    sys.exit(1)\n",
    "\n",
    "# Purchase one share of each the stocks that pay in your birthday month.\n",
    "# account_id = int(input(\n",
    "#     'Input your TDA account number to place orders (<Ctrl-C> to quit): '))\n",
    "# for symbol in birth_month_dividends:\n",
    "#     print('Buying one share of', symbol)\n",
    "\n",
    "    # Build the order spec and place the order\n",
    "#     order = tda.orders.equities.equity_buy_market(symbol, 1)\n",
    "\n",
    "#     r = client.place_order(account_id, order)\n",
    "#     assert r.ok, r.raise_for_status()"
   ]
  },
  {
   "cell_type": "code",
   "execution_count": 13,
   "id": "covered-baker",
   "metadata": {},
   "outputs": [
    {
     "data": {
      "text/plain": [
       "'https://tda-api.readthedocs.io/en/latest/_static/sp500.txt'"
      ]
     },
     "execution_count": 13,
     "metadata": {},
     "output_type": "execute_result"
    }
   ],
   "source": [
    "SP500_URL"
   ]
  },
  {
   "cell_type": "code",
   "execution_count": null,
   "id": "hearing-consultation",
   "metadata": {},
   "outputs": [],
   "source": [
    "# from tda.auth import easy_client \n",
    "# from tda.client import Client\n",
    "\n",
    "async def main():\n",
    "    c = tda.easy_client(\n",
    "        api_key = env.tda_api_key, \n",
    "        redirect_uri = env.my_redirect_url,\n",
    "        token_path = 'ameritrade-token.json', \n",
    "        asyncio=True)\n",
    "    \n",
    "    resp = await c.get_price_history('AAPL', \n",
    "        period_type=Client.PriceHistory.PeriodType.YEAR, \n",
    "        period=Client.PriceHistory.Period.TWENTY_YEARS,\n",
    "        frequency_type=Client.PriceHistory.FrequencyType.DAILY, \n",
    "        frequency=Client.PriceHistory.Frequency.DAILY)\n",
    "\n",
    "    assert resp.status_code == 200\n",
    "    history = resp.json()\n",
    "\n",
    "if __name__ == '__main__': \n",
    "    import asyncio\n",
    "    asyncio.run_until_complete(main())"
   ]
  },
  {
   "cell_type": "code",
   "execution_count": 16,
   "id": "demonstrated-thompson",
   "metadata": {},
   "outputs": [
    {
     "data": {
      "text/plain": [
       "<Response [200 ]>"
      ]
     },
     "execution_count": 16,
     "metadata": {},
     "output_type": "execute_result"
    }
   ],
   "source": [
    "client.get_quote(\"AAPL\")"
   ]
  },
  {
   "cell_type": "code",
   "execution_count": null,
   "id": "million-richardson",
   "metadata": {},
   "outputs": [],
   "source": [
    "https://api.tdameritrade.com/v1/marketdata/{\"AAPL\"}/quotes"
   ]
  },
  {
   "cell_type": "code",
   "execution_count": null,
   "id": "personal-equipment",
   "metadata": {},
   "outputs": [],
   "source": [
    "# Start here, try to figure out what the path is, and figure out how to get my token setup using a local .json file or other file to link stuff."
   ]
  }
 ],
 "metadata": {
  "kernelspec": {
   "display_name": "Python 3",
   "language": "python",
   "name": "python3"
  },
  "language_info": {
   "codemirror_mode": {
    "name": "ipython",
    "version": 3
   },
   "file_extension": ".py",
   "mimetype": "text/x-python",
   "name": "python",
   "nbconvert_exporter": "python",
   "pygments_lexer": "ipython3",
   "version": "3.7.9"
  }
 },
 "nbformat": 4,
 "nbformat_minor": 5
}
